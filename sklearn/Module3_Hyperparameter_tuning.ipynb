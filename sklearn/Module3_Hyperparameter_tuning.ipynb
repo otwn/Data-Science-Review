{
  "nbformat": 4,
  "nbformat_minor": 0,
  "metadata": {
    "colab": {
      "name": "Module3_Hyperparameter_tuning.ipynb",
      "provenance": [],
      "collapsed_sections": [],
      "mount_file_id": "1FYleqoO_b9pHXCzAaNUATXKSN7grwBvE",
      "authorship_tag": "ABX9TyP6L7UohKp9zoEofP8dMNVn",
      "include_colab_link": true
    },
    "kernelspec": {
      "name": "python3",
      "display_name": "Python 3"
    },
    "language_info": {
      "name": "python"
    }
  },
  "cells": [
    {
      "cell_type": "markdown",
      "metadata": {
        "id": "view-in-github",
        "colab_type": "text"
      },
      "source": [
        "<a href=\"https://colab.research.google.com/github/otwn/Data-Science-Review/blob/master/sklearn/Module3_Hyperparameter_tuning.ipynb\" target=\"_parent\"><img src=\"https://colab.research.google.com/assets/colab-badge.svg\" alt=\"Open In Colab\"/></a>"
      ]
    },
    {
      "cell_type": "markdown",
      "metadata": {
        "id": "xAiF6Zs8au9F"
      },
      "source": [
        "# Module 3: Hyperparameter tuning"
      ]
    },
    {
      "cell_type": "code",
      "metadata": {
        "colab": {
          "base_uri": "https://localhost:8080/",
          "height": 327
        },
        "id": "DDB2NtIUIJkB",
        "outputId": "a184cd00-4f96-4139-f926-df800f76db7a"
      },
      "source": [
        "!pip uninstall scikit-learn -y\n",
        "!pip install scikit-learn"
      ],
      "execution_count": null,
      "outputs": [
        {
          "output_type": "stream",
          "text": [
            "Uninstalling scikit-learn-0.22.2.post1:\n",
            "  Successfully uninstalled scikit-learn-0.22.2.post1\n",
            "Collecting scikit-learn\n",
            "\u001b[?25l  Downloading https://files.pythonhosted.org/packages/a8/eb/a48f25c967526b66d5f1fa7a984594f0bf0a5afafa94a8c4dbc317744620/scikit_learn-0.24.2-cp37-cp37m-manylinux2010_x86_64.whl (22.3MB)\n",
            "\u001b[K     |████████████████████████████████| 22.3MB 56.2MB/s \n",
            "\u001b[?25hRequirement already satisfied: joblib>=0.11 in /usr/local/lib/python3.7/dist-packages (from scikit-learn) (1.0.1)\n",
            "Collecting threadpoolctl>=2.0.0\n",
            "  Downloading https://files.pythonhosted.org/packages/f7/12/ec3f2e203afa394a149911729357aa48affc59c20e2c1c8297a60f33f133/threadpoolctl-2.1.0-py3-none-any.whl\n",
            "Requirement already satisfied: scipy>=0.19.1 in /usr/local/lib/python3.7/dist-packages (from scikit-learn) (1.4.1)\n",
            "Requirement already satisfied: numpy>=1.13.3 in /usr/local/lib/python3.7/dist-packages (from scikit-learn) (1.19.5)\n",
            "Installing collected packages: threadpoolctl, scikit-learn\n",
            "Successfully installed scikit-learn-0.24.2 threadpoolctl-2.1.0\n"
          ],
          "name": "stdout"
        },
        {
          "output_type": "display_data",
          "data": {
            "application/vnd.colab-display-data+json": {
              "pip_warning": {
                "packages": [
                  "sklearn"
                ]
              }
            }
          },
          "metadata": {
            "tags": []
          }
        }
      ]
    },
    {
      "cell_type": "markdown",
      "metadata": {
        "id": "dKLbUJhJALXb"
      },
      "source": [
        "## Manual tuning\n",
        "\n",
        "### Set and get Hyperparameters in scikit-learn"
      ]
    },
    {
      "cell_type": "code",
      "metadata": {
        "colab": {
          "base_uri": "https://localhost:8080/"
        },
        "id": "44FmKxkA4qXL",
        "outputId": "f131c251-0ffd-4daa-93ba-e12f4b829f98"
      },
      "source": [
        "import os\n",
        "os.chdir(\"/content/drive/MyDrive/Colab Notebooks/scikit-learn-mooc/\")\n",
        "os.listdir()"
      ],
      "execution_count": null,
      "outputs": [
        {
          "output_type": "execute_result",
          "data": {
            "text/plain": [
              "['Module1', 'scikit-learn-mooc-master', 'datasets', 'Module2', 'Module3.ipynb']"
            ]
          },
          "metadata": {
            "tags": []
          },
          "execution_count": 1
        }
      ]
    },
    {
      "cell_type": "code",
      "metadata": {
        "id": "mmjhDz4Bam9R"
      },
      "source": [
        "import pandas as pd\n",
        "\n",
        "adult_census = pd.read_csv(\"./datasets/adult-census.csv\")\n",
        "\n",
        "target_name = \"class\"\n",
        "numerical_columns = [\"age\",\"capital-gain\",\"capital-loss\",\"hours-per-week\"]\n",
        "\n",
        "target = adult_census[target_name]\n",
        "data = adult_census[numerical_columns]"
      ],
      "execution_count": null,
      "outputs": []
    },
    {
      "cell_type": "code",
      "metadata": {
        "colab": {
          "base_uri": "https://localhost:8080/",
          "height": 204
        },
        "id": "yxAH0Wqo5Ct1",
        "outputId": "aa1cfa86-27dd-4151-e58b-01688b2e32c6"
      },
      "source": [
        "data.head()"
      ],
      "execution_count": null,
      "outputs": [
        {
          "output_type": "execute_result",
          "data": {
            "text/html": [
              "<div>\n",
              "<style scoped>\n",
              "    .dataframe tbody tr th:only-of-type {\n",
              "        vertical-align: middle;\n",
              "    }\n",
              "\n",
              "    .dataframe tbody tr th {\n",
              "        vertical-align: top;\n",
              "    }\n",
              "\n",
              "    .dataframe thead th {\n",
              "        text-align: right;\n",
              "    }\n",
              "</style>\n",
              "<table border=\"1\" class=\"dataframe\">\n",
              "  <thead>\n",
              "    <tr style=\"text-align: right;\">\n",
              "      <th></th>\n",
              "      <th>age</th>\n",
              "      <th>capital-gain</th>\n",
              "      <th>capital-loss</th>\n",
              "      <th>hours-per-week</th>\n",
              "    </tr>\n",
              "  </thead>\n",
              "  <tbody>\n",
              "    <tr>\n",
              "      <th>0</th>\n",
              "      <td>25</td>\n",
              "      <td>0</td>\n",
              "      <td>0</td>\n",
              "      <td>40</td>\n",
              "    </tr>\n",
              "    <tr>\n",
              "      <th>1</th>\n",
              "      <td>38</td>\n",
              "      <td>0</td>\n",
              "      <td>0</td>\n",
              "      <td>50</td>\n",
              "    </tr>\n",
              "    <tr>\n",
              "      <th>2</th>\n",
              "      <td>28</td>\n",
              "      <td>0</td>\n",
              "      <td>0</td>\n",
              "      <td>40</td>\n",
              "    </tr>\n",
              "    <tr>\n",
              "      <th>3</th>\n",
              "      <td>44</td>\n",
              "      <td>7688</td>\n",
              "      <td>0</td>\n",
              "      <td>40</td>\n",
              "    </tr>\n",
              "    <tr>\n",
              "      <th>4</th>\n",
              "      <td>18</td>\n",
              "      <td>0</td>\n",
              "      <td>0</td>\n",
              "      <td>30</td>\n",
              "    </tr>\n",
              "  </tbody>\n",
              "</table>\n",
              "</div>"
            ],
            "text/plain": [
              "   age  capital-gain  capital-loss  hours-per-week\n",
              "0   25             0             0              40\n",
              "1   38             0             0              50\n",
              "2   28             0             0              40\n",
              "3   44          7688             0              40\n",
              "4   18             0             0              30"
            ]
          },
          "metadata": {
            "tags": []
          },
          "execution_count": 3
        }
      ]
    },
    {
      "cell_type": "code",
      "metadata": {
        "id": "bbAlNEf25Tt9"
      },
      "source": [
        "from sklearn.pipeline import Pipeline\n",
        "from sklearn.preprocessing import StandardScaler \n",
        "from sklearn.linear_model import LogisticRegression\n",
        "\n",
        "model = Pipeline(steps=[\n",
        "  (\"preprocessor\", StandardScaler()),\n",
        "  (\"classifier\", LogisticRegression())\n",
        "])"
      ],
      "execution_count": null,
      "outputs": []
    },
    {
      "cell_type": "code",
      "metadata": {
        "colab": {
          "base_uri": "https://localhost:8080/"
        },
        "id": "o1GYhNYA57TO",
        "outputId": "8bad8db2-c822-4e7d-e943-f7b0cbaa24ca"
      },
      "source": [
        "# evaluate the statistical performance of the model via cross-validation\n",
        "from sklearn.model_selection import cross_validate\n",
        "\n",
        "cv_results = cross_validate(model, data, target)\n",
        "scores = cv_results[\"test_score\"]\n",
        "print(f\"Accuracy score via cross-validation:\\n\"\n",
        "      f\"{scores.mean():.3f} +/- {scores.std():.3f}\")"
      ],
      "execution_count": null,
      "outputs": [
        {
          "output_type": "stream",
          "text": [
            "Accuracy score via cross-validation:\n",
            "0.800 +/- 0.003\n"
          ],
          "name": "stdout"
        }
      ]
    },
    {
      "cell_type": "code",
      "metadata": {
        "colab": {
          "base_uri": "https://localhost:8080/"
        },
        "id": "hkm9VMdk6dV5",
        "outputId": "08c3f00a-3f10-4723-ef4e-328c1b8b4c69"
      },
      "source": [
        "model.set_params(classifier__C=1e-3)\n",
        "cv_results = cross_validate(model, data, target)\n",
        "scores = cv_results[\"test_score\"]\n",
        "print(f\"Accuracy score via cross-validation:\\n\"\n",
        "      f\"{scores.mean():.3f} +/- {scores.std():.3f}\")"
      ],
      "execution_count": null,
      "outputs": [
        {
          "output_type": "stream",
          "text": [
            "Accuracy score via cross-validation:\n",
            "0.787 +/- 0.002\n"
          ],
          "name": "stdout"
        }
      ]
    },
    {
      "cell_type": "code",
      "metadata": {
        "colab": {
          "base_uri": "https://localhost:8080/"
        },
        "id": "iuEbRUGvIe6s",
        "outputId": "09dd4727-8ecd-4d38-e8ba-bf87731d4f1e"
      },
      "source": [
        "# .get_params() return dict whose keys are the parameter names and\n",
        "# whose values are the parameter values\n",
        "for parameter in model.get_params():\n",
        "  print(parameter)"
      ],
      "execution_count": null,
      "outputs": [
        {
          "output_type": "stream",
          "text": [
            "memory\n",
            "steps\n",
            "verbose\n",
            "preprocessor\n",
            "classifier\n",
            "preprocessor__copy\n",
            "preprocessor__with_mean\n",
            "preprocessor__with_std\n",
            "classifier__C\n",
            "classifier__class_weight\n",
            "classifier__dual\n",
            "classifier__fit_intercept\n",
            "classifier__intercept_scaling\n",
            "classifier__l1_ratio\n",
            "classifier__max_iter\n",
            "classifier__multi_class\n",
            "classifier__n_jobs\n",
            "classifier__penalty\n",
            "classifier__random_state\n",
            "classifier__solver\n",
            "classifier__tol\n",
            "classifier__verbose\n",
            "classifier__warm_start\n"
          ],
          "name": "stdout"
        }
      ]
    },
    {
      "cell_type": "code",
      "metadata": {
        "colab": {
          "base_uri": "https://localhost:8080/"
        },
        "id": "x32ofMwzInNk",
        "outputId": "e4bcb2c5-0a70-4b21-fcc3-906af5ccd70f"
      },
      "source": [
        "model.get_params()['classifier__C']"
      ],
      "execution_count": null,
      "outputs": [
        {
          "output_type": "execute_result",
          "data": {
            "text/plain": [
              "0.001"
            ]
          },
          "metadata": {
            "tags": []
          },
          "execution_count": 8
        }
      ]
    },
    {
      "cell_type": "code",
      "metadata": {
        "colab": {
          "base_uri": "https://localhost:8080/"
        },
        "id": "Py_Pr9RAIsn-",
        "outputId": "83af79e0-c984-4ce3-fd3f-202e9f261abf"
      },
      "source": [
        "for C in [1e-3, 1e-2, 1e-1, 1, 10]:\n",
        "  model.set_params(classifier__C=C)\n",
        "  cv_results = cross_validate(model, data, target)\n",
        "  scores = cv_results[\"test_score\"]\n",
        "  print(f\"Accuracy score via cross-validation with C={C}:\\n\"\n",
        "        f\"{scores.mean():.3f} +/- {scores.std():.3f}\")"
      ],
      "execution_count": null,
      "outputs": [
        {
          "output_type": "stream",
          "text": [
            "Accuracy score via cross-validation with C=0.001:\n",
            "0.787 +/- 0.002\n",
            "Accuracy score via cross-validation with C=0.01:\n",
            "0.799 +/- 0.003\n",
            "Accuracy score via cross-validation with C=0.1:\n",
            "0.800 +/- 0.003\n",
            "Accuracy score via cross-validation with C=1:\n",
            "0.800 +/- 0.003\n",
            "Accuracy score via cross-validation with C=10:\n",
            "0.800 +/- 0.003\n"
          ],
          "name": "stdout"
        }
      ]
    },
    {
      "cell_type": "markdown",
      "metadata": {
        "id": "EzGw7DuYbJ9f"
      },
      "source": [
        "## Exercise M3.01"
      ]
    },
    {
      "cell_type": "code",
      "metadata": {
        "colab": {
          "base_uri": "https://localhost:8080/",
          "height": 35
        },
        "id": "G4JAIwNgIh-B",
        "outputId": "1047b95b-668b-400a-e1a0-c5d003de01d7"
      },
      "source": [
        "import sklearn \n",
        "sklearn.__version__"
      ],
      "execution_count": null,
      "outputs": [
        {
          "output_type": "execute_result",
          "data": {
            "application/vnd.google.colaboratory.intrinsic+json": {
              "type": "string"
            },
            "text/plain": [
              "'0.24.2'"
            ]
          },
          "metadata": {
            "tags": []
          },
          "execution_count": 10
        }
      ]
    },
    {
      "cell_type": "code",
      "metadata": {
        "colab": {
          "base_uri": "https://localhost:8080/"
        },
        "id": "zdDvJOSFGm8m",
        "outputId": "9329957c-d9de-497a-dd95-9909d6aa6672"
      },
      "source": [
        "import os\n",
        "os.chdir(\"/content/drive/MyDrive/Colab Notebooks/scikit-learn-mooc/\")\n",
        "os.listdir()"
      ],
      "execution_count": null,
      "outputs": [
        {
          "output_type": "execute_result",
          "data": {
            "text/plain": [
              "['Module1', 'scikit-learn-mooc-master', 'datasets', 'Module2', 'Module3.ipynb']"
            ]
          },
          "metadata": {
            "tags": []
          },
          "execution_count": 11
        }
      ]
    },
    {
      "cell_type": "code",
      "metadata": {
        "id": "gsgXmrDFJ839"
      },
      "source": [
        "import pandas as pd\n",
        "from sklearn.model_selection import train_test_split\n",
        "\n",
        "adult_census = pd.read_csv(\"./datasets/adult-census.csv\")\n",
        "\n",
        "target_name = \"class\"\n",
        "target = adult_census[target_name]\n",
        "data = adult_census.drop(columns=[target_name, \"education-num\"])\n",
        "\n",
        "data_train, data_test, target_train, target_test = train_test_split(\n",
        "    data, target, train_size=0.2, random_state=42\n",
        ")"
      ],
      "execution_count": null,
      "outputs": []
    },
    {
      "cell_type": "code",
      "metadata": {
        "id": "RDEVcsRaHEWo"
      },
      "source": [
        "from sklearn.compose import ColumnTransformer \n",
        "from sklearn.compose import make_column_selector as selector\n",
        "from sklearn.preprocessing import OrdinalEncoder\n",
        "\n",
        "categorical_preprocessor = OrdinalEncoder(handle_unknown=\"use_encoded_value\", unknown_value=-1)\n",
        "\n",
        "preprocessor = ColumnTransformer(\n",
        "    [('cat-preprocessor', categorical_preprocessor, selector(dtype_include=object))],\n",
        "    remainder='passthrough', sparse_threshold=0\n",
        ")\n",
        "\n",
        "# this line is currently required to import HistGradientBoostingClassifier\n",
        "from sklearn.experimental import enable_hist_gradient_boosting \n",
        "from sklearn.ensemble import HistGradientBoostingClassifier \n",
        "from sklearn.pipeline import Pipeline\n",
        "\n",
        "model = Pipeline([\n",
        "    (\"preprocessor\", preprocessor),\n",
        "    (\"classifier\", HistGradientBoostingClassifier(random_state=42))\n",
        "])"
      ],
      "execution_count": null,
      "outputs": []
    },
    {
      "cell_type": "code",
      "metadata": {
        "colab": {
          "base_uri": "https://localhost:8080/"
        },
        "id": "UOqUrLqHIFck",
        "outputId": "c5cd9b53-bcfe-4bf2-b6ba-709e2f3bc951"
      },
      "source": [
        "model.get_params()"
      ],
      "execution_count": null,
      "outputs": [
        {
          "output_type": "execute_result",
          "data": {
            "text/plain": [
              "{'classifier': HistGradientBoostingClassifier(random_state=42),\n",
              " 'classifier__categorical_features': None,\n",
              " 'classifier__early_stopping': 'auto',\n",
              " 'classifier__l2_regularization': 0.0,\n",
              " 'classifier__learning_rate': 0.1,\n",
              " 'classifier__loss': 'auto',\n",
              " 'classifier__max_bins': 255,\n",
              " 'classifier__max_depth': None,\n",
              " 'classifier__max_iter': 100,\n",
              " 'classifier__max_leaf_nodes': 31,\n",
              " 'classifier__min_samples_leaf': 20,\n",
              " 'classifier__monotonic_cst': None,\n",
              " 'classifier__n_iter_no_change': 10,\n",
              " 'classifier__random_state': 42,\n",
              " 'classifier__scoring': 'loss',\n",
              " 'classifier__tol': 1e-07,\n",
              " 'classifier__validation_fraction': 0.1,\n",
              " 'classifier__verbose': 0,\n",
              " 'classifier__warm_start': False,\n",
              " 'memory': None,\n",
              " 'preprocessor': ColumnTransformer(remainder='passthrough', sparse_threshold=0,\n",
              "                   transformers=[('cat-preprocessor',\n",
              "                                  OrdinalEncoder(handle_unknown='use_encoded_value',\n",
              "                                                 unknown_value=-1),\n",
              "                                  <sklearn.compose._column_transformer.make_column_selector object at 0x7ff82bfb8e10>)]),\n",
              " 'preprocessor__cat-preprocessor': OrdinalEncoder(handle_unknown='use_encoded_value', unknown_value=-1),\n",
              " 'preprocessor__cat-preprocessor__categories': 'auto',\n",
              " 'preprocessor__cat-preprocessor__dtype': numpy.float64,\n",
              " 'preprocessor__cat-preprocessor__handle_unknown': 'use_encoded_value',\n",
              " 'preprocessor__cat-preprocessor__unknown_value': -1,\n",
              " 'preprocessor__n_jobs': None,\n",
              " 'preprocessor__remainder': 'passthrough',\n",
              " 'preprocessor__sparse_threshold': 0,\n",
              " 'preprocessor__transformer_weights': None,\n",
              " 'preprocessor__transformers': [('cat-preprocessor',\n",
              "   OrdinalEncoder(handle_unknown='use_encoded_value', unknown_value=-1),\n",
              "   <sklearn.compose._column_transformer.make_column_selector at 0x7ff82bfb8e10>)],\n",
              " 'preprocessor__verbose': False,\n",
              " 'steps': [('preprocessor',\n",
              "   ColumnTransformer(remainder='passthrough', sparse_threshold=0,\n",
              "                     transformers=[('cat-preprocessor',\n",
              "                                    OrdinalEncoder(handle_unknown='use_encoded_value',\n",
              "                                                   unknown_value=-1),\n",
              "                                    <sklearn.compose._column_transformer.make_column_selector object at 0x7ff82bfb8e10>)])),\n",
              "  ('classifier', HistGradientBoostingClassifier(random_state=42))],\n",
              " 'verbose': False}"
            ]
          },
          "metadata": {
            "tags": []
          },
          "execution_count": 14
        }
      ]
    },
    {
      "cell_type": "code",
      "metadata": {
        "colab": {
          "base_uri": "https://localhost:8080/"
        },
        "id": "NivaZ_NVkCUm",
        "outputId": "4556915a-b8a1-40c3-cc05-50070b6a8a9b"
      },
      "source": [
        "from sklearn.model_selection import cross_val_score\n",
        "\n",
        "learning_rate = [0.01, 0.1, 1, 10]\n",
        "max_leaf_nodes = [3, 10, 30]\n",
        "\n",
        "best_score = 0\n",
        "best_params = {}\n",
        "\n",
        "for lr in learning_rate:\n",
        "  for nodes in max_leaf_nodes:\n",
        "    print(f\"Evaluating model with leaning rate: {lr:.3f}\"\n",
        "          f\" and max leaf nodes {nodes}...\", end=\"\")\n",
        "    model.set_params(\n",
        "        classifier__learning_rate = lr,\n",
        "        classifier__max_leaf_nodes = nodes\n",
        "    )\n",
        "    scores = cross_val_score(model, data_train, target_train, cv=2)\n",
        "    mean_score = scores.mean()\n",
        "    print(f\"score: {mean_score:.3f}\")\n",
        "    if mean_score > best_score:\n",
        "      best_score = mean_score\n",
        "      best_params = {'learning-rate':lr, 'max leaf nodes': nodes}\n",
        "      print(f\"Best model with score {best_score:.3f}\")\n",
        "\n",
        "print(f\"The best accuracy obtained is {best_score:.3f}\")\n",
        "print(f\"The best parameters found are:\\n {best_params}\")"
      ],
      "execution_count": null,
      "outputs": [
        {
          "output_type": "stream",
          "text": [
            "Evaluating model with leaning rate: 0.010 and max leaf nodes 3...score: 0.789\n",
            "Best model with score 0.789\n",
            "Evaluating model with leaning rate: 0.010 and max leaf nodes 10...score: 0.813\n",
            "Best model with score 0.813\n",
            "Evaluating model with leaning rate: 0.010 and max leaf nodes 30...score: 0.842\n",
            "Best model with score 0.842\n",
            "Evaluating model with leaning rate: 0.100 and max leaf nodes 3...score: 0.847\n",
            "Best model with score 0.847\n",
            "Evaluating model with leaning rate: 0.100 and max leaf nodes 10...score: 0.859\n",
            "Best model with score 0.859\n",
            "Evaluating model with leaning rate: 0.100 and max leaf nodes 30...score: 0.857\n",
            "Evaluating model with leaning rate: 1.000 and max leaf nodes 3...score: 0.852\n",
            "Evaluating model with leaning rate: 1.000 and max leaf nodes 10...score: 0.833\n",
            "Evaluating model with leaning rate: 1.000 and max leaf nodes 30...score: 0.828\n",
            "Evaluating model with leaning rate: 10.000 and max leaf nodes 3...score: 0.288\n",
            "Evaluating model with leaning rate: 10.000 and max leaf nodes 10...score: 0.480\n",
            "Evaluating model with leaning rate: 10.000 and max leaf nodes 30...score: 0.639\n",
            "The best accuracy obtained is 0.859\n",
            "The best parameters found are:\n",
            " {'learning-rate': 0.1, 'max leaf nodes': 10}\n"
          ],
          "name": "stdout"
        }
      ]
    },
    {
      "cell_type": "markdown",
      "metadata": {
        "id": "iWgdRgzhuC0g"
      },
      "source": [
        "## Hyperparameter tuning by grid-search"
      ]
    },
    {
      "cell_type": "code",
      "metadata": {
        "colab": {
          "base_uri": "https://localhost:8080/"
        },
        "id": "utSztPKpubjy",
        "outputId": "f3e68788-f60f-4f1f-c2d7-6e051b1894ad"
      },
      "source": [
        "import os \n",
        "os.chdir(\"/content/drive/MyDrive/Colab Notebooks/scikit-learn-mooc/\")\n",
        "os.listdir()"
      ],
      "execution_count": null,
      "outputs": [
        {
          "output_type": "execute_result",
          "data": {
            "text/plain": [
              "['Module1', 'scikit-learn-mooc-master', 'datasets', 'Module2', 'Module3.ipynb']"
            ]
          },
          "metadata": {
            "tags": []
          },
          "execution_count": 16
        }
      ]
    },
    {
      "cell_type": "code",
      "metadata": {
        "id": "BxCoVrTknL_B"
      },
      "source": [
        "from sklearn import set_config\n",
        "set_config(display=\"diagram\")"
      ],
      "execution_count": null,
      "outputs": []
    },
    {
      "cell_type": "code",
      "metadata": {
        "id": "TWbaN-j7uXa6"
      },
      "source": [
        "import pandas as pd \n",
        "adult_census = pd.read_csv(\"./datasets/adult-census.csv\")"
      ],
      "execution_count": null,
      "outputs": []
    },
    {
      "cell_type": "code",
      "metadata": {
        "colab": {
          "base_uri": "https://localhost:8080/"
        },
        "id": "9yj85DgYunb-",
        "outputId": "ca2bbcdb-fe82-41c0-f5be-5b0c2d679202"
      },
      "source": [
        "target_name = \"class\"\n",
        "target = adult_census[target_name]\n",
        "target"
      ],
      "execution_count": null,
      "outputs": [
        {
          "output_type": "execute_result",
          "data": {
            "text/plain": [
              "0         <=50K\n",
              "1         <=50K\n",
              "2          >50K\n",
              "3          >50K\n",
              "4         <=50K\n",
              "          ...  \n",
              "48837     <=50K\n",
              "48838      >50K\n",
              "48839     <=50K\n",
              "48840     <=50K\n",
              "48841      >50K\n",
              "Name: class, Length: 48842, dtype: object"
            ]
          },
          "metadata": {
            "tags": []
          },
          "execution_count": 19
        }
      ]
    },
    {
      "cell_type": "code",
      "metadata": {
        "colab": {
          "base_uri": "https://localhost:8080/",
          "height": 343
        },
        "id": "K7jOIDYXutRg",
        "outputId": "83e76ed8-26f7-46f8-b630-9e2faeeb8697"
      },
      "source": [
        "data = adult_census.drop(columns=[target_name, \"education-num\"])\n",
        "data.head()"
      ],
      "execution_count": null,
      "outputs": [
        {
          "output_type": "execute_result",
          "data": {
            "text/html": [
              "<div>\n",
              "<style scoped>\n",
              "    .dataframe tbody tr th:only-of-type {\n",
              "        vertical-align: middle;\n",
              "    }\n",
              "\n",
              "    .dataframe tbody tr th {\n",
              "        vertical-align: top;\n",
              "    }\n",
              "\n",
              "    .dataframe thead th {\n",
              "        text-align: right;\n",
              "    }\n",
              "</style>\n",
              "<table border=\"1\" class=\"dataframe\">\n",
              "  <thead>\n",
              "    <tr style=\"text-align: right;\">\n",
              "      <th></th>\n",
              "      <th>age</th>\n",
              "      <th>workclass</th>\n",
              "      <th>education</th>\n",
              "      <th>marital-status</th>\n",
              "      <th>occupation</th>\n",
              "      <th>relationship</th>\n",
              "      <th>race</th>\n",
              "      <th>sex</th>\n",
              "      <th>capital-gain</th>\n",
              "      <th>capital-loss</th>\n",
              "      <th>hours-per-week</th>\n",
              "      <th>native-country</th>\n",
              "    </tr>\n",
              "  </thead>\n",
              "  <tbody>\n",
              "    <tr>\n",
              "      <th>0</th>\n",
              "      <td>25</td>\n",
              "      <td>Private</td>\n",
              "      <td>11th</td>\n",
              "      <td>Never-married</td>\n",
              "      <td>Machine-op-inspct</td>\n",
              "      <td>Own-child</td>\n",
              "      <td>Black</td>\n",
              "      <td>Male</td>\n",
              "      <td>0</td>\n",
              "      <td>0</td>\n",
              "      <td>40</td>\n",
              "      <td>United-States</td>\n",
              "    </tr>\n",
              "    <tr>\n",
              "      <th>1</th>\n",
              "      <td>38</td>\n",
              "      <td>Private</td>\n",
              "      <td>HS-grad</td>\n",
              "      <td>Married-civ-spouse</td>\n",
              "      <td>Farming-fishing</td>\n",
              "      <td>Husband</td>\n",
              "      <td>White</td>\n",
              "      <td>Male</td>\n",
              "      <td>0</td>\n",
              "      <td>0</td>\n",
              "      <td>50</td>\n",
              "      <td>United-States</td>\n",
              "    </tr>\n",
              "    <tr>\n",
              "      <th>2</th>\n",
              "      <td>28</td>\n",
              "      <td>Local-gov</td>\n",
              "      <td>Assoc-acdm</td>\n",
              "      <td>Married-civ-spouse</td>\n",
              "      <td>Protective-serv</td>\n",
              "      <td>Husband</td>\n",
              "      <td>White</td>\n",
              "      <td>Male</td>\n",
              "      <td>0</td>\n",
              "      <td>0</td>\n",
              "      <td>40</td>\n",
              "      <td>United-States</td>\n",
              "    </tr>\n",
              "    <tr>\n",
              "      <th>3</th>\n",
              "      <td>44</td>\n",
              "      <td>Private</td>\n",
              "      <td>Some-college</td>\n",
              "      <td>Married-civ-spouse</td>\n",
              "      <td>Machine-op-inspct</td>\n",
              "      <td>Husband</td>\n",
              "      <td>Black</td>\n",
              "      <td>Male</td>\n",
              "      <td>7688</td>\n",
              "      <td>0</td>\n",
              "      <td>40</td>\n",
              "      <td>United-States</td>\n",
              "    </tr>\n",
              "    <tr>\n",
              "      <th>4</th>\n",
              "      <td>18</td>\n",
              "      <td>?</td>\n",
              "      <td>Some-college</td>\n",
              "      <td>Never-married</td>\n",
              "      <td>?</td>\n",
              "      <td>Own-child</td>\n",
              "      <td>White</td>\n",
              "      <td>Female</td>\n",
              "      <td>0</td>\n",
              "      <td>0</td>\n",
              "      <td>30</td>\n",
              "      <td>United-States</td>\n",
              "    </tr>\n",
              "  </tbody>\n",
              "</table>\n",
              "</div>"
            ],
            "text/plain": [
              "   age   workclass      education  ... capital-loss hours-per-week  native-country\n",
              "0   25     Private           11th  ...            0             40   United-States\n",
              "1   38     Private        HS-grad  ...            0             50   United-States\n",
              "2   28   Local-gov     Assoc-acdm  ...            0             40   United-States\n",
              "3   44     Private   Some-college  ...            0             40   United-States\n",
              "4   18           ?   Some-college  ...            0             30   United-States\n",
              "\n",
              "[5 rows x 12 columns]"
            ]
          },
          "metadata": {
            "tags": []
          },
          "execution_count": 20
        }
      ]
    },
    {
      "cell_type": "code",
      "metadata": {
        "id": "OSjnYiQku0yA"
      },
      "source": [
        "from sklearn.model_selection import train_test_split\n",
        "\n",
        "data_train, data_test, target_train, target_test = train_test_split(\n",
        "    data, target, random_state=42\n",
        ")"
      ],
      "execution_count": null,
      "outputs": []
    },
    {
      "cell_type": "code",
      "metadata": {
        "id": "5xv7-arQu_NZ"
      },
      "source": [
        "from sklearn.compose import make_column_selector as selector \n",
        "\n",
        "categorical_column_selector = selector(dtype_include=object)\n",
        "categorical_columns = categorical_column_selector(data)"
      ],
      "execution_count": null,
      "outputs": []
    },
    {
      "cell_type": "code",
      "metadata": {
        "id": "tUdBCKHzvrjF"
      },
      "source": [
        "from sklearn.preprocessing import OrdinalEncoder \n",
        "categorical_preprocessor = OrdinalEncoder(handle_unknown=\"use_encoded_value\",\n",
        "                                          unknown_value=-1)"
      ],
      "execution_count": null,
      "outputs": []
    },
    {
      "cell_type": "code",
      "metadata": {
        "id": "F0A0KX3YwAUU"
      },
      "source": [
        "# use a column transformer with code to select the categorical columns\n",
        "# and apply to them the ordinal encoder\n",
        "from sklearn.compose import ColumnTransformer \n",
        "preprocessor = ColumnTransformer([\n",
        "    ('cat-preprocessor', categorical_preprocessor, categorical_columns)\n",
        "], remainder='passthrough', sparse_threshold=0)"
      ],
      "execution_count": null,
      "outputs": []
    },
    {
      "cell_type": "code",
      "metadata": {
        "id": "HFA8rH7zwcMr"
      },
      "source": [
        "# for the moment this line is required to import HistGradientBoostingClassifier\n",
        "from sklearn.experimental import enable_hist_gradient_boosting\n",
        "from sklearn.ensemble import HistGradientBoostingClassifier\n",
        "from sklearn.pipeline import Pipeline\n",
        "\n",
        "model = Pipeline([\n",
        "    (\"preprocessor\", preprocessor),\n",
        "    (\"classifier\", HistGradientBoostingClassifier(random_state=42, max_leaf_nodes=4))\n",
        "])"
      ],
      "execution_count": null,
      "outputs": []
    },
    {
      "cell_type": "code",
      "metadata": {
        "colab": {
          "base_uri": "https://localhost:8080/",
          "height": 164
        },
        "id": "kciWGgw70loX",
        "outputId": "65dd99d4-3958-4bf5-d28b-956d0f3e4d83"
      },
      "source": [
        "model"
      ],
      "execution_count": null,
      "outputs": [
        {
          "output_type": "execute_result",
          "data": {
            "text/html": [
              "<style>#sk-394f37a4-41e4-4bcb-8704-1b720636acb8 {color: black;background-color: white;}#sk-394f37a4-41e4-4bcb-8704-1b720636acb8 pre{padding: 0;}#sk-394f37a4-41e4-4bcb-8704-1b720636acb8 div.sk-toggleable {background-color: white;}#sk-394f37a4-41e4-4bcb-8704-1b720636acb8 label.sk-toggleable__label {cursor: pointer;display: block;width: 100%;margin-bottom: 0;padding: 0.2em 0.3em;box-sizing: border-box;text-align: center;}#sk-394f37a4-41e4-4bcb-8704-1b720636acb8 div.sk-toggleable__content {max-height: 0;max-width: 0;overflow: hidden;text-align: left;background-color: #f0f8ff;}#sk-394f37a4-41e4-4bcb-8704-1b720636acb8 div.sk-toggleable__content pre {margin: 0.2em;color: black;border-radius: 0.25em;background-color: #f0f8ff;}#sk-394f37a4-41e4-4bcb-8704-1b720636acb8 input.sk-toggleable__control:checked~div.sk-toggleable__content {max-height: 200px;max-width: 100%;overflow: auto;}#sk-394f37a4-41e4-4bcb-8704-1b720636acb8 div.sk-estimator input.sk-toggleable__control:checked~label.sk-toggleable__label {background-color: #d4ebff;}#sk-394f37a4-41e4-4bcb-8704-1b720636acb8 div.sk-label input.sk-toggleable__control:checked~label.sk-toggleable__label {background-color: #d4ebff;}#sk-394f37a4-41e4-4bcb-8704-1b720636acb8 input.sk-hidden--visually {border: 0;clip: rect(1px 1px 1px 1px);clip: rect(1px, 1px, 1px, 1px);height: 1px;margin: -1px;overflow: hidden;padding: 0;position: absolute;width: 1px;}#sk-394f37a4-41e4-4bcb-8704-1b720636acb8 div.sk-estimator {font-family: monospace;background-color: #f0f8ff;margin: 0.25em 0.25em;border: 1px dotted black;border-radius: 0.25em;box-sizing: border-box;}#sk-394f37a4-41e4-4bcb-8704-1b720636acb8 div.sk-estimator:hover {background-color: #d4ebff;}#sk-394f37a4-41e4-4bcb-8704-1b720636acb8 div.sk-parallel-item::after {content: \"\";width: 100%;border-bottom: 1px solid gray;flex-grow: 1;}#sk-394f37a4-41e4-4bcb-8704-1b720636acb8 div.sk-label:hover label.sk-toggleable__label {background-color: #d4ebff;}#sk-394f37a4-41e4-4bcb-8704-1b720636acb8 div.sk-serial::before {content: \"\";position: absolute;border-left: 1px solid gray;box-sizing: border-box;top: 2em;bottom: 0;left: 50%;}#sk-394f37a4-41e4-4bcb-8704-1b720636acb8 div.sk-serial {display: flex;flex-direction: column;align-items: center;background-color: white;}#sk-394f37a4-41e4-4bcb-8704-1b720636acb8 div.sk-item {z-index: 1;}#sk-394f37a4-41e4-4bcb-8704-1b720636acb8 div.sk-parallel {display: flex;align-items: stretch;justify-content: center;background-color: white;}#sk-394f37a4-41e4-4bcb-8704-1b720636acb8 div.sk-parallel-item {display: flex;flex-direction: column;position: relative;background-color: white;}#sk-394f37a4-41e4-4bcb-8704-1b720636acb8 div.sk-parallel-item:first-child::after {align-self: flex-end;width: 50%;}#sk-394f37a4-41e4-4bcb-8704-1b720636acb8 div.sk-parallel-item:last-child::after {align-self: flex-start;width: 50%;}#sk-394f37a4-41e4-4bcb-8704-1b720636acb8 div.sk-parallel-item:only-child::after {width: 0;}#sk-394f37a4-41e4-4bcb-8704-1b720636acb8 div.sk-dashed-wrapped {border: 1px dashed gray;margin: 0.2em;box-sizing: border-box;padding-bottom: 0.1em;background-color: white;position: relative;}#sk-394f37a4-41e4-4bcb-8704-1b720636acb8 div.sk-label label {font-family: monospace;font-weight: bold;background-color: white;display: inline-block;line-height: 1.2em;}#sk-394f37a4-41e4-4bcb-8704-1b720636acb8 div.sk-label-container {position: relative;z-index: 2;text-align: center;}#sk-394f37a4-41e4-4bcb-8704-1b720636acb8 div.sk-container {display: inline-block;position: relative;}</style><div id=\"sk-394f37a4-41e4-4bcb-8704-1b720636acb8\" class\"sk-top-container\"><div class=\"sk-container\"><div class=\"sk-item sk-dashed-wrapped\"><div class=\"sk-label-container\"><div class=\"sk-label sk-toggleable\"><input class=\"sk-toggleable__control sk-hidden--visually\" id=\"bfdcc776-86fd-4ddd-9a6a-b467d7b9328b\" type=\"checkbox\" ><label class=\"sk-toggleable__label\" for=\"bfdcc776-86fd-4ddd-9a6a-b467d7b9328b\">Pipeline</label><div class=\"sk-toggleable__content\"><pre>Pipeline(steps=[('preprocessor',\n",
              "                 ColumnTransformer(remainder='passthrough', sparse_threshold=0,\n",
              "                                   transformers=[('cat-preprocessor',\n",
              "                                                  OrdinalEncoder(handle_unknown='use_encoded_value',\n",
              "                                                                 unknown_value=-1),\n",
              "                                                  ['workclass', 'education',\n",
              "                                                   'marital-status',\n",
              "                                                   'occupation', 'relationship',\n",
              "                                                   'race', 'sex',\n",
              "                                                   'native-country'])])),\n",
              "                ('classifier',\n",
              "                 HistGradientBoostingClassifier(max_leaf_nodes=4,\n",
              "                                                random_state=42))])</pre></div></div></div><div class=\"sk-serial\"><div class=\"sk-item sk-dashed-wrapped\"><div class=\"sk-label-container\"><div class=\"sk-label sk-toggleable\"><input class=\"sk-toggleable__control sk-hidden--visually\" id=\"f3520f2d-0871-46ac-9e1c-8bf0526a0379\" type=\"checkbox\" ><label class=\"sk-toggleable__label\" for=\"f3520f2d-0871-46ac-9e1c-8bf0526a0379\">preprocessor: ColumnTransformer</label><div class=\"sk-toggleable__content\"><pre>ColumnTransformer(remainder='passthrough', sparse_threshold=0,\n",
              "                  transformers=[('cat-preprocessor',\n",
              "                                 OrdinalEncoder(handle_unknown='use_encoded_value',\n",
              "                                                unknown_value=-1),\n",
              "                                 ['workclass', 'education', 'marital-status',\n",
              "                                  'occupation', 'relationship', 'race', 'sex',\n",
              "                                  'native-country'])])</pre></div></div></div><div class=\"sk-parallel\"><div class=\"sk-parallel-item\"><div class=\"sk-item\"><div class=\"sk-label-container\"><div class=\"sk-label sk-toggleable\"><input class=\"sk-toggleable__control sk-hidden--visually\" id=\"b0d4518a-3608-443f-8ba1-9bcabf9c5f4f\" type=\"checkbox\" ><label class=\"sk-toggleable__label\" for=\"b0d4518a-3608-443f-8ba1-9bcabf9c5f4f\">cat-preprocessor</label><div class=\"sk-toggleable__content\"><pre>['workclass', 'education', 'marital-status', 'occupation', 'relationship', 'race', 'sex', 'native-country']</pre></div></div></div><div class=\"sk-serial\"><div class=\"sk-item\"><div class=\"sk-estimator sk-toggleable\"><input class=\"sk-toggleable__control sk-hidden--visually\" id=\"e01513c7-5ed6-45d5-b723-f2841c2c8bcd\" type=\"checkbox\" ><label class=\"sk-toggleable__label\" for=\"e01513c7-5ed6-45d5-b723-f2841c2c8bcd\">OrdinalEncoder</label><div class=\"sk-toggleable__content\"><pre>OrdinalEncoder(handle_unknown='use_encoded_value', unknown_value=-1)</pre></div></div></div></div></div></div><div class=\"sk-parallel-item\"><div class=\"sk-item\"><div class=\"sk-label-container\"><div class=\"sk-label sk-toggleable\"><input class=\"sk-toggleable__control sk-hidden--visually\" id=\"e92c687a-6797-4aca-a66b-9bf2b2ae6c1f\" type=\"checkbox\" ><label class=\"sk-toggleable__label\" for=\"e92c687a-6797-4aca-a66b-9bf2b2ae6c1f\">remainder</label><div class=\"sk-toggleable__content\"><pre></pre></div></div></div><div class=\"sk-serial\"><div class=\"sk-item\"><div class=\"sk-estimator sk-toggleable\"><input class=\"sk-toggleable__control sk-hidden--visually\" id=\"9217070c-39ad-4660-a3b7-99caf5c4bf98\" type=\"checkbox\" ><label class=\"sk-toggleable__label\" for=\"9217070c-39ad-4660-a3b7-99caf5c4bf98\">passthrough</label><div class=\"sk-toggleable__content\"><pre>passthrough</pre></div></div></div></div></div></div></div></div><div class=\"sk-item\"><div class=\"sk-estimator sk-toggleable\"><input class=\"sk-toggleable__control sk-hidden--visually\" id=\"05f31e8d-640f-44f1-b1d4-33a57bdeb3c5\" type=\"checkbox\" ><label class=\"sk-toggleable__label\" for=\"05f31e8d-640f-44f1-b1d4-33a57bdeb3c5\">HistGradientBoostingClassifier</label><div class=\"sk-toggleable__content\"><pre>HistGradientBoostingClassifier(max_leaf_nodes=4, random_state=42)</pre></div></div></div></div></div></div></div>"
            ],
            "text/plain": [
              "Pipeline(steps=[('preprocessor',\n",
              "                 ColumnTransformer(remainder='passthrough', sparse_threshold=0,\n",
              "                                   transformers=[('cat-preprocessor',\n",
              "                                                  OrdinalEncoder(handle_unknown='use_encoded_value',\n",
              "                                                                 unknown_value=-1),\n",
              "                                                  ['workclass', 'education',\n",
              "                                                   'marital-status',\n",
              "                                                   'occupation', 'relationship',\n",
              "                                                   'race', 'sex',\n",
              "                                                   'native-country'])])),\n",
              "                ('classifier',\n",
              "                 HistGradientBoostingClassifier(max_leaf_nodes=4,\n",
              "                                                random_state=42))])"
            ]
          },
          "metadata": {
            "tags": []
          },
          "execution_count": 26
        }
      ]
    },
    {
      "cell_type": "markdown",
      "metadata": {
        "id": "wW6BzPtd0pXz"
      },
      "source": [
        "### Turning using a grid-search"
      ]
    },
    {
      "cell_type": "code",
      "metadata": {
        "colab": {
          "base_uri": "https://localhost:8080/"
        },
        "id": "odqie8Jf0mPN",
        "outputId": "cfcee33c-b0b2-443e-f919-d2536d1a6606"
      },
      "source": [
        "# Instead of manullay writing the two for-loops, scikit-learn provides a class called\n",
        "# GridSearchCV which implement the exhaustive search implemented during the exercise\n",
        "\n",
        "%%time\n",
        "from sklearn.model_selection import GridSearchCV\n",
        "\n",
        "param_grid = {\n",
        "    'classifier__learning_rate': (0.05, 0.1, 0.5, 1, 5),\n",
        "    'classifier__max_leaf_nodes': (3,10,30,100)\n",
        "}\n",
        "model_grid_search = GridSearchCV(model, param_grid=param_grid, n_jobs=4, cv=2)\n",
        "model_grid_search.fit(data_train, target_train)\n",
        "accuracy = model_grid_search.score(data_test, target_test)"
      ],
      "execution_count": null,
      "outputs": [
        {
          "output_type": "stream",
          "text": [
            "CPU times: user 3.09 s, sys: 142 ms, total: 3.23 s\n",
            "Wall time: 19.3 s\n"
          ],
          "name": "stdout"
        }
      ]
    },
    {
      "cell_type": "code",
      "metadata": {
        "colab": {
          "base_uri": "https://localhost:8080/"
        },
        "id": "YUmJHBuI1pC-",
        "outputId": "f89b8e60-dd82-404f-d258-d76f6d739c06"
      },
      "source": [
        "print(f\"The test accuracy score of the grid-searched peipline is: \"\n",
        "      f\"{accuracy:.2f}\")"
      ],
      "execution_count": null,
      "outputs": [
        {
          "output_type": "stream",
          "text": [
            "The test accuracy score of the grid-searched peipline is: 0.88\n"
          ],
          "name": "stdout"
        }
      ]
    },
    {
      "cell_type": "code",
      "metadata": {
        "colab": {
          "base_uri": "https://localhost:8080/"
        },
        "id": "v6etGFUd3-3D",
        "outputId": "7064da2c-9a1a-4c82-ec4c-79904ad18626"
      },
      "source": [
        "# The GridSearchCV estimator takes a param_grid parameter which defines all hyperparameters \n",
        "# and their associated values. \n",
        "# The grid-search will be in charge of creating all possible combinations and test them.\n",
        "\n",
        "model_grid_search.predict(data_test.iloc[0:5])"
      ],
      "execution_count": null,
      "outputs": [
        {
          "output_type": "execute_result",
          "data": {
            "text/plain": [
              "array([' <=50K', ' <=50K', ' >50K', ' <=50K', ' >50K'], dtype=object)"
            ]
          },
          "metadata": {
            "tags": []
          },
          "execution_count": 29
        }
      ]
    },
    {
      "cell_type": "code",
      "metadata": {
        "colab": {
          "base_uri": "https://localhost:8080/"
        },
        "id": "DRwLkQaU4mWp",
        "outputId": "df23e431-eb9f-4f94-cb32-5be6071adde6"
      },
      "source": [
        "print(f\"The best set of parameters is; \"\n",
        "      f\"{model_grid_search.best_params_}\")"
      ],
      "execution_count": null,
      "outputs": [
        {
          "output_type": "stream",
          "text": [
            "The best set of parameters is; {'classifier__learning_rate': 0.1, 'classifier__max_leaf_nodes': 30}\n"
          ],
          "name": "stdout"
        }
      ]
    },
    {
      "cell_type": "code",
      "metadata": {
        "colab": {
          "base_uri": "https://localhost:8080/",
          "height": 309
        },
        "id": "WQRnWMRM4u_z",
        "outputId": "6997bcbd-b380-4166-a5a5-1e256d1e3739"
      },
      "source": [
        "cv_results = pd.DataFrame(model_grid_search.cv_results_).sort_values(\n",
        "    \"mean_test_score\", ascending=False\n",
        ")\n",
        "cv_results.head()"
      ],
      "execution_count": null,
      "outputs": [
        {
          "output_type": "execute_result",
          "data": {
            "text/html": [
              "<div>\n",
              "<style scoped>\n",
              "    .dataframe tbody tr th:only-of-type {\n",
              "        vertical-align: middle;\n",
              "    }\n",
              "\n",
              "    .dataframe tbody tr th {\n",
              "        vertical-align: top;\n",
              "    }\n",
              "\n",
              "    .dataframe thead th {\n",
              "        text-align: right;\n",
              "    }\n",
              "</style>\n",
              "<table border=\"1\" class=\"dataframe\">\n",
              "  <thead>\n",
              "    <tr style=\"text-align: right;\">\n",
              "      <th></th>\n",
              "      <th>mean_fit_time</th>\n",
              "      <th>std_fit_time</th>\n",
              "      <th>mean_score_time</th>\n",
              "      <th>std_score_time</th>\n",
              "      <th>param_classifier__learning_rate</th>\n",
              "      <th>param_classifier__max_leaf_nodes</th>\n",
              "      <th>params</th>\n",
              "      <th>split0_test_score</th>\n",
              "      <th>split1_test_score</th>\n",
              "      <th>mean_test_score</th>\n",
              "      <th>std_test_score</th>\n",
              "      <th>rank_test_score</th>\n",
              "    </tr>\n",
              "  </thead>\n",
              "  <tbody>\n",
              "    <tr>\n",
              "      <th>6</th>\n",
              "      <td>1.683857</td>\n",
              "      <td>0.128201</td>\n",
              "      <td>0.560606</td>\n",
              "      <td>0.026366</td>\n",
              "      <td>0.1</td>\n",
              "      <td>30</td>\n",
              "      <td>{'classifier__learning_rate': 0.1, 'classifier...</td>\n",
              "      <td>0.868912</td>\n",
              "      <td>0.867213</td>\n",
              "      <td>0.868063</td>\n",
              "      <td>0.000850</td>\n",
              "      <td>1</td>\n",
              "    </tr>\n",
              "    <tr>\n",
              "      <th>2</th>\n",
              "      <td>2.077280</td>\n",
              "      <td>0.009508</td>\n",
              "      <td>0.687659</td>\n",
              "      <td>0.006206</td>\n",
              "      <td>0.05</td>\n",
              "      <td>30</td>\n",
              "      <td>{'classifier__learning_rate': 0.05, 'classifie...</td>\n",
              "      <td>0.868530</td>\n",
              "      <td>0.866667</td>\n",
              "      <td>0.867598</td>\n",
              "      <td>0.000932</td>\n",
              "      <td>2</td>\n",
              "    </tr>\n",
              "    <tr>\n",
              "      <th>10</th>\n",
              "      <td>0.645126</td>\n",
              "      <td>0.019899</td>\n",
              "      <td>0.227526</td>\n",
              "      <td>0.015699</td>\n",
              "      <td>0.5</td>\n",
              "      <td>30</td>\n",
              "      <td>{'classifier__learning_rate': 0.5, 'classifier...</td>\n",
              "      <td>0.867056</td>\n",
              "      <td>0.865902</td>\n",
              "      <td>0.866479</td>\n",
              "      <td>0.000577</td>\n",
              "      <td>3</td>\n",
              "    </tr>\n",
              "    <tr>\n",
              "      <th>5</th>\n",
              "      <td>1.284307</td>\n",
              "      <td>0.052515</td>\n",
              "      <td>0.560694</td>\n",
              "      <td>0.029958</td>\n",
              "      <td>0.1</td>\n",
              "      <td>10</td>\n",
              "      <td>{'classifier__learning_rate': 0.1, 'classifier...</td>\n",
              "      <td>0.866783</td>\n",
              "      <td>0.866066</td>\n",
              "      <td>0.866425</td>\n",
              "      <td>0.000359</td>\n",
              "      <td>4</td>\n",
              "    </tr>\n",
              "    <tr>\n",
              "      <th>8</th>\n",
              "      <td>0.907230</td>\n",
              "      <td>0.005608</td>\n",
              "      <td>0.403867</td>\n",
              "      <td>0.003190</td>\n",
              "      <td>0.5</td>\n",
              "      <td>3</td>\n",
              "      <td>{'classifier__learning_rate': 0.5, 'classifier...</td>\n",
              "      <td>0.864872</td>\n",
              "      <td>0.866776</td>\n",
              "      <td>0.865824</td>\n",
              "      <td>0.000952</td>\n",
              "      <td>5</td>\n",
              "    </tr>\n",
              "  </tbody>\n",
              "</table>\n",
              "</div>"
            ],
            "text/plain": [
              "    mean_fit_time  std_fit_time  ...  std_test_score  rank_test_score\n",
              "6        1.683857      0.128201  ...        0.000850                1\n",
              "2        2.077280      0.009508  ...        0.000932                2\n",
              "10       0.645126      0.019899  ...        0.000577                3\n",
              "5        1.284307      0.052515  ...        0.000359                4\n",
              "8        0.907230      0.005608  ...        0.000952                5\n",
              "\n",
              "[5 rows x 12 columns]"
            ]
          },
          "metadata": {
            "tags": []
          },
          "execution_count": 31
        }
      ]
    },
    {
      "cell_type": "code",
      "metadata": {
        "id": "4cr4-wqe5OFo"
      },
      "source": [
        "# get the parameter names\n",
        "column_results = [f\"param_{name}\" for name in param_grid.keys()]\n",
        "column_results += [\n",
        "    \"mean_test_score\", \"std_test_score\", \"rank_test_score\"]\n",
        "cv_results = cv_results[column_results]"
      ],
      "execution_count": null,
      "outputs": []
    },
    {
      "cell_type": "code",
      "metadata": {
        "colab": {
          "base_uri": "https://localhost:8080/",
          "height": 669
        },
        "id": "dKGxWC6q5ijg",
        "outputId": "90ab1cc7-790f-4261-ffc6-711448b0e226"
      },
      "source": [
        "def shorten_param(param_name):\n",
        "  if \"__\" in param_name:\n",
        "    return param_name.rsplit(\"__\", 1)[1]\n",
        "  return param_name\n",
        "\n",
        "cv_results = cv_results.rename(shorten_param, axis=1)\n",
        "cv_results"
      ],
      "execution_count": null,
      "outputs": [
        {
          "output_type": "execute_result",
          "data": {
            "text/html": [
              "<div>\n",
              "<style scoped>\n",
              "    .dataframe tbody tr th:only-of-type {\n",
              "        vertical-align: middle;\n",
              "    }\n",
              "\n",
              "    .dataframe tbody tr th {\n",
              "        vertical-align: top;\n",
              "    }\n",
              "\n",
              "    .dataframe thead th {\n",
              "        text-align: right;\n",
              "    }\n",
              "</style>\n",
              "<table border=\"1\" class=\"dataframe\">\n",
              "  <thead>\n",
              "    <tr style=\"text-align: right;\">\n",
              "      <th></th>\n",
              "      <th>learning_rate</th>\n",
              "      <th>max_leaf_nodes</th>\n",
              "      <th>mean_test_score</th>\n",
              "      <th>std_test_score</th>\n",
              "      <th>rank_test_score</th>\n",
              "    </tr>\n",
              "  </thead>\n",
              "  <tbody>\n",
              "    <tr>\n",
              "      <th>6</th>\n",
              "      <td>0.1</td>\n",
              "      <td>30</td>\n",
              "      <td>0.868063</td>\n",
              "      <td>0.000850</td>\n",
              "      <td>1</td>\n",
              "    </tr>\n",
              "    <tr>\n",
              "      <th>2</th>\n",
              "      <td>0.05</td>\n",
              "      <td>30</td>\n",
              "      <td>0.867598</td>\n",
              "      <td>0.000932</td>\n",
              "      <td>2</td>\n",
              "    </tr>\n",
              "    <tr>\n",
              "      <th>10</th>\n",
              "      <td>0.5</td>\n",
              "      <td>30</td>\n",
              "      <td>0.866479</td>\n",
              "      <td>0.000577</td>\n",
              "      <td>3</td>\n",
              "    </tr>\n",
              "    <tr>\n",
              "      <th>5</th>\n",
              "      <td>0.1</td>\n",
              "      <td>10</td>\n",
              "      <td>0.866425</td>\n",
              "      <td>0.000359</td>\n",
              "      <td>4</td>\n",
              "    </tr>\n",
              "    <tr>\n",
              "      <th>8</th>\n",
              "      <td>0.5</td>\n",
              "      <td>3</td>\n",
              "      <td>0.865824</td>\n",
              "      <td>0.000952</td>\n",
              "      <td>5</td>\n",
              "    </tr>\n",
              "    <tr>\n",
              "      <th>9</th>\n",
              "      <td>0.5</td>\n",
              "      <td>10</td>\n",
              "      <td>0.865824</td>\n",
              "      <td>0.000031</td>\n",
              "      <td>6</td>\n",
              "    </tr>\n",
              "    <tr>\n",
              "      <th>3</th>\n",
              "      <td>0.05</td>\n",
              "      <td>100</td>\n",
              "      <td>0.865797</td>\n",
              "      <td>0.001259</td>\n",
              "      <td>7</td>\n",
              "    </tr>\n",
              "    <tr>\n",
              "      <th>7</th>\n",
              "      <td>0.1</td>\n",
              "      <td>100</td>\n",
              "      <td>0.864732</td>\n",
              "      <td>0.000795</td>\n",
              "      <td>8</td>\n",
              "    </tr>\n",
              "    <tr>\n",
              "      <th>1</th>\n",
              "      <td>0.05</td>\n",
              "      <td>10</td>\n",
              "      <td>0.862029</td>\n",
              "      <td>0.000222</td>\n",
              "      <td>9</td>\n",
              "    </tr>\n",
              "    <tr>\n",
              "      <th>11</th>\n",
              "      <td>0.5</td>\n",
              "      <td>100</td>\n",
              "      <td>0.859491</td>\n",
              "      <td>0.001069</td>\n",
              "      <td>10</td>\n",
              "    </tr>\n",
              "    <tr>\n",
              "      <th>13</th>\n",
              "      <td>1</td>\n",
              "      <td>10</td>\n",
              "      <td>0.858863</td>\n",
              "      <td>0.004036</td>\n",
              "      <td>11</td>\n",
              "    </tr>\n",
              "    <tr>\n",
              "      <th>12</th>\n",
              "      <td>1</td>\n",
              "      <td>3</td>\n",
              "      <td>0.857389</td>\n",
              "      <td>0.003545</td>\n",
              "      <td>12</td>\n",
              "    </tr>\n",
              "    <tr>\n",
              "      <th>4</th>\n",
              "      <td>0.1</td>\n",
              "      <td>3</td>\n",
              "      <td>0.853266</td>\n",
              "      <td>0.000515</td>\n",
              "      <td>13</td>\n",
              "    </tr>\n",
              "    <tr>\n",
              "      <th>14</th>\n",
              "      <td>1</td>\n",
              "      <td>30</td>\n",
              "      <td>0.851028</td>\n",
              "      <td>0.002707</td>\n",
              "      <td>14</td>\n",
              "    </tr>\n",
              "    <tr>\n",
              "      <th>15</th>\n",
              "      <td>1</td>\n",
              "      <td>100</td>\n",
              "      <td>0.835194</td>\n",
              "      <td>0.004609</td>\n",
              "      <td>15</td>\n",
              "    </tr>\n",
              "    <tr>\n",
              "      <th>0</th>\n",
              "      <td>0.05</td>\n",
              "      <td>3</td>\n",
              "      <td>0.827196</td>\n",
              "      <td>0.000214</td>\n",
              "      <td>16</td>\n",
              "    </tr>\n",
              "    <tr>\n",
              "      <th>19</th>\n",
              "      <td>5</td>\n",
              "      <td>100</td>\n",
              "      <td>0.727579</td>\n",
              "      <td>0.055780</td>\n",
              "      <td>17</td>\n",
              "    </tr>\n",
              "    <tr>\n",
              "      <th>18</th>\n",
              "      <td>5</td>\n",
              "      <td>30</td>\n",
              "      <td>0.638062</td>\n",
              "      <td>0.144696</td>\n",
              "      <td>18</td>\n",
              "    </tr>\n",
              "    <tr>\n",
              "      <th>17</th>\n",
              "      <td>5</td>\n",
              "      <td>10</td>\n",
              "      <td>0.527527</td>\n",
              "      <td>0.175411</td>\n",
              "      <td>19</td>\n",
              "    </tr>\n",
              "    <tr>\n",
              "      <th>16</th>\n",
              "      <td>5</td>\n",
              "      <td>3</td>\n",
              "      <td>0.283476</td>\n",
              "      <td>0.003775</td>\n",
              "      <td>20</td>\n",
              "    </tr>\n",
              "  </tbody>\n",
              "</table>\n",
              "</div>"
            ],
            "text/plain": [
              "   learning_rate max_leaf_nodes  ...  std_test_score  rank_test_score\n",
              "6            0.1             30  ...        0.000850                1\n",
              "2           0.05             30  ...        0.000932                2\n",
              "10           0.5             30  ...        0.000577                3\n",
              "5            0.1             10  ...        0.000359                4\n",
              "8            0.5              3  ...        0.000952                5\n",
              "9            0.5             10  ...        0.000031                6\n",
              "3           0.05            100  ...        0.001259                7\n",
              "7            0.1            100  ...        0.000795                8\n",
              "1           0.05             10  ...        0.000222                9\n",
              "11           0.5            100  ...        0.001069               10\n",
              "13             1             10  ...        0.004036               11\n",
              "12             1              3  ...        0.003545               12\n",
              "4            0.1              3  ...        0.000515               13\n",
              "14             1             30  ...        0.002707               14\n",
              "15             1            100  ...        0.004609               15\n",
              "0           0.05              3  ...        0.000214               16\n",
              "19             5            100  ...        0.055780               17\n",
              "18             5             30  ...        0.144696               18\n",
              "17             5             10  ...        0.175411               19\n",
              "16             5              3  ...        0.003775               20\n",
              "\n",
              "[20 rows x 5 columns]"
            ]
          },
          "metadata": {
            "tags": []
          },
          "execution_count": 33
        }
      ]
    },
    {
      "cell_type": "code",
      "metadata": {
        "colab": {
          "base_uri": "https://localhost:8080/",
          "height": 235
        },
        "id": "OKBvs62F65BV",
        "outputId": "e87b3842-0589-46d2-aebf-ff856b9ec289"
      },
      "source": [
        "pivoted_cv_results = cv_results.pivot_table(\n",
        "    values=\"mean_test_score\", index=[\"learning_rate\"],\n",
        "    columns=[\"max_leaf_nodes\"]\n",
        ")\n",
        "pivoted_cv_results"
      ],
      "execution_count": null,
      "outputs": [
        {
          "output_type": "execute_result",
          "data": {
            "text/html": [
              "<div>\n",
              "<style scoped>\n",
              "    .dataframe tbody tr th:only-of-type {\n",
              "        vertical-align: middle;\n",
              "    }\n",
              "\n",
              "    .dataframe tbody tr th {\n",
              "        vertical-align: top;\n",
              "    }\n",
              "\n",
              "    .dataframe thead th {\n",
              "        text-align: right;\n",
              "    }\n",
              "</style>\n",
              "<table border=\"1\" class=\"dataframe\">\n",
              "  <thead>\n",
              "    <tr style=\"text-align: right;\">\n",
              "      <th>max_leaf_nodes</th>\n",
              "      <th>3</th>\n",
              "      <th>10</th>\n",
              "      <th>30</th>\n",
              "      <th>100</th>\n",
              "    </tr>\n",
              "    <tr>\n",
              "      <th>learning_rate</th>\n",
              "      <th></th>\n",
              "      <th></th>\n",
              "      <th></th>\n",
              "      <th></th>\n",
              "    </tr>\n",
              "  </thead>\n",
              "  <tbody>\n",
              "    <tr>\n",
              "      <th>0.05</th>\n",
              "      <td>0.827196</td>\n",
              "      <td>0.862029</td>\n",
              "      <td>0.867598</td>\n",
              "      <td>0.865797</td>\n",
              "    </tr>\n",
              "    <tr>\n",
              "      <th>0.10</th>\n",
              "      <td>0.853266</td>\n",
              "      <td>0.866425</td>\n",
              "      <td>0.868063</td>\n",
              "      <td>0.864732</td>\n",
              "    </tr>\n",
              "    <tr>\n",
              "      <th>0.50</th>\n",
              "      <td>0.865824</td>\n",
              "      <td>0.865824</td>\n",
              "      <td>0.866479</td>\n",
              "      <td>0.859491</td>\n",
              "    </tr>\n",
              "    <tr>\n",
              "      <th>1.00</th>\n",
              "      <td>0.857389</td>\n",
              "      <td>0.858863</td>\n",
              "      <td>0.851028</td>\n",
              "      <td>0.835194</td>\n",
              "    </tr>\n",
              "    <tr>\n",
              "      <th>5.00</th>\n",
              "      <td>0.283476</td>\n",
              "      <td>0.527527</td>\n",
              "      <td>0.638062</td>\n",
              "      <td>0.727579</td>\n",
              "    </tr>\n",
              "  </tbody>\n",
              "</table>\n",
              "</div>"
            ],
            "text/plain": [
              "max_leaf_nodes       3         10        30        100\n",
              "learning_rate                                         \n",
              "0.05            0.827196  0.862029  0.867598  0.865797\n",
              "0.10            0.853266  0.866425  0.868063  0.864732\n",
              "0.50            0.865824  0.865824  0.866479  0.859491\n",
              "1.00            0.857389  0.858863  0.851028  0.835194\n",
              "5.00            0.283476  0.527527  0.638062  0.727579"
            ]
          },
          "metadata": {
            "tags": []
          },
          "execution_count": 34
        }
      ]
    },
    {
      "cell_type": "code",
      "metadata": {
        "colab": {
          "base_uri": "https://localhost:8080/",
          "height": 284
        },
        "id": "7dMnACd77iNl",
        "outputId": "8736f1d8-68f4-4be3-fa99-41369b78dea8"
      },
      "source": [
        "import seaborn as sns\n",
        "\n",
        "ax = sns.heatmap(pivoted_cv_results, annot=True, cmap=\"YlGnBu\", vmin=0.7, vmax=0.9)\n",
        "ax.invert_yaxis()"
      ],
      "execution_count": null,
      "outputs": [
        {
          "output_type": "display_data",
          "data": {
            "image/png": "[encoded data removed]",
            "text/plain": [
              "<Figure size 432x288 with 2 Axes>"
            ]
          },
          "metadata": {
            "tags": [],
            "needs_background": "light"
          }
        }
      ]
    },
    {
      "cell_type": "markdown",
      "metadata": {
        "id": "jmM1gBOT7-iN"
      },
      "source": [
        "The above tables highlights the following things:\n",
        "\n",
        "- for too high values of learning_rate, the statistical performance of the model is degraded and adjusting the value of max_leaf_nodes cannot fix that problem;\n",
        "- outside of this pathological region, we observe that the optimal choice of max_leaf_nodes depends on the value of learning_rate;\n",
        "- in particular, we observe a \"diagonal\" of good models with an accuracy close to the maximal of 0.87: when the value of max_leaf_nodes is increased, one should increase the value of learning_rate accordingly to preserve a good accuracy.\n",
        "\n",
        "The precise meaning of those two parameters will be explained in a latter notebook.\n",
        "\n",
        "For now we will note that, in general, there is no unique optimal parameter setting: 6 models out of the 16 parameter configuration reach the maximal accuracy (up to small random fluctuations caused by the sampling of the training set)."
      ]
    },
    {
      "cell_type": "markdown",
      "metadata": {
        "id": "LQTGTFRV8Z8p"
      },
      "source": [
        "## Hyperparameter tuning by randomized-search\n",
        "\n",
        "Grid-search approach to search for the best hyperparameters maximizing the statistical performance of a predictive model\n",
        "\n",
        "However, a grid-search approach has limitations. It does not scale when the number of parameters to tune is icreasing. Also, the grid will imposed a regularity during the search which might be problematic."
      ]
    },
    {
      "cell_type": "code",
      "metadata": {
        "id": "Br9eX4Bp71DM"
      },
      "source": [
        "from sklearn import set_config\n",
        "set_config(display=\"diagram\")"
      ],
      "execution_count": null,
      "outputs": []
    },
    {
      "cell_type": "code",
      "metadata": {
        "id": "4lvgLTnO9Vyt"
      },
      "source": [
        "import pandas as pd\n",
        "adult_census = pd.read_csv(\"./datasets/adult-census.csv\")"
      ],
      "execution_count": null,
      "outputs": []
    },
    {
      "cell_type": "code",
      "metadata": {
        "colab": {
          "base_uri": "https://localhost:8080/"
        },
        "id": "-YQa1Sbg9bE2",
        "outputId": "91bf3cde-2a90-44a3-e598-138a2c879444"
      },
      "source": [
        "target_name = \"class\"\n",
        "target = adult_census[target_name]\n",
        "target"
      ],
      "execution_count": null,
      "outputs": [
        {
          "output_type": "execute_result",
          "data": {
            "text/plain": [
              "0         <=50K\n",
              "1         <=50K\n",
              "2          >50K\n",
              "3          >50K\n",
              "4         <=50K\n",
              "          ...  \n",
              "48837     <=50K\n",
              "48838      >50K\n",
              "48839     <=50K\n",
              "48840     <=50K\n",
              "48841      >50K\n",
              "Name: class, Length: 48842, dtype: object"
            ]
          },
          "metadata": {
            "tags": []
          },
          "execution_count": 38
        }
      ]
    },
    {
      "cell_type": "code",
      "metadata": {
        "colab": {
          "base_uri": "https://localhost:8080/",
          "height": 343
        },
        "id": "kaKJc-KU9nAY",
        "outputId": "c5ed07ac-5f45-43d0-f1c8-b456dc4ad15b"
      },
      "source": [
        "data = adult_census.drop(columns=[target_name, \"education-num\"])\n",
        "data.head()"
      ],
      "execution_count": null,
      "outputs": [
        {
          "output_type": "execute_result",
          "data": {
            "text/html": [
              "<div>\n",
              "<style scoped>\n",
              "    .dataframe tbody tr th:only-of-type {\n",
              "        vertical-align: middle;\n",
              "    }\n",
              "\n",
              "    .dataframe tbody tr th {\n",
              "        vertical-align: top;\n",
              "    }\n",
              "\n",
              "    .dataframe thead th {\n",
              "        text-align: right;\n",
              "    }\n",
              "</style>\n",
              "<table border=\"1\" class=\"dataframe\">\n",
              "  <thead>\n",
              "    <tr style=\"text-align: right;\">\n",
              "      <th></th>\n",
              "      <th>age</th>\n",
              "      <th>workclass</th>\n",
              "      <th>education</th>\n",
              "      <th>marital-status</th>\n",
              "      <th>occupation</th>\n",
              "      <th>relationship</th>\n",
              "      <th>race</th>\n",
              "      <th>sex</th>\n",
              "      <th>capital-gain</th>\n",
              "      <th>capital-loss</th>\n",
              "      <th>hours-per-week</th>\n",
              "      <th>native-country</th>\n",
              "    </tr>\n",
              "  </thead>\n",
              "  <tbody>\n",
              "    <tr>\n",
              "      <th>0</th>\n",
              "      <td>25</td>\n",
              "      <td>Private</td>\n",
              "      <td>11th</td>\n",
              "      <td>Never-married</td>\n",
              "      <td>Machine-op-inspct</td>\n",
              "      <td>Own-child</td>\n",
              "      <td>Black</td>\n",
              "      <td>Male</td>\n",
              "      <td>0</td>\n",
              "      <td>0</td>\n",
              "      <td>40</td>\n",
              "      <td>United-States</td>\n",
              "    </tr>\n",
              "    <tr>\n",
              "      <th>1</th>\n",
              "      <td>38</td>\n",
              "      <td>Private</td>\n",
              "      <td>HS-grad</td>\n",
              "      <td>Married-civ-spouse</td>\n",
              "      <td>Farming-fishing</td>\n",
              "      <td>Husband</td>\n",
              "      <td>White</td>\n",
              "      <td>Male</td>\n",
              "      <td>0</td>\n",
              "      <td>0</td>\n",
              "      <td>50</td>\n",
              "      <td>United-States</td>\n",
              "    </tr>\n",
              "    <tr>\n",
              "      <th>2</th>\n",
              "      <td>28</td>\n",
              "      <td>Local-gov</td>\n",
              "      <td>Assoc-acdm</td>\n",
              "      <td>Married-civ-spouse</td>\n",
              "      <td>Protective-serv</td>\n",
              "      <td>Husband</td>\n",
              "      <td>White</td>\n",
              "      <td>Male</td>\n",
              "      <td>0</td>\n",
              "      <td>0</td>\n",
              "      <td>40</td>\n",
              "      <td>United-States</td>\n",
              "    </tr>\n",
              "    <tr>\n",
              "      <th>3</th>\n",
              "      <td>44</td>\n",
              "      <td>Private</td>\n",
              "      <td>Some-college</td>\n",
              "      <td>Married-civ-spouse</td>\n",
              "      <td>Machine-op-inspct</td>\n",
              "      <td>Husband</td>\n",
              "      <td>Black</td>\n",
              "      <td>Male</td>\n",
              "      <td>7688</td>\n",
              "      <td>0</td>\n",
              "      <td>40</td>\n",
              "      <td>United-States</td>\n",
              "    </tr>\n",
              "    <tr>\n",
              "      <th>4</th>\n",
              "      <td>18</td>\n",
              "      <td>?</td>\n",
              "      <td>Some-college</td>\n",
              "      <td>Never-married</td>\n",
              "      <td>?</td>\n",
              "      <td>Own-child</td>\n",
              "      <td>White</td>\n",
              "      <td>Female</td>\n",
              "      <td>0</td>\n",
              "      <td>0</td>\n",
              "      <td>30</td>\n",
              "      <td>United-States</td>\n",
              "    </tr>\n",
              "  </tbody>\n",
              "</table>\n",
              "</div>"
            ],
            "text/plain": [
              "   age   workclass      education  ... capital-loss hours-per-week  native-country\n",
              "0   25     Private           11th  ...            0             40   United-States\n",
              "1   38     Private        HS-grad  ...            0             50   United-States\n",
              "2   28   Local-gov     Assoc-acdm  ...            0             40   United-States\n",
              "3   44     Private   Some-college  ...            0             40   United-States\n",
              "4   18           ?   Some-college  ...            0             30   United-States\n",
              "\n",
              "[5 rows x 12 columns]"
            ]
          },
          "metadata": {
            "tags": []
          },
          "execution_count": 39
        }
      ]
    },
    {
      "cell_type": "code",
      "metadata": {
        "id": "UVM2oF_u9vM3"
      },
      "source": [
        "from sklearn.model_selection import train_test_split\n",
        "\n",
        "data_train, data_test, target_train, target_test = train_test_split(\n",
        "    data, target, random_state=42\n",
        ")"
      ],
      "execution_count": null,
      "outputs": []
    },
    {
      "cell_type": "code",
      "metadata": {
        "id": "6ueCvtMw97NG"
      },
      "source": [
        "from sklearn.compose import ColumnTransformer\n",
        "from sklearn.preprocessing import OrdinalEncoder\n",
        "from sklearn.compose import make_column_selector as selector\n",
        "\n",
        "categorical_columns_selector = selector(dtype_include=object)\n",
        "categorical_columns = categorical_columns_selector(data)\n",
        "\n",
        "categorical_preprocessor = OrdinalEncoder(handle_unknown=\"use_encoded_value\",\n",
        "                                          unknown_value=-1)\n",
        "preprocessor = ColumnTransformer([\n",
        "    ('cat-preprocessor', categorical_preprocessor, categorical_columns)\n",
        "], remainder='passthrough', sparse_threshold=0)"
      ],
      "execution_count": null,
      "outputs": []
    },
    {
      "cell_type": "code",
      "metadata": {
        "colab": {
          "base_uri": "https://localhost:8080/",
          "height": 164
        },
        "id": "buldHwYx-6fr",
        "outputId": "56a61992-b103-4e84-ad98-c0e3017e5c7a"
      },
      "source": [
        "# for the moment this line is required to import HistGradientBoostingClassifier\n",
        "from sklearn.experimental import enable_hist_gradient_boosting\n",
        "from sklearn.ensemble import HistGradientBoostingClassifier\n",
        "from sklearn.pipeline import Pipeline\n",
        "\n",
        "model = Pipeline([\n",
        "      (\"preprocessor\", preprocessor),\n",
        "      (\"classifier\", HistGradientBoostingClassifier(random_state=42, max_leaf_nodes=4))\n",
        "])\n",
        "\n",
        "model"
      ],
      "execution_count": null,
      "outputs": [
        {
          "output_type": "execute_result",
          "data": {
            "text/html": [
              "<style>#sk-efb90fd4-7883-4c15-91e3-9d76ab5a18ec {color: black;background-color: white;}#sk-efb90fd4-7883-4c15-91e3-9d76ab5a18ec pre{padding: 0;}#sk-efb90fd4-7883-4c15-91e3-9d76ab5a18ec div.sk-toggleable {background-color: white;}#sk-efb90fd4-7883-4c15-91e3-9d76ab5a18ec label.sk-toggleable__label {cursor: pointer;display: block;width: 100%;margin-bottom: 0;padding: 0.2em 0.3em;box-sizing: border-box;text-align: center;}#sk-efb90fd4-7883-4c15-91e3-9d76ab5a18ec div.sk-toggleable__content {max-height: 0;max-width: 0;overflow: hidden;text-align: left;background-color: #f0f8ff;}#sk-efb90fd4-7883-4c15-91e3-9d76ab5a18ec div.sk-toggleable__content pre {margin: 0.2em;color: black;border-radius: 0.25em;background-color: #f0f8ff;}#sk-efb90fd4-7883-4c15-91e3-9d76ab5a18ec input.sk-toggleable__control:checked~div.sk-toggleable__content {max-height: 200px;max-width: 100%;overflow: auto;}#sk-efb90fd4-7883-4c15-91e3-9d76ab5a18ec div.sk-estimator input.sk-toggleable__control:checked~label.sk-toggleable__label {background-color: #d4ebff;}#sk-efb90fd4-7883-4c15-91e3-9d76ab5a18ec div.sk-label input.sk-toggleable__control:checked~label.sk-toggleable__label {background-color: #d4ebff;}#sk-efb90fd4-7883-4c15-91e3-9d76ab5a18ec input.sk-hidden--visually {border: 0;clip: rect(1px 1px 1px 1px);clip: rect(1px, 1px, 1px, 1px);height: 1px;margin: -1px;overflow: hidden;padding: 0;position: absolute;width: 1px;}#sk-efb90fd4-7883-4c15-91e3-9d76ab5a18ec div.sk-estimator {font-family: monospace;background-color: #f0f8ff;margin: 0.25em 0.25em;border: 1px dotted black;border-radius: 0.25em;box-sizing: border-box;}#sk-efb90fd4-7883-4c15-91e3-9d76ab5a18ec div.sk-estimator:hover {background-color: #d4ebff;}#sk-efb90fd4-7883-4c15-91e3-9d76ab5a18ec div.sk-parallel-item::after {content: \"\";width: 100%;border-bottom: 1px solid gray;flex-grow: 1;}#sk-efb90fd4-7883-4c15-91e3-9d76ab5a18ec div.sk-label:hover label.sk-toggleable__label {background-color: #d4ebff;}#sk-efb90fd4-7883-4c15-91e3-9d76ab5a18ec div.sk-serial::before {content: \"\";position: absolute;border-left: 1px solid gray;box-sizing: border-box;top: 2em;bottom: 0;left: 50%;}#sk-efb90fd4-7883-4c15-91e3-9d76ab5a18ec div.sk-serial {display: flex;flex-direction: column;align-items: center;background-color: white;}#sk-efb90fd4-7883-4c15-91e3-9d76ab5a18ec div.sk-item {z-index: 1;}#sk-efb90fd4-7883-4c15-91e3-9d76ab5a18ec div.sk-parallel {display: flex;align-items: stretch;justify-content: center;background-color: white;}#sk-efb90fd4-7883-4c15-91e3-9d76ab5a18ec div.sk-parallel-item {display: flex;flex-direction: column;position: relative;background-color: white;}#sk-efb90fd4-7883-4c15-91e3-9d76ab5a18ec div.sk-parallel-item:first-child::after {align-self: flex-end;width: 50%;}#sk-efb90fd4-7883-4c15-91e3-9d76ab5a18ec div.sk-parallel-item:last-child::after {align-self: flex-start;width: 50%;}#sk-efb90fd4-7883-4c15-91e3-9d76ab5a18ec div.sk-parallel-item:only-child::after {width: 0;}#sk-efb90fd4-7883-4c15-91e3-9d76ab5a18ec div.sk-dashed-wrapped {border: 1px dashed gray;margin: 0.2em;box-sizing: border-box;padding-bottom: 0.1em;background-color: white;position: relative;}#sk-efb90fd4-7883-4c15-91e3-9d76ab5a18ec div.sk-label label {font-family: monospace;font-weight: bold;background-color: white;display: inline-block;line-height: 1.2em;}#sk-efb90fd4-7883-4c15-91e3-9d76ab5a18ec div.sk-label-container {position: relative;z-index: 2;text-align: center;}#sk-efb90fd4-7883-4c15-91e3-9d76ab5a18ec div.sk-container {display: inline-block;position: relative;}</style><div id=\"sk-efb90fd4-7883-4c15-91e3-9d76ab5a18ec\" class\"sk-top-container\"><div class=\"sk-container\"><div class=\"sk-item sk-dashed-wrapped\"><div class=\"sk-label-container\"><div class=\"sk-label sk-toggleable\"><input class=\"sk-toggleable__control sk-hidden--visually\" id=\"b86d04fc-b6dd-4328-86fb-b4da9f4004ea\" type=\"checkbox\" ><label class=\"sk-toggleable__label\" for=\"b86d04fc-b6dd-4328-86fb-b4da9f4004ea\">Pipeline</label><div class=\"sk-toggleable__content\"><pre>Pipeline(steps=[('preprocessor',\n",
              "                 ColumnTransformer(remainder='passthrough', sparse_threshold=0,\n",
              "                                   transformers=[('cat-preprocessor',\n",
              "                                                  OrdinalEncoder(handle_unknown='use_encoded_value',\n",
              "                                                                 unknown_value=-1),\n",
              "                                                  ['workclass', 'education',\n",
              "                                                   'marital-status',\n",
              "                                                   'occupation', 'relationship',\n",
              "                                                   'race', 'sex',\n",
              "                                                   'native-country'])])),\n",
              "                ('classifier',\n",
              "                 HistGradientBoostingClassifier(max_leaf_nodes=4,\n",
              "                                                random_state=42))])</pre></div></div></div><div class=\"sk-serial\"><div class=\"sk-item sk-dashed-wrapped\"><div class=\"sk-label-container\"><div class=\"sk-label sk-toggleable\"><input class=\"sk-toggleable__control sk-hidden--visually\" id=\"f517b9cc-5cc0-4bbb-a4ad-478764b1b47b\" type=\"checkbox\" ><label class=\"sk-toggleable__label\" for=\"f517b9cc-5cc0-4bbb-a4ad-478764b1b47b\">preprocessor: ColumnTransformer</label><div class=\"sk-toggleable__content\"><pre>ColumnTransformer(remainder='passthrough', sparse_threshold=0,\n",
              "                  transformers=[('cat-preprocessor',\n",
              "                                 OrdinalEncoder(handle_unknown='use_encoded_value',\n",
              "                                                unknown_value=-1),\n",
              "                                 ['workclass', 'education', 'marital-status',\n",
              "                                  'occupation', 'relationship', 'race', 'sex',\n",
              "                                  'native-country'])])</pre></div></div></div><div class=\"sk-parallel\"><div class=\"sk-parallel-item\"><div class=\"sk-item\"><div class=\"sk-label-container\"><div class=\"sk-label sk-toggleable\"><input class=\"sk-toggleable__control sk-hidden--visually\" id=\"b1032c90-d3d7-4ddd-91be-00e15bcb076d\" type=\"checkbox\" ><label class=\"sk-toggleable__label\" for=\"b1032c90-d3d7-4ddd-91be-00e15bcb076d\">cat-preprocessor</label><div class=\"sk-toggleable__content\"><pre>['workclass', 'education', 'marital-status', 'occupation', 'relationship', 'race', 'sex', 'native-country']</pre></div></div></div><div class=\"sk-serial\"><div class=\"sk-item\"><div class=\"sk-estimator sk-toggleable\"><input class=\"sk-toggleable__control sk-hidden--visually\" id=\"7787941b-bfc8-4298-901c-550f6ecefbc9\" type=\"checkbox\" ><label class=\"sk-toggleable__label\" for=\"7787941b-bfc8-4298-901c-550f6ecefbc9\">OrdinalEncoder</label><div class=\"sk-toggleable__content\"><pre>OrdinalEncoder(handle_unknown='use_encoded_value', unknown_value=-1)</pre></div></div></div></div></div></div><div class=\"sk-parallel-item\"><div class=\"sk-item\"><div class=\"sk-label-container\"><div class=\"sk-label sk-toggleable\"><input class=\"sk-toggleable__control sk-hidden--visually\" id=\"56bb3e8a-ddc2-4a53-b16b-39f988de416c\" type=\"checkbox\" ><label class=\"sk-toggleable__label\" for=\"56bb3e8a-ddc2-4a53-b16b-39f988de416c\">remainder</label><div class=\"sk-toggleable__content\"><pre></pre></div></div></div><div class=\"sk-serial\"><div class=\"sk-item\"><div class=\"sk-estimator sk-toggleable\"><input class=\"sk-toggleable__control sk-hidden--visually\" id=\"e751ec6d-a60d-49c8-a377-fabbe18454fc\" type=\"checkbox\" ><label class=\"sk-toggleable__label\" for=\"e751ec6d-a60d-49c8-a377-fabbe18454fc\">passthrough</label><div class=\"sk-toggleable__content\"><pre>passthrough</pre></div></div></div></div></div></div></div></div><div class=\"sk-item\"><div class=\"sk-estimator sk-toggleable\"><input class=\"sk-toggleable__control sk-hidden--visually\" id=\"80b9afcd-512d-44be-b422-f39f5c592bc5\" type=\"checkbox\" ><label class=\"sk-toggleable__label\" for=\"80b9afcd-512d-44be-b422-f39f5c592bc5\">HistGradientBoostingClassifier</label><div class=\"sk-toggleable__content\"><pre>HistGradientBoostingClassifier(max_leaf_nodes=4, random_state=42)</pre></div></div></div></div></div></div></div>"
            ],
            "text/plain": [
              "Pipeline(steps=[('preprocessor',\n",
              "                 ColumnTransformer(remainder='passthrough', sparse_threshold=0,\n",
              "                                   transformers=[('cat-preprocessor',\n",
              "                                                  OrdinalEncoder(handle_unknown='use_encoded_value',\n",
              "                                                                 unknown_value=-1),\n",
              "                                                  ['workclass', 'education',\n",
              "                                                   'marital-status',\n",
              "                                                   'occupation', 'relationship',\n",
              "                                                   'race', 'sex',\n",
              "                                                   'native-country'])])),\n",
              "                ('classifier',\n",
              "                 HistGradientBoostingClassifier(max_leaf_nodes=4,\n",
              "                                                random_state=42))])"
            ]
          },
          "metadata": {
            "tags": []
          },
          "execution_count": 42
        }
      ]
    },
    {
      "cell_type": "markdown",
      "metadata": {
        "id": "MqxO3MTF_W5N"
      },
      "source": [
        "### Tuning using a randomized-search\n",
        "\n",
        "we can randomly generate the parameter candidates. Indeed, such approach avoids the regularity of the grid. Hence, adding more evaluations can increase the resolution in each direction.\n",
        "\n"
      ]
    },
    {
      "cell_type": "code",
      "metadata": {
        "id": "-WlN295O_Qy-"
      },
      "source": [
        "from scipy.stats import loguniform \n",
        "\n",
        "class loguniform_int:\n",
        "  \"\"\"Integer valued version of the log-uniform distribution\"\"\"\n",
        "  def __init__(self, a, b):\n",
        "    self._distribution = loguniform(a, b)\n",
        "  \n",
        "  def rvs(self, *args, **kwargs):\n",
        "    \"\"\"Random variable sample\"\"\"\n",
        "    return self._distribution.rvs(*args, **kwargs).astype(int)"
      ],
      "execution_count": null,
      "outputs": []
    },
    {
      "cell_type": "code",
      "metadata": {
        "colab": {
          "base_uri": "https://localhost:8080/",
          "height": 165
        },
        "id": "uZHtaAgVBUFV",
        "outputId": "8569c15c-57f8-449b-b00e-3b7d2e52708a"
      },
      "source": [
        "from sklearn.model_selection import RandomizedSearchCV \n",
        "\n",
        "param_distributions = {\n",
        "    'classifier__l2_regularization': loguniform(1e-6, 1e3),\n",
        "    'classifier__learning_rate': loguniform(0.001, 10),\n",
        "    'classifier__max_leaf_nodes': loguniform_int(2, 256),\n",
        "    'classifier__min_samples_leaf': loguniform_int(1, 100),\n",
        "    'classifier__max_bins': loguniform_int(2, 255)\n",
        "}\n",
        "\n",
        "model_random_search = RandomizedSearchCV(\n",
        "    model, param_distributions=param_distributions,\n",
        "    n_iter=10, n_jobs=4, cv=5\n",
        ")\n",
        "\n",
        "model_random_search.fit(data_train, target_train)"
      ],
      "execution_count": null,
      "outputs": [
        {
          "output_type": "execute_result",
          "data": {
            "text/html": [
              "<style>#sk-3fb289f4-ac1b-4cd2-9be3-2b598c108f95 {color: black;background-color: white;}#sk-3fb289f4-ac1b-4cd2-9be3-2b598c108f95 pre{padding: 0;}#sk-3fb289f4-ac1b-4cd2-9be3-2b598c108f95 div.sk-toggleable {background-color: white;}#sk-3fb289f4-ac1b-4cd2-9be3-2b598c108f95 label.sk-toggleable__label {cursor: pointer;display: block;width: 100%;margin-bottom: 0;padding: 0.2em 0.3em;box-sizing: border-box;text-align: center;}#sk-3fb289f4-ac1b-4cd2-9be3-2b598c108f95 div.sk-toggleable__content {max-height: 0;max-width: 0;overflow: hidden;text-align: left;background-color: #f0f8ff;}#sk-3fb289f4-ac1b-4cd2-9be3-2b598c108f95 div.sk-toggleable__content pre {margin: 0.2em;color: black;border-radius: 0.25em;background-color: #f0f8ff;}#sk-3fb289f4-ac1b-4cd2-9be3-2b598c108f95 input.sk-toggleable__control:checked~div.sk-toggleable__content {max-height: 200px;max-width: 100%;overflow: auto;}#sk-3fb289f4-ac1b-4cd2-9be3-2b598c108f95 div.sk-estimator input.sk-toggleable__control:checked~label.sk-toggleable__label {background-color: #d4ebff;}#sk-3fb289f4-ac1b-4cd2-9be3-2b598c108f95 div.sk-label input.sk-toggleable__control:checked~label.sk-toggleable__label {background-color: #d4ebff;}#sk-3fb289f4-ac1b-4cd2-9be3-2b598c108f95 input.sk-hidden--visually {border: 0;clip: rect(1px 1px 1px 1px);clip: rect(1px, 1px, 1px, 1px);height: 1px;margin: -1px;overflow: hidden;padding: 0;position: absolute;width: 1px;}#sk-3fb289f4-ac1b-4cd2-9be3-2b598c108f95 div.sk-estimator {font-family: monospace;background-color: #f0f8ff;margin: 0.25em 0.25em;border: 1px dotted black;border-radius: 0.25em;box-sizing: border-box;}#sk-3fb289f4-ac1b-4cd2-9be3-2b598c108f95 div.sk-estimator:hover {background-color: #d4ebff;}#sk-3fb289f4-ac1b-4cd2-9be3-2b598c108f95 div.sk-parallel-item::after {content: \"\";width: 100%;border-bottom: 1px solid gray;flex-grow: 1;}#sk-3fb289f4-ac1b-4cd2-9be3-2b598c108f95 div.sk-label:hover label.sk-toggleable__label {background-color: #d4ebff;}#sk-3fb289f4-ac1b-4cd2-9be3-2b598c108f95 div.sk-serial::before {content: \"\";position: absolute;border-left: 1px solid gray;box-sizing: border-box;top: 2em;bottom: 0;left: 50%;}#sk-3fb289f4-ac1b-4cd2-9be3-2b598c108f95 div.sk-serial {display: flex;flex-direction: column;align-items: center;background-color: white;}#sk-3fb289f4-ac1b-4cd2-9be3-2b598c108f95 div.sk-item {z-index: 1;}#sk-3fb289f4-ac1b-4cd2-9be3-2b598c108f95 div.sk-parallel {display: flex;align-items: stretch;justify-content: center;background-color: white;}#sk-3fb289f4-ac1b-4cd2-9be3-2b598c108f95 div.sk-parallel-item {display: flex;flex-direction: column;position: relative;background-color: white;}#sk-3fb289f4-ac1b-4cd2-9be3-2b598c108f95 div.sk-parallel-item:first-child::after {align-self: flex-end;width: 50%;}#sk-3fb289f4-ac1b-4cd2-9be3-2b598c108f95 div.sk-parallel-item:last-child::after {align-self: flex-start;width: 50%;}#sk-3fb289f4-ac1b-4cd2-9be3-2b598c108f95 div.sk-parallel-item:only-child::after {width: 0;}#sk-3fb289f4-ac1b-4cd2-9be3-2b598c108f95 div.sk-dashed-wrapped {border: 1px dashed gray;margin: 0.2em;box-sizing: border-box;padding-bottom: 0.1em;background-color: white;position: relative;}#sk-3fb289f4-ac1b-4cd2-9be3-2b598c108f95 div.sk-label label {font-family: monospace;font-weight: bold;background-color: white;display: inline-block;line-height: 1.2em;}#sk-3fb289f4-ac1b-4cd2-9be3-2b598c108f95 div.sk-label-container {position: relative;z-index: 2;text-align: center;}#sk-3fb289f4-ac1b-4cd2-9be3-2b598c108f95 div.sk-container {display: inline-block;position: relative;}</style><div id=\"sk-3fb289f4-ac1b-4cd2-9be3-2b598c108f95\" class\"sk-top-container\"><div class=\"sk-container\"><div class=\"sk-item sk-dashed-wrapped\"><div class=\"sk-label-container\"><div class=\"sk-label sk-toggleable\"><input class=\"sk-toggleable__control sk-hidden--visually\" id=\"747cf3fc-6a22-45c3-9443-c0c6bdc76acc\" type=\"checkbox\" ><label class=\"sk-toggleable__label\" for=\"747cf3fc-6a22-45c3-9443-c0c6bdc76acc\">RandomizedSearchCV</label><div class=\"sk-toggleable__content\"><pre>RandomizedSearchCV(cv=5,\n",
              "                   estimator=Pipeline(steps=[('preprocessor',\n",
              "                                              ColumnTransformer(remainder='passthrough',\n",
              "                                                                sparse_threshold=0,\n",
              "                                                                transformers=[('cat-preprocessor',\n",
              "                                                                               OrdinalEncoder(handle_unknown='use_encoded_value',\n",
              "                                                                                              unknown_value=-1),\n",
              "                                                                               ['workclass',\n",
              "                                                                                'education',\n",
              "                                                                                'marital-status',\n",
              "                                                                                'occupation',\n",
              "                                                                                'relationship',\n",
              "                                                                                'race',\n",
              "                                                                                'sex',\n",
              "                                                                                'native-country'])])),\n",
              "                                             ('classifier',\n",
              "                                              Hi...\n",
              "                   param_distributions={'classifier__l2_regularization': <scipy.stats._distn_infrastructure.rv_frozen object at 0x7ff8204a8b50>,\n",
              "                                        'classifier__learning_rate': <scipy.stats._distn_infrastructure.rv_frozen object at 0x7ff81f0962d0>,\n",
              "                                        'classifier__max_bins': <__main__.loguniform_int object at 0x7ff81cc8a5d0>,\n",
              "                                        'classifier__max_leaf_nodes': <__main__.loguniform_int object at 0x7ff81dcd2990>,\n",
              "                                        'classifier__min_samples_leaf': <__main__.loguniform_int object at 0x7ff81cc8acd0>})</pre></div></div></div><div class=\"sk-parallel\"><div class=\"sk-parallel-item\"><div class=\"sk-item\"><div class=\"sk-serial\"><div class=\"sk-item\"><div class=\"sk-serial\"><div class=\"sk-item sk-dashed-wrapped\"><div class=\"sk-label-container\"><div class=\"sk-label sk-toggleable\"><input class=\"sk-toggleable__control sk-hidden--visually\" id=\"ddc089a6-b3db-4581-a4c2-4938b8816fad\" type=\"checkbox\" ><label class=\"sk-toggleable__label\" for=\"ddc089a6-b3db-4581-a4c2-4938b8816fad\">preprocessor: ColumnTransformer</label><div class=\"sk-toggleable__content\"><pre>ColumnTransformer(remainder='passthrough', sparse_threshold=0,\n",
              "                  transformers=[('cat-preprocessor',\n",
              "                                 OrdinalEncoder(handle_unknown='use_encoded_value',\n",
              "                                                unknown_value=-1),\n",
              "                                 ['workclass', 'education', 'marital-status',\n",
              "                                  'occupation', 'relationship', 'race', 'sex',\n",
              "                                  'native-country'])])</pre></div></div></div><div class=\"sk-parallel\"><div class=\"sk-parallel-item\"><div class=\"sk-item\"><div class=\"sk-label-container\"><div class=\"sk-label sk-toggleable\"><input class=\"sk-toggleable__control sk-hidden--visually\" id=\"53f4519f-c781-449d-a4d1-75adac6d140e\" type=\"checkbox\" ><label class=\"sk-toggleable__label\" for=\"53f4519f-c781-449d-a4d1-75adac6d140e\">cat-preprocessor</label><div class=\"sk-toggleable__content\"><pre>['workclass', 'education', 'marital-status', 'occupation', 'relationship', 'race', 'sex', 'native-country']</pre></div></div></div><div class=\"sk-serial\"><div class=\"sk-item\"><div class=\"sk-estimator sk-toggleable\"><input class=\"sk-toggleable__control sk-hidden--visually\" id=\"f262b61f-2064-4de4-bac2-05214dd7ae33\" type=\"checkbox\" ><label class=\"sk-toggleable__label\" for=\"f262b61f-2064-4de4-bac2-05214dd7ae33\">OrdinalEncoder</label><div class=\"sk-toggleable__content\"><pre>OrdinalEncoder(handle_unknown='use_encoded_value', unknown_value=-1)</pre></div></div></div></div></div></div><div class=\"sk-parallel-item\"><div class=\"sk-item\"><div class=\"sk-label-container\"><div class=\"sk-label sk-toggleable\"><input class=\"sk-toggleable__control sk-hidden--visually\" id=\"dd20e3a1-d422-401c-b55c-4748c901ce4e\" type=\"checkbox\" ><label class=\"sk-toggleable__label\" for=\"dd20e3a1-d422-401c-b55c-4748c901ce4e\">remainder</label><div class=\"sk-toggleable__content\"><pre></pre></div></div></div><div class=\"sk-serial\"><div class=\"sk-item\"><div class=\"sk-estimator sk-toggleable\"><input class=\"sk-toggleable__control sk-hidden--visually\" id=\"451eaa0e-5833-4d05-9e71-1ff5d170a40f\" type=\"checkbox\" ><label class=\"sk-toggleable__label\" for=\"451eaa0e-5833-4d05-9e71-1ff5d170a40f\">passthrough</label><div class=\"sk-toggleable__content\"><pre>passthrough</pre></div></div></div></div></div></div></div></div><div class=\"sk-item\"><div class=\"sk-estimator sk-toggleable\"><input class=\"sk-toggleable__control sk-hidden--visually\" id=\"b2015718-ac4c-4092-88c2-714405177184\" type=\"checkbox\" ><label class=\"sk-toggleable__label\" for=\"b2015718-ac4c-4092-88c2-714405177184\">HistGradientBoostingClassifier</label><div class=\"sk-toggleable__content\"><pre>HistGradientBoostingClassifier(max_leaf_nodes=4, random_state=42)</pre></div></div></div></div></div></div></div></div></div></div></div></div>"
            ],
            "text/plain": [
              "RandomizedSearchCV(cv=5,\n",
              "                   estimator=Pipeline(steps=[('preprocessor',\n",
              "                                              ColumnTransformer(remainder='passthrough',\n",
              "                                                                sparse_threshold=0,\n",
              "                                                                transformers=[('cat-preprocessor',\n",
              "                                                                               OrdinalEncoder(handle_unknown='use_encoded_value',\n",
              "                                                                                              unknown_value=-1),\n",
              "                                                                               ['workclass',\n",
              "                                                                                'education',\n",
              "                                                                                'marital-status',\n",
              "                                                                                'occupation',\n",
              "                                                                                'relationship',\n",
              "                                                                                'race',\n",
              "                                                                                'sex',\n",
              "                                                                                'native-country'])])),\n",
              "                                             ('classifier',\n",
              "                                              Hi...\n",
              "                   param_distributions={'classifier__l2_regularization': <scipy.stats._distn_infrastructure.rv_frozen object at 0x7ff8204a8b50>,\n",
              "                                        'classifier__learning_rate': <scipy.stats._distn_infrastructure.rv_frozen object at 0x7ff81f0962d0>,\n",
              "                                        'classifier__max_bins': <__main__.loguniform_int object at 0x7ff81cc8a5d0>,\n",
              "                                        'classifier__max_leaf_nodes': <__main__.loguniform_int object at 0x7ff81dcd2990>,\n",
              "                                        'classifier__min_samples_leaf': <__main__.loguniform_int object at 0x7ff81cc8acd0>})"
            ]
          },
          "metadata": {
            "tags": []
          },
          "execution_count": 44
        }
      ]
    },
    {
      "cell_type": "code",
      "metadata": {
        "colab": {
          "base_uri": "https://localhost:8080/"
        },
        "id": "URFythtkCPpR",
        "outputId": "7d640749-d2a6-4dd3-ece0-d12203a09dfb"
      },
      "source": [
        "# Then we can computer the accuracy score on the test set\n",
        "\n",
        "accuracy = model_random_search.score(data_test, target_test)\n",
        "print(f\"The test accuracy score of the best model is \"\n",
        "      f\"{accuracy:.2f}\")"
      ],
      "execution_count": null,
      "outputs": [
        {
          "output_type": "stream",
          "text": [
            "The test accuracy score of the best model is 0.86\n"
          ],
          "name": "stdout"
        }
      ]
    },
    {
      "cell_type": "code",
      "metadata": {
        "colab": {
          "base_uri": "https://localhost:8080/"
        },
        "id": "F6_1hac0ChBO",
        "outputId": "975dda3f-b9f7-4902-b634-220eec47621c"
      },
      "source": [
        "from pprint import pprint\n",
        "print(\"The best parameters are:\")\n",
        "pprint(model_random_search.best_params_)"
      ],
      "execution_count": null,
      "outputs": [
        {
          "output_type": "stream",
          "text": [
            "The best parameters are:\n",
            "{'classifier__l2_regularization': 0.004736063558768177,\n",
            " 'classifier__learning_rate': 0.29848378334708714,\n",
            " 'classifier__max_bins': 28,\n",
            " 'classifier__max_leaf_nodes': 44,\n",
            " 'classifier__min_samples_leaf': 41}\n"
          ],
          "name": "stdout"
        }
      ]
    },
    {
      "cell_type": "code",
      "metadata": {
        "id": "Mg7pmcjrCtcA"
      },
      "source": [
        "# inspect the results using the attributes cv_results as we previously did\n",
        "def shorten_param(param_name):\n",
        "    if \"__\" in param_name:\n",
        "        return param_name.rsplit(\"__\", 1)[1]\n",
        "    return param_name"
      ],
      "execution_count": null,
      "outputs": []
    },
    {
      "cell_type": "code",
      "metadata": {
        "colab": {
          "base_uri": "https://localhost:8080/",
          "height": 379
        },
        "id": "PD9OXDVJC_n4",
        "outputId": "3912ad7f-d051-4537-ccf0-f9a1e3c8e98c"
      },
      "source": [
        "# get the parameter names\n",
        "column_results = [\n",
        "    f\"param_{name}\" for name in param_distributions.keys()\n",
        "]\n",
        "column_results += [\"mean_test_score\", \"std_test_score\",\"rank_test_score\"]\n",
        "\n",
        "cv_results = pd.DataFrame(model_random_search.cv_results_)\n",
        "cv_results = cv_results[column_results].sort_values(\n",
        "    \"mean_test_score\", ascending=False\n",
        ")\n",
        "cv_results = cv_results.rename(shorten_param, axis=1)\n",
        "cv_results"
      ],
      "execution_count": null,
      "outputs": [
        {
          "output_type": "execute_result",
          "data": {
            "text/html": [
              "<div>\n",
              "<style scoped>\n",
              "    .dataframe tbody tr th:only-of-type {\n",
              "        vertical-align: middle;\n",
              "    }\n",
              "\n",
              "    .dataframe tbody tr th {\n",
              "        vertical-align: top;\n",
              "    }\n",
              "\n",
              "    .dataframe thead th {\n",
              "        text-align: right;\n",
              "    }\n",
              "</style>\n",
              "<table border=\"1\" class=\"dataframe\">\n",
              "  <thead>\n",
              "    <tr style=\"text-align: right;\">\n",
              "      <th></th>\n",
              "      <th>l2_regularization</th>\n",
              "      <th>learning_rate</th>\n",
              "      <th>max_leaf_nodes</th>\n",
              "      <th>min_samples_leaf</th>\n",
              "      <th>max_bins</th>\n",
              "      <th>mean_test_score</th>\n",
              "      <th>std_test_score</th>\n",
              "      <th>rank_test_score</th>\n",
              "    </tr>\n",
              "  </thead>\n",
              "  <tbody>\n",
              "    <tr>\n",
              "      <th>2</th>\n",
              "      <td>0.00473606</td>\n",
              "      <td>0.298484</td>\n",
              "      <td>44</td>\n",
              "      <td>41</td>\n",
              "      <td>28</td>\n",
              "      <td>0.853867</td>\n",
              "      <td>0.002367</td>\n",
              "      <td>1</td>\n",
              "    </tr>\n",
              "    <tr>\n",
              "      <th>9</th>\n",
              "      <td>0.000452638</td>\n",
              "      <td>0.0172258</td>\n",
              "      <td>12</td>\n",
              "      <td>20</td>\n",
              "      <td>8</td>\n",
              "      <td>0.831509</td>\n",
              "      <td>0.001536</td>\n",
              "      <td>2</td>\n",
              "    </tr>\n",
              "    <tr>\n",
              "      <th>5</th>\n",
              "      <td>0.181838</td>\n",
              "      <td>0.0221085</td>\n",
              "      <td>6</td>\n",
              "      <td>47</td>\n",
              "      <td>233</td>\n",
              "      <td>0.828943</td>\n",
              "      <td>0.005888</td>\n",
              "      <td>3</td>\n",
              "    </tr>\n",
              "    <tr>\n",
              "      <th>4</th>\n",
              "      <td>4.52452e-06</td>\n",
              "      <td>0.03083</td>\n",
              "      <td>3</td>\n",
              "      <td>4</td>\n",
              "      <td>183</td>\n",
              "      <td>0.817914</td>\n",
              "      <td>0.001842</td>\n",
              "      <td>4</td>\n",
              "    </tr>\n",
              "    <tr>\n",
              "      <th>1</th>\n",
              "      <td>45.4076</td>\n",
              "      <td>0.00880951</td>\n",
              "      <td>141</td>\n",
              "      <td>53</td>\n",
              "      <td>242</td>\n",
              "      <td>0.816358</td>\n",
              "      <td>0.002183</td>\n",
              "      <td>5</td>\n",
              "    </tr>\n",
              "    <tr>\n",
              "      <th>7</th>\n",
              "      <td>0.000446355</td>\n",
              "      <td>0.00510538</td>\n",
              "      <td>7</td>\n",
              "      <td>62</td>\n",
              "      <td>19</td>\n",
              "      <td>0.788267</td>\n",
              "      <td>0.002129</td>\n",
              "      <td>6</td>\n",
              "    </tr>\n",
              "    <tr>\n",
              "      <th>8</th>\n",
              "      <td>0.0010475</td>\n",
              "      <td>0.00593129</td>\n",
              "      <td>202</td>\n",
              "      <td>34</td>\n",
              "      <td>3</td>\n",
              "      <td>0.776037</td>\n",
              "      <td>0.001602</td>\n",
              "      <td>7</td>\n",
              "    </tr>\n",
              "    <tr>\n",
              "      <th>6</th>\n",
              "      <td>0.0147932</td>\n",
              "      <td>0.00335512</td>\n",
              "      <td>10</td>\n",
              "      <td>2</td>\n",
              "      <td>103</td>\n",
              "      <td>0.758947</td>\n",
              "      <td>0.000013</td>\n",
              "      <td>8</td>\n",
              "    </tr>\n",
              "    <tr>\n",
              "      <th>0</th>\n",
              "      <td>0.0107179</td>\n",
              "      <td>2.42611</td>\n",
              "      <td>149</td>\n",
              "      <td>79</td>\n",
              "      <td>10</td>\n",
              "      <td>0.743086</td>\n",
              "      <td>0.038584</td>\n",
              "      <td>9</td>\n",
              "    </tr>\n",
              "    <tr>\n",
              "      <th>3</th>\n",
              "      <td>60.5169</td>\n",
              "      <td>4.78193</td>\n",
              "      <td>23</td>\n",
              "      <td>82</td>\n",
              "      <td>101</td>\n",
              "      <td>0.741995</td>\n",
              "      <td>0.019251</td>\n",
              "      <td>10</td>\n",
              "    </tr>\n",
              "  </tbody>\n",
              "</table>\n",
              "</div>"
            ],
            "text/plain": [
              "  l2_regularization learning_rate  ... std_test_score rank_test_score\n",
              "2        0.00473606      0.298484  ...       0.002367               1\n",
              "9       0.000452638     0.0172258  ...       0.001536               2\n",
              "5          0.181838     0.0221085  ...       0.005888               3\n",
              "4       4.52452e-06       0.03083  ...       0.001842               4\n",
              "1           45.4076    0.00880951  ...       0.002183               5\n",
              "7       0.000446355    0.00510538  ...       0.002129               6\n",
              "8         0.0010475    0.00593129  ...       0.001602               7\n",
              "6         0.0147932    0.00335512  ...       0.000013               8\n",
              "0         0.0107179       2.42611  ...       0.038584               9\n",
              "3           60.5169       4.78193  ...       0.019251              10\n",
              "\n",
              "[10 rows x 8 columns]"
            ]
          },
          "metadata": {
            "tags": []
          },
          "execution_count": 48
        }
      ]
    },
    {
      "cell_type": "code",
      "metadata": {
        "id": "0MWSxfMMDlkH",
        "colab": {
          "base_uri": "https://localhost:8080/",
          "height": 439
        },
        "outputId": "4faac3d3-a50e-477c-d5d4-43a81ad6d290"
      },
      "source": [
        "cv_results = pd.read_csv(\"/content/drive/MyDrive/Colab Notebooks/scikit-learn-mooc/scikit-learn-mooc-master/figures/randomized_search_results.csv\",\n",
        "                         index_col=0)\n",
        "(cv_results[column_results].rename(\n",
        "    shorten_param, axis=1).sort_values(\"mean_test_score\"))"
      ],
      "execution_count": null,
      "outputs": [
        {
          "output_type": "execute_result",
          "data": {
            "text/html": [
              "<div>\n",
              "<style scoped>\n",
              "    .dataframe tbody tr th:only-of-type {\n",
              "        vertical-align: middle;\n",
              "    }\n",
              "\n",
              "    .dataframe tbody tr th {\n",
              "        vertical-align: top;\n",
              "    }\n",
              "\n",
              "    .dataframe thead th {\n",
              "        text-align: right;\n",
              "    }\n",
              "</style>\n",
              "<table border=\"1\" class=\"dataframe\">\n",
              "  <thead>\n",
              "    <tr style=\"text-align: right;\">\n",
              "      <th></th>\n",
              "      <th>l2_regularization</th>\n",
              "      <th>learning_rate</th>\n",
              "      <th>max_leaf_nodes</th>\n",
              "      <th>min_samples_leaf</th>\n",
              "      <th>max_bins</th>\n",
              "      <th>mean_test_score</th>\n",
              "      <th>std_test_score</th>\n",
              "      <th>rank_test_score</th>\n",
              "    </tr>\n",
              "  </thead>\n",
              "  <tbody>\n",
              "    <tr>\n",
              "      <th>357</th>\n",
              "      <td>0.000026</td>\n",
              "      <td>3.075318</td>\n",
              "      <td>3</td>\n",
              "      <td>68</td>\n",
              "      <td>31</td>\n",
              "      <td>0.241053</td>\n",
              "      <td>0.000013</td>\n",
              "      <td>500</td>\n",
              "    </tr>\n",
              "    <tr>\n",
              "      <th>200</th>\n",
              "      <td>0.000444</td>\n",
              "      <td>6.236325</td>\n",
              "      <td>2</td>\n",
              "      <td>2</td>\n",
              "      <td>30</td>\n",
              "      <td>0.344629</td>\n",
              "      <td>0.207156</td>\n",
              "      <td>499</td>\n",
              "    </tr>\n",
              "    <tr>\n",
              "      <th>413</th>\n",
              "      <td>0.000001</td>\n",
              "      <td>8.828574</td>\n",
              "      <td>64</td>\n",
              "      <td>1</td>\n",
              "      <td>144</td>\n",
              "      <td>0.448205</td>\n",
              "      <td>0.253714</td>\n",
              "      <td>497</td>\n",
              "    </tr>\n",
              "    <tr>\n",
              "      <th>344</th>\n",
              "      <td>0.000003</td>\n",
              "      <td>7.091079</td>\n",
              "      <td>5</td>\n",
              "      <td>1</td>\n",
              "      <td>95</td>\n",
              "      <td>0.448205</td>\n",
              "      <td>0.253714</td>\n",
              "      <td>497</td>\n",
              "    </tr>\n",
              "    <tr>\n",
              "      <th>232</th>\n",
              "      <td>0.000097</td>\n",
              "      <td>9.976823</td>\n",
              "      <td>28</td>\n",
              "      <td>5</td>\n",
              "      <td>3</td>\n",
              "      <td>0.448205</td>\n",
              "      <td>0.253714</td>\n",
              "      <td>496</td>\n",
              "    </tr>\n",
              "    <tr>\n",
              "      <th>...</th>\n",
              "      <td>...</td>\n",
              "      <td>...</td>\n",
              "      <td>...</td>\n",
              "      <td>...</td>\n",
              "      <td>...</td>\n",
              "      <td>...</td>\n",
              "      <td>...</td>\n",
              "      <td>...</td>\n",
              "    </tr>\n",
              "    <tr>\n",
              "      <th>327</th>\n",
              "      <td>4.733808</td>\n",
              "      <td>0.036786</td>\n",
              "      <td>61</td>\n",
              "      <td>5</td>\n",
              "      <td>241</td>\n",
              "      <td>0.869673</td>\n",
              "      <td>0.002417</td>\n",
              "      <td>5</td>\n",
              "    </tr>\n",
              "    <tr>\n",
              "      <th>328</th>\n",
              "      <td>2.036232</td>\n",
              "      <td>0.224702</td>\n",
              "      <td>28</td>\n",
              "      <td>49</td>\n",
              "      <td>236</td>\n",
              "      <td>0.869837</td>\n",
              "      <td>0.000808</td>\n",
              "      <td>4</td>\n",
              "    </tr>\n",
              "    <tr>\n",
              "      <th>21</th>\n",
              "      <td>4.994918</td>\n",
              "      <td>0.077047</td>\n",
              "      <td>53</td>\n",
              "      <td>7</td>\n",
              "      <td>192</td>\n",
              "      <td>0.870793</td>\n",
              "      <td>0.001993</td>\n",
              "      <td>3</td>\n",
              "    </tr>\n",
              "    <tr>\n",
              "      <th>343</th>\n",
              "      <td>0.000404</td>\n",
              "      <td>0.244503</td>\n",
              "      <td>15</td>\n",
              "      <td>15</td>\n",
              "      <td>229</td>\n",
              "      <td>0.871339</td>\n",
              "      <td>0.002741</td>\n",
              "      <td>2</td>\n",
              "    </tr>\n",
              "    <tr>\n",
              "      <th>208</th>\n",
              "      <td>0.011775</td>\n",
              "      <td>0.076653</td>\n",
              "      <td>24</td>\n",
              "      <td>2</td>\n",
              "      <td>155</td>\n",
              "      <td>0.871393</td>\n",
              "      <td>0.001588</td>\n",
              "      <td>1</td>\n",
              "    </tr>\n",
              "  </tbody>\n",
              "</table>\n",
              "<p>500 rows × 8 columns</p>\n",
              "</div>"
            ],
            "text/plain": [
              "     l2_regularization  learning_rate  ...  std_test_score  rank_test_score\n",
              "357           0.000026       3.075318  ...        0.000013              500\n",
              "200           0.000444       6.236325  ...        0.207156              499\n",
              "413           0.000001       8.828574  ...        0.253714              497\n",
              "344           0.000003       7.091079  ...        0.253714              497\n",
              "232           0.000097       9.976823  ...        0.253714              496\n",
              "..                 ...            ...  ...             ...              ...\n",
              "327           4.733808       0.036786  ...        0.002417                5\n",
              "328           2.036232       0.224702  ...        0.000808                4\n",
              "21            4.994918       0.077047  ...        0.001993                3\n",
              "343           0.000404       0.244503  ...        0.002741                2\n",
              "208           0.011775       0.076653  ...        0.001588                1\n",
              "\n",
              "[500 rows x 8 columns]"
            ]
          },
          "metadata": {
            "tags": []
          },
          "execution_count": 50
        }
      ]
    },
    {
      "cell_type": "code",
      "metadata": {
        "colab": {
          "base_uri": "https://localhost:8080/",
          "height": 542
        },
        "id": "EIgaqQaOEd2w",
        "outputId": "e591ca54-904a-41cd-8f4c-859cf7222fa6"
      },
      "source": [
        "import numpy as np\n",
        "import plotly.express as px\n",
        "\n",
        "fig = px.parallel_coordinates(\n",
        "    cv_results.rename(shorten_param, axis=1).apply({\n",
        "        \"learning_rate\": np.log10,\n",
        "        \"max_leaf_nodes\": np.log2,\n",
        "        \"max_bins\": np.log2,\n",
        "        \"min_samples_leaf\": np.log10,\n",
        "        \"l2_regularization\": np.log10,\n",
        "        \"mean_test_score\": lambda x: x}),\n",
        "    color=\"mean_test_score\",\n",
        "    color_continuous_scale=px.colors.sequential.Viridis,\n",
        ")\n",
        "fig.show()"
      ],
      "execution_count": null,
      "outputs": [
        {
          "output_type": "display_data",
          "data": {
            "text/html": [
              "<html>\n",
              "<head><meta charset=\"utf-8\" /></head>\n",
              "<body>\n",
              "    <div>\n",
              "            <script src=\"https://cdnjs.cloudflare.com/ajax/libs/mathjax/2.7.5/MathJax.js?config=TeX-AMS-MML_SVG\"></script><script type=\"text/javascript\">if (window.MathJax) {MathJax.Hub.Config({SVG: {font: \"STIX-Web\"}});}</script>\n",
              "                <script type=\"text/javascript\">window.PlotlyConfig = {MathJaxConfig: 'local'};</script>\n",
              "        <script src=\"https://cdn.plot.ly/plotly-latest.min.js\"></script>    \n",
              "            <div id=\"b1a95634-1f40-4424-8cc0-2f81f895272d\" class=\"plotly-graph-div\" style=\"height:525px; width:100%;\"></div>\n",
              "            <script type=\"text/javascript\">\n",
              "                \n",
              "                    window.PLOTLYENV=window.PLOTLYENV || {};\n",
              "                    \n",
              "                if (document.getElementById(\"b1a95634-1f40-4424-8cc0-2f81f895272d\")) {\n",
              "                    Plotly.newPlot(\n",
              "                        'b1a95634-1f40-4424-8cc0-2f81f895272d',\n",
              "                        [{\"dimensions\": [{\"label\": \"learning_rate\", \"values\": [-0.2595781951293343, -2.940675837596371, -2.369159728958732, -2.88453485761083, 0.7329870491877641, 0.2983046092805795, 0.5548569578245499, 0.33555983063809386, -0.686708835115216, -2.572870871572566, -1.6744133774307115, -0.42397615518455334, 0.8020929981107696, -1.251943943652591, 0.5316785497439898, -2.5027136892054846, -0.15829490353407974, -2.2292362288789365, -1.104156402277492, -2.2621942159399344, -1.3803933064246605, -1.113243543391706, -2.126969402719152, 0.5272500424575628, -2.0508649757917716, 0.7640162382545799, -1.5450673866012914, -0.8664751801081518, -0.11378287149568458, -0.9674805062568956, 0.6714092969754278, 0.5221675732189461, -0.9207772602951074, -2.9972108230084324, -0.6331752161225435, -0.26777873315563067, -2.4964235743377574, -2.7623146438184683, -2.290934346475262, -2.0056333921241847, -0.7509468749538888, -2.024531632848069, -0.9527541739407162, -0.6350720229821465, 0.5039668725099286, -1.1953425850496422, -0.8278258904106357, -1.6149092150039808, -1.7050543853203157, 0.8684292704594809, -2.1972496783517763, -0.059924436071205886, 0.9868379844080767, -2.331928543945373, 0.1362300808596091, 0.7111224902322464, -2.2192856976015483, 0.6815664897297933, 0.5234013969636965, -1.450928963121446, 0.5631888404618968, -2.569842234704439, -2.3672951213128646, -2.8279448214900156, -0.7376351766438147, -0.6142740988180662, -1.3729748169323202, -0.4641858298951105, -0.10198506597505563, -0.571717178472003, -0.5820140729090038, -0.21628665183337856, -2.157054628169675, -0.6253573617827728, -2.89739210927367, -0.22858863860033235, -0.5027245682114554, -2.977722530926816, -0.26342893200649486, -1.9699156440415724, -1.0127512843295423, -2.5288212937745147, -1.8928649660788754, -2.9967515454409686, 0.8254943525927452, 0.27593617858074093, -2.03968915360755, -1.6416629609108497, 0.5778657682616428, -2.982876774981418, -0.3452841579128365, -2.9195366651106274, -1.806587546827596, -2.8829264330859554, -1.7954981070522185, -2.8427283857705574, 0.3400136147919248, -2.4261457706983496, 0.9019119101461754, -1.8126918727600447, 0.7269860430843247, -1.9543926354114896, -2.091475173694103, -0.23532455617425052, -1.013773816551081, -0.49406850682630793, -2.6223408695386796, -2.9869358549812697, -2.407142778077177, 0.5778944046948142, -1.7260949832245047, 0.07617734413906702, -0.6830617703231066, -0.7785589643731572, -2.387746715792704, -0.49765875311108404, -1.993143694181787, -1.0549721193331658, -0.16867137811816416, -2.067619512555646, 0.1625476471236538, -0.6811051367314556, -1.033144790954561, 0.5385530667431349, 0.21290853258177658, -0.3617283507784492, 0.9728884713061225, -0.574388095702488, -1.6828382282110415, -2.92304569272864, 0.48790949398671785, 0.23497416747488217, -1.366166610321462, -2.2786903503307108, 0.943989970873992, 0.9517825548982595, -2.7735047520087925, -2.6389890869411663, -0.4074889671841264, -2.380590275076169, 0.18801705350590625, -2.331186607994521, -2.1124358686824687, -0.23294534333594186, -1.4104290336283283, -2.6823650381356843, -0.13552056556410538, -2.215153906457735, -0.6392499167325946, 0.7158616074000768, -2.53545583576139, 0.14958095357325132, 0.9386757653126838, -0.216914695326369, -0.3755893809451716, -0.6542251320297123, 0.2914909598302347, -1.7947769295771505, -2.43910997128511, -1.0247913589420081, -0.3856128181869884, -2.044647573191102, -0.9708910808880842, -0.6772710263226256, -1.3270596053728192, 0.19621261833971015, -0.3394937547563792, 0.6923543995460961, -2.2140393786262798, -1.677781858427228, -0.07975458447210347, -2.9465425349979455, -2.0613014897079465, 0.38390753989779686, -2.8212890364904335, -2.926208567768631, -0.022349164960157278, -0.30507051149543646, -1.5258045797085962, 0.6277275787793015, -2.5037069610732763, -0.08830307256367083, -0.9959860119904431, 0.6085355130539387, -0.07453237062554893, 0.13365009178239312, -2.950238040184685, -0.07496914891681476, -1.1932162010580067, -1.3157391653600738, -2.4746572933164974, 0.19209058449846725, -0.8352724459802809, 0.7280300027585414, -2.062118983326392, -0.6380873423249511, -1.1162806088930748, 0.2051826679870796, 0.2716310568307434, 0.4325192833847585, 0.7949287283610547, -2.750335640431575, -0.5049799519156961, -1.5443342425782172, -1.660318115406163, -0.12478197102045208, -2.615683604387317, 0.3221506536204322, -1.115468778843912, -2.293829216128953, 0.3506044542138058, 0.9221914954820294, -0.5891681688774794, -0.07778000891895859, -2.6707152997754187, -0.6767870369652282, -0.8147678711585109, -0.24743718241949603, -1.4177162600617508, 0.3923659310689551, -0.9896071331663348, -0.5785982126723903, -2.013556114145162, 0.1906952441896395, -2.2488023733104043, 0.9864567134266787, 0.46860611916245365, 0.41282435520654387, -1.3623866731245804, -0.023620240260366805, -0.8575685764574619, -1.0703932842585706, 0.9989922463661269, -2.021713294992165, -0.9412904464048237, 0.005806720101103885, 0.8537125811919135, 0.4201562543908151, 0.6648714156170695, -0.5098647610026372, 0.32565516571956016, -2.3258765936140513, -0.34295041572972446, 0.4758155016663239, 0.42581729402206303, 0.0447361381921443, 0.6871758540917687, -1.8470212115362963, -2.980012722205905, 0.1120622687254249, -0.7385091756960902, -2.3349159529952495, -0.9334491631900034, 0.29958847185310183, -2.3876192650587225, -0.14527536869397564, -0.6229002069662578, -2.128957976386775, 0.8095194950770059, -2.2979772454964325, -2.2297325967696824, 0.026386038455113874, 0.09582737418183254, 0.39529389203921594, 0.5574807127781858, -0.8163382271505708, -2.2349183505089947, 0.2634659290759234, 0.9191916448362186, 0.7264160046763256, -1.1541755543173653, -1.6530030102277427, 0.7005936209731911, -2.2318896426536603, -1.3763755429192206, 0.3947512302715146, 0.5705627478488919, -1.3540682300218516, 0.2975555982751458, -1.1421977301684074, -0.2520784883238506, -0.3122977581294011, -0.5993676058974201, -1.414646700831466, -0.8151255547393013, 0.23160221472264156, -1.6427921486521146, -1.034711110958109, -2.958102958178784, -2.843424306406283, -2.017042366042574, 0.6371680362924792, -2.9694620618011234, 0.34736245203357896, -2.023500661493724, -0.5976210779507518, -1.004379030215694, -2.633085691352211, -2.705049693659505, -0.34025248190510243, -0.666661710752591, 0.7736403002558481, -0.7391307047408127, -2.0553372732158, -1.6477234073774585, 0.1265617648055017, -0.9550866490985003, -1.9014239291079034, 0.15683280111714024, -1.01079180603138, -0.7512885072650999, 0.9755691585716635, -0.7003235037320001, -1.5032966735571494, -1.7344539536083126, -2.256003056160692, -1.1935420850192795, -1.3753491462554963, -2.569543195656894, -0.23072083735969515, -2.737957131484694, -1.7102557464750836, -2.2322457876651924, 0.9861941971270552, -1.8877018465524964, 0.09439008888290164, -0.9512417267882758, -1.4343121845326974, -0.6483933890533198, -1.586536498745096, -2.0283567942296554, -1.9598176181073628, -2.9257614168116404, -1.4908742012715939, 0.6231605173881318, -0.5673073334432863, -0.6029916017558756, -0.1401362947799987, -1.5067927050071739, 0.15433024879439822, -1.587582721443526, -0.5727980096427568, -2.7770176743534454, -0.6117161839891713, 0.8507123481311054, -0.18788379380402453, 0.41482940318561834, -0.45964301775509264, -0.4188215988538312, -1.4809350858225598, -2.2040627015467, -0.4894056452398461, -2.418911919454265, 0.8467301789174599, -0.7446012734342693, -2.0359182937252145, -2.2321174573248372, 0.48789007564864084, -2.1668917953320372, -0.7330932176440532, -0.34283677908238586, -0.018964053980859808, -2.2214484536996464, -1.634963753370044, -0.34635980322546617, 0.49539329076529104, 0.17975579573490785, -2.316921610120978, -0.7669441998505424, 0.30925763445725446, -2.5756861948188288, -1.6159667412497112, 0.062268451604119035, -1.5567186880044672, -1.8212560828365452, -2.7234996146053194, -2.5889481524573674, -0.046222922740853725, -0.11685272224746462, -1.1303870221817092, -1.3353492612379827, 0.08437288375768932, -0.20457863275151925, -2.6611354532887117, -1.4006560228117926, -2.446273869864684, -0.8852342323540228, -2.2695357094485558, -1.7522239294456297, -2.160084475206308, 0.9431818654967882, -2.029304663263264, -1.9211377704636403, 0.05145563535284082, -2.4985937203425697, -0.7077443395600773, 0.6126509504822114, -1.6851951875549793, -2.858914841121299, 0.9078646631444989, -2.130199455828023, -1.426956103260153, -2.8182931499016113, 0.22962595384018153, 0.9386187454249142, -0.9560211550502551, -1.93620410039542, 0.8288585700209392, -2.976272176570748, -1.8283942859070672, -0.04059881229611715, -0.02078669169428567, -2.6455339059737386, 0.945890550043547, -0.4568227609199682, -0.19788345818068534, -0.12985873363739886, 0.2306155063098521, 0.0772891748400016, -0.16279548969617202, -0.0318505408285366, -2.033701591724046, -1.9291896210313273, -1.525143775118011, -0.008357073823396437, -1.9633872471905276, -1.7389041337042137, -0.4050497442306153, -0.9478557410894725, -2.480804645985081, 0.6507854346834954, -2.8780059068754933, -0.9914433348112072, -0.46342657969549883, -0.7914550797719984, 0.9186432850757464, 0.5698339107019339, -0.9224888662747119, -2.0460011334279846, -0.962040365224345, -0.15244628021119896, -2.8716613388956604, -1.3010250277389828, -2.5767991613085166, -1.440820685076281, -0.7097882504632499, 0.41963876639976583, -2.05036282912279, -1.9538810349191453, 0.04030067674122727, -0.010715182377102575, -2.945921945043922, 0.42962361428506135, -2.134521306285257, 0.2633742989276975, -2.5163695787591376, 0.11113764726697588, -1.4832629146922698, -2.2135692312587056, 0.06971104354726741, -2.6316480611662634, -2.7441937482761225, -0.3748567476313957, -0.8336859474128331, -0.4984661011015268, -0.4032962256879555, -1.075282082881666, -2.903044713433388, -0.3905017951927556, -2.6761276573426764, -2.368571562897515, -0.5616551674111765, 0.6198652724557174, 0.8631374057371706, 0.6714556770887685, -1.4785532441056168, -1.0551434177109749, -2.9453498366811885, -1.9029827329802074, -2.697360872318744, 0.3427774437233197, -2.368976628253939, -1.8857146414948236, -1.3023251818500765, -0.8583415083167161, -2.650170925622028, -1.2229648090028586, 0.18502752292757887, -1.8741775860885843, -2.855878440969028, -2.279026223719677, -1.928814409113924, -2.8108809437074416, -0.5973118536187103, 0.5296988590246463, -0.4384539385731978, -2.9130137173865887, -1.3525395670730131, -0.540752282686964, -2.291446959605108]}, {\"label\": \"max_leaf_nodes\", \"values\": [4.459431618637297, 4.247927513443585, 4.087462841250339, 7.357552004618084, 3.0, 7.459431618637297, 2.807354922057604, 4.857980995127572, 5.857980995127572, 6.108524456778169, 5.554588851677638, 1.0, 4.857980995127572, 6.768184324776926, 3.321928094887362, 7.60733031374961, 7.592457037268081, 4.169925001442312, 3.584962500721156, 5.321928094887363, 1.0, 5.727920454563199, 2.321928094887362, 5.700439718141092, 4.169925001442312, 3.700439718141092, 5.930737337562887, 4.700439718141092, 5.584962500721156, 2.807354922057604, 3.700439718141092, 6.044394119358453, 5.285402218862249, 4.700439718141092, 1.584962500721156, 4.643856189774724, 2.0, 2.321928094887362, 6.149747119504682, 4.807354922057604, 5.321928094887363, 4.700439718141092, 1.0, 1.0, 2.321928094887362, 6.459431618637297, 3.700439718141092, 6.954196310386875, 6.357552004618084, 5.882643049361842, 6.539158811108031, 2.584962500721156, 3.169925001442312, 7.562242424221073, 7.149747119504682, 6.392317422778761, 2.584962500721156, 3.700439718141092, 5.857980995127572, 2.584962500721156, 5.491853096329675, 6.303780748177103, 4.700439718141092, 2.321928094887362, 3.0, 5.554588851677638, 2.0, 2.0, 5.247927513443585, 4.392317422778761, 6.507794640198696, 3.584962500721156, 7.857980995127572, 3.321928094887362, 6.392317422778761, 6.857980995127572, 3.4594316186372973, 6.832890014164741, 5.392317422778761, 6.599912842187128, 7.912889336229962, 4.857980995127572, 3.4594316186372973, 1.0, 5.700439718141092, 7.044394119358453, 3.807354922057604, 4.169925001442312, 4.169925001442312, 5.044394119358453, 6.882643049361842, 5.930737337562887, 2.0, 4.700439718141092, 5.044394119358453, 3.321928094887362, 7.321928094887363, 2.584962500721156, 1.584962500721156, 3.584962500721156, 7.577428828035749, 4.807354922057604, 6.754887502163468, 4.087462841250339, 6.169925001442312, 3.700439718141092, 7.357552004618084, 2.584962500721156, 2.321928094887362, 2.0, 4.169925001442312, 4.857980995127572, 6.459431618637297, 7.285402218862249, 2.584962500721156, 5.285402218862249, 3.0, 5.930737337562887, 4.584962500721156, 3.584962500721156, 7.366322214245816, 3.169925001442312, 7.614709844115208, 1.584962500721156, 3.0, 1.584962500721156, 4.392317422778761, 3.9068905956085187, 1.584962500721156, 7.531381460516312, 6.285402218862249, 5.491853096329675, 6.539158811108031, 2.807354922057604, 3.0, 6.930737337562887, 7.930737337562887, 1.584962500721156, 3.0, 1.0, 4.523561956057013, 7.2384047393250786, 1.584962500721156, 3.321928094887362, 4.954196310386875, 2.321928094887362, 4.169925001442312, 7.7073591320808825, 7.523561956057013, 5.523561956057013, 7.882643049361842, 4.169925001442312, 3.0, 4.0, 3.807354922057604, 5.087462841250339, 2.0, 3.169925001442312, 6.459431618637297, 7.826548487290915, 1.584962500721156, 7.257387842692652, 5.247927513443585, 4.857980995127572, 1.584962500721156, 2.807354922057604, 1.0, 6.442943495848728, 5.727920454563199, 1.0, 5.247927513443585, 7.066089190457772, 1.584962500721156, 5.906890595608519, 2.807354922057604, 4.087462841250339, 7.011227255423254, 5.584962500721156, 6.108524456778169, 2.0, 3.9068905956085187, 7.6653359171851765, 3.0, 5.247927513443585, 1.584962500721156, 6.7414669864011465, 5.807354922057604, 5.882643049361842, 5.459431618637297, 2.584962500721156, 5.426264754702098, 5.584962500721156, 5.584962500721156, 5.78135971352466, 3.0, 1.584962500721156, 2.321928094887362, 2.807354922057604, 3.807354922057604, 5.614709844115208, 1.0, 5.977279923499917, 1.584962500721156, 4.321928094887363, 5.882643049361842, 6.169925001442312, 6.169925001442312, 3.700439718141092, 4.584962500721156, 1.584962500721156, 1.584962500721156, 5.321928094887363, 6.321928094887363, 1.0, 3.321928094887362, 3.321928094887362, 2.807354922057604, 1.0, 6.845490050944375, 5.285402218862249, 1.584962500721156, 2.807354922057604, 3.0, 3.4594316186372973, 3.4594316186372973, 3.4594316186372973, 4.0, 1.584962500721156, 4.584962500721156, 2.0, 3.0, 7.693486957499325, 4.807354922057604, 2.0, 2.584962500721156, 5.930737337562887, 1.584962500721156, 5.321928094887363, 6.22881869049588, 4.459431618637297, 5.882643049361842, 6.714245517666122, 7.960001932068081, 3.0, 4.392317422778761, 5.426264754702098, 1.0, 3.700439718141092, 3.169925001442312, 2.584962500721156, 2.0, 1.584962500721156, 3.700439718141092, 5.044394119358453, 2.0, 1.584962500721156, 7.129283016944966, 4.584962500721156, 3.584962500721156, 6.442943495848728, 1.0, 3.321928094887362, 4.169925001442312, 3.321928094887362, 4.754887502163468, 3.169925001442312, 4.584962500721156, 3.700439718141092, 4.0, 1.0, 7.714245517666122, 7.219168520462161, 5.643856189774724, 6.78135971352466, 2.321928094887362, 5.491853096329675, 6.442943495848728, 7.417852514885898, 5.614709844115208, 3.584962500721156, 7.285402218862249, 3.807354922057604, 5.832890014164741, 2.321928094887362, 4.584962500721156, 7.7481928495894605, 1.584962500721156, 6.442943495848728, 3.4594316186372973, 7.108524456778169, 2.807354922057604, 7.1799090900149345, 6.569855608330948, 4.700439718141092, 6.066089190457772, 6.108524456778169, 3.9068905956085187, 2.584962500721156, 2.0, 6.870364719583405, 1.584962500721156, 2.584962500721156, 6.599912842187128, 3.584962500721156, 3.169925001442312, 7.098032082960526, 2.0, 4.584962500721156, 7.754887502163468, 6.339850002884624, 7.0, 2.0, 4.954196310386875, 4.700439718141092, 2.584962500721156, 1.0, 3.0, 2.0, 6.149747119504682, 3.169925001442312, 5.832890014164741, 3.700439718141092, 7.022367813028454, 5.129283016944966, 7.577428828035749, 5.044394119358453, 4.523561956057013, 5.930737337562887, 4.807354922057604, 2.321928094887362, 6.321928094887363, 5.954196310386875, 5.087462841250339, 1.0, 7.6865005271832185, 2.321928094887362, 1.584962500721156, 2.0, 5.491853096329675, 7.066089190457772, 2.0, 2.807354922057604, 3.700439718141092, 3.9068905956085187, 2.321928094887362, 1.0, 2.584962500721156, 7.169925001442312, 5.247927513443585, 4.321928094887363, 5.044394119358453, 4.459431618637297, 3.584962500721156, 1.584962500721156, 5.491853096329675, 1.0, 5.700439718141092, 1.584962500721156, 5.459431618637297, 2.807354922057604, 2.584962500721156, 2.584962500721156, 4.807354922057604, 2.0, 1.584962500721156, 5.754887502163468, 6.409390936137702, 4.0, 7.3750394313469245, 6.554588851677638, 4.906890595608519, 4.807354922057604, 6.930737337562887, 5.491853096329675, 3.169925001442312, 3.321928094887362, 4.247927513443585, 6.3750394313469245, 3.169925001442312, 7.3750394313469245, 1.584962500721156, 4.954196310386875, 6.266786540694901, 4.392317422778761, 5.491853096329675, 6.22881869049588, 5.129283016944966, 3.4594316186372973, 6.672425341971495, 1.0, 1.0, 7.98299357469431, 2.0, 5.0, 1.0, 3.700439718141092, 4.0, 3.4594316186372973, 5.906890595608519, 2.321928094887362, 7.727920454563199, 7.392317422778761, 3.169925001442312, 4.954196310386875, 4.459431618637297, 1.0, 4.700439718141092, 2.0, 2.0, 4.247927513443585, 6.882643049361842, 6.9886846867721655, 2.321928094887362, 6.0, 5.727920454563199, 1.0, 1.0, 1.584962500721156, 2.0, 1.0, 7.392317422778761, 7.523561956057013, 4.087462841250339, 3.0, 2.0, 6.870364719583405, 1.0, 6.523561956057013, 3.4594316186372973, 6.599912842187128, 4.247927513443585, 7.499845887083206, 4.857980995127572, 4.087462841250339, 2.807354922057604, 4.321928094887363, 1.584962500721156, 1.584962500721156, 3.321928094887362, 5.321928094887363, 7.727920454563199, 2.0, 4.087462841250339, 4.643856189774724, 1.0, 7.066089190457772, 4.0, 7.900866807980749, 4.906890595608519, 4.584962500721156, 1.0, 2.321928094887362, 7.22881869049588, 6.768184324776926, 7.199672344836364, 4.523561956057013, 7.03342300153745, 7.794415866350106, 5.0, 2.321928094887362, 5.129283016944966, 7.076815597050831, 1.584962500721156, 2.321928094887362, 7.2384047393250786, 2.0, 2.321928094887362, 1.584962500721156, 5.954196310386875, 4.459431618637297, 7.20945336562895, 2.321928094887362, 5.523561956057013, 2.0, 1.0, 5.672425341971495, 3.584962500721156, 7.199672344836364, 7.467605550082998, 4.0, 4.954196310386875, 6.9886846867721655, 1.584962500721156, 7.475733430966398, 2.321928094887362, 3.9068905956085187, 5.857980995127572, 5.754887502163468, 3.0, 3.584962500721156, 3.0, 2.321928094887362, 7.592457037268081, 2.807354922057604, 5.169925001442312, 4.087462841250339, 4.087462841250339, 2.807354922057604, 7.189824558880018, 3.0]}, {\"label\": \"max_bins\", \"values\": [6.426264754702098, 5.906890595608519, 7.2384047393250786, 4.169925001442312, 6.599912842187128, 1.0, 3.4594316186372973, 1.0, 4.0, 2.321928094887362, 3.169925001442312, 6.303780748177103, 3.584962500721156, 2.0, 6.807354922057604, 5.357552004618084, 6.044394119358453, 2.321928094887362, 1.0, 7.459431618637297, 3.0, 7.584962500721156, 3.0, 2.584962500721156, 3.9068905956085187, 1.584962500721156, 4.700439718141092, 4.754887502163468, 4.247927513443585, 5.044394119358453, 4.392317422778761, 5.930737337562887, 4.459431618637297, 2.0, 3.584962500721156, 3.700439718141092, 3.584962500721156, 1.584962500721156, 2.0, 6.700439718141092, 4.169925001442312, 1.584962500721156, 7.483815777264256, 7.912889336229962, 2.0, 5.491853096329675, 3.9068905956085187, 5.491853096329675, 4.643856189774724, 5.700439718141092, 2.584962500721156, 2.321928094887362, 7.066089190457772, 6.857980995127572, 6.189824558880018, 6.459431618637297, 4.392317422778761, 5.169925001442312, 1.0, 1.584962500721156, 2.807354922057604, 5.285402218862249, 4.857980995127572, 4.169925001442312, 2.321928094887362, 3.0, 5.832890014164741, 7.159871336778389, 3.9068905956085187, 6.409390936137702, 4.247927513443585, 5.247927513443585, 3.169925001442312, 3.584962500721156, 5.321928094887363, 2.321928094887362, 5.727920454563199, 5.643856189774724, 7.965784284662087, 7.139551352398794, 6.643856189774724, 2.0, 1.0, 6.857980995127572, 2.321928094887362, 7.592457037268081, 4.643856189774724, 2.584962500721156, 2.321928094887362, 4.321928094887363, 3.169925001442312, 4.459431618637297, 4.523561956057013, 5.129283016944966, 6.0, 4.392317422778761, 7.774787059601174, 3.807354922057604, 1.0, 6.882643049361842, 1.584962500721156, 5.20945336562895, 4.087462841250339, 5.672425341971495, 2.807354922057604, 1.584962500721156, 5.169925001442312, 2.321928094887362, 2.0, 5.044394119358453, 5.0, 5.247927513443585, 1.0, 6.0, 6.882643049361842, 3.700439718141092, 6.169925001442312, 5.129283016944966, 3.321928094887362, 4.247927513443585, 7.303780748177103, 7.442943495848728, 7.924812503605781, 7.022367813028454, 4.247927513443585, 6.491853096329675, 6.845490050944375, 6.108524456778169, 7.700439718141092, 2.0, 6.20945336562895, 7.03342300153745, 1.0, 6.20945336562895, 4.754887502163468, 6.977279923499917, 5.584962500721156, 7.882643049361842, 1.584962500721156, 2.0, 3.584962500721156, 2.0, 5.459431618637297, 4.807354922057604, 2.807354922057604, 6.189824558880018, 7.515699838284043, 6.539158811108031, 3.0, 3.700439718141092, 2.321928094887362, 5.643856189774724, 7.076815597050831, 5.20945336562895, 6.614709844115208, 6.392317422778761, 1.584962500721156, 1.0, 5.044394119358453, 3.321928094887362, 1.584962500721156, 6.807354922057604, 3.584962500721156, 5.727920454563199, 1.0, 6.807354922057604, 1.0, 2.0, 2.0, 2.0, 4.700439718141092, 5.832890014164741, 2.0, 4.087462841250339, 1.584962500721156, 4.0, 2.0, 1.0, 3.807354922057604, 5.857980995127572, 7.409390936137702, 6.149747119504682, 6.169925001442312, 2.807354922057604, 1.0, 7.98299357469431, 2.0, 5.584962500721156, 2.0, 5.584962500721156, 6.870364719583405, 1.0, 6.20945336562895, 7.339850002884624, 1.584962500721156, 7.451211111832329, 5.044394119358453, 6.599912842187128, 1.0, 5.584962500721156, 4.906890595608519, 5.357552004618084, 3.807354922057604, 5.832890014164741, 6.022367813028454, 3.584962500721156, 7.727920454563199, 6.882643049361842, 7.2761244052742375, 7.614709844115208, 5.491853096329675, 7.417852514885898, 1.0, 2.807354922057604, 5.247927513443585, 3.700439718141092, 3.0, 4.700439718141092, 5.832890014164741, 1.584962500721156, 1.0, 1.0, 1.584962500721156, 7.643856189774724, 1.584962500721156, 7.6293566200796095, 6.475733430966398, 7.658211482751795, 4.169925001442312, 5.554588851677638, 4.807354922057604, 3.584962500721156, 1.584962500721156, 7.734709620225838, 3.584962500721156, 4.087462841250339, 3.169925001442312, 6.426264754702098, 1.0, 3.169925001442312, 5.754887502163468, 2.0, 1.584962500721156, 5.459431618637297, 6.832890014164741, 2.584962500721156, 3.584962500721156, 6.727920454563199, 4.459431618637297, 6.491853096329675, 6.569855608330948, 5.247927513443585, 1.0, 3.9068905956085187, 4.643856189774724, 1.0, 1.0, 2.321928094887362, 5.614709844115208, 3.169925001442312, 3.807354922057604, 1.584962500721156, 3.584962500721156, 2.0, 7.022367813028454, 7.169925001442312, 7.409390936137702, 6.426264754702098, 6.9886846867721655, 4.0, 2.584962500721156, 5.0, 3.321928094887362, 3.169925001442312, 6.845490050944375, 3.807354922057604, 4.857980995127572, 3.700439718141092, 1.584962500721156, 4.954196310386875, 7.076815597050831, 3.321928094887362, 2.584962500721156, 1.584962500721156, 1.0, 4.754887502163468, 2.584962500721156, 7.546894459887636, 7.303780748177103, 2.807354922057604, 3.169925001442312, 6.599912842187128, 2.0, 3.584962500721156, 4.700439718141092, 5.672425341971495, 7.554588851677638, 1.584962500721156, 2.584962500721156, 7.087462841250339, 7.870364719583405, 3.321928094887362, 2.321928094887362, 3.807354922057604, 1.0, 4.087462841250339, 5.169925001442312, 3.9068905956085187, 2.0, 1.0, 6.507794640198696, 7.257387842692652, 2.0, 6.409390936137702, 3.169925001442312, 4.754887502163468, 7.451211111832329, 1.0, 6.539158811108031, 7.312882955284356, 6.266786540694901, 3.169925001442312, 7.820178962415188, 4.0, 6.285402218862249, 1.0, 4.392317422778761, 7.912889336229962, 7.882643049361842, 1.584962500721156, 3.169925001442312, 4.169925001442312, 1.584962500721156, 4.321928094887363, 1.0, 7.7414669864011465, 4.169925001442312, 7.826548487290915, 1.584962500721156, 2.321928094887362, 3.0, 6.554588851677638, 1.584962500721156, 7.839203788096944, 6.569855608330948, 2.584962500721156, 6.321928094887363, 6.22881869049588, 3.169925001442312, 1.0, 2.807354922057604, 4.807354922057604, 2.0, 1.0, 4.247927513443585, 6.918863237274595, 4.321928094887363, 4.954196310386875, 2.807354922057604, 7.219168520462161, 2.584962500721156, 2.0, 1.0, 3.9068905956085187, 6.303780748177103, 7.6865005271832185, 2.0, 6.977279923499917, 4.954196310386875, 7.577428828035749, 1.0, 1.584962500721156, 6.906890595608519, 6.442943495848728, 4.247927513443585, 6.754887502163468, 1.0, 3.169925001442312, 5.0, 4.392317422778761, 3.169925001442312, 7.159871336778389, 2.0, 2.321928094887362, 7.6653359171851765, 6.303780748177103, 2.584962500721156, 4.754887502163468, 2.0, 3.4594316186372973, 2.321928094887362, 7.60733031374961, 3.584962500721156, 6.539158811108031, 1.584962500721156, 3.0, 2.0, 5.614709844115208, 6.20945336562895, 6.672425341971495, 6.672425341971495, 6.918863237274595, 4.169925001442312, 3.584962500721156, 6.3750394313469245, 7.022367813028454, 5.832890014164741, 5.0, 3.0, 3.9068905956085187, 1.0, 4.643856189774724, 5.523561956057013, 7.169925001442312, 5.700439718141092, 5.832890014164741, 7.434628227636725, 7.888743248898259, 4.906890595608519, 1.584962500721156, 7.1799090900149345, 6.357552004618084, 3.169925001442312, 1.0, 7.960001932068081, 3.9068905956085187, 2.0, 4.459431618637297, 7.754887502163468, 2.807354922057604, 5.426264754702098, 6.643856189774724, 2.584962500721156, 2.584962500721156, 2.321928094887362, 6.357552004618084, 6.149747119504682, 1.584962500721156, 7.7481928495894605, 3.584962500721156, 7.523561956057013, 4.643856189774724, 1.584962500721156, 2.807354922057604, 3.0, 6.3750394313469245, 3.9068905956085187, 2.321928094887362, 7.813781191217037, 2.321928094887362, 3.9068905956085187, 1.584962500721156, 2.0, 7.066089190457772, 4.523561956057013, 4.247927513443585, 3.321928094887362, 6.727920454563199, 2.0, 4.643856189774724, 6.832890014164741, 2.321928094887362, 2.807354922057604, 1.0, 6.459431618637297, 7.451211111832329, 5.491853096329675, 6.523561956057013, 4.459431618637297, 1.0, 1.584962500721156, 2.321928094887362, 4.0, 4.643856189774724, 7.614709844115208, 6.714245517666122, 4.584962500721156, 3.4594316186372973, 3.807354922057604, 5.247927513443585, 4.754887502163468, 1.584962500721156, 5.882643049361842, 7.658211482751795, 4.754887502163468, 6.459431618637297, 3.807354922057604, 3.169925001442312, 3.807354922057604, 6.807354922057604, 3.700439718141092, 3.0, 5.087462841250339, 1.0, 3.4594316186372973, 6.523561956057013, 2.807354922057604, 4.0, 7.826548487290915, 4.247927513443585]}, {\"label\": \"min_samples_leaf\", \"values\": [0.7781512503836436, 0.0, 1.0, 1.568201724066995, 0.47712125471966244, 0.0, 0.0, 1.8512583487190752, 1.1139433523068367, 0.0, 0.0, 0.0, 1.9030899869919435, 1.8920946026904804, 0.0, 1.99563519459755, 1.505149978319906, 1.041392685158225, 1.2304489213782739, 0.0, 1.2304489213782739, 0.8450980400142568, 0.3010299956639812, 0.0, 1.6434526764861874, 1.7160033436347992, 1.806179973983887, 0.3010299956639812, 1.6532125137753437, 0.0, 1.414973347970818, 0.3010299956639812, 0.0, 1.2787536009528289, 1.414973347970818, 1.7708520116421442, 0.0, 0.0, 1.2041199826559248, 1.7558748556724915, 0.6020599913279624, 1.0, 0.9030899869919435, 1.8512583487190752, 0.3010299956639812, 0.0, 1.1139433523068367, 0.6989700043360189, 0.47712125471966244, 1.7558748556724915, 1.3010299956639813, 1.7993405494535817, 1.662757831681574, 0.6020599913279624, 1.5797835966168101, 1.255272505103306, 0.7781512503836436, 1.505149978319906, 1.8864907251724818, 0.47712125471966244, 0.0, 1.255272505103306, 1.414973347970818, 1.9138138523837167, 0.3010299956639812, 0.3010299956639812, 0.0, 1.1139433523068367, 0.0, 1.041392685158225, 1.5797835966168101, 1.041392685158225, 1.146128035678238, 1.255272505103306, 0.0, 0.0, 0.0, 1.4771212547196624, 0.6020599913279624, 0.0, 1.8976270912904414, 1.2304489213782739, 1.5797835966168101, 0.9030899869919435, 0.47712125471966244, 1.1760912590556813, 0.8450980400142568, 1.3010299956639813, 0.6020599913279624, 1.662757831681574, 0.0, 1.7781512503836436, 1.7853298350107671, 0.0, 1.1139433523068367, 0.0, 0.0, 1.792391689498254, 1.462397997898956, 1.2787536009528289, 1.0791812460476249, 1.7323937598229686, 1.7558748556724915, 1.7781512503836436, 1.7481880270062005, 0.0, 0.0, 0.0, 0.0, 0.9030899869919435, 1.041392685158225, 0.0, 0.0, 0.6020599913279624, 1.8195439355418688, 1.8195439355418688, 0.3010299956639812, 1.2787536009528289, 1.1760912590556813, 0.0, 0.9542425094393249, 1.5563025007672873, 1.8920946026904804, 0.0, 0.0, 0.0, 0.6020599913279624, 1.5797835966168101, 1.9822712330395684, 0.0, 1.9294189257142929, 0.0, 1.9822712330395684, 0.0, 0.6020599913279624, 1.9030899869919435, 1.5185139398778875, 1.6532125137753437, 0.6989700043360189, 1.2787536009528289, 0.3010299956639812, 1.4313637641589874, 1.2041199826559248, 1.662757831681574, 1.4771212547196624, 1.5797835966168101, 1.5185139398778875, 1.3979400086720377, 1.792391689498254, 0.0, 0.47712125471966244, 1.7160033436347992, 0.0, 0.0, 1.662757831681574, 0.0, 1.462397997898956, 0.47712125471966244, 0.6020599913279624, 0.0, 1.146128035678238, 1.1139433523068367, 1.146128035678238, 0.8450980400142568, 0.8450980400142568, 0.3010299956639812, 0.3010299956639812, 1.3010299956639813, 0.0, 0.3010299956639812, 1.505149978319906, 1.3424226808222062, 0.6989700043360189, 0.0, 1.8864907251724818, 1.8512583487190752, 1.6720978579357175, 1.3222192947339193, 1.863322860120456, 0.6020599913279624, 0.7781512503836436, 1.3010299956639813, 0.0, 0.6020599913279624, 0.6989700043360189, 1.0791812460476249, 0.0, 0.6989700043360189, 1.4771212547196624, 0.6989700043360189, 1.9637878273455553, 1.863322860120456, 0.6020599913279624, 0.0, 0.6020599913279624, 1.0791812460476249, 1.3010299956639813, 1.414973347970818, 1.6989700043360187, 0.0, 0.3010299956639812, 0.0, 1.0, 1.505149978319906, 0.3010299956639812, 0.7781512503836436, 0.0, 0.6020599913279624, 0.3010299956639812, 0.0, 0.0, 1.0791812460476249, 1.9493900066449128, 0.0, 1.146128035678238, 0.3010299956639812, 0.7781512503836436, 1.5185139398778875, 1.146128035678238, 1.6020599913279625, 0.6989700043360189, 0.0, 0.6989700043360189, 0.9542425094393249, 1.3424226808222062, 0.47712125471966244, 0.3010299956639812, 1.2041199826559248, 1.8920946026904804, 0.3010299956639812, 1.7634279935629373, 1.4771212547196624, 0.6989700043360189, 0.6020599913279624, 0.8450980400142568, 1.5185139398778875, 1.4771212547196624, 1.8692317197309762, 0.9030899869919435, 0.3010299956639812, 1.5440680443502757, 1.1139433523068367, 0.0, 0.6020599913279624, 1.4471580313422192, 1.255272505103306, 1.6020599913279625, 1.568201724066995, 0.8450980400142568, 1.7708520116421442, 0.47712125471966244, 1.2304489213782739, 0.8450980400142568, 0.47712125471966244, 1.0, 1.3617278360175928, 0.8450980400142568, 1.146128035678238, 0.3010299956639812, 1.1760912590556813, 1.0, 0.7781512503836436, 0.6020599913279624, 1.255272505103306, 0.3010299956639812, 0.0, 1.6812412373755872, 0.0, 1.9590413923210936, 0.3010299956639812, 1.2787536009528289, 1.5797835966168101, 0.0, 0.0, 0.0, 1.4771212547196624, 1.0791812460476249, 0.6989700043360189, 1.99563519459755, 1.6334684555795866, 1.9030899869919435, 1.5797835966168101, 0.0, 0.3010299956639812, 1.4471580313422192, 1.5563025007672873, 1.5185139398778875, 1.0, 0.7781512503836436, 1.7993405494535817, 0.0, 0.47712125471966244, 1.0, 0.0, 1.1760912590556813, 1.8864907251724818, 1.7075701760979363, 1.255272505103306, 1.6434526764861874, 1.3010299956639813, 1.568201724066995, 0.6989700043360189, 1.414973347970818, 0.6989700043360189, 0.0, 1.8750612633917, 0.0, 1.8920946026904804, 0.3010299956639812, 1.255272505103306, 0.47712125471966244, 1.1760912590556813, 0.0, 1.1760912590556813, 0.6989700043360189, 0.47712125471966244, 1.8129133566428555, 0.0, 1.6020599913279625, 0.6989700043360189, 0.0, 1.1760912590556813, 1.3979400086720377, 0.0, 0.8450980400142568, 1.662757831681574, 0.3010299956639812, 0.6989700043360189, 1.6901960800285136, 0.3010299956639812, 0.8450980400142568, 1.380211241711606, 0.3010299956639812, 1.1760912590556813, 0.6989700043360189, 1.6434526764861874, 0.6020599913279624, 1.8750612633917, 1.6720978579357175, 1.146128035678238, 0.0, 0.3010299956639812, 1.591064607026499, 1.1760912590556813, 0.0, 1.5314789170422551, 1.9084850188786497, 0.8450980400142568, 0.8450980400142568, 1.0, 1.8195439355418688, 1.8388490907372552, 0.0, 0.0, 1.8260748027008264, 1.9030899869919435, 1.0791812460476249, 1.8325089127062364, 1.0, 1.1760912590556813, 0.6989700043360189, 0.6020599913279624, 1.792391689498254, 1.5314789170422551, 0.0, 1.380211241711606, 0.3010299956639812, 1.0, 0.0, 1.5314789170422551, 0.47712125471966244, 1.414973347970818, 1.041392685158225, 0.0, 1.6127838567197355, 0.0, 1.6532125137753437, 0.3010299956639812, 0.0, 0.3010299956639812, 0.9542425094393249, 0.0, 0.0, 1.6901960800285136, 1.146128035678238, 0.0, 1.041392685158225, 1.0791812460476249, 1.6532125137753437, 1.0791812460476249, 0.0, 0.0, 0.0, 0.3010299956639812, 0.8450980400142568, 1.505149978319906, 0.3010299956639812, 0.3010299956639812, 1.845098040014257, 1.9542425094393248, 0.47712125471966244, 0.0, 1.0, 1.6334684555795866, 1.7323937598229686, 1.5440680443502757, 1.9138138523837167, 1.7323937598229686, 1.9242792860618816, 1.4471580313422192, 1.9777236052888478, 0.3010299956639812, 1.0791812460476249, 0.0, 1.2041199826559248, 1.255272505103306, 1.5563025007672873, 0.0, 1.2787536009528289, 0.6020599913279624, 0.47712125471966244, 1.7781512503836436, 1.0791812460476249, 0.0, 1.9493900066449128, 1.6232492903979006, 1.041392685158225, 1.3010299956639813, 0.6020599913279624, 0.0, 0.0, 0.7781512503836436, 0.47712125471966244, 0.0, 1.8129133566428555, 0.3010299956639812, 1.041392685158225, 1.8864907251724818, 1.7242758696007892, 0.47712125471966244, 0.0, 0.6020599913279624, 0.3010299956639812, 1.8195439355418688, 0.6989700043360189, 1.919078092376074, 1.0791812460476249, 1.2787536009528289, 0.3010299956639812, 1.7403626894942439, 0.3010299956639812, 0.3010299956639812, 1.4913616938342726, 0.47712125471966244, 0.0, 0.0, 0.0, 1.0, 1.7634279935629373, 0.47712125471966244, 0.0, 0.0, 1.7558748556724915, 1.8129133566428555, 0.47712125471966244, 1.414973347970818, 1.3617278360175928, 0.0, 0.0, 0.0, 1.6901960800285136, 0.9030899869919435, 0.47712125471966244, 0.0, 1.8750612633917, 1.414973347970818, 1.4771212547196624, 1.3617278360175928, 0.0, 0.0, 1.8573324964312685, 1.9030899869919435, 0.47712125471966244, 0.3010299956639812, 1.5563025007672873, 0.8450980400142568, 1.99563519459755, 0.7781512503836436, 0.0, 1.041392685158225, 0.6020599913279624, 1.3222192947339193, 1.5440680443502757, 0.3010299956639812, 0.6020599913279624, 0.6020599913279624, 0.0, 0.8450980400142568, 0.6989700043360189, 1.2787536009528289]}, {\"label\": \"l2_regularization\", \"values\": [0.39217750897745574, -1.8111032549372006, 0.039451183704711595, -2.441159857208718, -4.091189449701977, -5.944935433261408, -3.1913706789785827, -3.1028078367738465, -3.437105005701581, -0.9976802520608308, -5.638845721919441, 0.22162518472175766, 2.249301997455248, -3.287852637247264, -5.742096693683774, -4.4872517641557685, 1.4100784967076632, -3.0824690845587575, 2.855752868676887, -1.3926011768485635, -2.6345394609860353, 0.6985283253534601, -4.395646930980709, -5.997159259432995, 2.7901925205505025, 0.6539887021910622, -1.3482426623660166, -0.2071662174710686, -4.267886186803508, -2.886131587998138, -0.18417537173724785, -3.6921340583589846, -2.4444706776625496, -3.340761217822522, 0.4313782574413746, -1.3731436769328105, 2.2866430479659217, 2.0259517563181135, -3.099210072312905, -5.758702182717651, -2.035775135573452, 1.9245940739254421, -4.209631843175476, -5.545238296516993, -1.6289830348840857, -1.2269885924984798, -4.938800453898116, 0.4238457749337017, -2.723572285939581, -5.302850242236925, -2.0332338178408347, 0.5473564616360486, -4.040210504180727, -2.9230755261941646, -4.77945064929443, -5.722949854862035, 1.539355833631865, -4.6424164025168855, 0.10720165967972409, -3.820127501423609, -0.38410752905982726, -3.679012176282214, -5.561317254545729, -4.784385992566478, -2.6951141122398274, -4.625059463352652, 0.8205105752483941, -3.951402691210199, 0.9244118522442514, -5.428570691946971, -5.1419772292545405, -2.172501674006123, -5.1907306575847585, -2.5415889734947155, -4.324219668355871, -0.05296197170734998, 1.2754785285539822, 2.144063753462438, -1.1074918605801205, 0.7002464157673021, -0.8042162252141752, -5.354520080402092, -5.901594858523433, -3.178965970744434, 0.7576404996262753, -3.228602723762521, 0.6199060801592511, -3.81152069368004, 2.572096486326961, -3.761473254303262, 0.86669962586009, 1.1408249409840812, -4.499031464115445, -0.9037933756165684, 1.5290619876551133, -1.1899237399193212, -1.7237868696000629, -5.053329885892729, -1.1255884957175346, -4.520115009862745, 1.859178016312534, -5.209075977632116, 0.9137415441107178, -0.821161490687236, 1.3866402285883614, -5.055561133814948, -3.33819826948749, -3.522905889974974, 1.5674826737356107, 1.48296924381876, -1.8617313813907965, 1.6215964220399024, -2.625600369315443, -2.437262006594162, -4.968787881889586, -5.805921971495212, -0.5725302145915967, -2.1261698600938677, 1.3288119445730686, -4.995218082266305, 2.4577188434676804, 1.7302142947399954, -4.232382521881763, 0.35494823337983866, -0.6002525555115462, 2.942300607152658, -2.335087182596236, -1.95121238518984, -2.1694301568579375, -0.35119308482266925, 2.5321508243177298, -2.5117049404505587, 2.196587949632119, -1.8940728983759199, -2.541261971737956, -2.761122084182819, -0.6966480631220489, -2.0773723573845793, -3.71173365365077, -0.06226241297477755, -3.5221742188100325, -1.3822599162605318, -0.26677614312159786, -4.283509921144625, -2.1833995030461963, 2.4757101679636433, -0.28902659422710564, -2.097039490428089, -4.358605424916951, -2.2111708864883197, 2.3752353893206823, -5.243412932082516, -4.784702757741252, 0.018503200937925558, -1.599800943329297, -4.686685594907361, -0.5395315743197073, -1.6016185600420005, -4.732930955135696, -1.924126931065756, -0.4123290730568685, -1.2487137686322098, 2.7643354346891247, -4.717078371661138, 1.2412076088385477, -4.977970488482374, -3.72244632967046, -0.9161091665889347, 2.3519393808934836, -4.092108174055652, -0.44170876906476564, -4.1732879403193675, 2.4415784358286303, -4.1889738351843295, -3.0708907231186955, 1.8487726156065314, -2.7994347097002295, -3.9006077703906294, -1.544775512656199, -0.2417210159401152, 0.7159740589069304, -2.441341393071509, -5.677253739295252, -5.905306529706932, -0.7933383621247065, -3.8273892909364027, 2.3143475751174867, -4.378511937177755, -0.12040367841625928, -3.2169227889338816, 2.2163608518685187, -5.210490212878951, 2.770134299143809, -0.01211947043030274, 1.71982040782419, 0.5865857903421703, 1.5075436582423307, -5.849448753767749, -1.8462343131460734, -1.1954641616605355, -3.3526284029914892, 0.46660920688401913, -4.170321789457858, -3.0183101845010314, 1.9791646900293847, -5.5654138272780695, -1.4412591085773234, 2.680035102696677, -1.9290391594644727, -5.77894777966596, 1.1338979737476682, -4.968960858451975, 1.3654414359306035, 0.8566099502259962, -0.357491897850485, 1.5478004705202093, -5.467374098086973, 2.2561940463106467, 1.3477107016229026, 1.40028147597818, -1.3185372605728272, -3.904989481790129, -0.7972524198837658, -0.6957754582797393, -3.917486613157455, 1.198314272031414, -3.6758037363028637, 1.725268467601882, 0.9605822494798502, 1.7360278795538822, -5.004269169500854, -2.402127684966816, -4.015117741880515, -0.711091839134752, 1.45199134640619, -4.692632661974941, 2.8826476909700793, -4.874232130366026, 2.4826868145197696, -1.2379497118581264, -1.3295124329281622, -0.8565585254905668, -3.772244758699039, -3.466599963615018, 1.6216352875025635, 1.4090786051384379, -0.9027457800563907, -4.542855699567055, 0.30062222861639315, 0.3294640913786885, 2.78956427316138, -1.356291691899703, 2.39275059439978, -0.06904006609016536, -4.753661521116399, 0.720055092930634, -3.3155539654472923, 2.7845155968675517, -2.450684053077208, -4.032976741618281, -2.87416390287014, -5.003647533679086, -5.287734005335574, -3.804493617059199, -5.952951574092016, -3.9153363658782627, -5.687037866087168, -1.3389892730707285, -4.627592829693165, 2.9530433108934573, 1.5638826236563503, 2.7258827815906805, -2.3988218026868418, 0.8704116525135754, -2.5135099839165704, -4.452299077808705, -5.043750877657704, -1.5584600048718933, -3.674579909195432, 2.322971771956633, 1.8896625996233107, -1.269034962451977, -4.041028027136354, 0.09377725529393612, -1.3052340179930293, -3.3538624892545834, 1.0109719242913353, -5.016401529219368, 1.501998036491053, 2.2922789196508857, 0.8079115844064877, -2.531718229623495, -2.190318343266044, -2.298477649313243, -5.7694370996813, -1.4514784681742448, 1.1236425742568603, -3.773910532308415, 0.7325314828797065, -3.7522398299075355, 0.3635890546068817, -5.8348373685238295, 2.9012272879729473, -4.548930171702741, -3.7831620791177523, 1.737780440030896, -0.9032700388270002, 2.2162534391920494, 1.728044304749559, -1.8271523053550638, -4.479043495085786, -0.7924812820668339, -3.1150584404359094, 2.7776042267276955, -5.531823247885648, 1.0017155366545203, 1.5554401658650894, -5.496576774767555, 1.5138007422964253, -3.282683316280065, 0.4035148756165198, -0.2997609390357239, -0.4841784752249646, -5.649957545373754, 2.9234489093899967, -0.6062584334390863, -5.98904318556352, 0.6752106558740787, 0.30882720669369523, -0.2089403673008539, 2.6052490895159837, -1.6594748928197598, 1.6356841424390187, -4.230311554985187, 2.416414656914682, 1.384561412789248, -0.9615918980969406, 1.424434615015022, 2.4691930828743756, 2.719447712938665, -3.0617042888999175, 0.12887306759157638, 0.6006353157209491, -3.3941447203603525, -5.4686973908633885, 0.9421711823566754, 0.44067672637129784, -1.3882687418162554, 1.5988248746240525, -1.5481066426207357, -3.1397940728010716, 2.6466179411261166, -5.627250181199472, 0.644593244250717, 0.5633339517795586, -2.620701051931253, -3.8739547283259523, -4.58734379543001, 1.8327062297990582, -4.478355915661508, -3.485041957683678, 0.8698136216376813, -4.2852705100865025, -4.579205228461922, -5.144285116054608, -4.933318278685454, 0.3337283014172543, -5.696341576983337, -3.3338794141809207, 1.0748361769947914, 2.4751519678902114, 2.9148844516586614, 2.837048780407483, 0.1938746038672012, -4.445357489622957, 0.9038275703682148, -4.263843905060754, -4.860166493159663, -1.4167472876566554, -3.6081113041275925, 2.4706930694111446, 2.475645334109952, -2.8713900676894117, -5.077503058429246, -3.901284534072631, -3.5887002654720987, -0.8894109008602571, 0.03610568458348313, -4.069615848997274, 0.9792615282559699, -2.185057751388333, -5.524050808192397, -2.673932199398266, -3.9115386588369145, -5.181260782465351, -3.137694008002772, -1.0219068314763469, 0.5086782735099109, -2.6261004230456098, 2.0098587076881835, -5.123247323931873, -4.697173811688806, -5.724819523424092, -0.04930369830747384, -4.204316567162551, 1.9677378901839893, -3.458095273914747, 0.7841681059716259, -1.2391350837792003, 1.3646267927172804, 0.9036819963174529, -1.3255101906090605, -2.369719936630284, -5.896520052435687, -5.726579143388821, -5.744601836718494, -0.31771714425301456, -1.5214577951982455, -2.6798790795204215, -4.87231913935283, -2.2269483772556615, 1.074807745833628, -5.8777832725590855, -5.540753851794682, -2.9706006965487215, -1.13579147372646, 2.548261880494484, 1.3987657382930334, -0.7291421519664939, 1.2791865982296222, 0.9171603291798563, -5.816633370326653, 2.1706770987974084, 2.864135900727531, -0.9828381500624092, 0.7995303862013866, -0.7476153088268062, -4.153897940928988, -1.1008175949450116, -3.8651763337262586, 0.42424751465561894, 2.3761806664395615, -5.345472429268739, -0.12935005806486433, 0.43616594078101945, -1.0218535230085422, -2.151451964065952, 1.9337463756161273, 1.1596799223867653, -0.47796209147450164, 2.7844045202990917, 2.9597669311289447, -4.535239962437448, -1.853310495755378, 0.1800015843776288, -0.3798661745098703, -0.7104037431406105, 0.35184290597914974, 1.8155035768770194, 2.8982689249453446, -2.6051574579674774, -0.605997512215646, -1.708279169657238, -4.21068373088914, 0.07343154707991127, -3.249692170725387, -0.9487854511545109, -2.6612920383194134, -4.416277644501867, 1.3312613823897725, -2.2320561502418235, -3.292097788794713, 1.2149718662910862, 2.6737497294098995, -0.5807179792477413, -4.735181511601223, -2.6592665123255754, -1.0028384678498588, 0.533322818673267, -4.03394577727438, -5.170079539460583, -5.6166884514398205, 2.7261033900877414, -2.28978097507582, 2.7320729056804907, -3.9715685317349703, -0.9009826913797376, 2.519933941012472, -0.43519884796991143, 1.1607658092641588, -3.0161038279419916, -1.903510390441164, -2.5889636935634557, -2.7302208241534616, 1.5898861138149338, -4.126018472165817, 0.7046605174140823, 0.39093952083677574, -4.169056298737916, -0.35142738979149407]}, {\"label\": \"mean_test_score\", \"values\": [0.8575523735207098, 0.7589473389664464, 0.7713408881417616, 0.7589473389664464, 0.7589473389664464, 0.6873151263351892, 0.5517947318138392, 0.6892789212155939, 0.84865282916327, 0.7589473389664464, 0.8433022548212941, 0.8523383104930804, 0.7234035082267647, 0.8384702990271435, 0.6553578753387679, 0.7589473389664464, 0.8526111691800241, 0.7823427544322863, 0.8223909890758533, 0.8206436047571575, 0.8045098847746591, 0.8707925439739279, 0.7730341530532605, 0.7178607978799053, 0.7589473389664464, 0.6736927368700263, 0.8535121334220557, 0.8558325165121945, 0.8452404039956928, 0.8547406234727102, 0.7306645106836179, 0.6526683326874401, 0.8535940521337, 0.7589473389664464, 0.8447764339398024, 0.8466600464007316, 0.7589473389664464, 0.7589473389664464, 0.7886761595646542, 0.8506456454593483, 0.8532117958622667, 0.7778110393232545, 0.8491442520103636, 0.8534575370934044, 0.4522942846813461, 0.8552864787067053, 0.8504818452955479, 0.8540581041604653, 0.851109764553193, 0.6553578753387679, 0.7945180971385419, 0.8415004679232876, 0.7589473389664464, 0.8183777881880789, 0.8138188960080595, 0.6553710353901427, 0.7638611762127526, 0.5517947318138392, 0.7200743207567284, 0.8214900919009012, 0.7128367358884623, 0.7589473389664464, 0.7763367856857689, 0.7589473389664464, 0.8417188495119436, 0.8431111360004495, 0.8460049128126104, 0.8662336406160618, 0.8458955636654558, 0.860391513018782, 0.8507822089369789, 0.8543856895842701, 0.8147197782792158, 0.8473424539345107, 0.7589473389664464, 0.8363953814479268, 0.8575251703680802, 0.7589473389664464, 0.8646229054718205, 0.8529115179176596, 0.8605826281136777, 0.7589473389664464, 0.8082499288995809, 0.7589473389664464, 0.7561082180981185, 0.7962933999920487, 0.8297343275506233, 0.8386341140947392, 0.7915152468994424, 0.7589473389664464, 0.844066513999638, 0.7589473389664464, 0.8321093740364929, 0.7589473389664464, 0.8523109508505987, 0.7589473389664464, 0.7400013584809544, 0.7589473389664464, 0.7589473389664464, 0.8499086863083042, 0.7019462195796302, 0.8448583302957535, 0.8212988911091819, 0.8545768084051147, 0.8439846921626641, 0.8272775933619387, 0.7589473389664464, 0.7589473389664464, 0.7589473389664464, 0.7580738871307999, 0.8468511763994228, 0.8525839362198034, 0.8200705277407885, 0.8570610289185423, 0.7589473389664464, 0.8469875908390989, 0.8212441643723205, 0.8573886553277846, 0.8457864157195397, 0.8116073627879278, 0.8631214039703188, 0.8665066222593177, 0.8667249069733034, 0.6214169813323628, 0.7764728089008149, 0.8532937220258088, 0.5517815717624643, 0.8586170745854108, 0.8162481699536428, 0.7589473389664464, 0.8209988777069437, 0.7860268385312742, 0.8227459155123956, 0.7680373650074755, 0.7563265363456437, 0.7589473389664464, 0.7589473389664464, 0.7589473389664464, 0.8281238904822908, 0.7589473389664464, 0.8166581659143416, 0.7658269383941556, 0.7698400498591573, 0.8539761779969233, 0.8437663068480592, 0.7589473389664464, 0.8652780986751234, 0.827632206818777, 0.8417734570184414, 0.6093704893895968, 0.7589473389664464, 0.8394529882314787, 0.7589473389664464, 0.8553138756086758, 0.8624390895852612, 0.8589993047752019, 0.7368061784876305, 0.8124266654087862, 0.7589473389664464, 0.8417734048551573, 0.8276051042667666, 0.8474789876045505, 0.8444488373381509, 0.8585352303927436, 0.8175043885157164, 0.8071308587891091, 0.8162211680022518, 0.6418315073016861, 0.7589473389664464, 0.7703310926594671, 0.8474516205101711, 0.7589473389664464, 0.7589473389664464, 0.4766407374159524, 0.7589473389664464, 0.7589473389664464, 0.8304714618212639, 0.8223909778980067, 0.8489804294908702, 0.7589473389664464, 0.7589473389664464, 0.8393437247811479, 0.8573613813821265, 0.6553710353901429, 0.8230461450196677, 0.8374600638828836, 0.7589473389664464, 0.8386612054689029, 0.8392073587788069, 0.8499086676785599, 0.7589473389664464, 0.7411205515477386, 0.8569519145061658, 0.7054399486772901, 0.7759821871327263, 0.8609921508788713, 0.8516558023586821, 0.7339404506184908, 0.715350819882006, 0.5968670172710024, 0.3446289646098572, 0.7589473389664464, 0.8477247102059439, 0.8550955350054572, 0.8524201174262591, 0.8330648861698403, 0.7589473389664464, 0.8614017518889907, 0.87139310731504, 0.7589473389664464, 0.7098332485121075, 0.6553710353901427, 0.8221452962820507, 0.8418826794833347, 0.7589473389664464, 0.8483525922041004, 0.8455135607585451, 0.8493080857077036, 0.8569245027004001, 0.7736616550046331, 0.8194698712509549, 0.8234829417305193, 0.7905872136389401, 0.8255849991212351, 0.7707132818638209, 0.7615709509526896, 0.6411750211941286, 0.6950645783319456, 0.8547405824872728, 0.8541400862132402, 0.8552865681294779, 0.8442031259146041, 0.4482052681861609, 0.7969205703339728, 0.8461686533612287, 0.8331468086074336, 0.5266321733224968, 0.6531323213730748, 0.6805691692412041, 0.8450766224616368, 0.7092875646717601, 0.7589473389664464, 0.8185418379904528, 0.5517947318138392, 0.7698395729377032, 0.8382245056327218, 0.6834095457542981, 0.8505365198691253, 0.7589473389664464, 0.857033732617191, 0.8516558582479149, 0.7589473389664464, 0.8231007301704721, 0.7815233623886552, 0.7589473389664464, 0.8234555820880374, 0.8196337198520902, 0.7589473389664464, 0.6069407869598944, 0.7787120184690813, 0.7589473389664464, 0.8242473350430222, 0.8354125730132281, 0.7019721819912894, 0.5517815717624643, 0.8684720975426584, 0.8192786220219002, 0.8037735553089723, 0.6553710353901429, 0.724441993515284, 0.8420737386889974, 0.8268680929524385, 0.6981228781419857, 0.7846631673300161, 0.8479704067256953, 0.5626402796458754, 0.5486825287016359, 0.8458956419103819, 0.7191183801392619, 0.8532937890928881, 0.865305353991037, 0.8451312076124413, 0.8396987220107187, 0.8213536290238898, 0.8223636592409622, 0.7705767183861901, 0.8023258676868613, 0.868499412473754, 0.7589473389664464, 0.7589473389664464, 0.7863555603694815, 0.6972219772410846, 0.7589473389664464, 0.6941964434253229, 0.8382517795783798, 0.8547405564056308, 0.8683902235424004, 0.7589473389664464, 0.7589473389664464, 0.8638311785984776, 0.8603369688534148, 0.7589473389664464, 0.8422102611811907, 0.8036360268105867, 0.8166581212029553, 0.8425650758392672, 0.8530207739160925, 0.8245476167135782, 0.8354672773943962, 0.8216538808868549, 0.8597090868552586, 0.6553578753387679, 0.8377331833862474, 0.8488985145051748, 0.8274413376365063, 0.7589473389664464, 0.8583714078732504, 0.8172313845167674, 0.7589473389664464, 0.8685268093757245, 0.7589473389664464, 0.8355492855288134, 0.8224452947804932, 0.5517815717624643, 0.7589473389664464, 0.8193061307023365, 0.8560509316343902, 0.8696732689362688, 0.8698370206627338, 0.816303064358203, 0.7589473389664464, 0.8429473172069051, 0.7589473389664464, 0.7940268382331982, 0.7008532013035902, 0.8659332620708355, 0.8519287653721938, 0.8671617931069276, 0.8172587068997605, 0.8425105428517465, 0.8303897331330112, 0.8635855789533965, 0.7589473389664464, 0.8713385519718262, 0.4482052681861608, 0.8408453082535244, 0.7072956873147946, 0.8506729380347504, 0.8474789913304994, 0.823592175373259, 0.7899319235609669, 0.8559690278265413, 0.7589473389664464, 0.4502526770849413, 0.8540307631477277, 0.7808958865189247, 0.8055471255962591, 0.24105266103355366, 0.7589473389664464, 0.8676805197072701, 0.8411456458133133, 0.8387432657666041, 0.7841990445102224, 0.8323552307720453, 0.8553957794165246, 0.7437412237603312, 0.8118259232221291, 0.8065027383302258, 0.8495537524198641, 0.8335833370499675, 0.7589473389664464, 0.8083863247095129, 0.8673801076285039, 0.8595179792122607, 0.8401083341986849, 0.7589473389664464, 0.7589473389664464, 0.8279054231968113, 0.8536759224080093, 0.8530480553136484, 0.8275232600740994, 0.8653326763740303, 0.8291884648647307, 0.7589473389664464, 0.8691545982251592, 0.7589473389664464, 0.8439301144637572, 0.7816879487276648, 0.8378696611670543, 0.7589473389664464, 0.7589473389664464, 0.8555595982100691, 0.8057930270431977, 0.8508912786379689, 0.7589473389664464, 0.8463051982091152, 0.7346248962462967, 0.8432476324110008, 0.7589473389664464, 0.6967565764208319, 0.8439299505220074, 0.866397332727345, 0.7589473389664464, 0.8017795243535657, 0.6553710353901427, 0.8466327463734317, 0.8468511056063942, 0.5424946367760617, 0.7589473389664464, 0.8369142757159682, 0.8208348949716493, 0.826649484080902, 0.7589473389664464, 0.4482052681861608, 0.853757777778523, 0.8534302407920533, 0.8600367020866543, 0.8374597695329236, 0.8512734715682717, 0.8237012115407094, 0.8402719555169398, 0.8409271002829076, 0.8273321114456641, 0.8207803433543844, 0.8652235880432959, 0.8380880576595058, 0.7589473389664464, 0.8526111878097684, 0.8691000093484058, 0.7589473389664464, 0.7760635991153257, 0.7589473389664464, 0.8436025253140034, 0.8427835729323376, 0.8426197504128445, 0.7546619463365745, 0.7589473389664464, 0.8256395432866022, 0.8164941049341212, 0.8475608802345529, 0.8573338838795369, 0.7589473389664464, 0.8281511308944092, 0.7589473389664464, 0.8020802345082405, 0.858753518832678, 0.6276888077079151, 0.8128088285314978, 0.8534029184090601, 0.8363954671447505, 0.8442849887370155, 0.7589473389664464, 0.594028235464021, 0.8420191162787042, 0.8104880430388823, 0.7589473389664464, 0.8171493204931174, 0.8636674417758081, 0.7589473389664464, 0.853129914410111, 0.7589473389664464, 0.7589473389664464, 0.8446944407091808, 0.8232918489913168, 0.8564877097154973, 0.8675985637361372, 0.8516011650445934, 0.7589473389664464, 0.8457046311420543, 0.7589473389664464, 0.7589473389664464, 0.8421829462500952, 0.7578820268461322, 0.735387221657182, 0.7589473389664464, 0.8650324468667583, 0.8557779648949294, 0.7589473389664464, 0.8396714070796232, 0.7589473389664464, 0.6758788330372879, 0.7594387394578469, 0.7589473389664464, 0.8665065179327496, 0.8493080559001127, 0.7589473389664464, 0.8500177746390385, 0.8443668813670179, 0.8287517016874189, 0.7589473389664464, 0.7589473389664464, 0.8209167876016517, 0.7589473389664464, 0.8232917968280328, 0.7809776860002055, 0.8614289289599786, 0.7589473389664464, 0.8453770159106586, 0.8622205328770091, 0.7652807925361496]}], \"domain\": {\"x\": [0.0, 1.0], \"y\": [0.0, 1.0]}, \"line\": {\"color\": [0.8575523735207098, 0.7589473389664464, 0.7713408881417616, 0.7589473389664464, 0.7589473389664464, 0.6873151263351892, 0.5517947318138392, 0.6892789212155939, 0.84865282916327, 0.7589473389664464, 0.8433022548212941, 0.8523383104930804, 0.7234035082267647, 0.8384702990271435, 0.6553578753387679, 0.7589473389664464, 0.8526111691800241, 0.7823427544322863, 0.8223909890758533, 0.8206436047571575, 0.8045098847746591, 0.8707925439739279, 0.7730341530532605, 0.7178607978799053, 0.7589473389664464, 0.6736927368700263, 0.8535121334220557, 0.8558325165121945, 0.8452404039956928, 0.8547406234727102, 0.7306645106836179, 0.6526683326874401, 0.8535940521337, 0.7589473389664464, 0.8447764339398024, 0.8466600464007316, 0.7589473389664464, 0.7589473389664464, 0.7886761595646542, 0.8506456454593483, 0.8532117958622667, 0.7778110393232545, 0.8491442520103636, 0.8534575370934044, 0.4522942846813461, 0.8552864787067053, 0.8504818452955479, 0.8540581041604653, 0.851109764553193, 0.6553578753387679, 0.7945180971385419, 0.8415004679232876, 0.7589473389664464, 0.8183777881880789, 0.8138188960080595, 0.6553710353901427, 0.7638611762127526, 0.5517947318138392, 0.7200743207567284, 0.8214900919009012, 0.7128367358884623, 0.7589473389664464, 0.7763367856857689, 0.7589473389664464, 0.8417188495119436, 0.8431111360004495, 0.8460049128126104, 0.8662336406160618, 0.8458955636654558, 0.860391513018782, 0.8507822089369789, 0.8543856895842701, 0.8147197782792158, 0.8473424539345107, 0.7589473389664464, 0.8363953814479268, 0.8575251703680802, 0.7589473389664464, 0.8646229054718205, 0.8529115179176596, 0.8605826281136777, 0.7589473389664464, 0.8082499288995809, 0.7589473389664464, 0.7561082180981185, 0.7962933999920487, 0.8297343275506233, 0.8386341140947392, 0.7915152468994424, 0.7589473389664464, 0.844066513999638, 0.7589473389664464, 0.8321093740364929, 0.7589473389664464, 0.8523109508505987, 0.7589473389664464, 0.7400013584809544, 0.7589473389664464, 0.7589473389664464, 0.8499086863083042, 0.7019462195796302, 0.8448583302957535, 0.8212988911091819, 0.8545768084051147, 0.8439846921626641, 0.8272775933619387, 0.7589473389664464, 0.7589473389664464, 0.7589473389664464, 0.7580738871307999, 0.8468511763994228, 0.8525839362198034, 0.8200705277407885, 0.8570610289185423, 0.7589473389664464, 0.8469875908390989, 0.8212441643723205, 0.8573886553277846, 0.8457864157195397, 0.8116073627879278, 0.8631214039703188, 0.8665066222593177, 0.8667249069733034, 0.6214169813323628, 0.7764728089008149, 0.8532937220258088, 0.5517815717624643, 0.8586170745854108, 0.8162481699536428, 0.7589473389664464, 0.8209988777069437, 0.7860268385312742, 0.8227459155123956, 0.7680373650074755, 0.7563265363456437, 0.7589473389664464, 0.7589473389664464, 0.7589473389664464, 0.8281238904822908, 0.7589473389664464, 0.8166581659143416, 0.7658269383941556, 0.7698400498591573, 0.8539761779969233, 0.8437663068480592, 0.7589473389664464, 0.8652780986751234, 0.827632206818777, 0.8417734570184414, 0.6093704893895968, 0.7589473389664464, 0.8394529882314787, 0.7589473389664464, 0.8553138756086758, 0.8624390895852612, 0.8589993047752019, 0.7368061784876305, 0.8124266654087862, 0.7589473389664464, 0.8417734048551573, 0.8276051042667666, 0.8474789876045505, 0.8444488373381509, 0.8585352303927436, 0.8175043885157164, 0.8071308587891091, 0.8162211680022518, 0.6418315073016861, 0.7589473389664464, 0.7703310926594671, 0.8474516205101711, 0.7589473389664464, 0.7589473389664464, 0.4766407374159524, 0.7589473389664464, 0.7589473389664464, 0.8304714618212639, 0.8223909778980067, 0.8489804294908702, 0.7589473389664464, 0.7589473389664464, 0.8393437247811479, 0.8573613813821265, 0.6553710353901429, 0.8230461450196677, 0.8374600638828836, 0.7589473389664464, 0.8386612054689029, 0.8392073587788069, 0.8499086676785599, 0.7589473389664464, 0.7411205515477386, 0.8569519145061658, 0.7054399486772901, 0.7759821871327263, 0.8609921508788713, 0.8516558023586821, 0.7339404506184908, 0.715350819882006, 0.5968670172710024, 0.3446289646098572, 0.7589473389664464, 0.8477247102059439, 0.8550955350054572, 0.8524201174262591, 0.8330648861698403, 0.7589473389664464, 0.8614017518889907, 0.87139310731504, 0.7589473389664464, 0.7098332485121075, 0.6553710353901427, 0.8221452962820507, 0.8418826794833347, 0.7589473389664464, 0.8483525922041004, 0.8455135607585451, 0.8493080857077036, 0.8569245027004001, 0.7736616550046331, 0.8194698712509549, 0.8234829417305193, 0.7905872136389401, 0.8255849991212351, 0.7707132818638209, 0.7615709509526896, 0.6411750211941286, 0.6950645783319456, 0.8547405824872728, 0.8541400862132402, 0.8552865681294779, 0.8442031259146041, 0.4482052681861609, 0.7969205703339728, 0.8461686533612287, 0.8331468086074336, 0.5266321733224968, 0.6531323213730748, 0.6805691692412041, 0.8450766224616368, 0.7092875646717601, 0.7589473389664464, 0.8185418379904528, 0.5517947318138392, 0.7698395729377032, 0.8382245056327218, 0.6834095457542981, 0.8505365198691253, 0.7589473389664464, 0.857033732617191, 0.8516558582479149, 0.7589473389664464, 0.8231007301704721, 0.7815233623886552, 0.7589473389664464, 0.8234555820880374, 0.8196337198520902, 0.7589473389664464, 0.6069407869598944, 0.7787120184690813, 0.7589473389664464, 0.8242473350430222, 0.8354125730132281, 0.7019721819912894, 0.5517815717624643, 0.8684720975426584, 0.8192786220219002, 0.8037735553089723, 0.6553710353901429, 0.724441993515284, 0.8420737386889974, 0.8268680929524385, 0.6981228781419857, 0.7846631673300161, 0.8479704067256953, 0.5626402796458754, 0.5486825287016359, 0.8458956419103819, 0.7191183801392619, 0.8532937890928881, 0.865305353991037, 0.8451312076124413, 0.8396987220107187, 0.8213536290238898, 0.8223636592409622, 0.7705767183861901, 0.8023258676868613, 0.868499412473754, 0.7589473389664464, 0.7589473389664464, 0.7863555603694815, 0.6972219772410846, 0.7589473389664464, 0.6941964434253229, 0.8382517795783798, 0.8547405564056308, 0.8683902235424004, 0.7589473389664464, 0.7589473389664464, 0.8638311785984776, 0.8603369688534148, 0.7589473389664464, 0.8422102611811907, 0.8036360268105867, 0.8166581212029553, 0.8425650758392672, 0.8530207739160925, 0.8245476167135782, 0.8354672773943962, 0.8216538808868549, 0.8597090868552586, 0.6553578753387679, 0.8377331833862474, 0.8488985145051748, 0.8274413376365063, 0.7589473389664464, 0.8583714078732504, 0.8172313845167674, 0.7589473389664464, 0.8685268093757245, 0.7589473389664464, 0.8355492855288134, 0.8224452947804932, 0.5517815717624643, 0.7589473389664464, 0.8193061307023365, 0.8560509316343902, 0.8696732689362688, 0.8698370206627338, 0.816303064358203, 0.7589473389664464, 0.8429473172069051, 0.7589473389664464, 0.7940268382331982, 0.7008532013035902, 0.8659332620708355, 0.8519287653721938, 0.8671617931069276, 0.8172587068997605, 0.8425105428517465, 0.8303897331330112, 0.8635855789533965, 0.7589473389664464, 0.8713385519718262, 0.4482052681861608, 0.8408453082535244, 0.7072956873147946, 0.8506729380347504, 0.8474789913304994, 0.823592175373259, 0.7899319235609669, 0.8559690278265413, 0.7589473389664464, 0.4502526770849413, 0.8540307631477277, 0.7808958865189247, 0.8055471255962591, 0.24105266103355366, 0.7589473389664464, 0.8676805197072701, 0.8411456458133133, 0.8387432657666041, 0.7841990445102224, 0.8323552307720453, 0.8553957794165246, 0.7437412237603312, 0.8118259232221291, 0.8065027383302258, 0.8495537524198641, 0.8335833370499675, 0.7589473389664464, 0.8083863247095129, 0.8673801076285039, 0.8595179792122607, 0.8401083341986849, 0.7589473389664464, 0.7589473389664464, 0.8279054231968113, 0.8536759224080093, 0.8530480553136484, 0.8275232600740994, 0.8653326763740303, 0.8291884648647307, 0.7589473389664464, 0.8691545982251592, 0.7589473389664464, 0.8439301144637572, 0.7816879487276648, 0.8378696611670543, 0.7589473389664464, 0.7589473389664464, 0.8555595982100691, 0.8057930270431977, 0.8508912786379689, 0.7589473389664464, 0.8463051982091152, 0.7346248962462967, 0.8432476324110008, 0.7589473389664464, 0.6967565764208319, 0.8439299505220074, 0.866397332727345, 0.7589473389664464, 0.8017795243535657, 0.6553710353901427, 0.8466327463734317, 0.8468511056063942, 0.5424946367760617, 0.7589473389664464, 0.8369142757159682, 0.8208348949716493, 0.826649484080902, 0.7589473389664464, 0.4482052681861608, 0.853757777778523, 0.8534302407920533, 0.8600367020866543, 0.8374597695329236, 0.8512734715682717, 0.8237012115407094, 0.8402719555169398, 0.8409271002829076, 0.8273321114456641, 0.8207803433543844, 0.8652235880432959, 0.8380880576595058, 0.7589473389664464, 0.8526111878097684, 0.8691000093484058, 0.7589473389664464, 0.7760635991153257, 0.7589473389664464, 0.8436025253140034, 0.8427835729323376, 0.8426197504128445, 0.7546619463365745, 0.7589473389664464, 0.8256395432866022, 0.8164941049341212, 0.8475608802345529, 0.8573338838795369, 0.7589473389664464, 0.8281511308944092, 0.7589473389664464, 0.8020802345082405, 0.858753518832678, 0.6276888077079151, 0.8128088285314978, 0.8534029184090601, 0.8363954671447505, 0.8442849887370155, 0.7589473389664464, 0.594028235464021, 0.8420191162787042, 0.8104880430388823, 0.7589473389664464, 0.8171493204931174, 0.8636674417758081, 0.7589473389664464, 0.853129914410111, 0.7589473389664464, 0.7589473389664464, 0.8446944407091808, 0.8232918489913168, 0.8564877097154973, 0.8675985637361372, 0.8516011650445934, 0.7589473389664464, 0.8457046311420543, 0.7589473389664464, 0.7589473389664464, 0.8421829462500952, 0.7578820268461322, 0.735387221657182, 0.7589473389664464, 0.8650324468667583, 0.8557779648949294, 0.7589473389664464, 0.8396714070796232, 0.7589473389664464, 0.6758788330372879, 0.7594387394578469, 0.7589473389664464, 0.8665065179327496, 0.8493080559001127, 0.7589473389664464, 0.8500177746390385, 0.8443668813670179, 0.8287517016874189, 0.7589473389664464, 0.7589473389664464, 0.8209167876016517, 0.7589473389664464, 0.8232917968280328, 0.7809776860002055, 0.8614289289599786, 0.7589473389664464, 0.8453770159106586, 0.8622205328770091, 0.7652807925361496], \"coloraxis\": \"coloraxis\"}, \"name\": \"\", \"type\": \"parcoords\"}],\n",
              "                        {\"coloraxis\": {\"colorbar\": {\"title\": {\"text\": \"mean_test_score\"}}, \"colorscale\": [[0.0, \"#440154\"], [0.1111111111111111, \"#482878\"], [0.2222222222222222, \"#3e4989\"], [0.3333333333333333, \"#31688e\"], [0.4444444444444444, \"#26828e\"], [0.5555555555555556, \"#1f9e89\"], [0.6666666666666666, \"#35b779\"], [0.7777777777777778, \"#6ece58\"], [0.8888888888888888, \"#b5de2b\"], [1.0, \"#fde725\"]]}, \"legend\": {\"tracegroupgap\": 0}, \"margin\": {\"t\": 60}, \"template\": {\"data\": {\"bar\": [{\"error_x\": {\"color\": \"#2a3f5f\"}, \"error_y\": {\"color\": \"#2a3f5f\"}, \"marker\": {\"line\": {\"color\": \"#E5ECF6\", \"width\": 0.5}}, \"type\": \"bar\"}], \"barpolar\": [{\"marker\": {\"line\": {\"color\": \"#E5ECF6\", \"width\": 0.5}}, \"type\": \"barpolar\"}], \"carpet\": [{\"aaxis\": {\"endlinecolor\": \"#2a3f5f\", \"gridcolor\": \"white\", \"linecolor\": \"white\", \"minorgridcolor\": \"white\", \"startlinecolor\": \"#2a3f5f\"}, \"baxis\": {\"endlinecolor\": \"#2a3f5f\", \"gridcolor\": \"white\", \"linecolor\": \"white\", \"minorgridcolor\": \"white\", \"startlinecolor\": \"#2a3f5f\"}, \"type\": \"carpet\"}], \"choropleth\": [{\"colorbar\": {\"outlinewidth\": 0, \"ticks\": \"\"}, \"type\": \"choropleth\"}], \"contour\": [{\"colorbar\": {\"outlinewidth\": 0, \"ticks\": \"\"}, \"colorscale\": [[0.0, \"#0d0887\"], [0.1111111111111111, \"#46039f\"], [0.2222222222222222, \"#7201a8\"], [0.3333333333333333, \"#9c179e\"], [0.4444444444444444, \"#bd3786\"], [0.5555555555555556, \"#d8576b\"], [0.6666666666666666, \"#ed7953\"], [0.7777777777777778, \"#fb9f3a\"], [0.8888888888888888, \"#fdca26\"], [1.0, \"#f0f921\"]], \"type\": \"contour\"}], \"contourcarpet\": [{\"colorbar\": {\"outlinewidth\": 0, \"ticks\": \"\"}, \"type\": \"contourcarpet\"}], \"heatmap\": [{\"colorbar\": {\"outlinewidth\": 0, \"ticks\": \"\"}, \"colorscale\": [[0.0, \"#0d0887\"], [0.1111111111111111, \"#46039f\"], [0.2222222222222222, \"#7201a8\"], [0.3333333333333333, \"#9c179e\"], [0.4444444444444444, \"#bd3786\"], [0.5555555555555556, \"#d8576b\"], [0.6666666666666666, \"#ed7953\"], [0.7777777777777778, \"#fb9f3a\"], [0.8888888888888888, \"#fdca26\"], [1.0, \"#f0f921\"]], \"type\": \"heatmap\"}], \"heatmapgl\": [{\"colorbar\": {\"outlinewidth\": 0, \"ticks\": \"\"}, \"colorscale\": [[0.0, \"#0d0887\"], [0.1111111111111111, \"#46039f\"], [0.2222222222222222, \"#7201a8\"], [0.3333333333333333, \"#9c179e\"], [0.4444444444444444, \"#bd3786\"], [0.5555555555555556, \"#d8576b\"], [0.6666666666666666, \"#ed7953\"], [0.7777777777777778, \"#fb9f3a\"], [0.8888888888888888, \"#fdca26\"], [1.0, \"#f0f921\"]], \"type\": \"heatmapgl\"}], \"histogram\": [{\"marker\": {\"colorbar\": {\"outlinewidth\": 0, \"ticks\": \"\"}}, \"type\": \"histogram\"}], \"histogram2d\": [{\"colorbar\": {\"outlinewidth\": 0, \"ticks\": \"\"}, \"colorscale\": [[0.0, \"#0d0887\"], [0.1111111111111111, \"#46039f\"], [0.2222222222222222, \"#7201a8\"], [0.3333333333333333, \"#9c179e\"], [0.4444444444444444, \"#bd3786\"], [0.5555555555555556, \"#d8576b\"], [0.6666666666666666, \"#ed7953\"], [0.7777777777777778, \"#fb9f3a\"], [0.8888888888888888, \"#fdca26\"], [1.0, \"#f0f921\"]], \"type\": \"histogram2d\"}], \"histogram2dcontour\": [{\"colorbar\": {\"outlinewidth\": 0, \"ticks\": \"\"}, \"colorscale\": [[0.0, \"#0d0887\"], [0.1111111111111111, \"#46039f\"], [0.2222222222222222, \"#7201a8\"], [0.3333333333333333, \"#9c179e\"], [0.4444444444444444, \"#bd3786\"], [0.5555555555555556, \"#d8576b\"], [0.6666666666666666, \"#ed7953\"], [0.7777777777777778, \"#fb9f3a\"], [0.8888888888888888, \"#fdca26\"], [1.0, \"#f0f921\"]], \"type\": \"histogram2dcontour\"}], \"mesh3d\": [{\"colorbar\": {\"outlinewidth\": 0, \"ticks\": \"\"}, \"type\": \"mesh3d\"}], \"parcoords\": [{\"line\": {\"colorbar\": {\"outlinewidth\": 0, \"ticks\": \"\"}}, \"type\": \"parcoords\"}], \"pie\": [{\"automargin\": true, \"type\": \"pie\"}], \"scatter\": [{\"marker\": {\"colorbar\": {\"outlinewidth\": 0, \"ticks\": \"\"}}, \"type\": \"scatter\"}], \"scatter3d\": [{\"line\": {\"colorbar\": {\"outlinewidth\": 0, \"ticks\": \"\"}}, \"marker\": {\"colorbar\": {\"outlinewidth\": 0, \"ticks\": \"\"}}, \"type\": \"scatter3d\"}], \"scattercarpet\": [{\"marker\": {\"colorbar\": {\"outlinewidth\": 0, \"ticks\": \"\"}}, \"type\": \"scattercarpet\"}], \"scattergeo\": [{\"marker\": {\"colorbar\": {\"outlinewidth\": 0, \"ticks\": \"\"}}, \"type\": \"scattergeo\"}], \"scattergl\": [{\"marker\": {\"colorbar\": {\"outlinewidth\": 0, \"ticks\": \"\"}}, \"type\": \"scattergl\"}], \"scattermapbox\": [{\"marker\": {\"colorbar\": {\"outlinewidth\": 0, \"ticks\": \"\"}}, \"type\": \"scattermapbox\"}], \"scatterpolar\": [{\"marker\": {\"colorbar\": {\"outlinewidth\": 0, \"ticks\": \"\"}}, \"type\": \"scatterpolar\"}], \"scatterpolargl\": [{\"marker\": {\"colorbar\": {\"outlinewidth\": 0, \"ticks\": \"\"}}, \"type\": \"scatterpolargl\"}], \"scatterternary\": [{\"marker\": {\"colorbar\": {\"outlinewidth\": 0, \"ticks\": \"\"}}, \"type\": \"scatterternary\"}], \"surface\": [{\"colorbar\": {\"outlinewidth\": 0, \"ticks\": \"\"}, \"colorscale\": [[0.0, \"#0d0887\"], [0.1111111111111111, \"#46039f\"], [0.2222222222222222, \"#7201a8\"], [0.3333333333333333, \"#9c179e\"], [0.4444444444444444, \"#bd3786\"], [0.5555555555555556, \"#d8576b\"], [0.6666666666666666, \"#ed7953\"], [0.7777777777777778, \"#fb9f3a\"], [0.8888888888888888, \"#fdca26\"], [1.0, \"#f0f921\"]], \"type\": \"surface\"}], \"table\": [{\"cells\": {\"fill\": {\"color\": \"#EBF0F8\"}, \"line\": {\"color\": \"white\"}}, \"header\": {\"fill\": {\"color\": \"#C8D4E3\"}, \"line\": {\"color\": \"white\"}}, \"type\": \"table\"}]}, \"layout\": {\"annotationdefaults\": {\"arrowcolor\": \"#2a3f5f\", \"arrowhead\": 0, \"arrowwidth\": 1}, \"coloraxis\": {\"colorbar\": {\"outlinewidth\": 0, \"ticks\": \"\"}}, \"colorscale\": {\"diverging\": [[0, \"#8e0152\"], [0.1, \"#c51b7d\"], [0.2, \"#de77ae\"], [0.3, \"#f1b6da\"], [0.4, \"#fde0ef\"], [0.5, \"#f7f7f7\"], [0.6, \"#e6f5d0\"], [0.7, \"#b8e186\"], [0.8, \"#7fbc41\"], [0.9, \"#4d9221\"], [1, \"#276419\"]], \"sequential\": [[0.0, \"#0d0887\"], [0.1111111111111111, \"#46039f\"], [0.2222222222222222, \"#7201a8\"], [0.3333333333333333, \"#9c179e\"], [0.4444444444444444, \"#bd3786\"], [0.5555555555555556, \"#d8576b\"], [0.6666666666666666, \"#ed7953\"], [0.7777777777777778, \"#fb9f3a\"], [0.8888888888888888, \"#fdca26\"], [1.0, \"#f0f921\"]], \"sequentialminus\": [[0.0, \"#0d0887\"], [0.1111111111111111, \"#46039f\"], [0.2222222222222222, \"#7201a8\"], [0.3333333333333333, \"#9c179e\"], [0.4444444444444444, \"#bd3786\"], [0.5555555555555556, \"#d8576b\"], [0.6666666666666666, \"#ed7953\"], [0.7777777777777778, \"#fb9f3a\"], [0.8888888888888888, \"#fdca26\"], [1.0, \"#f0f921\"]]}, \"colorway\": [\"#636efa\", \"#EF553B\", \"#00cc96\", \"#ab63fa\", \"#FFA15A\", \"#19d3f3\", \"#FF6692\", \"#B6E880\", \"#FF97FF\", \"#FECB52\"], \"font\": {\"color\": \"#2a3f5f\"}, \"geo\": {\"bgcolor\": \"white\", \"lakecolor\": \"white\", \"landcolor\": \"#E5ECF6\", \"showlakes\": true, \"showland\": true, \"subunitcolor\": \"white\"}, \"hoverlabel\": {\"align\": \"left\"}, \"hovermode\": \"closest\", \"mapbox\": {\"style\": \"light\"}, \"paper_bgcolor\": \"white\", \"plot_bgcolor\": \"#E5ECF6\", \"polar\": {\"angularaxis\": {\"gridcolor\": \"white\", \"linecolor\": \"white\", \"ticks\": \"\"}, \"bgcolor\": \"#E5ECF6\", \"radialaxis\": {\"gridcolor\": \"white\", \"linecolor\": \"white\", \"ticks\": \"\"}}, \"scene\": {\"xaxis\": {\"backgroundcolor\": \"#E5ECF6\", \"gridcolor\": \"white\", \"gridwidth\": 2, \"linecolor\": \"white\", \"showbackground\": true, \"ticks\": \"\", \"zerolinecolor\": \"white\"}, \"yaxis\": {\"backgroundcolor\": \"#E5ECF6\", \"gridcolor\": \"white\", \"gridwidth\": 2, \"linecolor\": \"white\", \"showbackground\": true, \"ticks\": \"\", \"zerolinecolor\": \"white\"}, \"zaxis\": {\"backgroundcolor\": \"#E5ECF6\", \"gridcolor\": \"white\", \"gridwidth\": 2, \"linecolor\": \"white\", \"showbackground\": true, \"ticks\": \"\", \"zerolinecolor\": \"white\"}}, \"shapedefaults\": {\"line\": {\"color\": \"#2a3f5f\"}}, \"ternary\": {\"aaxis\": {\"gridcolor\": \"white\", \"linecolor\": \"white\", \"ticks\": \"\"}, \"baxis\": {\"gridcolor\": \"white\", \"linecolor\": \"white\", \"ticks\": \"\"}, \"bgcolor\": \"#E5ECF6\", \"caxis\": {\"gridcolor\": \"white\", \"linecolor\": \"white\", \"ticks\": \"\"}}, \"title\": {\"x\": 0.05}, \"xaxis\": {\"automargin\": true, \"gridcolor\": \"white\", \"linecolor\": \"white\", \"ticks\": \"\", \"title\": {\"standoff\": 15}, \"zerolinecolor\": \"white\", \"zerolinewidth\": 2}, \"yaxis\": {\"automargin\": true, \"gridcolor\": \"white\", \"linecolor\": \"white\", \"ticks\": \"\", \"title\": {\"standoff\": 15}, \"zerolinecolor\": \"white\", \"zerolinewidth\": 2}}}},\n",
              "                        {\"responsive\": true}\n",
              "                    ).then(function(){\n",
              "                            \n",
              "var gd = document.getElementById('b1a95634-1f40-4424-8cc0-2f81f895272d');\n",
              "var x = new MutationObserver(function (mutations, observer) {{\n",
              "        var display = window.getComputedStyle(gd).display;\n",
              "        if (!display || display === 'none') {{\n",
              "            console.log([gd, 'removed!']);\n",
              "            Plotly.purge(gd);\n",
              "            observer.disconnect();\n",
              "        }}\n",
              "}});\n",
              "\n",
              "// Listen for the removal of the full notebook cells\n",
              "var notebookContainer = gd.closest('#notebook-container');\n",
              "if (notebookContainer) {{\n",
              "    x.observe(notebookContainer, {childList: true});\n",
              "}}\n",
              "\n",
              "// Listen for the clearing of the current output cell\n",
              "var outputEl = gd.closest('.output');\n",
              "if (outputEl) {{\n",
              "    x.observe(outputEl, {childList: true});\n",
              "}}\n",
              "\n",
              "                        })\n",
              "                };\n",
              "                \n",
              "            </script>\n",
              "        </div>\n",
              "</body>\n",
              "</html>"
            ]
          },
          "metadata": {
            "tags": []
          }
        }
      ]
    },
    {
      "cell_type": "markdown",
      "metadata": {
        "id": "LKfepiiztINS"
      },
      "source": [
        "## Cross-validation and hyperparameter tuning\n",
        "\n",
        "We saw two approaches to tune hyperparameters so far: via grid-search and randomized-search\n",
        "\n",
        "We will show how to combine such hyperparameters search with a cross-validation"
      ]
    },
    {
      "cell_type": "markdown",
      "metadata": {
        "id": "4JVX4OxetdwY"
      },
      "source": [
        "### Our predictive model"
      ]
    },
    {
      "cell_type": "code",
      "metadata": {
        "colab": {
          "base_uri": "https://localhost:8080/",
          "height": 35
        },
        "id": "fYVlkAaVtlgN",
        "outputId": "300f3804-b3dd-49b5-9b47-116d6514d999"
      },
      "source": [
        "import sklearn\n",
        "sklearn.__version__"
      ],
      "execution_count": null,
      "outputs": [
        {
          "output_type": "execute_result",
          "data": {
            "application/vnd.google.colaboratory.intrinsic+json": {
              "type": "string"
            },
            "text/plain": [
              "'0.24.2'"
            ]
          },
          "metadata": {
            "tags": []
          },
          "execution_count": 1
        }
      ]
    },
    {
      "cell_type": "code",
      "metadata": {
        "id": "M10dmkMqEeaF"
      },
      "source": [
        "from sklearn import set_config\n",
        "set_config(display=\"diagram\")"
      ],
      "execution_count": null,
      "outputs": []
    },
    {
      "cell_type": "code",
      "metadata": {
        "id": "3j33rgsytjSj"
      },
      "source": [
        "import pandas as pd \n",
        "adult_census = pd.read_csv(\"/content/drive/MyDrive/Colab Notebooks/scikit-learn-mooc/datasets/adult-census.csv\")"
      ],
      "execution_count": null,
      "outputs": []
    },
    {
      "cell_type": "code",
      "metadata": {
        "colab": {
          "base_uri": "https://localhost:8080/"
        },
        "id": "-ICA-aNXt7m2",
        "outputId": "5739b3cf-6888-404d-8f18-9ff401f216a7"
      },
      "source": [
        "target_name = \"class\"\n",
        "target = adult_census[target_name]\n",
        "target"
      ],
      "execution_count": null,
      "outputs": [
        {
          "output_type": "execute_result",
          "data": {
            "text/plain": [
              "0         <=50K\n",
              "1         <=50K\n",
              "2          >50K\n",
              "3          >50K\n",
              "4         <=50K\n",
              "          ...  \n",
              "48837     <=50K\n",
              "48838      >50K\n",
              "48839     <=50K\n",
              "48840     <=50K\n",
              "48841      >50K\n",
              "Name: class, Length: 48842, dtype: object"
            ]
          },
          "metadata": {
            "tags": []
          },
          "execution_count": 4
        }
      ]
    },
    {
      "cell_type": "code",
      "metadata": {
        "colab": {
          "base_uri": "https://localhost:8080/",
          "height": 343
        },
        "id": "hFWvde_zuAfn",
        "outputId": "ca7498ec-a024-4997-ab58-6c51af633add"
      },
      "source": [
        "data = adult_census.drop(columns=[target_name, \"education-num\"])\n",
        "data.head()"
      ],
      "execution_count": null,
      "outputs": [
        {
          "output_type": "execute_result",
          "data": {
            "text/html": [
              "<div>\n",
              "<style scoped>\n",
              "    .dataframe tbody tr th:only-of-type {\n",
              "        vertical-align: middle;\n",
              "    }\n",
              "\n",
              "    .dataframe tbody tr th {\n",
              "        vertical-align: top;\n",
              "    }\n",
              "\n",
              "    .dataframe thead th {\n",
              "        text-align: right;\n",
              "    }\n",
              "</style>\n",
              "<table border=\"1\" class=\"dataframe\">\n",
              "  <thead>\n",
              "    <tr style=\"text-align: right;\">\n",
              "      <th></th>\n",
              "      <th>age</th>\n",
              "      <th>workclass</th>\n",
              "      <th>education</th>\n",
              "      <th>marital-status</th>\n",
              "      <th>occupation</th>\n",
              "      <th>relationship</th>\n",
              "      <th>race</th>\n",
              "      <th>sex</th>\n",
              "      <th>capital-gain</th>\n",
              "      <th>capital-loss</th>\n",
              "      <th>hours-per-week</th>\n",
              "      <th>native-country</th>\n",
              "    </tr>\n",
              "  </thead>\n",
              "  <tbody>\n",
              "    <tr>\n",
              "      <th>0</th>\n",
              "      <td>25</td>\n",
              "      <td>Private</td>\n",
              "      <td>11th</td>\n",
              "      <td>Never-married</td>\n",
              "      <td>Machine-op-inspct</td>\n",
              "      <td>Own-child</td>\n",
              "      <td>Black</td>\n",
              "      <td>Male</td>\n",
              "      <td>0</td>\n",
              "      <td>0</td>\n",
              "      <td>40</td>\n",
              "      <td>United-States</td>\n",
              "    </tr>\n",
              "    <tr>\n",
              "      <th>1</th>\n",
              "      <td>38</td>\n",
              "      <td>Private</td>\n",
              "      <td>HS-grad</td>\n",
              "      <td>Married-civ-spouse</td>\n",
              "      <td>Farming-fishing</td>\n",
              "      <td>Husband</td>\n",
              "      <td>White</td>\n",
              "      <td>Male</td>\n",
              "      <td>0</td>\n",
              "      <td>0</td>\n",
              "      <td>50</td>\n",
              "      <td>United-States</td>\n",
              "    </tr>\n",
              "    <tr>\n",
              "      <th>2</th>\n",
              "      <td>28</td>\n",
              "      <td>Local-gov</td>\n",
              "      <td>Assoc-acdm</td>\n",
              "      <td>Married-civ-spouse</td>\n",
              "      <td>Protective-serv</td>\n",
              "      <td>Husband</td>\n",
              "      <td>White</td>\n",
              "      <td>Male</td>\n",
              "      <td>0</td>\n",
              "      <td>0</td>\n",
              "      <td>40</td>\n",
              "      <td>United-States</td>\n",
              "    </tr>\n",
              "    <tr>\n",
              "      <th>3</th>\n",
              "      <td>44</td>\n",
              "      <td>Private</td>\n",
              "      <td>Some-college</td>\n",
              "      <td>Married-civ-spouse</td>\n",
              "      <td>Machine-op-inspct</td>\n",
              "      <td>Husband</td>\n",
              "      <td>Black</td>\n",
              "      <td>Male</td>\n",
              "      <td>7688</td>\n",
              "      <td>0</td>\n",
              "      <td>40</td>\n",
              "      <td>United-States</td>\n",
              "    </tr>\n",
              "    <tr>\n",
              "      <th>4</th>\n",
              "      <td>18</td>\n",
              "      <td>?</td>\n",
              "      <td>Some-college</td>\n",
              "      <td>Never-married</td>\n",
              "      <td>?</td>\n",
              "      <td>Own-child</td>\n",
              "      <td>White</td>\n",
              "      <td>Female</td>\n",
              "      <td>0</td>\n",
              "      <td>0</td>\n",
              "      <td>30</td>\n",
              "      <td>United-States</td>\n",
              "    </tr>\n",
              "  </tbody>\n",
              "</table>\n",
              "</div>"
            ],
            "text/plain": [
              "   age   workclass      education  ... capital-loss hours-per-week  native-country\n",
              "0   25     Private           11th  ...            0             40   United-States\n",
              "1   38     Private        HS-grad  ...            0             50   United-States\n",
              "2   28   Local-gov     Assoc-acdm  ...            0             40   United-States\n",
              "3   44     Private   Some-college  ...            0             40   United-States\n",
              "4   18           ?   Some-college  ...            0             30   United-States\n",
              "\n",
              "[5 rows x 12 columns]"
            ]
          },
          "metadata": {
            "tags": []
          },
          "execution_count": 5
        }
      ]
    },
    {
      "cell_type": "code",
      "metadata": {
        "id": "rDNtQKNvuIW-"
      },
      "source": [
        "# split it into a training and testing sets\n",
        "from sklearn.model_selection import train_test_split\n",
        "\n",
        "data_train, data_test, target_train, target_test = train_test_split(data, target, random_state=42)"
      ],
      "execution_count": null,
      "outputs": []
    },
    {
      "cell_type": "code",
      "metadata": {
        "id": "-hDeA13ludcP"
      },
      "source": [
        "# create the same predictive pipeline as seen in the grid-search section\n",
        "from sklearn.compose import ColumnTransformer\n",
        "from sklearn.preprocessing import OrdinalEncoder\n",
        "from sklearn.compose import make_column_selector as selector \n",
        "\n",
        "categorical_columns_selector = selector(dtype_include=object)\n",
        "categorical_columns = categorical_columns_selector(data)\n",
        "\n",
        "categorical_preprocessor = OrdinalEncoder(handle_unknown=\"use_encoded_value\", unknown_value=-1)\n",
        "\n",
        "preprocessor = ColumnTransformer([\n",
        "    ('cat-preprocessor', categorical_preprocessor, categorical_columns)\n",
        "], remainder=\"passthrough\", sparse_threshold=0)"
      ],
      "execution_count": null,
      "outputs": []
    },
    {
      "cell_type": "code",
      "metadata": {
        "colab": {
          "base_uri": "https://localhost:8080/",
          "height": 164
        },
        "id": "vmNbqZqCvQT3",
        "outputId": "70136dee-7028-4eeb-bf0e-cbd665da5c1c"
      },
      "source": [
        "# for the moment this line is required to import HistGradientBoostingClassifier\n",
        "from sklearn.experimental import enable_hist_gradient_boosting\n",
        "from sklearn.ensemble import HistGradientBoostingClassifier\n",
        "from sklearn.pipeline import Pipeline\n",
        "\n",
        "model = Pipeline([ \n",
        "    (\"preprocessor\", preprocessor),\n",
        "    (\"classifier\", HistGradientBoostingClassifier(random_state=42, max_leaf_nodes=4))\n",
        "])\n",
        "model"
      ],
      "execution_count": null,
      "outputs": [
        {
          "output_type": "execute_result",
          "data": {
            "text/html": [
              "<style>#sk-25062774-4696-4261-be82-7ebb7403aa0c {color: black;background-color: white;}#sk-25062774-4696-4261-be82-7ebb7403aa0c pre{padding: 0;}#sk-25062774-4696-4261-be82-7ebb7403aa0c div.sk-toggleable {background-color: white;}#sk-25062774-4696-4261-be82-7ebb7403aa0c label.sk-toggleable__label {cursor: pointer;display: block;width: 100%;margin-bottom: 0;padding: 0.2em 0.3em;box-sizing: border-box;text-align: center;}#sk-25062774-4696-4261-be82-7ebb7403aa0c div.sk-toggleable__content {max-height: 0;max-width: 0;overflow: hidden;text-align: left;background-color: #f0f8ff;}#sk-25062774-4696-4261-be82-7ebb7403aa0c div.sk-toggleable__content pre {margin: 0.2em;color: black;border-radius: 0.25em;background-color: #f0f8ff;}#sk-25062774-4696-4261-be82-7ebb7403aa0c input.sk-toggleable__control:checked~div.sk-toggleable__content {max-height: 200px;max-width: 100%;overflow: auto;}#sk-25062774-4696-4261-be82-7ebb7403aa0c div.sk-estimator input.sk-toggleable__control:checked~label.sk-toggleable__label {background-color: #d4ebff;}#sk-25062774-4696-4261-be82-7ebb7403aa0c div.sk-label input.sk-toggleable__control:checked~label.sk-toggleable__label {background-color: #d4ebff;}#sk-25062774-4696-4261-be82-7ebb7403aa0c input.sk-hidden--visually {border: 0;clip: rect(1px 1px 1px 1px);clip: rect(1px, 1px, 1px, 1px);height: 1px;margin: -1px;overflow: hidden;padding: 0;position: absolute;width: 1px;}#sk-25062774-4696-4261-be82-7ebb7403aa0c div.sk-estimator {font-family: monospace;background-color: #f0f8ff;margin: 0.25em 0.25em;border: 1px dotted black;border-radius: 0.25em;box-sizing: border-box;}#sk-25062774-4696-4261-be82-7ebb7403aa0c div.sk-estimator:hover {background-color: #d4ebff;}#sk-25062774-4696-4261-be82-7ebb7403aa0c div.sk-parallel-item::after {content: \"\";width: 100%;border-bottom: 1px solid gray;flex-grow: 1;}#sk-25062774-4696-4261-be82-7ebb7403aa0c div.sk-label:hover label.sk-toggleable__label {background-color: #d4ebff;}#sk-25062774-4696-4261-be82-7ebb7403aa0c div.sk-serial::before {content: \"\";position: absolute;border-left: 1px solid gray;box-sizing: border-box;top: 2em;bottom: 0;left: 50%;}#sk-25062774-4696-4261-be82-7ebb7403aa0c div.sk-serial {display: flex;flex-direction: column;align-items: center;background-color: white;}#sk-25062774-4696-4261-be82-7ebb7403aa0c div.sk-item {z-index: 1;}#sk-25062774-4696-4261-be82-7ebb7403aa0c div.sk-parallel {display: flex;align-items: stretch;justify-content: center;background-color: white;}#sk-25062774-4696-4261-be82-7ebb7403aa0c div.sk-parallel-item {display: flex;flex-direction: column;position: relative;background-color: white;}#sk-25062774-4696-4261-be82-7ebb7403aa0c div.sk-parallel-item:first-child::after {align-self: flex-end;width: 50%;}#sk-25062774-4696-4261-be82-7ebb7403aa0c div.sk-parallel-item:last-child::after {align-self: flex-start;width: 50%;}#sk-25062774-4696-4261-be82-7ebb7403aa0c div.sk-parallel-item:only-child::after {width: 0;}#sk-25062774-4696-4261-be82-7ebb7403aa0c div.sk-dashed-wrapped {border: 1px dashed gray;margin: 0.2em;box-sizing: border-box;padding-bottom: 0.1em;background-color: white;position: relative;}#sk-25062774-4696-4261-be82-7ebb7403aa0c div.sk-label label {font-family: monospace;font-weight: bold;background-color: white;display: inline-block;line-height: 1.2em;}#sk-25062774-4696-4261-be82-7ebb7403aa0c div.sk-label-container {position: relative;z-index: 2;text-align: center;}#sk-25062774-4696-4261-be82-7ebb7403aa0c div.sk-container {display: inline-block;position: relative;}</style><div id=\"sk-25062774-4696-4261-be82-7ebb7403aa0c\" class\"sk-top-container\"><div class=\"sk-container\"><div class=\"sk-item sk-dashed-wrapped\"><div class=\"sk-label-container\"><div class=\"sk-label sk-toggleable\"><input class=\"sk-toggleable__control sk-hidden--visually\" id=\"022fc9be-1ed7-4e24-b160-2c96ad2134ac\" type=\"checkbox\" ><label class=\"sk-toggleable__label\" for=\"022fc9be-1ed7-4e24-b160-2c96ad2134ac\">Pipeline</label><div class=\"sk-toggleable__content\"><pre>Pipeline(steps=[('preprocessor',\n",
              "                 ColumnTransformer(remainder='passthrough', sparse_threshold=0,\n",
              "                                   transformers=[('cat-preprocessor',\n",
              "                                                  OrdinalEncoder(handle_unknown='use_encoded_value',\n",
              "                                                                 unknown_value=-1),\n",
              "                                                  ['workclass', 'education',\n",
              "                                                   'marital-status',\n",
              "                                                   'occupation', 'relationship',\n",
              "                                                   'race', 'sex',\n",
              "                                                   'native-country'])])),\n",
              "                ('classifier',\n",
              "                 HistGradientBoostingClassifier(max_leaf_nodes=4,\n",
              "                                                random_state=42))])</pre></div></div></div><div class=\"sk-serial\"><div class=\"sk-item sk-dashed-wrapped\"><div class=\"sk-label-container\"><div class=\"sk-label sk-toggleable\"><input class=\"sk-toggleable__control sk-hidden--visually\" id=\"d420c5a1-c2dd-4c8f-b526-136a5809079f\" type=\"checkbox\" ><label class=\"sk-toggleable__label\" for=\"d420c5a1-c2dd-4c8f-b526-136a5809079f\">preprocessor: ColumnTransformer</label><div class=\"sk-toggleable__content\"><pre>ColumnTransformer(remainder='passthrough', sparse_threshold=0,\n",
              "                  transformers=[('cat-preprocessor',\n",
              "                                 OrdinalEncoder(handle_unknown='use_encoded_value',\n",
              "                                                unknown_value=-1),\n",
              "                                 ['workclass', 'education', 'marital-status',\n",
              "                                  'occupation', 'relationship', 'race', 'sex',\n",
              "                                  'native-country'])])</pre></div></div></div><div class=\"sk-parallel\"><div class=\"sk-parallel-item\"><div class=\"sk-item\"><div class=\"sk-label-container\"><div class=\"sk-label sk-toggleable\"><input class=\"sk-toggleable__control sk-hidden--visually\" id=\"2ab042af-6db1-4d08-a6a5-043fcfeb4f21\" type=\"checkbox\" ><label class=\"sk-toggleable__label\" for=\"2ab042af-6db1-4d08-a6a5-043fcfeb4f21\">cat-preprocessor</label><div class=\"sk-toggleable__content\"><pre>['workclass', 'education', 'marital-status', 'occupation', 'relationship', 'race', 'sex', 'native-country']</pre></div></div></div><div class=\"sk-serial\"><div class=\"sk-item\"><div class=\"sk-estimator sk-toggleable\"><input class=\"sk-toggleable__control sk-hidden--visually\" id=\"ecae3b23-c1a3-4c4f-b93b-6945f7929397\" type=\"checkbox\" ><label class=\"sk-toggleable__label\" for=\"ecae3b23-c1a3-4c4f-b93b-6945f7929397\">OrdinalEncoder</label><div class=\"sk-toggleable__content\"><pre>OrdinalEncoder(handle_unknown='use_encoded_value', unknown_value=-1)</pre></div></div></div></div></div></div><div class=\"sk-parallel-item\"><div class=\"sk-item\"><div class=\"sk-label-container\"><div class=\"sk-label sk-toggleable\"><input class=\"sk-toggleable__control sk-hidden--visually\" id=\"ba79f9cc-152f-4d4b-9fbb-9c57eb042e59\" type=\"checkbox\" ><label class=\"sk-toggleable__label\" for=\"ba79f9cc-152f-4d4b-9fbb-9c57eb042e59\">remainder</label><div class=\"sk-toggleable__content\"><pre></pre></div></div></div><div class=\"sk-serial\"><div class=\"sk-item\"><div class=\"sk-estimator sk-toggleable\"><input class=\"sk-toggleable__control sk-hidden--visually\" id=\"082fc1d3-a1ed-4ca4-842b-f9449995e608\" type=\"checkbox\" ><label class=\"sk-toggleable__label\" for=\"082fc1d3-a1ed-4ca4-842b-f9449995e608\">passthrough</label><div class=\"sk-toggleable__content\"><pre>passthrough</pre></div></div></div></div></div></div></div></div><div class=\"sk-item\"><div class=\"sk-estimator sk-toggleable\"><input class=\"sk-toggleable__control sk-hidden--visually\" id=\"3bc1ae72-e8f7-4d87-9af5-ff11796835f8\" type=\"checkbox\" ><label class=\"sk-toggleable__label\" for=\"3bc1ae72-e8f7-4d87-9af5-ff11796835f8\">HistGradientBoostingClassifier</label><div class=\"sk-toggleable__content\"><pre>HistGradientBoostingClassifier(max_leaf_nodes=4, random_state=42)</pre></div></div></div></div></div></div></div>"
            ],
            "text/plain": [
              "Pipeline(steps=[('preprocessor',\n",
              "                 ColumnTransformer(remainder='passthrough', sparse_threshold=0,\n",
              "                                   transformers=[('cat-preprocessor',\n",
              "                                                  OrdinalEncoder(handle_unknown='use_encoded_value',\n",
              "                                                                 unknown_value=-1),\n",
              "                                                  ['workclass', 'education',\n",
              "                                                   'marital-status',\n",
              "                                                   'occupation', 'relationship',\n",
              "                                                   'race', 'sex',\n",
              "                                                   'native-country'])])),\n",
              "                ('classifier',\n",
              "                 HistGradientBoostingClassifier(max_leaf_nodes=4,\n",
              "                                                random_state=42))])"
            ]
          },
          "metadata": {
            "tags": []
          },
          "execution_count": 9
        }
      ]
    },
    {
      "cell_type": "markdown",
      "metadata": {
        "id": "wl5y_C7mv8-i"
      },
      "source": [
        "### Include a hyperparameter search within a cross-validation\n",
        "\n",
        "As mentioned earlier, using a single train-test split during the grid-search does not give any information regarding the different sources of variations: variations in terms of test score or hyperparameters values.\n",
        "\n",
        "To get reliable information, the hyperparameters search need to be nested within a cross-validation."
      ]
    },
    {
      "cell_type": "code",
      "metadata": {
        "id": "5MGX2ou0vgsV"
      },
      "source": [
        "from sklearn.model_selection import cross_validate\n",
        "from sklearn.model_selection import GridSearchCV\n",
        "\n",
        "param_grid = {\n",
        "    \"classifier__learning_rate\": (0.05, 0.1),\n",
        "    \"classifier__max_leaf_nodes\": (30, 40)\n",
        "}\n",
        "model_grid_search = GridSearchCV(model, param_grid = param_grid, n_jobs=4, cv=2)\n",
        "\n",
        "cv_results = cross_validate(model_grid_search, data, target, cv=3, return_estimator=True)"
      ],
      "execution_count": null,
      "outputs": []
    },
    {
      "cell_type": "code",
      "metadata": {
        "colab": {
          "base_uri": "https://localhost:8080/"
        },
        "id": "QpQzLj8-zzkf",
        "outputId": "7665a95b-e0e2-4c78-ef40-1ff1637e50c4"
      },
      "source": [
        "scores = cv_results[\"test_score\"]\n",
        "print(f\"Accuracy score by cross-validation combined with hyperparameters \"\n",
        "      f\"search:\\n{scores.mean():.3f} +/- {scores.std():.3f}\")"
      ],
      "execution_count": null,
      "outputs": [
        {
          "output_type": "stream",
          "text": [
            "Accuracy score by cross-validation combined with hyperparameters search:\n",
            "0.872 +/- 0.002\n"
          ],
          "name": "stdout"
        }
      ]
    },
    {
      "cell_type": "code",
      "metadata": {
        "colab": {
          "base_uri": "https://localhost:8080/"
        },
        "id": "ESx7icJJ0IPu",
        "outputId": "f2ab299e-1bb3-4ac1-985f-3aca59d138a2"
      },
      "source": [
        "# the hyperparamters on each fold are pontentially different since we nested the grid-search\n",
        "# in the cross-validation. Thus, checking the variation of the hyperparameters across folds\n",
        "# should also be analyzed\n",
        "for fold_idx, estimator in enumerate(cv_results[\"estimator\"]):\n",
        "  print(f\"Best parameter found on fold#{fold_idx+1}\")\n",
        "  print(f\"{estimator.best_params_}\")"
      ],
      "execution_count": null,
      "outputs": [
        {
          "output_type": "stream",
          "text": [
            "Best parameter found on fold#1\n",
            "{'classifier__learning_rate': 0.1, 'classifier__max_leaf_nodes': 40}\n",
            "Best parameter found on fold#2\n",
            "{'classifier__learning_rate': 0.1, 'classifier__max_leaf_nodes': 30}\n",
            "Best parameter found on fold#3\n",
            "{'classifier__learning_rate': 0.05, 'classifier__max_leaf_nodes': 30}\n"
          ],
          "name": "stdout"
        }
      ]
    },
    {
      "cell_type": "markdown",
      "metadata": {
        "id": "ya7sI_Dt0shj"
      },
      "source": [
        "## Exercise M3.02"
      ]
    },
    {
      "cell_type": "code",
      "metadata": {
        "colab": {
          "base_uri": "https://localhost:8080/",
          "height": 35
        },
        "id": "qZTNkxrb2Vqr",
        "outputId": "ed396f24-6fad-42fc-f243-8492f2e19bc8"
      },
      "source": [
        "# !pip uninstall scikit-learn\n",
        "# !pip install scikit-learn\n",
        "import sklearn \n",
        "sklearn.__version__"
      ],
      "execution_count": null,
      "outputs": [
        {
          "output_type": "execute_result",
          "data": {
            "application/vnd.google.colaboratory.intrinsic+json": {
              "type": "string"
            },
            "text/plain": [
              "'0.24.2'"
            ]
          },
          "metadata": {
            "tags": []
          },
          "execution_count": 1
        }
      ]
    },
    {
      "cell_type": "code",
      "metadata": {
        "id": "5kEZ86470kyQ"
      },
      "source": [
        "import numpy as np \n",
        "import pandas as pd\n",
        "\n",
        "adult_census = pd.read_csv(\"/content/drive/MyDrive/Colab Notebooks/scikit-learn-mooc/datasets/adult-census.csv\")\n",
        "\n",
        "target_name = \"class\"\n",
        "target = adult_census[target_name]\n",
        "data = adult_census.drop(columns=[target_name, \"education-num\"])\n",
        "\n",
        "from sklearn.model_selection import train_test_split\n",
        "data_train, data_test, target_train, target_test = train_test_split(data, target, random_state=42)"
      ],
      "execution_count": null,
      "outputs": []
    },
    {
      "cell_type": "code",
      "metadata": {
        "id": "OLEGZuNP1TKR"
      },
      "source": [
        "from sklearn.preprocessing import OneHotEncoder\n",
        "from sklearn.preprocessing import StandardScaler\n",
        "from sklearn.compose import ColumnTransformer \n",
        "from sklearn.compose import make_column_selector as selector \n",
        "from sklearn.pipeline import make_pipeline\n",
        "from sklearn.linear_model import LogisticRegression\n"
      ],
      "execution_count": null,
      "outputs": []
    },
    {
      "cell_type": "code",
      "metadata": {
        "id": "-wwXpIi3jSLu"
      },
      "source": [
        "numerical_preprocessor = StandardScaler()\n",
        "numerical_columns_selector = selector(dtype_exclude=object)\n",
        "numerical_columns = numerical_columns_selector(data)\n",
        "\n",
        "categorical_preprocessor = OneHotEncoder(handle_unknown=\"ignore\")\n",
        "categorical_columns_selector = selector(dtype_include=object)\n",
        "categorical_columns = categorical_columns_selector(data)\n",
        "\n",
        "preprocessor = ColumnTransformer(\n",
        "    [('num-preprocessor', numerical_preprocessor, numerical_columns),\n",
        "     ('cat-preprocessor', categorical_preprocessor, categorical_columns)],\n",
        "    remainder='passthrough', sparse_threshold=0\n",
        ")\n",
        "\n",
        "model = make_pipeline(preprocessor, LogisticRegression())"
      ],
      "execution_count": null,
      "outputs": []
    },
    {
      "cell_type": "code",
      "metadata": {
        "colab": {
          "base_uri": "https://localhost:8080/"
        },
        "id": "1cBxCzRQ3XSe",
        "outputId": "86df1142-6e48-400e-d4c7-44a6885236fc"
      },
      "source": [
        "model.get_params()"
      ],
      "execution_count": null,
      "outputs": [
        {
          "output_type": "execute_result",
          "data": {
            "text/plain": [
              "{'columntransformer': ColumnTransformer(remainder='passthrough', sparse_threshold=0,\n",
              "                   transformers=[('num-preprocessor', StandardScaler(),\n",
              "                                  ['age', 'capital-gain', 'capital-loss',\n",
              "                                   'hours-per-week']),\n",
              "                                 ('cat-preprocessor',\n",
              "                                  OneHotEncoder(handle_unknown='ignore'),\n",
              "                                  ['workclass', 'education', 'marital-status',\n",
              "                                   'occupation', 'relationship', 'race', 'sex',\n",
              "                                   'native-country'])]),\n",
              " 'columntransformer__cat-preprocessor': OneHotEncoder(handle_unknown='ignore'),\n",
              " 'columntransformer__cat-preprocessor__categories': 'auto',\n",
              " 'columntransformer__cat-preprocessor__drop': None,\n",
              " 'columntransformer__cat-preprocessor__dtype': numpy.float64,\n",
              " 'columntransformer__cat-preprocessor__handle_unknown': 'ignore',\n",
              " 'columntransformer__cat-preprocessor__sparse': True,\n",
              " 'columntransformer__n_jobs': None,\n",
              " 'columntransformer__num-preprocessor': StandardScaler(),\n",
              " 'columntransformer__num-preprocessor__copy': True,\n",
              " 'columntransformer__num-preprocessor__with_mean': True,\n",
              " 'columntransformer__num-preprocessor__with_std': True,\n",
              " 'columntransformer__remainder': 'passthrough',\n",
              " 'columntransformer__sparse_threshold': 0,\n",
              " 'columntransformer__transformer_weights': None,\n",
              " 'columntransformer__transformers': [('num-preprocessor',\n",
              "   StandardScaler(),\n",
              "   ['age', 'capital-gain', 'capital-loss', 'hours-per-week']),\n",
              "  ('cat-preprocessor',\n",
              "   OneHotEncoder(handle_unknown='ignore'),\n",
              "   ['workclass',\n",
              "    'education',\n",
              "    'marital-status',\n",
              "    'occupation',\n",
              "    'relationship',\n",
              "    'race',\n",
              "    'sex',\n",
              "    'native-country'])],\n",
              " 'columntransformer__verbose': False,\n",
              " 'logisticregression': LogisticRegression(),\n",
              " 'logisticregression__C': 1.0,\n",
              " 'logisticregression__class_weight': None,\n",
              " 'logisticregression__dual': False,\n",
              " 'logisticregression__fit_intercept': True,\n",
              " 'logisticregression__intercept_scaling': 1,\n",
              " 'logisticregression__l1_ratio': None,\n",
              " 'logisticregression__max_iter': 100,\n",
              " 'logisticregression__multi_class': 'auto',\n",
              " 'logisticregression__n_jobs': None,\n",
              " 'logisticregression__penalty': 'l2',\n",
              " 'logisticregression__random_state': None,\n",
              " 'logisticregression__solver': 'lbfgs',\n",
              " 'logisticregression__tol': 0.0001,\n",
              " 'logisticregression__verbose': 0,\n",
              " 'logisticregression__warm_start': False,\n",
              " 'memory': None,\n",
              " 'steps': [('columntransformer',\n",
              "   ColumnTransformer(remainder='passthrough', sparse_threshold=0,\n",
              "                     transformers=[('num-preprocessor', StandardScaler(),\n",
              "                                    ['age', 'capital-gain', 'capital-loss',\n",
              "                                     'hours-per-week']),\n",
              "                                   ('cat-preprocessor',\n",
              "                                    OneHotEncoder(handle_unknown='ignore'),\n",
              "                                    ['workclass', 'education', 'marital-status',\n",
              "                                     'occupation', 'relationship', 'race', 'sex',\n",
              "                                     'native-country'])])),\n",
              "  ('logisticregression', LogisticRegression())],\n",
              " 'verbose': False}"
            ]
          },
          "metadata": {
            "tags": []
          },
          "execution_count": 6
        }
      ]
    },
    {
      "cell_type": "code",
      "metadata": {
        "id": "gj9LyZm5jeNi",
        "colab": {
          "base_uri": "https://localhost:8080/"
        },
        "outputId": "2c53f7c4-b5bb-47f5-d561-2331e078e454"
      },
      "source": [
        "from sklearn.model_selection import RandomizedSearchCV \n",
        "from scipy.stats import loguniform\n",
        "\n",
        "param_distributions = {\n",
        "    'logisticregression__C': loguniform(0.001, 10),\n",
        "    'columntransformer__num-preprocessor__with_mean':[True, False],\n",
        "    'columntransformer__num-preprocessor__with_std':[True, False],\n",
        "}\n",
        "\n",
        "model_random_search = RandomizedSearchCV(\n",
        "    model, param_distributions=param_distributions,\n",
        "    n_iter=20, error_score=np.nan, n_jobs=2, verbose=1, random_state=1\n",
        ")\n",
        "\n",
        "model_random_search.fit(data_train, target_train)\n",
        "model_random_search.best_params_"
      ],
      "execution_count": null,
      "outputs": [
        {
          "output_type": "stream",
          "text": [
            "Fitting 5 folds for each of 20 candidates, totalling 100 fits\n"
          ],
          "name": "stdout"
        },
        {
          "output_type": "stream",
          "text": [
            "/usr/local/lib/python3.7/dist-packages/sklearn/linear_model/_logistic.py:765: ConvergenceWarning: lbfgs failed to converge (status=1):\n",
            "STOP: TOTAL NO. of ITERATIONS REACHED LIMIT.\n",
            "\n",
            "Increase the number of iterations (max_iter) or scale the data as shown in:\n",
            "    https://scikit-learn.org/stable/modules/preprocessing.html\n",
            "Please also refer to the documentation for alternative solver options:\n",
            "    https://scikit-learn.org/stable/modules/linear_model.html#logistic-regression\n",
            "  extra_warning_msg=_LOGISTIC_SOLVER_CONVERGENCE_MSG)\n"
          ],
          "name": "stderr"
        },
        {
          "output_type": "execute_result",
          "data": {
            "text/plain": [
              "{'columntransformer__num-preprocessor__with_mean': True,\n",
              " 'columntransformer__num-preprocessor__with_std': True,\n",
              " 'logisticregression__C': 2.1802318892988515}"
            ]
          },
          "metadata": {
            "tags": []
          },
          "execution_count": 8
        }
      ]
    },
    {
      "cell_type": "code",
      "metadata": {
        "id": "2_Yub-Yi4Bnb"
      },
      "source": [
        "from sklearn.model_selection import GridSearchCV\n",
        "?GridSearchCV"
      ],
      "execution_count": null,
      "outputs": []
    },
    {
      "cell_type": "markdown",
      "metadata": {
        "id": "SRqcq07ZCiLY"
      },
      "source": [
        "# Wrap-up quiz 3"
      ]
    },
    {
      "cell_type": "code",
      "metadata": {
        "id": "dcdw1f6o6Sgc"
      },
      "source": [
        "import pandas as pd\n",
        "\n",
        "penguins = pd.read_csv(\"/content/drive/MyDrive/Colab Notebooks/scikit-learn-mooc/scikit-learn-mooc-master/datasets/penguins.csv\")\n",
        "\n",
        "columns = [\"Body Mass (g)\", \"Flipper Length (mm)\", \"Culmen Length (mm)\"]\n",
        "target_name = \"Species\"\n",
        "\n",
        "# Remove lines with missing values for the columns of interestes\n",
        "penguins_non_missing = penguins[columns + [target_name]].dropna()\n",
        "\n",
        "data = penguins_non_missing[columns]\n",
        "target = penguins_non_missing[target_name]"
      ],
      "execution_count": null,
      "outputs": []
    },
    {
      "cell_type": "code",
      "metadata": {
        "colab": {
          "base_uri": "https://localhost:8080/"
        },
        "id": "T2jzrrxyEYD-",
        "outputId": "14ae2501-fd50-49ba-e535-8dd3a7bf2403"
      },
      "source": [
        "penguins.isnull().sum()"
      ],
      "execution_count": null,
      "outputs": [
        {
          "output_type": "execute_result",
          "data": {
            "text/plain": [
              "studyName                0\n",
              "Sample Number            0\n",
              "Species                  0\n",
              "Region                   0\n",
              "Island                   0\n",
              "Stage                    0\n",
              "Individual ID            0\n",
              "Clutch Completion        0\n",
              "Date Egg                 0\n",
              "Culmen Length (mm)       2\n",
              "Culmen Depth (mm)        2\n",
              "Flipper Length (mm)      2\n",
              "Body Mass (g)            2\n",
              "Sex                     10\n",
              "Delta 15 N (o/oo)       14\n",
              "Delta 13 C (o/oo)       13\n",
              "Comments               290\n",
              "dtype: int64"
            ]
          },
          "metadata": {
            "tags": []
          },
          "execution_count": 16
        }
      ]
    },
    {
      "cell_type": "code",
      "metadata": {
        "colab": {
          "base_uri": "https://localhost:8080/",
          "height": 314
        },
        "id": "KLLTs6JnCpPc",
        "outputId": "e3c3c575-4237-4f5e-9212-e7e45ed58f6d"
      },
      "source": [
        "penguins.describe()"
      ],
      "execution_count": null,
      "outputs": [
        {
          "output_type": "execute_result",
          "data": {
            "text/html": [
              "<div>\n",
              "<style scoped>\n",
              "    .dataframe tbody tr th:only-of-type {\n",
              "        vertical-align: middle;\n",
              "    }\n",
              "\n",
              "    .dataframe tbody tr th {\n",
              "        vertical-align: top;\n",
              "    }\n",
              "\n",
              "    .dataframe thead th {\n",
              "        text-align: right;\n",
              "    }\n",
              "</style>\n",
              "<table border=\"1\" class=\"dataframe\">\n",
              "  <thead>\n",
              "    <tr style=\"text-align: right;\">\n",
              "      <th></th>\n",
              "      <th>Sample Number</th>\n",
              "      <th>Culmen Length (mm)</th>\n",
              "      <th>Culmen Depth (mm)</th>\n",
              "      <th>Flipper Length (mm)</th>\n",
              "      <th>Body Mass (g)</th>\n",
              "      <th>Delta 15 N (o/oo)</th>\n",
              "      <th>Delta 13 C (o/oo)</th>\n",
              "    </tr>\n",
              "  </thead>\n",
              "  <tbody>\n",
              "    <tr>\n",
              "      <th>count</th>\n",
              "      <td>344.000000</td>\n",
              "      <td>342.000000</td>\n",
              "      <td>342.000000</td>\n",
              "      <td>342.000000</td>\n",
              "      <td>342.000000</td>\n",
              "      <td>330.000000</td>\n",
              "      <td>331.000000</td>\n",
              "    </tr>\n",
              "    <tr>\n",
              "      <th>mean</th>\n",
              "      <td>63.151163</td>\n",
              "      <td>43.921930</td>\n",
              "      <td>17.151170</td>\n",
              "      <td>200.915205</td>\n",
              "      <td>4201.754386</td>\n",
              "      <td>8.733382</td>\n",
              "      <td>-25.686292</td>\n",
              "    </tr>\n",
              "    <tr>\n",
              "      <th>std</th>\n",
              "      <td>40.430199</td>\n",
              "      <td>5.459584</td>\n",
              "      <td>1.974793</td>\n",
              "      <td>14.061714</td>\n",
              "      <td>801.954536</td>\n",
              "      <td>0.551770</td>\n",
              "      <td>0.793961</td>\n",
              "    </tr>\n",
              "    <tr>\n",
              "      <th>min</th>\n",
              "      <td>1.000000</td>\n",
              "      <td>32.100000</td>\n",
              "      <td>13.100000</td>\n",
              "      <td>172.000000</td>\n",
              "      <td>2700.000000</td>\n",
              "      <td>7.632200</td>\n",
              "      <td>-27.018540</td>\n",
              "    </tr>\n",
              "    <tr>\n",
              "      <th>25%</th>\n",
              "      <td>29.000000</td>\n",
              "      <td>39.225000</td>\n",
              "      <td>15.600000</td>\n",
              "      <td>190.000000</td>\n",
              "      <td>3550.000000</td>\n",
              "      <td>8.299890</td>\n",
              "      <td>-26.320305</td>\n",
              "    </tr>\n",
              "    <tr>\n",
              "      <th>50%</th>\n",
              "      <td>58.000000</td>\n",
              "      <td>44.450000</td>\n",
              "      <td>17.300000</td>\n",
              "      <td>197.000000</td>\n",
              "      <td>4050.000000</td>\n",
              "      <td>8.652405</td>\n",
              "      <td>-25.833520</td>\n",
              "    </tr>\n",
              "    <tr>\n",
              "      <th>75%</th>\n",
              "      <td>95.250000</td>\n",
              "      <td>48.500000</td>\n",
              "      <td>18.700000</td>\n",
              "      <td>213.000000</td>\n",
              "      <td>4750.000000</td>\n",
              "      <td>9.172123</td>\n",
              "      <td>-25.062050</td>\n",
              "    </tr>\n",
              "    <tr>\n",
              "      <th>max</th>\n",
              "      <td>152.000000</td>\n",
              "      <td>59.600000</td>\n",
              "      <td>21.500000</td>\n",
              "      <td>231.000000</td>\n",
              "      <td>6300.000000</td>\n",
              "      <td>10.025440</td>\n",
              "      <td>-23.787670</td>\n",
              "    </tr>\n",
              "  </tbody>\n",
              "</table>\n",
              "</div>"
            ],
            "text/plain": [
              "       Sample Number  Culmen Length (mm)  ...  Delta 15 N (o/oo)  Delta 13 C (o/oo)\n",
              "count     344.000000          342.000000  ...         330.000000         331.000000\n",
              "mean       63.151163           43.921930  ...           8.733382         -25.686292\n",
              "std        40.430199            5.459584  ...           0.551770           0.793961\n",
              "min         1.000000           32.100000  ...           7.632200         -27.018540\n",
              "25%        29.000000           39.225000  ...           8.299890         -26.320305\n",
              "50%        58.000000           44.450000  ...           8.652405         -25.833520\n",
              "75%        95.250000           48.500000  ...           9.172123         -25.062050\n",
              "max       152.000000           59.600000  ...          10.025440         -23.787670\n",
              "\n",
              "[8 rows x 7 columns]"
            ]
          },
          "metadata": {
            "tags": []
          },
          "execution_count": 13
        }
      ]
    },
    {
      "cell_type": "code",
      "metadata": {
        "colab": {
          "base_uri": "https://localhost:8080/"
        },
        "id": "20pjxB7RCvZc",
        "outputId": "20a9b147-26bb-4f2c-ec60-3b3f60cccf51"
      },
      "source": [
        "target.value_counts()"
      ],
      "execution_count": null,
      "outputs": [
        {
          "output_type": "execute_result",
          "data": {
            "text/plain": [
              "Adelie Penguin (Pygoscelis adeliae)          151\n",
              "Gentoo penguin (Pygoscelis papua)            123\n",
              "Chinstrap penguin (Pygoscelis antarctica)     68\n",
              "Name: Species, dtype: int64"
            ]
          },
          "metadata": {
            "tags": []
          },
          "execution_count": 14
        }
      ]
    },
    {
      "cell_type": "markdown",
      "metadata": {
        "id": "Fv-zUsAKOJcU"
      },
      "source": [
        "## Qeustion 2"
      ]
    },
    {
      "cell_type": "code",
      "metadata": {
        "id": "9eRUNGckEMNO"
      },
      "source": [
        "from sklearn.neighbors import KNeighborsClassifier\n",
        "from sklearn.preprocessing import StandardScaler\n",
        "from sklearn.pipeline import Pipeline\n",
        "model = Pipeline(steps=[\n",
        "    (\"preprocessor\", StandardScaler()),\n",
        "    (\"classifier\", KNeighborsClassifier(n_neighbors=5)),\n",
        "])"
      ],
      "execution_count": null,
      "outputs": []
    },
    {
      "cell_type": "code",
      "metadata": {
        "colab": {
          "base_uri": "https://localhost:8080/"
        },
        "id": "0MO5AKgZExib",
        "outputId": "7b0abda2-ed62-41d4-8f30-f5aa666f850f"
      },
      "source": [
        "model.get_params()"
      ],
      "execution_count": null,
      "outputs": [
        {
          "output_type": "execute_result",
          "data": {
            "text/plain": [
              "{'classifier': KNeighborsClassifier(),\n",
              " 'classifier__algorithm': 'auto',\n",
              " 'classifier__leaf_size': 30,\n",
              " 'classifier__metric': 'minkowski',\n",
              " 'classifier__metric_params': None,\n",
              " 'classifier__n_jobs': None,\n",
              " 'classifier__n_neighbors': 5,\n",
              " 'classifier__p': 2,\n",
              " 'classifier__weights': 'uniform',\n",
              " 'memory': None,\n",
              " 'preprocessor': StandardScaler(),\n",
              " 'preprocessor__copy': True,\n",
              " 'preprocessor__with_mean': True,\n",
              " 'preprocessor__with_std': True,\n",
              " 'steps': [('preprocessor', StandardScaler()),\n",
              "  ('classifier', KNeighborsClassifier())],\n",
              " 'verbose': False}"
            ]
          },
          "metadata": {
            "tags": []
          },
          "execution_count": 20
        }
      ]
    },
    {
      "cell_type": "code",
      "metadata": {
        "id": "rSBiCuRCEcdN"
      },
      "source": [
        "from sklearn.model_selection import cross_validate\n",
        "\n",
        "cv_results = cross_validate(model, data, target, cv=10, scoring=\"balanced_accuracy\")"
      ],
      "execution_count": null,
      "outputs": []
    },
    {
      "cell_type": "code",
      "metadata": {
        "colab": {
          "base_uri": "https://localhost:8080/"
        },
        "id": "I78eonw4GO-m",
        "outputId": "45a4268e-068f-4f76-ba59-5a1571d339c7"
      },
      "source": [
        "cv_results[\"test_score\"].mean()"
      ],
      "execution_count": null,
      "outputs": [
        {
          "output_type": "execute_result",
          "data": {
            "text/plain": [
              "0.9521978021978021"
            ]
          },
          "metadata": {
            "tags": []
          },
          "execution_count": 30
        }
      ]
    },
    {
      "cell_type": "code",
      "metadata": {
        "colab": {
          "base_uri": "https://localhost:8080/"
        },
        "id": "N3Crx66pMJsV",
        "outputId": "28bcb41c-59d0-4757-a948-08bdbd03ddc8"
      },
      "source": [
        "model.set_params(classifier__n_neighbors=51)\n",
        "cv_results = cross_validate(model, data, target, cv=10, scoring=\"balanced_accuracy\")\n",
        "cv_results[\"test_score\"].mean()"
      ],
      "execution_count": null,
      "outputs": [
        {
          "output_type": "execute_result",
          "data": {
            "text/plain": [
              "0.9418803418803419"
            ]
          },
          "metadata": {
            "tags": []
          },
          "execution_count": 32
        }
      ]
    },
    {
      "cell_type": "code",
      "metadata": {
        "colab": {
          "base_uri": "https://localhost:8080/"
        },
        "id": "hxFozKC8MfhD",
        "outputId": "216362ee-4796-4c43-c29d-f5af02440d35"
      },
      "source": [
        "model.set_params(preprocessor=None, classifier__n_neighbors=5)\n",
        "cv_results = cross_validate(model, data, target, cv=10, scoring=\"balanced_accuracy\")\n",
        "cv_results[\"test_score\"].mean()"
      ],
      "execution_count": null,
      "outputs": [
        {
          "output_type": "execute_result",
          "data": {
            "text/plain": [
              "0.7398382173382173"
            ]
          },
          "metadata": {
            "tags": []
          },
          "execution_count": 33
        }
      ]
    },
    {
      "cell_type": "code",
      "metadata": {
        "id": "gpel2OkeNFQt"
      },
      "source": [
        "from sklearn.preprocessing import MinMaxScaler\n",
        "from sklearn.preprocessing import QuantileTransformer\n",
        "from sklearn.preprocessing import PowerTransformer\n",
        "\n",
        "\n",
        "all_preprocessors = [\n",
        "    None,\n",
        "    StandardScaler(),\n",
        "    MinMaxScaler(),\n",
        "    QuantileTransformer(n_quantiles=100),\n",
        "    PowerTransformer(method=\"box-cox\"),\n",
        "]"
      ],
      "execution_count": null,
      "outputs": []
    },
    {
      "cell_type": "code",
      "metadata": {
        "id": "5Rdu2W6zOoz7"
      },
      "source": [
        "from sklearn.model_selection import GridSearchCV\n",
        "from sklearn.model_selection import cross_validate\n",
        "\n",
        "param_grid = {\n",
        "    \"preprocessor\": all_preprocessors,\n",
        "    \"classifier__n_neighbors\": [5, 51, 101]\n",
        "}\n",
        "model_grid_search = GridSearchCV(model, param_grid = param_grid, n_jobs=4, cv=10)\n",
        "\n",
        "cv_results = cross_validate(model_grid_search, data, target, cv=10, return_estimator=True)"
      ],
      "execution_count": null,
      "outputs": []
    },
    {
      "cell_type": "code",
      "metadata": {
        "colab": {
          "base_uri": "https://localhost:8080/"
        },
        "id": "g2YUaIrhUrzp",
        "outputId": "952e7830-d6b2-42f1-fbda-5d4ebc9eaf31"
      },
      "source": [
        "cv_results"
      ],
      "execution_count": null,
      "outputs": [
        {
          "output_type": "execute_result",
          "data": {
            "text/plain": [
              "{'estimator': [GridSearchCV(cv=10,\n",
              "               estimator=Pipeline(steps=[('preprocessor', None),\n",
              "                                         ('classifier', KNeighborsClassifier())]),\n",
              "               n_jobs=4,\n",
              "               param_grid={'classifier__n_neighbors': [5, 51, 101],\n",
              "                           'preprocessor': [None, StandardScaler(),\n",
              "                                            MinMaxScaler(),\n",
              "                                            QuantileTransformer(n_quantiles=100),\n",
              "                                            PowerTransformer(method='box-cox')]}),\n",
              "  GridSearchCV(cv=10,\n",
              "               estimator=Pipeline(steps=[('preprocessor', None),\n",
              "                                         ('classifier', KNeighborsClassifier())]),\n",
              "               n_jobs=4,\n",
              "               param_grid={'classifier__n_neighbors': [5, 51, 101],\n",
              "                           'preprocessor': [None, StandardScaler(),\n",
              "                                            MinMaxScaler(),\n",
              "                                            QuantileTransformer(n_quantiles=100),\n",
              "                                            PowerTransformer(method='box-cox')]}),\n",
              "  GridSearchCV(cv=10,\n",
              "               estimator=Pipeline(steps=[('preprocessor', None),\n",
              "                                         ('classifier', KNeighborsClassifier())]),\n",
              "               n_jobs=4,\n",
              "               param_grid={'classifier__n_neighbors': [5, 51, 101],\n",
              "                           'preprocessor': [None, StandardScaler(),\n",
              "                                            MinMaxScaler(),\n",
              "                                            QuantileTransformer(n_quantiles=100),\n",
              "                                            PowerTransformer(method='box-cox')]}),\n",
              "  GridSearchCV(cv=10,\n",
              "               estimator=Pipeline(steps=[('preprocessor', None),\n",
              "                                         ('classifier', KNeighborsClassifier())]),\n",
              "               n_jobs=4,\n",
              "               param_grid={'classifier__n_neighbors': [5, 51, 101],\n",
              "                           'preprocessor': [None, StandardScaler(),\n",
              "                                            MinMaxScaler(),\n",
              "                                            QuantileTransformer(n_quantiles=100),\n",
              "                                            PowerTransformer(method='box-cox')]}),\n",
              "  GridSearchCV(cv=10,\n",
              "               estimator=Pipeline(steps=[('preprocessor', None),\n",
              "                                         ('classifier', KNeighborsClassifier())]),\n",
              "               n_jobs=4,\n",
              "               param_grid={'classifier__n_neighbors': [5, 51, 101],\n",
              "                           'preprocessor': [None, StandardScaler(),\n",
              "                                            MinMaxScaler(),\n",
              "                                            QuantileTransformer(n_quantiles=100),\n",
              "                                            PowerTransformer(method='box-cox')]}),\n",
              "  GridSearchCV(cv=10,\n",
              "               estimator=Pipeline(steps=[('preprocessor', None),\n",
              "                                         ('classifier', KNeighborsClassifier())]),\n",
              "               n_jobs=4,\n",
              "               param_grid={'classifier__n_neighbors': [5, 51, 101],\n",
              "                           'preprocessor': [None, StandardScaler(),\n",
              "                                            MinMaxScaler(),\n",
              "                                            QuantileTransformer(n_quantiles=100),\n",
              "                                            PowerTransformer(method='box-cox')]}),\n",
              "  GridSearchCV(cv=10,\n",
              "               estimator=Pipeline(steps=[('preprocessor', None),\n",
              "                                         ('classifier', KNeighborsClassifier())]),\n",
              "               n_jobs=4,\n",
              "               param_grid={'classifier__n_neighbors': [5, 51, 101],\n",
              "                           'preprocessor': [None, StandardScaler(),\n",
              "                                            MinMaxScaler(),\n",
              "                                            QuantileTransformer(n_quantiles=100),\n",
              "                                            PowerTransformer(method='box-cox')]}),\n",
              "  GridSearchCV(cv=10,\n",
              "               estimator=Pipeline(steps=[('preprocessor', None),\n",
              "                                         ('classifier', KNeighborsClassifier())]),\n",
              "               n_jobs=4,\n",
              "               param_grid={'classifier__n_neighbors': [5, 51, 101],\n",
              "                           'preprocessor': [None, StandardScaler(),\n",
              "                                            MinMaxScaler(),\n",
              "                                            QuantileTransformer(n_quantiles=100),\n",
              "                                            PowerTransformer(method='box-cox')]}),\n",
              "  GridSearchCV(cv=10,\n",
              "               estimator=Pipeline(steps=[('preprocessor', None),\n",
              "                                         ('classifier', KNeighborsClassifier())]),\n",
              "               n_jobs=4,\n",
              "               param_grid={'classifier__n_neighbors': [5, 51, 101],\n",
              "                           'preprocessor': [None, StandardScaler(),\n",
              "                                            MinMaxScaler(),\n",
              "                                            QuantileTransformer(n_quantiles=100),\n",
              "                                            PowerTransformer(method='box-cox')]}),\n",
              "  GridSearchCV(cv=10,\n",
              "               estimator=Pipeline(steps=[('preprocessor', None),\n",
              "                                         ('classifier', KNeighborsClassifier())]),\n",
              "               n_jobs=4,\n",
              "               param_grid={'classifier__n_neighbors': [5, 51, 101],\n",
              "                           'preprocessor': [None, StandardScaler(),\n",
              "                                            MinMaxScaler(),\n",
              "                                            QuantileTransformer(n_quantiles=100),\n",
              "                                            PowerTransformer(method='box-cox')]})],\n",
              " 'fit_time': array([4.50056863, 1.46301317, 1.43160391, 1.45528269, 1.45673823,\n",
              "        1.43890667, 1.45252013, 1.46176338, 1.44900227, 1.44676161]),\n",
              " 'score_time': array([0.0041194 , 0.00383091, 0.00357366, 0.00399971, 0.00386119,\n",
              "        0.00379229, 0.00360608, 0.00372481, 0.00360966, 0.00381231]),\n",
              " 'test_score': array([0.97142857, 0.94285714, 1.        , 0.91176471, 0.91176471,\n",
              "        1.        , 0.94117647, 0.94117647, 0.91176471, 0.97058824])}"
            ]
          },
          "metadata": {
            "tags": []
          },
          "execution_count": 37
        }
      ]
    },
    {
      "cell_type": "code",
      "metadata": {
        "colab": {
          "base_uri": "https://localhost:8080/"
        },
        "id": "YY9HNWhmUu2i",
        "outputId": "ba84b766-bbb0-4fb0-fbef-4997b2790e33"
      },
      "source": [
        "for fold_idx, estimator in enumerate(cv_results[\"estimator\"]):\n",
        "  print(f\"Best parameter found on fold#{fold_idx+1}\")\n",
        "  print(f\"{estimator.best_params_}\")"
      ],
      "execution_count": null,
      "outputs": [
        {
          "output_type": "stream",
          "text": [
            "Best parameter found on fold#1\n",
            "{'classifier__n_neighbors': 5, 'preprocessor': QuantileTransformer(n_quantiles=100)}\n",
            "Best parameter found on fold#2\n",
            "{'classifier__n_neighbors': 5, 'preprocessor': QuantileTransformer(n_quantiles=100)}\n",
            "Best parameter found on fold#3\n",
            "{'classifier__n_neighbors': 5, 'preprocessor': StandardScaler()}\n",
            "Best parameter found on fold#4\n",
            "{'classifier__n_neighbors': 51, 'preprocessor': StandardScaler()}\n",
            "Best parameter found on fold#5\n",
            "{'classifier__n_neighbors': 51, 'preprocessor': StandardScaler()}\n",
            "Best parameter found on fold#6\n",
            "{'classifier__n_neighbors': 5, 'preprocessor': QuantileTransformer(n_quantiles=100)}\n",
            "Best parameter found on fold#7\n",
            "{'classifier__n_neighbors': 5, 'preprocessor': MinMaxScaler()}\n",
            "Best parameter found on fold#8\n",
            "{'classifier__n_neighbors': 5, 'preprocessor': StandardScaler()}\n",
            "Best parameter found on fold#9\n",
            "{'classifier__n_neighbors': 5, 'preprocessor': StandardScaler()}\n",
            "Best parameter found on fold#10\n",
            "{'classifier__n_neighbors': 5, 'preprocessor': QuantileTransformer(n_quantiles=100)}\n"
          ],
          "name": "stdout"
        }
      ]
    },
    {
      "cell_type": "code",
      "metadata": {
        "colab": {
          "base_uri": "https://localhost:8080/"
        },
        "id": "eJ3egxsXVEza",
        "outputId": "ae57bdd5-19fb-4983-bc75-25b08ca0e4d1"
      },
      "source": [
        "import seaborn as sns\n",
        "\n",
        "cv_results[\"test_score\"].mean()\n",
        "# ax = sns.heatmap(pivoted_cv_results, annot=True, cmap=\"YlGnBu\", vmin=0.7, vmax=0.9)\n",
        "# ax.invert_yaxis()"
      ],
      "execution_count": null,
      "outputs": [
        {
          "output_type": "execute_result",
          "data": {
            "text/plain": [
              "0.9502521008403362"
            ]
          },
          "metadata": {
            "tags": []
          },
          "execution_count": 42
        }
      ]
    },
    {
      "cell_type": "code",
      "metadata": {
        "id": "DBtgl-ppV-vy"
      },
      "source": [
        ""
      ],
      "execution_count": null,
      "outputs": []
    }
  ]
}