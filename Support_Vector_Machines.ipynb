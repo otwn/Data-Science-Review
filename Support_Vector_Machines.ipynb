{
  "nbformat": 4,
  "nbformat_minor": 0,
  "metadata": {
    "colab": {
      "name": "Support Vector Machines.ipynb",
      "provenance": [],
      "collapsed_sections": [],
      "toc_visible": true,
      "authorship_tag": "ABX9TyO6ZGREnOMjPt++ainPvvOJ",
      "include_colab_link": true
    },
    "kernelspec": {
      "name": "python3",
      "display_name": "Python 3"
    }
  },
  "cells": [
    {
      "cell_type": "markdown",
      "metadata": {
        "id": "view-in-github",
        "colab_type": "text"
      },
      "source": [
        "<a href=\"https://colab.research.google.com/github/otwn/Data-Science-Review/blob/master/Support_Vector_Machines.ipynb\" target=\"_parent\"><img src=\"https://colab.research.google.com/assets/colab-badge.svg\" alt=\"Open In Colab\"/></a>"
      ]
    },
    {
      "cell_type": "markdown",
      "metadata": {
        "id": "w72xgKfRU6nW",
        "colab_type": "text"
      },
      "source": [
        "# Support Vector Machines\n",
        "\n",
        "Support Vector Machines are one of the best machine learning methods when **getting the correct answer is a higher priorty than understanding why** you get the correct answer, and they work really well with relatively small datasets."
      ]
    },
    {
      "cell_type": "markdown",
      "metadata": {
        "id": "nMdmS9PKVAIG",
        "colab_type": "text"
      },
      "source": [
        "- **Importing the Data From a File**\n",
        "\n",
        "- **Missing Data**\n",
        "    - Identifying Missing Data\n",
        "    - Dealing with Missing Data\n",
        "    \n",
        "\n",
        "- **Formatting the Data for Support Vector Machines**\n",
        "    - Split data into Dependent and Independent Variables\n",
        "    - One-Hot-Encoding\n",
        "    - Centering and Scaling the Data\n",
        "    \n",
        "\n",
        "- **Building a Preliminary Support Vector Machine**\n",
        "\n",
        "- **Opimizing Parameters with Cross Validation**\n",
        "    - Cross Validation For Finding the Best Values for Gamma and Regularization\n",
        "\n",
        "\n",
        "- **Building, Evaluating, Drawing and Interpreting the Final Support Vector Machine**"
      ]
    },
    {
      "cell_type": "markdown",
      "metadata": {
        "id": "i_ii76_dWpTd",
        "colab_type": "text"
      },
      "source": [
        "## Import the modules"
      ]
    },
    {
      "cell_type": "code",
      "metadata": {
        "id": "KACUViWViqod",
        "colab_type": "code",
        "colab": {}
      },
      "source": [
        "import pandas as pd # pandas is used to load and manipulate data and for One-Hot Encoding\n",
        "import numpy as np # numpy is used to calculate the mean and standard deviation\n",
        "import matplotlib.pyplot as plt # matplotlib is for drawing graphs\n",
        "import matplotlib.colors as colors\n",
        "from sklearn.model_selection import train_test_split # split  data into training and testing sets\n",
        "from sklearn.preprocessing import scale # scale and center data\n",
        "from sklearn.svm import SVC # this will make a support vector machine for classificaiton\n",
        "from sklearn.model_selection import GridSearchCV # this will do cross validation\n",
        "from sklearn.metrics import confusion_matrix # this creates a confusion matrix\n",
        "from sklearn.metrics import plot_confusion_matrix # draws a confusion matrix\n",
        "from sklearn.decomposition import PCA # to perform PCA to plot the data"
      ],
      "execution_count": 1,
      "outputs": []
    },
    {
      "cell_type": "markdown",
      "metadata": {
        "id": "aF2tythGWrza",
        "colab_type": "text"
      },
      "source": [
        "## Import the data\n",
        "\n",
        "a dataset from the **[UCI Machine Learning Repository](https://archive.ics.uci.edu/ml/index.php)**.\n",
        "Specifically, we are going to use the **[Heart Disease Dataset](https://archive.ics.uci.edu/ml/datasets/Heart+Disease)**. This dataset will allow us to predict if someone has heart disease based on their sex, age, blood pressure and a variety of other metrics."
      ]
    },
    {
      "cell_type": "code",
      "metadata": {
        "id": "B9UbxHemWcqM",
        "colab_type": "code",
        "colab": {}
      },
      "source": [
        "df = pd.read_csv('https://raw.githubusercontent.com/otwn/Data-Science-Review/master/data/processed.cleveland.data', header=None)"
      ],
      "execution_count": 47,
      "outputs": []
    },
    {
      "cell_type": "code",
      "metadata": {
        "id": "w_1hhCA2W-8g",
        "colab_type": "code",
        "colab": {
          "base_uri": "https://localhost:8080/",
          "height": 202
        },
        "outputId": "b4b19ce1-e0c1-4596-d532-7c35c849a3c3"
      },
      "source": [
        "df.head()"
      ],
      "execution_count": 48,
      "outputs": [
        {
          "output_type": "execute_result",
          "data": {
            "text/html": [
              "<div>\n",
              "<style scoped>\n",
              "    .dataframe tbody tr th:only-of-type {\n",
              "        vertical-align: middle;\n",
              "    }\n",
              "\n",
              "    .dataframe tbody tr th {\n",
              "        vertical-align: top;\n",
              "    }\n",
              "\n",
              "    .dataframe thead th {\n",
              "        text-align: right;\n",
              "    }\n",
              "</style>\n",
              "<table border=\"1\" class=\"dataframe\">\n",
              "  <thead>\n",
              "    <tr style=\"text-align: right;\">\n",
              "      <th></th>\n",
              "      <th>0</th>\n",
              "      <th>1</th>\n",
              "      <th>2</th>\n",
              "      <th>3</th>\n",
              "      <th>4</th>\n",
              "      <th>5</th>\n",
              "      <th>6</th>\n",
              "      <th>7</th>\n",
              "      <th>8</th>\n",
              "      <th>9</th>\n",
              "      <th>10</th>\n",
              "      <th>11</th>\n",
              "      <th>12</th>\n",
              "      <th>13</th>\n",
              "    </tr>\n",
              "  </thead>\n",
              "  <tbody>\n",
              "    <tr>\n",
              "      <th>0</th>\n",
              "      <td>63.0</td>\n",
              "      <td>1.0</td>\n",
              "      <td>1.0</td>\n",
              "      <td>145.0</td>\n",
              "      <td>233.0</td>\n",
              "      <td>1.0</td>\n",
              "      <td>2.0</td>\n",
              "      <td>150.0</td>\n",
              "      <td>0.0</td>\n",
              "      <td>2.3</td>\n",
              "      <td>3.0</td>\n",
              "      <td>0.0</td>\n",
              "      <td>6.0</td>\n",
              "      <td>0</td>\n",
              "    </tr>\n",
              "    <tr>\n",
              "      <th>1</th>\n",
              "      <td>67.0</td>\n",
              "      <td>1.0</td>\n",
              "      <td>4.0</td>\n",
              "      <td>160.0</td>\n",
              "      <td>286.0</td>\n",
              "      <td>0.0</td>\n",
              "      <td>2.0</td>\n",
              "      <td>108.0</td>\n",
              "      <td>1.0</td>\n",
              "      <td>1.5</td>\n",
              "      <td>2.0</td>\n",
              "      <td>3.0</td>\n",
              "      <td>3.0</td>\n",
              "      <td>2</td>\n",
              "    </tr>\n",
              "    <tr>\n",
              "      <th>2</th>\n",
              "      <td>67.0</td>\n",
              "      <td>1.0</td>\n",
              "      <td>4.0</td>\n",
              "      <td>120.0</td>\n",
              "      <td>229.0</td>\n",
              "      <td>0.0</td>\n",
              "      <td>2.0</td>\n",
              "      <td>129.0</td>\n",
              "      <td>1.0</td>\n",
              "      <td>2.6</td>\n",
              "      <td>2.0</td>\n",
              "      <td>2.0</td>\n",
              "      <td>7.0</td>\n",
              "      <td>1</td>\n",
              "    </tr>\n",
              "    <tr>\n",
              "      <th>3</th>\n",
              "      <td>37.0</td>\n",
              "      <td>1.0</td>\n",
              "      <td>3.0</td>\n",
              "      <td>130.0</td>\n",
              "      <td>250.0</td>\n",
              "      <td>0.0</td>\n",
              "      <td>0.0</td>\n",
              "      <td>187.0</td>\n",
              "      <td>0.0</td>\n",
              "      <td>3.5</td>\n",
              "      <td>3.0</td>\n",
              "      <td>0.0</td>\n",
              "      <td>3.0</td>\n",
              "      <td>0</td>\n",
              "    </tr>\n",
              "    <tr>\n",
              "      <th>4</th>\n",
              "      <td>41.0</td>\n",
              "      <td>0.0</td>\n",
              "      <td>2.0</td>\n",
              "      <td>130.0</td>\n",
              "      <td>204.0</td>\n",
              "      <td>0.0</td>\n",
              "      <td>2.0</td>\n",
              "      <td>172.0</td>\n",
              "      <td>0.0</td>\n",
              "      <td>1.4</td>\n",
              "      <td>1.0</td>\n",
              "      <td>0.0</td>\n",
              "      <td>3.0</td>\n",
              "      <td>0</td>\n",
              "    </tr>\n",
              "  </tbody>\n",
              "</table>\n",
              "</div>"
            ],
            "text/plain": [
              "     0    1    2      3      4    5    6      7    8    9    10   11   12  13\n",
              "0  63.0  1.0  1.0  145.0  233.0  1.0  2.0  150.0  0.0  2.3  3.0  0.0  6.0   0\n",
              "1  67.0  1.0  4.0  160.0  286.0  0.0  2.0  108.0  1.0  1.5  2.0  3.0  3.0   2\n",
              "2  67.0  1.0  4.0  120.0  229.0  0.0  2.0  129.0  1.0  2.6  2.0  2.0  7.0   1\n",
              "3  37.0  1.0  3.0  130.0  250.0  0.0  0.0  187.0  0.0  3.5  3.0  0.0  3.0   0\n",
              "4  41.0  0.0  2.0  130.0  204.0  0.0  2.0  172.0  0.0  1.4  1.0  0.0  3.0   0"
            ]
          },
          "metadata": {
            "tags": []
          },
          "execution_count": 48
        }
      ]
    },
    {
      "cell_type": "markdown",
      "metadata": {
        "id": "j_OZqiWkXFXg",
        "colab_type": "text"
      },
      "source": [
        "There is no header (no column names). Replace the column numbers with the following column names\n",
        "\n",
        "- **age**,\n",
        "- **sex**,\n",
        "- **cp**, chest pain\n",
        "- **restbp**, resting blood pressure (in mm Hg)\n",
        "- **chol**, serum cholesterol in mg/dl\n",
        "- **fbs**, fasting blood sugar\n",
        "- **restecg**, resting electrocardiographic results\n",
        "- **thalach**,  maximum heart rate achieved\n",
        "- **exang**, exercise induced angina\n",
        "- **oldpeak**, ST depression induced by exercise relative to rest\n",
        "- **slope**, the slope of the peak exercise ST segment.\n",
        "- **ca**, number of major vessels (0-3) colored by fluoroscopy\n",
        "- **thal**, this is short of thalium heart scan.\n",
        "- **hd**, diagnosis of heart disease, the predicted attribute"
      ]
    },
    {
      "cell_type": "code",
      "metadata": {
        "id": "0WAqb0VHXCvx",
        "colab_type": "code",
        "colab": {
          "base_uri": "https://localhost:8080/",
          "height": 202
        },
        "outputId": "5dbbd743-13aa-42a3-d58a-0210d400ecbf"
      },
      "source": [
        "df.columns = ['age',\n",
        "              'sex',\n",
        "              'cp',\n",
        "              'restbp',\n",
        "              'chol',\n",
        "              'fbs',\n",
        "              'restecg',\n",
        "              'thalach',\n",
        "              'exang',\n",
        "              'oldpeak',\n",
        "              'slope',\n",
        "              'ca',\n",
        "              'thal',\n",
        "              'hd']\n",
        "df.head()"
      ],
      "execution_count": 49,
      "outputs": [
        {
          "output_type": "execute_result",
          "data": {
            "text/html": [
              "<div>\n",
              "<style scoped>\n",
              "    .dataframe tbody tr th:only-of-type {\n",
              "        vertical-align: middle;\n",
              "    }\n",
              "\n",
              "    .dataframe tbody tr th {\n",
              "        vertical-align: top;\n",
              "    }\n",
              "\n",
              "    .dataframe thead th {\n",
              "        text-align: right;\n",
              "    }\n",
              "</style>\n",
              "<table border=\"1\" class=\"dataframe\">\n",
              "  <thead>\n",
              "    <tr style=\"text-align: right;\">\n",
              "      <th></th>\n",
              "      <th>age</th>\n",
              "      <th>sex</th>\n",
              "      <th>cp</th>\n",
              "      <th>restbp</th>\n",
              "      <th>chol</th>\n",
              "      <th>fbs</th>\n",
              "      <th>restecg</th>\n",
              "      <th>thalach</th>\n",
              "      <th>exang</th>\n",
              "      <th>oldpeak</th>\n",
              "      <th>slope</th>\n",
              "      <th>ca</th>\n",
              "      <th>thal</th>\n",
              "      <th>hd</th>\n",
              "    </tr>\n",
              "  </thead>\n",
              "  <tbody>\n",
              "    <tr>\n",
              "      <th>0</th>\n",
              "      <td>63.0</td>\n",
              "      <td>1.0</td>\n",
              "      <td>1.0</td>\n",
              "      <td>145.0</td>\n",
              "      <td>233.0</td>\n",
              "      <td>1.0</td>\n",
              "      <td>2.0</td>\n",
              "      <td>150.0</td>\n",
              "      <td>0.0</td>\n",
              "      <td>2.3</td>\n",
              "      <td>3.0</td>\n",
              "      <td>0.0</td>\n",
              "      <td>6.0</td>\n",
              "      <td>0</td>\n",
              "    </tr>\n",
              "    <tr>\n",
              "      <th>1</th>\n",
              "      <td>67.0</td>\n",
              "      <td>1.0</td>\n",
              "      <td>4.0</td>\n",
              "      <td>160.0</td>\n",
              "      <td>286.0</td>\n",
              "      <td>0.0</td>\n",
              "      <td>2.0</td>\n",
              "      <td>108.0</td>\n",
              "      <td>1.0</td>\n",
              "      <td>1.5</td>\n",
              "      <td>2.0</td>\n",
              "      <td>3.0</td>\n",
              "      <td>3.0</td>\n",
              "      <td>2</td>\n",
              "    </tr>\n",
              "    <tr>\n",
              "      <th>2</th>\n",
              "      <td>67.0</td>\n",
              "      <td>1.0</td>\n",
              "      <td>4.0</td>\n",
              "      <td>120.0</td>\n",
              "      <td>229.0</td>\n",
              "      <td>0.0</td>\n",
              "      <td>2.0</td>\n",
              "      <td>129.0</td>\n",
              "      <td>1.0</td>\n",
              "      <td>2.6</td>\n",
              "      <td>2.0</td>\n",
              "      <td>2.0</td>\n",
              "      <td>7.0</td>\n",
              "      <td>1</td>\n",
              "    </tr>\n",
              "    <tr>\n",
              "      <th>3</th>\n",
              "      <td>37.0</td>\n",
              "      <td>1.0</td>\n",
              "      <td>3.0</td>\n",
              "      <td>130.0</td>\n",
              "      <td>250.0</td>\n",
              "      <td>0.0</td>\n",
              "      <td>0.0</td>\n",
              "      <td>187.0</td>\n",
              "      <td>0.0</td>\n",
              "      <td>3.5</td>\n",
              "      <td>3.0</td>\n",
              "      <td>0.0</td>\n",
              "      <td>3.0</td>\n",
              "      <td>0</td>\n",
              "    </tr>\n",
              "    <tr>\n",
              "      <th>4</th>\n",
              "      <td>41.0</td>\n",
              "      <td>0.0</td>\n",
              "      <td>2.0</td>\n",
              "      <td>130.0</td>\n",
              "      <td>204.0</td>\n",
              "      <td>0.0</td>\n",
              "      <td>2.0</td>\n",
              "      <td>172.0</td>\n",
              "      <td>0.0</td>\n",
              "      <td>1.4</td>\n",
              "      <td>1.0</td>\n",
              "      <td>0.0</td>\n",
              "      <td>3.0</td>\n",
              "      <td>0</td>\n",
              "    </tr>\n",
              "  </tbody>\n",
              "</table>\n",
              "</div>"
            ],
            "text/plain": [
              "    age  sex   cp  restbp   chol  fbs  ...  exang  oldpeak  slope   ca  thal hd\n",
              "0  63.0  1.0  1.0   145.0  233.0  1.0  ...    0.0      2.3    3.0  0.0   6.0  0\n",
              "1  67.0  1.0  4.0   160.0  286.0  0.0  ...    1.0      1.5    2.0  3.0   3.0  2\n",
              "2  67.0  1.0  4.0   120.0  229.0  0.0  ...    1.0      2.6    2.0  2.0   7.0  1\n",
              "3  37.0  1.0  3.0   130.0  250.0  0.0  ...    0.0      3.5    3.0  0.0   3.0  0\n",
              "4  41.0  0.0  2.0   130.0  204.0  0.0  ...    0.0      1.4    1.0  0.0   3.0  0\n",
              "\n",
              "[5 rows x 14 columns]"
            ]
          },
          "metadata": {
            "tags": []
          },
          "execution_count": 49
        }
      ]
    },
    {
      "cell_type": "markdown",
      "metadata": {
        "id": "OvfAWM5tXcw0",
        "colab_type": "text"
      },
      "source": [
        "## Identify and Dealing with Missing Data"
      ]
    },
    {
      "cell_type": "code",
      "metadata": {
        "id": "APl1cNkNXadZ",
        "colab_type": "code",
        "colab": {
          "base_uri": "https://localhost:8080/",
          "height": 381
        },
        "outputId": "67d842a9-01e6-43cb-b55c-27726e44d1ee"
      },
      "source": [
        "df.info()"
      ],
      "execution_count": 50,
      "outputs": [
        {
          "output_type": "stream",
          "text": [
            "<class 'pandas.core.frame.DataFrame'>\n",
            "RangeIndex: 303 entries, 0 to 302\n",
            "Data columns (total 14 columns):\n",
            " #   Column   Non-Null Count  Dtype  \n",
            "---  ------   --------------  -----  \n",
            " 0   age      303 non-null    float64\n",
            " 1   sex      303 non-null    float64\n",
            " 2   cp       303 non-null    float64\n",
            " 3   restbp   303 non-null    float64\n",
            " 4   chol     303 non-null    float64\n",
            " 5   fbs      303 non-null    float64\n",
            " 6   restecg  303 non-null    float64\n",
            " 7   thalach  303 non-null    float64\n",
            " 8   exang    303 non-null    float64\n",
            " 9   oldpeak  303 non-null    float64\n",
            " 10  slope    303 non-null    float64\n",
            " 11  ca       303 non-null    object \n",
            " 12  thal     303 non-null    object \n",
            " 13  hd       303 non-null    int64  \n",
            "dtypes: float64(11), int64(1), object(2)\n",
            "memory usage: 33.3+ KB\n"
          ],
          "name": "stdout"
        }
      ]
    },
    {
      "cell_type": "markdown",
      "metadata": {
        "id": "vHB3giVVX9CK",
        "colab_type": "text"
      },
      "source": [
        "The fact that the **ca** and **thal** columns have `object` data types suggests there is something funny going on in them. `object` datatypes are used when there are mixtures of things, like a mixture of numbers and letters. In theory, both **ca** and **thal** should just have a few values representing different categories, so let's investigate what's going on by printing out their unique values."
      ]
    },
    {
      "cell_type": "code",
      "metadata": {
        "id": "niiNbzvIXpu2",
        "colab_type": "code",
        "colab": {
          "base_uri": "https://localhost:8080/",
          "height": 35
        },
        "outputId": "82bc2c6e-1cb1-4b52-d286-6b9802bb7d79"
      },
      "source": [
        "df['ca'].unique()"
      ],
      "execution_count": 51,
      "outputs": [
        {
          "output_type": "execute_result",
          "data": {
            "text/plain": [
              "array(['0.0', '3.0', '2.0', '1.0', '?'], dtype=object)"
            ]
          },
          "metadata": {
            "tags": []
          },
          "execution_count": 51
        }
      ]
    },
    {
      "cell_type": "markdown",
      "metadata": {
        "id": "9kOXcBAgYHF4",
        "colab_type": "text"
      },
      "source": [
        "**ca** contains numbers and questions marks. The numbers represent the number of blood vessels that we lit up by fluoroscopy and the question marks represent missing data"
      ]
    },
    {
      "cell_type": "code",
      "metadata": {
        "id": "tROgk8hqYCHo",
        "colab_type": "code",
        "colab": {
          "base_uri": "https://localhost:8080/",
          "height": 35
        },
        "outputId": "3fdb5551-3d21-47b9-c636-14fc777fccb3"
      },
      "source": [
        "df['thal'].unique()"
      ],
      "execution_count": 52,
      "outputs": [
        {
          "output_type": "execute_result",
          "data": {
            "text/plain": [
              "array(['6.0', '3.0', '7.0', '?'], dtype=object)"
            ]
          },
          "metadata": {
            "tags": []
          },
          "execution_count": 52
        }
      ]
    },
    {
      "cell_type": "markdown",
      "metadata": {
        "id": "D9NcxDtjYWGN",
        "colab_type": "text"
      },
      "source": [
        "**thal** also contains a mixture of numbers, representing the different diagnoses from the thalium heart scan, and question marks, which represent missing values. "
      ]
    },
    {
      "cell_type": "markdown",
      "metadata": {
        "id": "77xuWO60Ykws",
        "colab_type": "text"
      },
      "source": [
        ""
      ]
    },
    {
      "cell_type": "code",
      "metadata": {
        "id": "kEx7dlTsYR73",
        "colab_type": "code",
        "colab": {
          "base_uri": "https://localhost:8080/",
          "height": 35
        },
        "outputId": "d56b20f0-f071-4cd6-fd06-5251b0c53890"
      },
      "source": [
        "len(df.loc[(df['ca'] == '?')])"
      ],
      "execution_count": 53,
      "outputs": [
        {
          "output_type": "execute_result",
          "data": {
            "text/plain": [
              "4"
            ]
          },
          "metadata": {
            "tags": []
          },
          "execution_count": 53
        }
      ]
    },
    {
      "cell_type": "code",
      "metadata": {
        "id": "OtI0g44uYu5W",
        "colab_type": "code",
        "colab": {
          "base_uri": "https://localhost:8080/",
          "height": 35
        },
        "outputId": "297b8e60-fa03-4d65-a5ce-c9e8a00abbe8"
      },
      "source": [
        "len(df.loc[ (df['ca'] == '?') | (df['thal'] == '?') ])"
      ],
      "execution_count": 54,
      "outputs": [
        {
          "output_type": "execute_result",
          "data": {
            "text/plain": [
              "6"
            ]
          },
          "metadata": {
            "tags": []
          },
          "execution_count": 54
        }
      ]
    },
    {
      "cell_type": "code",
      "metadata": {
        "id": "U3ntwVfhZJxd",
        "colab_type": "code",
        "colab": {
          "base_uri": "https://localhost:8080/",
          "height": 233
        },
        "outputId": "cdfcd6cf-8540-45d7-9950-6d6e7c54abae"
      },
      "source": [
        "df.loc[ (df['ca'] == '?') | (df['thal'] == '?') ]"
      ],
      "execution_count": 55,
      "outputs": [
        {
          "output_type": "execute_result",
          "data": {
            "text/html": [
              "<div>\n",
              "<style scoped>\n",
              "    .dataframe tbody tr th:only-of-type {\n",
              "        vertical-align: middle;\n",
              "    }\n",
              "\n",
              "    .dataframe tbody tr th {\n",
              "        vertical-align: top;\n",
              "    }\n",
              "\n",
              "    .dataframe thead th {\n",
              "        text-align: right;\n",
              "    }\n",
              "</style>\n",
              "<table border=\"1\" class=\"dataframe\">\n",
              "  <thead>\n",
              "    <tr style=\"text-align: right;\">\n",
              "      <th></th>\n",
              "      <th>age</th>\n",
              "      <th>sex</th>\n",
              "      <th>cp</th>\n",
              "      <th>restbp</th>\n",
              "      <th>chol</th>\n",
              "      <th>fbs</th>\n",
              "      <th>restecg</th>\n",
              "      <th>thalach</th>\n",
              "      <th>exang</th>\n",
              "      <th>oldpeak</th>\n",
              "      <th>slope</th>\n",
              "      <th>ca</th>\n",
              "      <th>thal</th>\n",
              "      <th>hd</th>\n",
              "    </tr>\n",
              "  </thead>\n",
              "  <tbody>\n",
              "    <tr>\n",
              "      <th>87</th>\n",
              "      <td>53.0</td>\n",
              "      <td>0.0</td>\n",
              "      <td>3.0</td>\n",
              "      <td>128.0</td>\n",
              "      <td>216.0</td>\n",
              "      <td>0.0</td>\n",
              "      <td>2.0</td>\n",
              "      <td>115.0</td>\n",
              "      <td>0.0</td>\n",
              "      <td>0.0</td>\n",
              "      <td>1.0</td>\n",
              "      <td>0.0</td>\n",
              "      <td>?</td>\n",
              "      <td>0</td>\n",
              "    </tr>\n",
              "    <tr>\n",
              "      <th>166</th>\n",
              "      <td>52.0</td>\n",
              "      <td>1.0</td>\n",
              "      <td>3.0</td>\n",
              "      <td>138.0</td>\n",
              "      <td>223.0</td>\n",
              "      <td>0.0</td>\n",
              "      <td>0.0</td>\n",
              "      <td>169.0</td>\n",
              "      <td>0.0</td>\n",
              "      <td>0.0</td>\n",
              "      <td>1.0</td>\n",
              "      <td>?</td>\n",
              "      <td>3.0</td>\n",
              "      <td>0</td>\n",
              "    </tr>\n",
              "    <tr>\n",
              "      <th>192</th>\n",
              "      <td>43.0</td>\n",
              "      <td>1.0</td>\n",
              "      <td>4.0</td>\n",
              "      <td>132.0</td>\n",
              "      <td>247.0</td>\n",
              "      <td>1.0</td>\n",
              "      <td>2.0</td>\n",
              "      <td>143.0</td>\n",
              "      <td>1.0</td>\n",
              "      <td>0.1</td>\n",
              "      <td>2.0</td>\n",
              "      <td>?</td>\n",
              "      <td>7.0</td>\n",
              "      <td>1</td>\n",
              "    </tr>\n",
              "    <tr>\n",
              "      <th>266</th>\n",
              "      <td>52.0</td>\n",
              "      <td>1.0</td>\n",
              "      <td>4.0</td>\n",
              "      <td>128.0</td>\n",
              "      <td>204.0</td>\n",
              "      <td>1.0</td>\n",
              "      <td>0.0</td>\n",
              "      <td>156.0</td>\n",
              "      <td>1.0</td>\n",
              "      <td>1.0</td>\n",
              "      <td>2.0</td>\n",
              "      <td>0.0</td>\n",
              "      <td>?</td>\n",
              "      <td>2</td>\n",
              "    </tr>\n",
              "    <tr>\n",
              "      <th>287</th>\n",
              "      <td>58.0</td>\n",
              "      <td>1.0</td>\n",
              "      <td>2.0</td>\n",
              "      <td>125.0</td>\n",
              "      <td>220.0</td>\n",
              "      <td>0.0</td>\n",
              "      <td>0.0</td>\n",
              "      <td>144.0</td>\n",
              "      <td>0.0</td>\n",
              "      <td>0.4</td>\n",
              "      <td>2.0</td>\n",
              "      <td>?</td>\n",
              "      <td>7.0</td>\n",
              "      <td>0</td>\n",
              "    </tr>\n",
              "    <tr>\n",
              "      <th>302</th>\n",
              "      <td>38.0</td>\n",
              "      <td>1.0</td>\n",
              "      <td>3.0</td>\n",
              "      <td>138.0</td>\n",
              "      <td>175.0</td>\n",
              "      <td>0.0</td>\n",
              "      <td>0.0</td>\n",
              "      <td>173.0</td>\n",
              "      <td>0.0</td>\n",
              "      <td>0.0</td>\n",
              "      <td>1.0</td>\n",
              "      <td>?</td>\n",
              "      <td>3.0</td>\n",
              "      <td>0</td>\n",
              "    </tr>\n",
              "  </tbody>\n",
              "</table>\n",
              "</div>"
            ],
            "text/plain": [
              "      age  sex   cp  restbp   chol  fbs  ...  exang  oldpeak  slope   ca  thal hd\n",
              "87   53.0  0.0  3.0   128.0  216.0  0.0  ...    0.0      0.0    1.0  0.0     ?  0\n",
              "166  52.0  1.0  3.0   138.0  223.0  0.0  ...    0.0      0.0    1.0    ?   3.0  0\n",
              "192  43.0  1.0  4.0   132.0  247.0  1.0  ...    1.0      0.1    2.0    ?   7.0  1\n",
              "266  52.0  1.0  4.0   128.0  204.0  1.0  ...    1.0      1.0    2.0  0.0     ?  2\n",
              "287  58.0  1.0  2.0   125.0  220.0  0.0  ...    0.0      0.4    2.0    ?   7.0  0\n",
              "302  38.0  1.0  3.0   138.0  175.0  0.0  ...    0.0      0.0    1.0    ?   3.0  0\n",
              "\n",
              "[6 rows x 14 columns]"
            ]
          },
          "metadata": {
            "tags": []
          },
          "execution_count": 55
        }
      ]
    },
    {
      "cell_type": "markdown",
      "metadata": {
        "id": "R5Eg4dSAZuTn",
        "colab_type": "text"
      },
      "source": [
        "6 of the **303** rows, or **2%**, contain missing values. Since **303 - 6 = 297**, and **297** is plenty of data to build a support vector machine, we will remove the rows with missing values, rather than try to impute their values. We do this by selecting all of the rows that do not contain question marks in either the **ca** or **thal** columns:"
      ]
    },
    {
      "cell_type": "code",
      "metadata": {
        "id": "g1f_gZv1Zbn_",
        "colab_type": "code",
        "colab": {}
      },
      "source": [
        "df_no_missing = df.loc[ (df['ca'] != '?') & (df['thal'] != '?') ]"
      ],
      "execution_count": 56,
      "outputs": []
    },
    {
      "cell_type": "code",
      "metadata": {
        "id": "Ln91O1GpZgML",
        "colab_type": "code",
        "colab": {
          "base_uri": "https://localhost:8080/",
          "height": 35
        },
        "outputId": "6d85c090-d3e7-4906-a463-4e6817b5c709"
      },
      "source": [
        "len(df_no_missing)"
      ],
      "execution_count": 57,
      "outputs": [
        {
          "output_type": "execute_result",
          "data": {
            "text/plain": [
              "297"
            ]
          },
          "metadata": {
            "tags": []
          },
          "execution_count": 57
        }
      ]
    },
    {
      "cell_type": "code",
      "metadata": {
        "id": "Afaq6NPZZ6uM",
        "colab_type": "code",
        "colab": {
          "base_uri": "https://localhost:8080/",
          "height": 35
        },
        "outputId": "b5bc4122-da49-475d-d6fc-668a12a3d447"
      },
      "source": [
        "df_no_missing['ca'].unique()"
      ],
      "execution_count": 58,
      "outputs": [
        {
          "output_type": "execute_result",
          "data": {
            "text/plain": [
              "array(['0.0', '3.0', '2.0', '1.0'], dtype=object)"
            ]
          },
          "metadata": {
            "tags": []
          },
          "execution_count": 58
        }
      ]
    },
    {
      "cell_type": "code",
      "metadata": {
        "id": "DbAia2iDaH8J",
        "colab_type": "code",
        "colab": {
          "base_uri": "https://localhost:8080/",
          "height": 35
        },
        "outputId": "961a641b-113b-4569-b5b8-6808076c7298"
      },
      "source": [
        "df_no_missing['thal'].unique()"
      ],
      "execution_count": 59,
      "outputs": [
        {
          "output_type": "execute_result",
          "data": {
            "text/plain": [
              "array(['6.0', '3.0', '7.0'], dtype=object)"
            ]
          },
          "metadata": {
            "tags": []
          },
          "execution_count": 59
        }
      ]
    },
    {
      "cell_type": "code",
      "metadata": {
        "id": "n0RV2e-DaKPb",
        "colab_type": "code",
        "colab": {
          "base_uri": "https://localhost:8080/",
          "height": 381
        },
        "outputId": "0df85fe6-6544-4d86-bbee-f388936bee66"
      },
      "source": [
        "df.info()"
      ],
      "execution_count": 60,
      "outputs": [
        {
          "output_type": "stream",
          "text": [
            "<class 'pandas.core.frame.DataFrame'>\n",
            "RangeIndex: 303 entries, 0 to 302\n",
            "Data columns (total 14 columns):\n",
            " #   Column   Non-Null Count  Dtype  \n",
            "---  ------   --------------  -----  \n",
            " 0   age      303 non-null    float64\n",
            " 1   sex      303 non-null    float64\n",
            " 2   cp       303 non-null    float64\n",
            " 3   restbp   303 non-null    float64\n",
            " 4   chol     303 non-null    float64\n",
            " 5   fbs      303 non-null    float64\n",
            " 6   restecg  303 non-null    float64\n",
            " 7   thalach  303 non-null    float64\n",
            " 8   exang    303 non-null    float64\n",
            " 9   oldpeak  303 non-null    float64\n",
            " 10  slope    303 non-null    float64\n",
            " 11  ca       303 non-null    object \n",
            " 12  thal     303 non-null    object \n",
            " 13  hd       303 non-null    int64  \n",
            "dtypes: float64(11), int64(1), object(2)\n",
            "memory usage: 33.3+ KB\n"
          ],
          "name": "stdout"
        }
      ]
    },
    {
      "cell_type": "code",
      "metadata": {
        "id": "Sw4DRjpMaNyH",
        "colab_type": "code",
        "colab": {
          "base_uri": "https://localhost:8080/",
          "height": 381
        },
        "outputId": "e9cfc4c6-a2c3-4bba-8e42-98504423f527"
      },
      "source": [
        "df_no_missing.info()"
      ],
      "execution_count": 61,
      "outputs": [
        {
          "output_type": "stream",
          "text": [
            "<class 'pandas.core.frame.DataFrame'>\n",
            "Int64Index: 297 entries, 0 to 301\n",
            "Data columns (total 14 columns):\n",
            " #   Column   Non-Null Count  Dtype  \n",
            "---  ------   --------------  -----  \n",
            " 0   age      297 non-null    float64\n",
            " 1   sex      297 non-null    float64\n",
            " 2   cp       297 non-null    float64\n",
            " 3   restbp   297 non-null    float64\n",
            " 4   chol     297 non-null    float64\n",
            " 5   fbs      297 non-null    float64\n",
            " 6   restecg  297 non-null    float64\n",
            " 7   thalach  297 non-null    float64\n",
            " 8   exang    297 non-null    float64\n",
            " 9   oldpeak  297 non-null    float64\n",
            " 10  slope    297 non-null    float64\n",
            " 11  ca       297 non-null    object \n",
            " 12  thal     297 non-null    object \n",
            " 13  hd       297 non-null    int64  \n",
            "dtypes: float64(11), int64(1), object(2)\n",
            "memory usage: 34.8+ KB\n"
          ],
          "name": "stdout"
        }
      ]
    },
    {
      "cell_type": "markdown",
      "metadata": {
        "id": "ZQMH-OGPaRTy",
        "colab_type": "text"
      },
      "source": [
        "## Split the Data into Dependent and Independent Variables\n",
        "\n",
        "The first step is to split the data into two parts:\n",
        "1. The columns of data that we will use to make classifications\n",
        "2. The column of data that we want to predict.\n",
        "\n",
        "`X` (capital **X**) to represent the columns of data that we will use to make classifications and `y` (lower case **y**) to represent the thing we want to predict. In this case, we want to predict **hd** (heart disease).\n"
      ]
    },
    {
      "cell_type": "code",
      "metadata": {
        "id": "M1WLtSY_aP7z",
        "colab_type": "code",
        "colab": {}
      },
      "source": [
        "X = df_no_missing.drop('hd', axis=1).copy() "
      ],
      "execution_count": 62,
      "outputs": []
    },
    {
      "cell_type": "code",
      "metadata": {
        "id": "mUvrpXmOazmI",
        "colab_type": "code",
        "colab": {
          "base_uri": "https://localhost:8080/",
          "height": 202
        },
        "outputId": "4fefea11-a052-41d0-a49c-5abda5f514a3"
      },
      "source": [
        "X.head()"
      ],
      "execution_count": 63,
      "outputs": [
        {
          "output_type": "execute_result",
          "data": {
            "text/html": [
              "<div>\n",
              "<style scoped>\n",
              "    .dataframe tbody tr th:only-of-type {\n",
              "        vertical-align: middle;\n",
              "    }\n",
              "\n",
              "    .dataframe tbody tr th {\n",
              "        vertical-align: top;\n",
              "    }\n",
              "\n",
              "    .dataframe thead th {\n",
              "        text-align: right;\n",
              "    }\n",
              "</style>\n",
              "<table border=\"1\" class=\"dataframe\">\n",
              "  <thead>\n",
              "    <tr style=\"text-align: right;\">\n",
              "      <th></th>\n",
              "      <th>age</th>\n",
              "      <th>sex</th>\n",
              "      <th>cp</th>\n",
              "      <th>restbp</th>\n",
              "      <th>chol</th>\n",
              "      <th>fbs</th>\n",
              "      <th>restecg</th>\n",
              "      <th>thalach</th>\n",
              "      <th>exang</th>\n",
              "      <th>oldpeak</th>\n",
              "      <th>slope</th>\n",
              "      <th>ca</th>\n",
              "      <th>thal</th>\n",
              "    </tr>\n",
              "  </thead>\n",
              "  <tbody>\n",
              "    <tr>\n",
              "      <th>0</th>\n",
              "      <td>63.0</td>\n",
              "      <td>1.0</td>\n",
              "      <td>1.0</td>\n",
              "      <td>145.0</td>\n",
              "      <td>233.0</td>\n",
              "      <td>1.0</td>\n",
              "      <td>2.0</td>\n",
              "      <td>150.0</td>\n",
              "      <td>0.0</td>\n",
              "      <td>2.3</td>\n",
              "      <td>3.0</td>\n",
              "      <td>0.0</td>\n",
              "      <td>6.0</td>\n",
              "    </tr>\n",
              "    <tr>\n",
              "      <th>1</th>\n",
              "      <td>67.0</td>\n",
              "      <td>1.0</td>\n",
              "      <td>4.0</td>\n",
              "      <td>160.0</td>\n",
              "      <td>286.0</td>\n",
              "      <td>0.0</td>\n",
              "      <td>2.0</td>\n",
              "      <td>108.0</td>\n",
              "      <td>1.0</td>\n",
              "      <td>1.5</td>\n",
              "      <td>2.0</td>\n",
              "      <td>3.0</td>\n",
              "      <td>3.0</td>\n",
              "    </tr>\n",
              "    <tr>\n",
              "      <th>2</th>\n",
              "      <td>67.0</td>\n",
              "      <td>1.0</td>\n",
              "      <td>4.0</td>\n",
              "      <td>120.0</td>\n",
              "      <td>229.0</td>\n",
              "      <td>0.0</td>\n",
              "      <td>2.0</td>\n",
              "      <td>129.0</td>\n",
              "      <td>1.0</td>\n",
              "      <td>2.6</td>\n",
              "      <td>2.0</td>\n",
              "      <td>2.0</td>\n",
              "      <td>7.0</td>\n",
              "    </tr>\n",
              "    <tr>\n",
              "      <th>3</th>\n",
              "      <td>37.0</td>\n",
              "      <td>1.0</td>\n",
              "      <td>3.0</td>\n",
              "      <td>130.0</td>\n",
              "      <td>250.0</td>\n",
              "      <td>0.0</td>\n",
              "      <td>0.0</td>\n",
              "      <td>187.0</td>\n",
              "      <td>0.0</td>\n",
              "      <td>3.5</td>\n",
              "      <td>3.0</td>\n",
              "      <td>0.0</td>\n",
              "      <td>3.0</td>\n",
              "    </tr>\n",
              "    <tr>\n",
              "      <th>4</th>\n",
              "      <td>41.0</td>\n",
              "      <td>0.0</td>\n",
              "      <td>2.0</td>\n",
              "      <td>130.0</td>\n",
              "      <td>204.0</td>\n",
              "      <td>0.0</td>\n",
              "      <td>2.0</td>\n",
              "      <td>172.0</td>\n",
              "      <td>0.0</td>\n",
              "      <td>1.4</td>\n",
              "      <td>1.0</td>\n",
              "      <td>0.0</td>\n",
              "      <td>3.0</td>\n",
              "    </tr>\n",
              "  </tbody>\n",
              "</table>\n",
              "</div>"
            ],
            "text/plain": [
              "    age  sex   cp  restbp   chol  fbs  ...  thalach  exang  oldpeak  slope   ca thal\n",
              "0  63.0  1.0  1.0   145.0  233.0  1.0  ...    150.0    0.0      2.3    3.0  0.0  6.0\n",
              "1  67.0  1.0  4.0   160.0  286.0  0.0  ...    108.0    1.0      1.5    2.0  3.0  3.0\n",
              "2  67.0  1.0  4.0   120.0  229.0  0.0  ...    129.0    1.0      2.6    2.0  2.0  7.0\n",
              "3  37.0  1.0  3.0   130.0  250.0  0.0  ...    187.0    0.0      3.5    3.0  0.0  3.0\n",
              "4  41.0  0.0  2.0   130.0  204.0  0.0  ...    172.0    0.0      1.4    1.0  0.0  3.0\n",
              "\n",
              "[5 rows x 13 columns]"
            ]
          },
          "metadata": {
            "tags": []
          },
          "execution_count": 63
        }
      ]
    },
    {
      "cell_type": "code",
      "metadata": {
        "id": "hR9M2HrEa0yN",
        "colab_type": "code",
        "colab": {
          "base_uri": "https://localhost:8080/",
          "height": 121
        },
        "outputId": "1314f815-e078-4c54-a45c-137f15e1b59d"
      },
      "source": [
        "y = df_no_missing['hd'].copy()\n",
        "y.head()"
      ],
      "execution_count": 64,
      "outputs": [
        {
          "output_type": "execute_result",
          "data": {
            "text/plain": [
              "0    0\n",
              "1    2\n",
              "2    1\n",
              "3    0\n",
              "4    0\n",
              "Name: hd, dtype: int64"
            ]
          },
          "metadata": {
            "tags": []
          },
          "execution_count": 64
        }
      ]
    },
    {
      "cell_type": "markdown",
      "metadata": {
        "id": "XoDSrp_ubEsV",
        "colab_type": "text"
      },
      "source": [
        "<a id=\"one-hot-encoding\"></a>\n",
        "## One-Hot Encoding\n",
        "\n",
        "`X`, which contains the data we will use to make, or predict, classifications, and `y`, which contains the known classifications in our training dataset, we need to take a closer look at the variables in `X`. The list bellow tells us what each variable represents and the type of data (**float** or **categorical**) it should contain:\n",
        "\n",
        "- **age**, **Float**\n",
        "- **sex** - **Category**\n",
        "  - 0 = female\n",
        "  - 1 = male\n",
        "- **cp**, chest pain, **Category**\n",
        "  - 1 = typical angina,\n",
        "  - 2 = atypical angina,\n",
        "  - 3 = non-anginal pain,\n",
        "  - 4 = asymptomatic\n",
        "- **restbp**, resting blood pressure (in mm Hg), **Float**\n",
        "- **chol**, serum cholesterol in mg/dl, **Float**\n",
        "- **fbs**, fasting blood sugar, **Category**\n",
        "  - 0 = >=120 mg/dl\n",
        "  - 1 = <120 mg/dl\n",
        "- **restecg**, resting electrocardiographic results, **Category**\n",
        "  - 1 = normal\n",
        "  - 2 = having ST-T wave abnormality\n",
        "  - 3 = showing probable or definite left ventricular hypertrophy\n",
        "- **thalach**,  maximum heart rate achieved, **Float**\n",
        "- **exang**, exercise induced angina, **Category**\n",
        "  - 0 = no\n",
        "  - 1 = yes\n",
        "- **oldpeak**, ST depression induced by exercise relative to rest. **Float**\n",
        "- **slope**, the slope of the peak exercise ST segment, **Category**\n",
        "  - 1 = upsloping\n",
        "  - 2 = flat\n",
        "  - 3 = downsloping\n",
        "- **ca**, number of major vessels (0-3) colored by fluoroscopy, **Float**\n",
        "- **thal**, thalium heart scan, **Category**\n",
        "  - 3 = normal (no cold spots)\n",
        "  - 6 = fixed defect (cold spots during rest and exercise)\n",
        "  - 7 = reversible defect (when cold spots only appear during exercise)\n",
        "\n",
        "- **cp** (chest pain) column, we have 4 options:\n",
        "  - 1. typical angina,\n",
        "  - 2. atypical angina,\n",
        "  - 3. non-anginal pain,\n",
        "  - 4. asymptomatic"
      ]
    },
    {
      "cell_type": "markdown",
      "metadata": {
        "id": "7AWChowvb2Iv",
        "colab_type": "text"
      },
      "source": [
        "**scikit learn Support Vector Machines** natively support continuous data, like resting blood preasure (**restbp**) and maximum heart rate (**thalach**), they do not natively support categorical data, like chest pain (**cp**), which contains 4 different categories. Thus, in order to use categorical data with **scikit learn Support Vector Machines**, we have to use a trick that converts a column of categorical data into multiple columns of binary values."
      ]
    },
    {
      "cell_type": "code",
      "metadata": {
        "id": "9q7PzKV0a6f9",
        "colab_type": "code",
        "colab": {
          "base_uri": "https://localhost:8080/",
          "height": 35
        },
        "outputId": "27f74890-61c6-453b-a5a4-c851f737e82c"
      },
      "source": [
        "X['cp'].unique()"
      ],
      "execution_count": 65,
      "outputs": [
        {
          "output_type": "execute_result",
          "data": {
            "text/plain": [
              "array([1., 4., 3., 2.])"
            ]
          },
          "metadata": {
            "tags": []
          },
          "execution_count": 65
        }
      ]
    },
    {
      "cell_type": "markdown",
      "metadata": {
        "id": "LzdGALqOc3jX",
        "colab_type": "text"
      },
      "source": [
        "There are many different ways to do One-Hot Encoding in Python. Two of the more popular methods are ColumnTransformer() (from scikit-learn) and get_dummies() (from pandas)"
      ]
    },
    {
      "cell_type": "code",
      "metadata": {
        "id": "EaBXdXu5cNKu",
        "colab_type": "code",
        "colab": {
          "base_uri": "https://localhost:8080/",
          "height": 222
        },
        "outputId": "8c33cb05-2b93-4136-c93f-98be31015310"
      },
      "source": [
        "pd.get_dummies(X, columns=['cp']).head()"
      ],
      "execution_count": 66,
      "outputs": [
        {
          "output_type": "execute_result",
          "data": {
            "text/html": [
              "<div>\n",
              "<style scoped>\n",
              "    .dataframe tbody tr th:only-of-type {\n",
              "        vertical-align: middle;\n",
              "    }\n",
              "\n",
              "    .dataframe tbody tr th {\n",
              "        vertical-align: top;\n",
              "    }\n",
              "\n",
              "    .dataframe thead th {\n",
              "        text-align: right;\n",
              "    }\n",
              "</style>\n",
              "<table border=\"1\" class=\"dataframe\">\n",
              "  <thead>\n",
              "    <tr style=\"text-align: right;\">\n",
              "      <th></th>\n",
              "      <th>age</th>\n",
              "      <th>sex</th>\n",
              "      <th>restbp</th>\n",
              "      <th>chol</th>\n",
              "      <th>fbs</th>\n",
              "      <th>restecg</th>\n",
              "      <th>thalach</th>\n",
              "      <th>exang</th>\n",
              "      <th>oldpeak</th>\n",
              "      <th>slope</th>\n",
              "      <th>ca</th>\n",
              "      <th>thal</th>\n",
              "      <th>cp_1.0</th>\n",
              "      <th>cp_2.0</th>\n",
              "      <th>cp_3.0</th>\n",
              "      <th>cp_4.0</th>\n",
              "    </tr>\n",
              "  </thead>\n",
              "  <tbody>\n",
              "    <tr>\n",
              "      <th>0</th>\n",
              "      <td>63.0</td>\n",
              "      <td>1.0</td>\n",
              "      <td>145.0</td>\n",
              "      <td>233.0</td>\n",
              "      <td>1.0</td>\n",
              "      <td>2.0</td>\n",
              "      <td>150.0</td>\n",
              "      <td>0.0</td>\n",
              "      <td>2.3</td>\n",
              "      <td>3.0</td>\n",
              "      <td>0.0</td>\n",
              "      <td>6.0</td>\n",
              "      <td>1</td>\n",
              "      <td>0</td>\n",
              "      <td>0</td>\n",
              "      <td>0</td>\n",
              "    </tr>\n",
              "    <tr>\n",
              "      <th>1</th>\n",
              "      <td>67.0</td>\n",
              "      <td>1.0</td>\n",
              "      <td>160.0</td>\n",
              "      <td>286.0</td>\n",
              "      <td>0.0</td>\n",
              "      <td>2.0</td>\n",
              "      <td>108.0</td>\n",
              "      <td>1.0</td>\n",
              "      <td>1.5</td>\n",
              "      <td>2.0</td>\n",
              "      <td>3.0</td>\n",
              "      <td>3.0</td>\n",
              "      <td>0</td>\n",
              "      <td>0</td>\n",
              "      <td>0</td>\n",
              "      <td>1</td>\n",
              "    </tr>\n",
              "    <tr>\n",
              "      <th>2</th>\n",
              "      <td>67.0</td>\n",
              "      <td>1.0</td>\n",
              "      <td>120.0</td>\n",
              "      <td>229.0</td>\n",
              "      <td>0.0</td>\n",
              "      <td>2.0</td>\n",
              "      <td>129.0</td>\n",
              "      <td>1.0</td>\n",
              "      <td>2.6</td>\n",
              "      <td>2.0</td>\n",
              "      <td>2.0</td>\n",
              "      <td>7.0</td>\n",
              "      <td>0</td>\n",
              "      <td>0</td>\n",
              "      <td>0</td>\n",
              "      <td>1</td>\n",
              "    </tr>\n",
              "    <tr>\n",
              "      <th>3</th>\n",
              "      <td>37.0</td>\n",
              "      <td>1.0</td>\n",
              "      <td>130.0</td>\n",
              "      <td>250.0</td>\n",
              "      <td>0.0</td>\n",
              "      <td>0.0</td>\n",
              "      <td>187.0</td>\n",
              "      <td>0.0</td>\n",
              "      <td>3.5</td>\n",
              "      <td>3.0</td>\n",
              "      <td>0.0</td>\n",
              "      <td>3.0</td>\n",
              "      <td>0</td>\n",
              "      <td>0</td>\n",
              "      <td>1</td>\n",
              "      <td>0</td>\n",
              "    </tr>\n",
              "    <tr>\n",
              "      <th>4</th>\n",
              "      <td>41.0</td>\n",
              "      <td>0.0</td>\n",
              "      <td>130.0</td>\n",
              "      <td>204.0</td>\n",
              "      <td>0.0</td>\n",
              "      <td>2.0</td>\n",
              "      <td>172.0</td>\n",
              "      <td>0.0</td>\n",
              "      <td>1.4</td>\n",
              "      <td>1.0</td>\n",
              "      <td>0.0</td>\n",
              "      <td>3.0</td>\n",
              "      <td>0</td>\n",
              "      <td>1</td>\n",
              "      <td>0</td>\n",
              "      <td>0</td>\n",
              "    </tr>\n",
              "  </tbody>\n",
              "</table>\n",
              "</div>"
            ],
            "text/plain": [
              "    age  sex  restbp   chol  fbs  ...  thal  cp_1.0  cp_2.0  cp_3.0  cp_4.0\n",
              "0  63.0  1.0   145.0  233.0  1.0  ...   6.0       1       0       0       0\n",
              "1  67.0  1.0   160.0  286.0  0.0  ...   3.0       0       0       0       1\n",
              "2  67.0  1.0   120.0  229.0  0.0  ...   7.0       0       0       0       1\n",
              "3  37.0  1.0   130.0  250.0  0.0  ...   3.0       0       0       1       0\n",
              "4  41.0  0.0   130.0  204.0  0.0  ...   3.0       0       1       0       0\n",
              "\n",
              "[5 rows x 16 columns]"
            ]
          },
          "metadata": {
            "tags": []
          },
          "execution_count": 66
        }
      ]
    },
    {
      "cell_type": "code",
      "metadata": {
        "id": "g8AR7vLEc--2",
        "colab_type": "code",
        "colab": {
          "base_uri": "https://localhost:8080/",
          "height": 222
        },
        "outputId": "3d4c21a5-fb59-4df2-c3b2-3419c9d0b4d2"
      },
      "source": [
        "X_encoded = pd.get_dummies(X, columns=['cp',\n",
        "                                       'restecg',\n",
        "                                       'slope', \n",
        "                                       'thal'])\n",
        "X_encoded.head()"
      ],
      "execution_count": 67,
      "outputs": [
        {
          "output_type": "execute_result",
          "data": {
            "text/html": [
              "<div>\n",
              "<style scoped>\n",
              "    .dataframe tbody tr th:only-of-type {\n",
              "        vertical-align: middle;\n",
              "    }\n",
              "\n",
              "    .dataframe tbody tr th {\n",
              "        vertical-align: top;\n",
              "    }\n",
              "\n",
              "    .dataframe thead th {\n",
              "        text-align: right;\n",
              "    }\n",
              "</style>\n",
              "<table border=\"1\" class=\"dataframe\">\n",
              "  <thead>\n",
              "    <tr style=\"text-align: right;\">\n",
              "      <th></th>\n",
              "      <th>age</th>\n",
              "      <th>sex</th>\n",
              "      <th>restbp</th>\n",
              "      <th>chol</th>\n",
              "      <th>fbs</th>\n",
              "      <th>thalach</th>\n",
              "      <th>exang</th>\n",
              "      <th>oldpeak</th>\n",
              "      <th>ca</th>\n",
              "      <th>cp_1.0</th>\n",
              "      <th>cp_2.0</th>\n",
              "      <th>cp_3.0</th>\n",
              "      <th>cp_4.0</th>\n",
              "      <th>restecg_0.0</th>\n",
              "      <th>restecg_1.0</th>\n",
              "      <th>restecg_2.0</th>\n",
              "      <th>slope_1.0</th>\n",
              "      <th>slope_2.0</th>\n",
              "      <th>slope_3.0</th>\n",
              "      <th>thal_3.0</th>\n",
              "      <th>thal_6.0</th>\n",
              "      <th>thal_7.0</th>\n",
              "    </tr>\n",
              "  </thead>\n",
              "  <tbody>\n",
              "    <tr>\n",
              "      <th>0</th>\n",
              "      <td>63.0</td>\n",
              "      <td>1.0</td>\n",
              "      <td>145.0</td>\n",
              "      <td>233.0</td>\n",
              "      <td>1.0</td>\n",
              "      <td>150.0</td>\n",
              "      <td>0.0</td>\n",
              "      <td>2.3</td>\n",
              "      <td>0.0</td>\n",
              "      <td>1</td>\n",
              "      <td>0</td>\n",
              "      <td>0</td>\n",
              "      <td>0</td>\n",
              "      <td>0</td>\n",
              "      <td>0</td>\n",
              "      <td>1</td>\n",
              "      <td>0</td>\n",
              "      <td>0</td>\n",
              "      <td>1</td>\n",
              "      <td>0</td>\n",
              "      <td>1</td>\n",
              "      <td>0</td>\n",
              "    </tr>\n",
              "    <tr>\n",
              "      <th>1</th>\n",
              "      <td>67.0</td>\n",
              "      <td>1.0</td>\n",
              "      <td>160.0</td>\n",
              "      <td>286.0</td>\n",
              "      <td>0.0</td>\n",
              "      <td>108.0</td>\n",
              "      <td>1.0</td>\n",
              "      <td>1.5</td>\n",
              "      <td>3.0</td>\n",
              "      <td>0</td>\n",
              "      <td>0</td>\n",
              "      <td>0</td>\n",
              "      <td>1</td>\n",
              "      <td>0</td>\n",
              "      <td>0</td>\n",
              "      <td>1</td>\n",
              "      <td>0</td>\n",
              "      <td>1</td>\n",
              "      <td>0</td>\n",
              "      <td>1</td>\n",
              "      <td>0</td>\n",
              "      <td>0</td>\n",
              "    </tr>\n",
              "    <tr>\n",
              "      <th>2</th>\n",
              "      <td>67.0</td>\n",
              "      <td>1.0</td>\n",
              "      <td>120.0</td>\n",
              "      <td>229.0</td>\n",
              "      <td>0.0</td>\n",
              "      <td>129.0</td>\n",
              "      <td>1.0</td>\n",
              "      <td>2.6</td>\n",
              "      <td>2.0</td>\n",
              "      <td>0</td>\n",
              "      <td>0</td>\n",
              "      <td>0</td>\n",
              "      <td>1</td>\n",
              "      <td>0</td>\n",
              "      <td>0</td>\n",
              "      <td>1</td>\n",
              "      <td>0</td>\n",
              "      <td>1</td>\n",
              "      <td>0</td>\n",
              "      <td>0</td>\n",
              "      <td>0</td>\n",
              "      <td>1</td>\n",
              "    </tr>\n",
              "    <tr>\n",
              "      <th>3</th>\n",
              "      <td>37.0</td>\n",
              "      <td>1.0</td>\n",
              "      <td>130.0</td>\n",
              "      <td>250.0</td>\n",
              "      <td>0.0</td>\n",
              "      <td>187.0</td>\n",
              "      <td>0.0</td>\n",
              "      <td>3.5</td>\n",
              "      <td>0.0</td>\n",
              "      <td>0</td>\n",
              "      <td>0</td>\n",
              "      <td>1</td>\n",
              "      <td>0</td>\n",
              "      <td>1</td>\n",
              "      <td>0</td>\n",
              "      <td>0</td>\n",
              "      <td>0</td>\n",
              "      <td>0</td>\n",
              "      <td>1</td>\n",
              "      <td>1</td>\n",
              "      <td>0</td>\n",
              "      <td>0</td>\n",
              "    </tr>\n",
              "    <tr>\n",
              "      <th>4</th>\n",
              "      <td>41.0</td>\n",
              "      <td>0.0</td>\n",
              "      <td>130.0</td>\n",
              "      <td>204.0</td>\n",
              "      <td>0.0</td>\n",
              "      <td>172.0</td>\n",
              "      <td>0.0</td>\n",
              "      <td>1.4</td>\n",
              "      <td>0.0</td>\n",
              "      <td>0</td>\n",
              "      <td>1</td>\n",
              "      <td>0</td>\n",
              "      <td>0</td>\n",
              "      <td>0</td>\n",
              "      <td>0</td>\n",
              "      <td>1</td>\n",
              "      <td>1</td>\n",
              "      <td>0</td>\n",
              "      <td>0</td>\n",
              "      <td>1</td>\n",
              "      <td>0</td>\n",
              "      <td>0</td>\n",
              "    </tr>\n",
              "  </tbody>\n",
              "</table>\n",
              "</div>"
            ],
            "text/plain": [
              "    age  sex  restbp   chol  ...  slope_3.0  thal_3.0  thal_6.0  thal_7.0\n",
              "0  63.0  1.0   145.0  233.0  ...          1         0         1         0\n",
              "1  67.0  1.0   160.0  286.0  ...          0         1         0         0\n",
              "2  67.0  1.0   120.0  229.0  ...          0         0         0         1\n",
              "3  37.0  1.0   130.0  250.0  ...          1         1         0         0\n",
              "4  41.0  0.0   130.0  204.0  ...          0         1         0         0\n",
              "\n",
              "[5 rows x 22 columns]"
            ]
          },
          "metadata": {
            "tags": []
          },
          "execution_count": 67
        }
      ]
    },
    {
      "cell_type": "markdown",
      "metadata": {
        "id": "2bC0YrYBd07q",
        "colab_type": "text"
      },
      "source": [
        "One-Hot Encoding converts a column with more than 2 categories, like cp (chest pain) into multiple columns of 0s and 1s. Since sex, fbs, and exang only have 2 categories and only contain 0s and 1s to begin with, we do not have to do anything special to them, so we're done formatting the data for the Support Vector Machine."
      ]
    },
    {
      "cell_type": "code",
      "metadata": {
        "id": "6le_NllXdFnx",
        "colab_type": "code",
        "colab": {
          "base_uri": "https://localhost:8080/",
          "height": 35
        },
        "outputId": "a1d70748-e1c7-4d15-950d-c72d6797d313"
      },
      "source": [
        "y.unique()"
      ],
      "execution_count": 68,
      "outputs": [
        {
          "output_type": "execute_result",
          "data": {
            "text/plain": [
              "array([0, 2, 1, 3, 4])"
            ]
          },
          "metadata": {
            "tags": []
          },
          "execution_count": 68
        }
      ]
    },
    {
      "cell_type": "markdown",
      "metadata": {
        "id": "6Zb1qZkMeD_y",
        "colab_type": "text"
      },
      "source": [
        "Since we're only making a support vector machine that does simple classification and only care if someone has heart disease or not, we need to convert all numbers > 0 to 1."
      ]
    },
    {
      "cell_type": "code",
      "metadata": {
        "id": "-XEyiglSd6uS",
        "colab_type": "code",
        "colab": {
          "base_uri": "https://localhost:8080/",
          "height": 35
        },
        "outputId": "1cdc53f3-867f-4eb5-d16c-1cd3be2db693"
      },
      "source": [
        "y_not_zero_idx = y > 0\n",
        "y[y_not_zero_idx] = 1\n",
        "y.unique()"
      ],
      "execution_count": 69,
      "outputs": [
        {
          "output_type": "execute_result",
          "data": {
            "text/plain": [
              "array([0, 1])"
            ]
          },
          "metadata": {
            "tags": []
          },
          "execution_count": 69
        }
      ]
    },
    {
      "cell_type": "markdown",
      "metadata": {
        "id": "q4Z-8eVFeQLQ",
        "colab_type": "text"
      },
      "source": [
        "## Centering and Scaling\n",
        "\n",
        "The **Radial Basis Function (RBF)** that we are using with our **Support Vector Machine** assumes that the data are centered and scaled, so we need to do this to both the training and testing datasets.\n",
        "\n",
        "**NOTE:** We split the data into training and testing datasets and then scale them separately to avoid **Data Leakage**. **Data Leakage** occurs when information about the training dataset currupts or influences the testing dataset."
      ]
    },
    {
      "cell_type": "code",
      "metadata": {
        "id": "tlckFV-XeMy5",
        "colab_type": "code",
        "colab": {}
      },
      "source": [
        "X_train, X_test, y_train, y_test = train_test_split(X, y, random_state=42)\n",
        "X_train_scaled = scale(X_train)\n",
        "X_test_scaled = scale(X_test)"
      ],
      "execution_count": 84,
      "outputs": []
    },
    {
      "cell_type": "markdown",
      "metadata": {
        "id": "JyLOwb0CeqF0",
        "colab_type": "text"
      },
      "source": [
        "## Support Vector Machine"
      ]
    },
    {
      "cell_type": "code",
      "metadata": {
        "id": "0CDOfGmZei1X",
        "colab_type": "code",
        "colab": {
          "base_uri": "https://localhost:8080/",
          "height": 87
        },
        "outputId": "f1988f7e-f322-4e1b-defa-4ec77d30d758"
      },
      "source": [
        "clf_svm = SVC() # Support Vector Classifier\n",
        "clf_svm.fit(X_train_scaled, y_train)"
      ],
      "execution_count": 85,
      "outputs": [
        {
          "output_type": "execute_result",
          "data": {
            "text/plain": [
              "SVC(C=1.0, break_ties=False, cache_size=200, class_weight=None, coef0=0.0,\n",
              "    decision_function_shape='ovr', degree=3, gamma='scale', kernel='rbf',\n",
              "    max_iter=-1, probability=False, random_state=None, shrinking=True,\n",
              "    tol=0.001, verbose=False)"
            ]
          },
          "metadata": {
            "tags": []
          },
          "execution_count": 85
        }
      ]
    },
    {
      "cell_type": "code",
      "metadata": {
        "id": "Kig9qNlke-oP",
        "colab_type": "code",
        "colab": {
          "base_uri": "https://localhost:8080/",
          "height": 279
        },
        "outputId": "a546bc4e-d771-49dc-a354-bfb4f9a43051"
      },
      "source": [
        "plot_confusion_matrix(clf_svm,\n",
        "                      X_test_scaled,\n",
        "                      y_test,\n",
        "                      display_labels=[\"Does not have HD\", \"Has HD\"]);"
      ],
      "execution_count": 86,
      "outputs": [
        {
          "output_type": "display_data",
          "data": {
            "image/png": "[encoded data removed]",
            "text/plain": [
              "<Figure size 432x288 with 2 Axes>"
            ]
          },
          "metadata": {
            "tags": [],
            "needs_background": "light"
          }
        }
      ]
    },
    {
      "cell_type": "markdown",
      "metadata": {
        "id": "AqXkNQNrfPgq",
        "colab_type": "text"
      },
      "source": [
        "In the confusion matrix, we see that of the **37 + 5 = 42** people that did not have **Heart Disease**, **37 (88%)** were correctly classified. And of the **5 + 28 = 33** people that have **Heart Disease**, **28 (85%)** were correctly classified. So the support vector machine did pretty well without any optimization. That said, it is possible that we can improve predictions using **Cross Validation** to optimize the parameters."
      ]
    },
    {
      "cell_type": "markdown",
      "metadata": {
        "id": "Mk9ffU18gzJs",
        "colab_type": "text"
      },
      "source": [
        "## Optimize Support Vector Machine with Cross Valisation\n",
        "\n",
        "Optimizing a Support Vector Machine is all about finding the best value for gamma, and, potentially, the regularization parameter, C."
      ]
    },
    {
      "cell_type": "code",
      "metadata": {
        "id": "iJ1Uca75fJ0t",
        "colab_type": "code",
        "colab": {
          "base_uri": "https://localhost:8080/",
          "height": 35
        },
        "outputId": "0b36ce21-1c7e-431a-a165-cd312477c8f5"
      },
      "source": [
        "param_grid = [\n",
        "              {'C': [ 1, 10, 100, 1000],\n",
        "               'gamma': [0.001, 0.0001],\n",
        "               'kernel': ['rbf']}\n",
        "]\n",
        "\n",
        "optimal_params = GridSearchCV(\n",
        "    SVC(),\n",
        "    param_grid,\n",
        "    cv=5,\n",
        "    verbose=0\n",
        ")\n",
        "\n",
        "optimal_params.fit(X_train_scaled, y_train)\n",
        "optimal_params.best_params_"
      ],
      "execution_count": 88,
      "outputs": [
        {
          "output_type": "execute_result",
          "data": {
            "text/plain": [
              "{'C': 10, 'gamma': 0.001, 'kernel': 'rbf'}"
            ]
          },
          "metadata": {
            "tags": []
          },
          "execution_count": 88
        }
      ]
    },
    {
      "cell_type": "markdown",
      "metadata": {
        "id": "FwM3GtFTl0dw",
        "colab_type": "text"
      },
      "source": [
        "## Building, Evaluating, Drawing and Interpreting the Support Vector Machine"
      ]
    },
    {
      "cell_type": "code",
      "metadata": {
        "id": "EMj1AYQVhdCo",
        "colab_type": "code",
        "colab": {
          "base_uri": "https://localhost:8080/",
          "height": 87
        },
        "outputId": "91523aeb-6999-4cd0-ab60-befbd1bb610c"
      },
      "source": [
        "clf_svm = SVC(C=10, gamma=0.001)\n",
        "clf_svm.fit(X_train_scaled, y_train)"
      ],
      "execution_count": 91,
      "outputs": [
        {
          "output_type": "execute_result",
          "data": {
            "text/plain": [
              "SVC(C=10, break_ties=False, cache_size=200, class_weight=None, coef0=0.0,\n",
              "    decision_function_shape='ovr', degree=3, gamma=0.001, kernel='rbf',\n",
              "    max_iter=-1, probability=False, random_state=None, shrinking=True,\n",
              "    tol=0.001, verbose=False)"
            ]
          },
          "metadata": {
            "tags": []
          },
          "execution_count": 91
        }
      ]
    },
    {
      "cell_type": "code",
      "metadata": {
        "id": "SMqO0vAMmJtY",
        "colab_type": "code",
        "colab": {
          "base_uri": "https://localhost:8080/",
          "height": 279
        },
        "outputId": "89e1b038-8351-4120-a6c5-918f6364fe21"
      },
      "source": [
        "plot_confusion_matrix(clf_svm,\n",
        "                      X_test_scaled,\n",
        "                      y_test,\n",
        "                      display_labels=[\"Does not have HD\", \"Has HD\"]);"
      ],
      "execution_count": 94,
      "outputs": [
        {
          "output_type": "display_data",
          "data": {
            "image/png": "[encoded data removed]",
            "text/plain": [
              "<Figure size 432x288 with 2 Axes>"
            ]
          },
          "metadata": {
            "tags": [],
            "needs_background": "light"
          }
        }
      ]
    },
    {
      "cell_type": "markdown",
      "metadata": {
        "id": "kYm3ypALmiRl",
        "colab_type": "text"
      },
      "source": [
        "Of the **38 + 4 = 42** people that did not have heart disease, **38 (90%)** were correctly classified. This is an improvement over the preliminary support vector machine, which only correctly classified **37 (88%)** of the patients without heart disease. Of the **4 + 29 = 33** people with heart disease, **29 (87%)** were correctly classified. This is also an improvement over the preliminary support vector machine, which only correctly classified **28 (85%)** of the patients with heart disease."
      ]
    },
    {
      "cell_type": "markdown",
      "metadata": {
        "id": "IPn3RZMln5Wt",
        "colab_type": "text"
      },
      "source": [
        "## PCA"
      ]
    },
    {
      "cell_type": "code",
      "metadata": {
        "id": "0kGnJcaunA2G",
        "colab_type": "code",
        "colab": {
          "base_uri": "https://localhost:8080/",
          "height": 295
        },
        "outputId": "e1bf5b72-75d1-4265-9cd0-4ccd76654c90"
      },
      "source": [
        "pca = PCA() # By default, PCA() centers the data, but does not scale it.\n",
        "X_train_pca = pca.fit_transform(X_train_scaled)\n",
        "\n",
        "per_var = np.round(pca.explained_variance_ratio_* 100, decimals=1)\n",
        "labels = ['PC' + str(x) for x in range(1, len(per_var)+1)]\n",
        " \n",
        "plt.bar(x=range(1,len(per_var)+1), height=per_var, tick_label=labels)\n",
        "plt.ylabel('Percentage of Explained Variance')\n",
        "plt.xlabel('Principal Component')\n",
        "plt.title('Scree Plot')\n",
        "plt.show();"
      ],
      "execution_count": 98,
      "outputs": [
        {
          "output_type": "display_data",
          "data": {
            "image/png": "[encoded data removed]",
            "text/plain": [
              "<Figure size 432x288 with 1 Axes>"
            ]
          },
          "metadata": {
            "tags": [],
            "needs_background": "light"
          }
        }
      ]
    },
    {
      "cell_type": "code",
      "metadata": {
        "id": "hbCyWiDLn7gm",
        "colab_type": "code",
        "colab": {
          "base_uri": "https://localhost:8080/",
          "height": 621
        },
        "outputId": "e631ccac-198c-4125-8650-c8de86704253"
      },
      "source": [
        "pc1 = X_train_pca[:, 0] \n",
        "pc2 = X_train_pca[:, 1]\n",
        "\n",
        "## NOTE:\n",
        "## pc1 contains the x-axis coordinates of the data after PCA\n",
        "## pc2 contains the y-axis coordinates of the data after PCA\n",
        "\n",
        "## Now we fittthe SVM to the x and y-axis coordinates\n",
        "## of the data after PCA dimension reduction...\n",
        "clf_svm.fit(np.column_stack((pc1, pc2)), y_train)\n",
        "\n",
        "## Now create a matrix of points that we can use to show\n",
        "## the decision regions.\n",
        "## The matrix will be a little bit larger than the\n",
        "## transformed PCA points so that we can plot all of\n",
        "## the PCA points on it without them being on the edge\n",
        "x_min = pc1.min() - 1\n",
        "x_max = pc1.max() + 1\n",
        "\n",
        "y_min = pc2.min() - 1\n",
        "y_max = pc2.max() + 1\n",
        "\n",
        "xx, yy = np.meshgrid(np.arange(start=x_min, stop=x_max, step=0.1),\n",
        "                     np.arange(start=y_min, stop=y_max, step=0.1))\n",
        "\n",
        "## now we will classify every point in that \n",
        "## matrix with the SVM. Points on one side of the \n",
        "## classification boundary will get 0, and points on the other\n",
        "## side will get 1.\n",
        "Z = clf_svm.predict(np.column_stack((xx.ravel(), yy.ravel())))\n",
        "## Right now, Z is just a long array of lots of 0s and 1s, which\n",
        "## reflect how each point in the mesh was classified.\n",
        "## We use reshape() so that each classification (0 or 1) corresponds\n",
        "## to a specific point in the matrix.\n",
        "Z = Z.reshape(xx.shape)\n",
        "\n",
        "fig, ax = plt.subplots(figsize=(10,10))\n",
        "## now we will use contourf() to draw a filled contour plot\n",
        "## using the matrix values and classifications. \n",
        "## The contours will be filled according to the \n",
        "## predicted classifications (0s and 1s) in Z\n",
        "ax.contourf(xx, yy, Z, alpha=0.1)\n",
        "\n",
        "## now create custom colors for the actual data points\n",
        "cmap = colors.ListedColormap(['#e41a1c', '#4daf4a'])\n",
        "## now darw the actual data points - these will\n",
        "## be colored by their known (not predcited) classifications\n",
        "## NOTE: setting alpha=0.7 lets us see if we are covering up a point \n",
        "scatter = ax.scatter(pc1, pc2, c=y_train, \n",
        "               cmap=cmap, \n",
        "               s=100, \n",
        "               edgecolors='k', ## 'k' = black\n",
        "               alpha=0.7)\n",
        "\n",
        "## now create a legend\n",
        "legend = ax.legend(scatter.legend_elements()[0], \n",
        "                   scatter.legend_elements()[1],\n",
        "                    loc=\"upper right\")\n",
        "legend.get_texts()[0].set_text(\"No HD\")\n",
        "legend.get_texts()[1].set_text(\"Yes HD\")\n",
        "\n",
        "## now add axis labels and titles\n",
        "ax.set_ylabel('PC2')\n",
        "ax.set_xlabel('PC1')\n",
        "ax.set_title('Decison surface using the PCA transformed/projected features')\n",
        "# plt.savefig('svm.png')\n",
        "plt.show()"
      ],
      "execution_count": 99,
      "outputs": [
        {
          "output_type": "display_data",
          "data": {
            "image/png": "[encoded data removed]",
            "text/plain": [
              "<Figure size 720x720 with 1 Axes>"
            ]
          },
          "metadata": {
            "tags": [],
            "needs_background": "light"
          }
        }
      ]
    },
    {
      "cell_type": "code",
      "metadata": {
        "id": "bxLCi2Dzn-0y",
        "colab_type": "code",
        "colab": {}
      },
      "source": [
        ""
      ],
      "execution_count": null,
      "outputs": []
    },
    {
      "cell_type": "markdown",
      "metadata": {
        "id": "54M17moOsEVN",
        "colab_type": "text"
      },
      "source": [
        "# Another Example"
      ]
    },
    {
      "cell_type": "markdown",
      "metadata": {
        "id": "jSjErXq8u3VX",
        "colab_type": "text"
      },
      "source": [
        "## Data\n",
        "\n",
        "### Social Network Ads\n",
        "A categorical dataset to determine whether a user purchased a particular product\n",
        "\n",
        "https://www.kaggle.com/rakeshrau/social-network-ads"
      ]
    },
    {
      "cell_type": "code",
      "metadata": {
        "id": "9uwgTbPHsHsm",
        "colab_type": "code",
        "colab": {}
      },
      "source": [
        "import numpy as np\n",
        "import matplotlib.pyplot as plt\n",
        "import pandas as pd"
      ],
      "execution_count": 100,
      "outputs": []
    },
    {
      "cell_type": "code",
      "metadata": {
        "id": "lJmsFpBNs_Gx",
        "colab_type": "code",
        "colab": {}
      },
      "source": [
        "dataset = pd.read_csv(\"https://raw.githubusercontent.com/otwn/Data-Science-Review/master/data/Social_Network_Ads.csv\")"
      ],
      "execution_count": 101,
      "outputs": []
    },
    {
      "cell_type": "code",
      "metadata": {
        "id": "dkdRip_CvDu4",
        "colab_type": "code",
        "colab": {
          "base_uri": "https://localhost:8080/",
          "height": 202
        },
        "outputId": "35e2db4d-90f5-4ef4-d8ae-bc44cdacdc5f"
      },
      "source": [
        "dataset.head()"
      ],
      "execution_count": 102,
      "outputs": [
        {
          "output_type": "execute_result",
          "data": {
            "text/html": [
              "<div>\n",
              "<style scoped>\n",
              "    .dataframe tbody tr th:only-of-type {\n",
              "        vertical-align: middle;\n",
              "    }\n",
              "\n",
              "    .dataframe tbody tr th {\n",
              "        vertical-align: top;\n",
              "    }\n",
              "\n",
              "    .dataframe thead th {\n",
              "        text-align: right;\n",
              "    }\n",
              "</style>\n",
              "<table border=\"1\" class=\"dataframe\">\n",
              "  <thead>\n",
              "    <tr style=\"text-align: right;\">\n",
              "      <th></th>\n",
              "      <th>User ID</th>\n",
              "      <th>Gender</th>\n",
              "      <th>Age</th>\n",
              "      <th>EstimatedSalary</th>\n",
              "      <th>Purchased</th>\n",
              "    </tr>\n",
              "  </thead>\n",
              "  <tbody>\n",
              "    <tr>\n",
              "      <th>0</th>\n",
              "      <td>15624510</td>\n",
              "      <td>Male</td>\n",
              "      <td>19</td>\n",
              "      <td>19000</td>\n",
              "      <td>0</td>\n",
              "    </tr>\n",
              "    <tr>\n",
              "      <th>1</th>\n",
              "      <td>15810944</td>\n",
              "      <td>Male</td>\n",
              "      <td>35</td>\n",
              "      <td>20000</td>\n",
              "      <td>0</td>\n",
              "    </tr>\n",
              "    <tr>\n",
              "      <th>2</th>\n",
              "      <td>15668575</td>\n",
              "      <td>Female</td>\n",
              "      <td>26</td>\n",
              "      <td>43000</td>\n",
              "      <td>0</td>\n",
              "    </tr>\n",
              "    <tr>\n",
              "      <th>3</th>\n",
              "      <td>15603246</td>\n",
              "      <td>Female</td>\n",
              "      <td>27</td>\n",
              "      <td>57000</td>\n",
              "      <td>0</td>\n",
              "    </tr>\n",
              "    <tr>\n",
              "      <th>4</th>\n",
              "      <td>15804002</td>\n",
              "      <td>Male</td>\n",
              "      <td>19</td>\n",
              "      <td>76000</td>\n",
              "      <td>0</td>\n",
              "    </tr>\n",
              "  </tbody>\n",
              "</table>\n",
              "</div>"
            ],
            "text/plain": [
              "    User ID  Gender  Age  EstimatedSalary  Purchased\n",
              "0  15624510    Male   19            19000          0\n",
              "1  15810944    Male   35            20000          0\n",
              "2  15668575  Female   26            43000          0\n",
              "3  15603246  Female   27            57000          0\n",
              "4  15804002    Male   19            76000          0"
            ]
          },
          "metadata": {
            "tags": []
          },
          "execution_count": 102
        }
      ]
    },
    {
      "cell_type": "code",
      "metadata": {
        "id": "wlL__YgjvL7D",
        "colab_type": "code",
        "colab": {}
      },
      "source": [
        "X = dataset.iloc[:, [2,3]].values\n",
        "y = dataset.iloc[:, 4].values"
      ],
      "execution_count": 103,
      "outputs": []
    },
    {
      "cell_type": "code",
      "metadata": {
        "id": "ohzQJNKUvwtE",
        "colab_type": "code",
        "colab": {
          "base_uri": "https://localhost:8080/",
          "height": 104
        },
        "outputId": "d7eda568-f290-48db-8c60-db01e0b65e76"
      },
      "source": [
        "print(X[0:5])"
      ],
      "execution_count": 105,
      "outputs": [
        {
          "output_type": "stream",
          "text": [
            "[[   19 19000]\n",
            " [   35 20000]\n",
            " [   26 43000]\n",
            " [   27 57000]\n",
            " [   19 76000]]\n"
          ],
          "name": "stdout"
        }
      ]
    },
    {
      "cell_type": "code",
      "metadata": {
        "id": "UZwovzkavxoT",
        "colab_type": "code",
        "colab": {
          "base_uri": "https://localhost:8080/",
          "height": 35
        },
        "outputId": "4d1fd0ef-28ad-46ed-8b07-537536b4318f"
      },
      "source": [
        "print(y[0:5])"
      ],
      "execution_count": 106,
      "outputs": [
        {
          "output_type": "stream",
          "text": [
            "[0 0 0 0 0]\n"
          ],
          "name": "stdout"
        }
      ]
    },
    {
      "cell_type": "markdown",
      "metadata": {
        "id": "lGl5a0nnwO9h",
        "colab_type": "text"
      },
      "source": [
        "## Spliting the datset into the training set & testing set"
      ]
    },
    {
      "cell_type": "code",
      "metadata": {
        "id": "9yWqS6nbv2Uf",
        "colab_type": "code",
        "colab": {}
      },
      "source": [
        "from sklearn.model_selection import train_test_split\n",
        "\n",
        "X_train, X_test, y_train, y_test = train_test_split(X, y, test_size=0.2)"
      ],
      "execution_count": 107,
      "outputs": []
    },
    {
      "cell_type": "code",
      "metadata": {
        "id": "Q18V9h7Wwv7_",
        "colab_type": "code",
        "colab": {}
      },
      "source": [
        "from sklearn.preprocessing import StandardScaler\n",
        "\n",
        "sc = StandardScaler()\n",
        "X_train = sc.fit_transform(X_train)\n",
        "X_test = sc.fit_transform(X_test)"
      ],
      "execution_count": 112,
      "outputs": []
    },
    {
      "cell_type": "code",
      "metadata": {
        "id": "65VPmYi3xZcm",
        "colab_type": "code",
        "colab": {
          "base_uri": "https://localhost:8080/",
          "height": 104
        },
        "outputId": "0d7e9feb-d574-432f-cd06-461bb5bfe834"
      },
      "source": [
        "X_test[0:5]"
      ],
      "execution_count": 114,
      "outputs": [
        {
          "output_type": "execute_result",
          "data": {
            "text/plain": [
              "array([[ 2.12240554,  0.23278499],\n",
              "       [-1.10707609,  0.13841269],\n",
              "       [-0.22630837,  0.39007214],\n",
              "       [ 1.43736398,  2.34043283],\n",
              "       [-0.22630837, -0.80531022]])"
            ]
          },
          "metadata": {
            "tags": []
          },
          "execution_count": 114
        }
      ]
    },
    {
      "cell_type": "markdown",
      "metadata": {
        "id": "wNZJZ1SuxpUr",
        "colab_type": "text"
      },
      "source": [
        "## Fit our SVM classifier to our training data"
      ]
    },
    {
      "cell_type": "code",
      "metadata": {
        "id": "VMl5ab-BxkWy",
        "colab_type": "code",
        "colab": {}
      },
      "source": [
        "from sklearn.svm import SVC\n",
        "\n",
        "svm_clf = SVC(kernel='linear')\n",
        "svm_clf.fit(X_train, y_train)\n",
        "\n",
        "y_pred = svm_clf.predict(X_test)"
      ],
      "execution_count": 115,
      "outputs": []
    },
    {
      "cell_type": "markdown",
      "metadata": {
        "id": "mpwjLpj1yNYR",
        "colab_type": "text"
      },
      "source": [
        "## Create Confusion Matrics"
      ]
    },
    {
      "cell_type": "code",
      "metadata": {
        "id": "m3vd5fnLx-YZ",
        "colab_type": "code",
        "colab": {
          "base_uri": "https://localhost:8080/",
          "height": 52
        },
        "outputId": "5bb18d1a-c773-4e68-c54d-02dee28dcd7a"
      },
      "source": [
        "from sklearn.metrics import confusion_matrix\n",
        "cm = confusion_matrix(y_test, y_pred)\n",
        "cm"
      ],
      "execution_count": 119,
      "outputs": [
        {
          "output_type": "execute_result",
          "data": {
            "text/plain": [
              "array([[47,  5],\n",
              "       [ 9, 19]])"
            ]
          },
          "metadata": {
            "tags": []
          },
          "execution_count": 119
        }
      ]
    },
    {
      "cell_type": "code",
      "metadata": {
        "id": "GthBmBz3yXj3",
        "colab_type": "code",
        "colab": {
          "base_uri": "https://localhost:8080/",
          "height": 279
        },
        "outputId": "ddf5101e-60bd-4d5b-eaa6-fe5a003aafb9"
      },
      "source": [
        "from sklearn.metrics import plot_confusion_matrix\n",
        "plot_confusion_matrix(svm_clf,\n",
        "                      X_test,\n",
        "                      y_test);"
      ],
      "execution_count": 122,
      "outputs": [
        {
          "output_type": "display_data",
          "data": {
            "image/png": "[encoded data removed]",
            "text/plain": [
              "<Figure size 432x288 with 2 Axes>"
            ]
          },
          "metadata": {
            "tags": [],
            "needs_background": "light"
          }
        }
      ]
    },
    {
      "cell_type": "code",
      "metadata": {
        "id": "sZV_PPwbyYfe",
        "colab_type": "code",
        "colab": {}
      },
      "source": [
        ""
      ],
      "execution_count": null,
      "outputs": []
    }
  ]
}