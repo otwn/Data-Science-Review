{
  "nbformat": 4,
  "nbformat_minor": 0,
  "metadata": {
    "colab": {
      "name": "Linear Regression.ipynb",
      "provenance": [],
      "collapsed_sections": [],
      "mount_file_id": "13UlIVzoglIm1hhy02lLpIGYC2tnmTFU7",
      "authorship_tag": "ABX9TyONTakfvZ+kXAJkn5xBwRal",
      "include_colab_link": true
    },
    "kernelspec": {
      "name": "python3",
      "display_name": "Python 3"
    }
  },
  "cells": [
    {
      "cell_type": "markdown",
      "metadata": {
        "id": "view-in-github",
        "colab_type": "text"
      },
      "source": [
        "<a href=\"https://colab.research.google.com/github/otwn/Data-Science-Review/blob/master/Linear_Regression.ipynb\" target=\"_parent\"><img src=\"https://colab.research.google.com/assets/colab-badge.svg\" alt=\"Open In Colab\"/></a>"
      ]
    },
    {
      "cell_type": "markdown",
      "metadata": {
        "id": "g8ZJr3JeAfvh",
        "colab_type": "text"
      },
      "source": [
        "## **Linear Regression**\n"
      ]
    },
    {
      "cell_type": "code",
      "metadata": {
        "id": "8iZFShrXrfA_",
        "colab_type": "code",
        "colab": {}
      },
      "source": [
        "# Import libraries\n",
        "import pandas as pd\n",
        "import matplotlib.pyplot as plt\n",
        "import numpy as np\n",
        "import sklearn.linear_model\n"
      ],
      "execution_count": null,
      "outputs": []
    },
    {
      "cell_type": "code",
      "metadata": {
        "id": "1WSn_FvFsv7a",
        "colab_type": "code",
        "colab": {}
      },
      "source": [
        "oecd_bli = pd.read_csv(\"https://raw.githubusercontent.com/otwn/Data-Science-Review/master/data/oecd_betterlifeindex40.csv\",\n",
        "                       thousands=\",\")"
      ],
      "execution_count": null,
      "outputs": []
    },
    {
      "cell_type": "code",
      "metadata": {
        "id": "aOcmLCBVsyi8",
        "colab_type": "code",
        "colab": {
          "base_uri": "https://localhost:8080/",
          "height": 343
        },
        "outputId": "87cdcf4d-7705-4cce-916f-e0048e758be5"
      },
      "source": [
        "print(len(oecd_bli))\n",
        "oecd_bli.head()"
      ],
      "execution_count": null,
      "outputs": [
        {
          "output_type": "stream",
          "text": [
            "40\n"
          ],
          "name": "stdout"
        },
        {
          "output_type": "execute_result",
          "data": {
            "text/html": [
              "<div>\n",
              "<style scoped>\n",
              "    .dataframe tbody tr th:only-of-type {\n",
              "        vertical-align: middle;\n",
              "    }\n",
              "\n",
              "    .dataframe tbody tr th {\n",
              "        vertical-align: top;\n",
              "    }\n",
              "\n",
              "    .dataframe thead th {\n",
              "        text-align: right;\n",
              "    }\n",
              "</style>\n",
              "<table border=\"1\" class=\"dataframe\">\n",
              "  <thead>\n",
              "    <tr style=\"text-align: right;\">\n",
              "      <th></th>\n",
              "      <th>Country</th>\n",
              "      <th>Dwellings without basic facilities</th>\n",
              "      <th>Housing expenditure</th>\n",
              "      <th>Rooms per person</th>\n",
              "      <th>Household net adjusted disposable income</th>\n",
              "      <th>Household net wealth</th>\n",
              "      <th>Labour market insecurity</th>\n",
              "      <th>Employment rate</th>\n",
              "      <th>Long-term unemployment rate</th>\n",
              "      <th>Personal earnings</th>\n",
              "      <th>Quality of support network</th>\n",
              "      <th>Educational attainment</th>\n",
              "      <th>Student skills</th>\n",
              "      <th>Years in education</th>\n",
              "      <th>Air pollution</th>\n",
              "      <th>Water quality</th>\n",
              "      <th>Stakeholder engagement for developing regulations</th>\n",
              "      <th>Voter turnout</th>\n",
              "      <th>Life expectancy</th>\n",
              "      <th>Self-reported health</th>\n",
              "      <th>Life satisfaction</th>\n",
              "      <th>Feeling safe walking alone at night</th>\n",
              "      <th>Homicide rate</th>\n",
              "      <th>Employees working very long hours</th>\n",
              "      <th>Time devoted to leisure and personal care</th>\n",
              "    </tr>\n",
              "  </thead>\n",
              "  <tbody>\n",
              "    <tr>\n",
              "      <th>0</th>\n",
              "      <td>Australia</td>\n",
              "      <td>..</td>\n",
              "      <td>20</td>\n",
              "      <td>..</td>\n",
              "      <td>32759</td>\n",
              "      <td>427064</td>\n",
              "      <td>5.4</td>\n",
              "      <td>73</td>\n",
              "      <td>1.31</td>\n",
              "      <td>49126</td>\n",
              "      <td>95</td>\n",
              "      <td>81</td>\n",
              "      <td>502</td>\n",
              "      <td>21</td>\n",
              "      <td>5</td>\n",
              "      <td>93</td>\n",
              "      <td>2.7</td>\n",
              "      <td>91</td>\n",
              "      <td>82.5</td>\n",
              "      <td>85</td>\n",
              "      <td>7.3</td>\n",
              "      <td>63.5</td>\n",
              "      <td>1.1</td>\n",
              "      <td>13.04</td>\n",
              "      <td>14.35</td>\n",
              "    </tr>\n",
              "    <tr>\n",
              "      <th>1</th>\n",
              "      <td>Austria</td>\n",
              "      <td>0.9</td>\n",
              "      <td>21</td>\n",
              "      <td>1.6</td>\n",
              "      <td>33541</td>\n",
              "      <td>308325</td>\n",
              "      <td>3.5</td>\n",
              "      <td>72</td>\n",
              "      <td>1.84</td>\n",
              "      <td>50349</td>\n",
              "      <td>92</td>\n",
              "      <td>85</td>\n",
              "      <td>492</td>\n",
              "      <td>17</td>\n",
              "      <td>16</td>\n",
              "      <td>92</td>\n",
              "      <td>1.3</td>\n",
              "      <td>80</td>\n",
              "      <td>81.7</td>\n",
              "      <td>70</td>\n",
              "      <td>7.1</td>\n",
              "      <td>80.6</td>\n",
              "      <td>0.5</td>\n",
              "      <td>6.66</td>\n",
              "      <td>14.55</td>\n",
              "    </tr>\n",
              "    <tr>\n",
              "      <th>2</th>\n",
              "      <td>Belgium</td>\n",
              "      <td>1.9</td>\n",
              "      <td>21</td>\n",
              "      <td>2.2</td>\n",
              "      <td>30364</td>\n",
              "      <td>386006</td>\n",
              "      <td>3.7</td>\n",
              "      <td>63</td>\n",
              "      <td>3.54</td>\n",
              "      <td>49675</td>\n",
              "      <td>91</td>\n",
              "      <td>77</td>\n",
              "      <td>503</td>\n",
              "      <td>19.3</td>\n",
              "      <td>15</td>\n",
              "      <td>84</td>\n",
              "      <td>2</td>\n",
              "      <td>89</td>\n",
              "      <td>81.5</td>\n",
              "      <td>74</td>\n",
              "      <td>6.9</td>\n",
              "      <td>70.1</td>\n",
              "      <td>1.0</td>\n",
              "      <td>4.75</td>\n",
              "      <td>15.7</td>\n",
              "    </tr>\n",
              "    <tr>\n",
              "      <th>3</th>\n",
              "      <td>Canada</td>\n",
              "      <td>0.2</td>\n",
              "      <td>22</td>\n",
              "      <td>2.6</td>\n",
              "      <td>30854</td>\n",
              "      <td>423849</td>\n",
              "      <td>6</td>\n",
              "      <td>73</td>\n",
              "      <td>0.77</td>\n",
              "      <td>47622</td>\n",
              "      <td>93</td>\n",
              "      <td>91</td>\n",
              "      <td>523</td>\n",
              "      <td>17.3</td>\n",
              "      <td>7</td>\n",
              "      <td>91</td>\n",
              "      <td>2.9</td>\n",
              "      <td>68</td>\n",
              "      <td>81.9</td>\n",
              "      <td>88</td>\n",
              "      <td>7.4</td>\n",
              "      <td>82.2</td>\n",
              "      <td>1.3</td>\n",
              "      <td>3.69</td>\n",
              "      <td>14.56</td>\n",
              "    </tr>\n",
              "    <tr>\n",
              "      <th>4</th>\n",
              "      <td>Chile</td>\n",
              "      <td>9.4</td>\n",
              "      <td>18</td>\n",
              "      <td>1.2</td>\n",
              "      <td>..</td>\n",
              "      <td>100967</td>\n",
              "      <td>8.7</td>\n",
              "      <td>63</td>\n",
              "      <td>..</td>\n",
              "      <td>25879</td>\n",
              "      <td>85</td>\n",
              "      <td>65</td>\n",
              "      <td>443</td>\n",
              "      <td>17.5</td>\n",
              "      <td>16</td>\n",
              "      <td>71</td>\n",
              "      <td>1.3</td>\n",
              "      <td>47</td>\n",
              "      <td>79.9</td>\n",
              "      <td>57</td>\n",
              "      <td>6.5</td>\n",
              "      <td>47.9</td>\n",
              "      <td>4.2</td>\n",
              "      <td>9.72</td>\n",
              "      <td>..</td>\n",
              "    </tr>\n",
              "  </tbody>\n",
              "</table>\n",
              "</div>"
            ],
            "text/plain": [
              "     Country  ...   Time devoted to leisure and personal care\n",
              "0  Australia  ...                                       14.35\n",
              "1    Austria  ...                                       14.55\n",
              "2    Belgium  ...                                        15.7\n",
              "3     Canada  ...                                       14.56\n",
              "4      Chile  ...                                          ..\n",
              "\n",
              "[5 rows x 25 columns]"
            ]
          },
          "metadata": {
            "tags": []
          },
          "execution_count": 10
        }
      ]
    },
    {
      "cell_type": "code",
      "metadata": {
        "id": "66kqYXLu6nEW",
        "colab_type": "code",
        "colab": {
          "base_uri": "https://localhost:8080/",
          "height": 561
        },
        "outputId": "6a8e6cf8-d2e8-4d01-968a-51c531d31d1c"
      },
      "source": [
        "oecd_bli.info()"
      ],
      "execution_count": null,
      "outputs": [
        {
          "output_type": "stream",
          "text": [
            "<class 'pandas.core.frame.DataFrame'>\n",
            "RangeIndex: 40 entries, 0 to 39\n",
            "Data columns (total 25 columns):\n",
            " #   Column                                               Non-Null Count  Dtype  \n",
            "---  ------                                               --------------  -----  \n",
            " 0   Country                                              40 non-null     object \n",
            " 1     Dwellings without basic facilities                 40 non-null     object \n",
            " 2     Housing expenditure                                40 non-null     object \n",
            " 3     Rooms per person                                   40 non-null     object \n",
            " 4     Household net adjusted disposable income           40 non-null     object \n",
            " 5     Household net wealth                               40 non-null     object \n",
            " 6     Labour market insecurity                           40 non-null     object \n",
            " 7     Employment rate                                    40 non-null     int64  \n",
            " 8     Long-term unemployment rate                        40 non-null     object \n",
            " 9     Personal earnings                                  40 non-null     object \n",
            " 10    Quality of support network                         40 non-null     int64  \n",
            " 11    Educational attainment                             40 non-null     object \n",
            " 12    Student skills                                     40 non-null     object \n",
            " 13    Years in education                                 40 non-null     object \n",
            " 14    Air pollution                                      40 non-null     int64  \n",
            " 15    Water quality                                      40 non-null     int64  \n",
            " 16    Stakeholder engagement for developing regulations  40 non-null     object \n",
            " 17    Voter turnout                                      40 non-null     int64  \n",
            " 18    Life expectancy                                    40 non-null     float64\n",
            " 19    Self-reported health                               40 non-null     object \n",
            " 20    Life satisfaction                                  40 non-null     float64\n",
            " 21    Feeling safe walking alone at night                40 non-null     float64\n",
            " 22    Homicide rate                                      40 non-null     float64\n",
            " 23    Employees working very long hours                  40 non-null     object \n",
            " 24    Time devoted to leisure and personal care          40 non-null     object \n",
            "dtypes: float64(4), int64(5), object(16)\n",
            "memory usage: 7.9+ KB\n"
          ],
          "name": "stdout"
        }
      ]
    },
    {
      "cell_type": "code",
      "metadata": {
        "id": "zyw06rpFsznY",
        "colab_type": "code",
        "colab": {}
      },
      "source": [
        "gdp_capita = pd.read_csv(\"https://raw.githubusercontent.com/otwn/Data-Science-Review/master/data/WEO_Data.csv\", \n",
        "                         thousands=',', na_values=\"n/a\")"
      ],
      "execution_count": null,
      "outputs": []
    },
    {
      "cell_type": "code",
      "metadata": {
        "id": "JQm-5cCZtIEb",
        "colab_type": "code",
        "colab": {
          "base_uri": "https://localhost:8080/",
          "height": 340
        },
        "outputId": "b69ac3d4-3006-4079-e347-407915a8329b"
      },
      "source": [
        "print(len(gdp_capita))\n",
        "gdp_capita.head()"
      ],
      "execution_count": null,
      "outputs": [
        {
          "output_type": "stream",
          "text": [
            "191\n"
          ],
          "name": "stdout"
        },
        {
          "output_type": "execute_result",
          "data": {
            "text/html": [
              "<div>\n",
              "<style scoped>\n",
              "    .dataframe tbody tr th:only-of-type {\n",
              "        vertical-align: middle;\n",
              "    }\n",
              "\n",
              "    .dataframe tbody tr th {\n",
              "        vertical-align: top;\n",
              "    }\n",
              "\n",
              "    .dataframe thead th {\n",
              "        text-align: right;\n",
              "    }\n",
              "</style>\n",
              "<table border=\"1\" class=\"dataframe\">\n",
              "  <thead>\n",
              "    <tr style=\"text-align: right;\">\n",
              "      <th></th>\n",
              "      <th>Country</th>\n",
              "      <th>Subject Descriptor</th>\n",
              "      <th>Units</th>\n",
              "      <th>Scale</th>\n",
              "      <th>Country/Series-specific Notes</th>\n",
              "      <th>2015</th>\n",
              "      <th>Estimates Start After</th>\n",
              "    </tr>\n",
              "  </thead>\n",
              "  <tbody>\n",
              "    <tr>\n",
              "      <th>0</th>\n",
              "      <td>Afghanistan</td>\n",
              "      <td>Gross domestic product per capita, current prices</td>\n",
              "      <td>U.S. dollars</td>\n",
              "      <td>Units</td>\n",
              "      <td>See notes for:  Gross domestic product, curren...</td>\n",
              "      <td>599.994</td>\n",
              "      <td>2013.0</td>\n",
              "    </tr>\n",
              "    <tr>\n",
              "      <th>1</th>\n",
              "      <td>Albania</td>\n",
              "      <td>Gross domestic product per capita, current prices</td>\n",
              "      <td>U.S. dollars</td>\n",
              "      <td>Units</td>\n",
              "      <td>See notes for:  Gross domestic product, curren...</td>\n",
              "      <td>3995.380</td>\n",
              "      <td>2010.0</td>\n",
              "    </tr>\n",
              "    <tr>\n",
              "      <th>2</th>\n",
              "      <td>Algeria</td>\n",
              "      <td>Gross domestic product per capita, current prices</td>\n",
              "      <td>U.S. dollars</td>\n",
              "      <td>Units</td>\n",
              "      <td>See notes for:  Gross domestic product, curren...</td>\n",
              "      <td>4318.140</td>\n",
              "      <td>2014.0</td>\n",
              "    </tr>\n",
              "    <tr>\n",
              "      <th>3</th>\n",
              "      <td>Angola</td>\n",
              "      <td>Gross domestic product per capita, current prices</td>\n",
              "      <td>U.S. dollars</td>\n",
              "      <td>Units</td>\n",
              "      <td>See notes for:  Gross domestic product, curren...</td>\n",
              "      <td>4100.320</td>\n",
              "      <td>2014.0</td>\n",
              "    </tr>\n",
              "    <tr>\n",
              "      <th>4</th>\n",
              "      <td>Antigua and Barbuda</td>\n",
              "      <td>Gross domestic product per capita, current prices</td>\n",
              "      <td>U.S. dollars</td>\n",
              "      <td>Units</td>\n",
              "      <td>See notes for:  Gross domestic product, curren...</td>\n",
              "      <td>14414.300</td>\n",
              "      <td>2011.0</td>\n",
              "    </tr>\n",
              "  </tbody>\n",
              "</table>\n",
              "</div>"
            ],
            "text/plain": [
              "               Country  ... Estimates Start After\n",
              "0          Afghanistan  ...                2013.0\n",
              "1              Albania  ...                2010.0\n",
              "2              Algeria  ...                2014.0\n",
              "3               Angola  ...                2014.0\n",
              "4  Antigua and Barbuda  ...                2011.0\n",
              "\n",
              "[5 rows x 7 columns]"
            ]
          },
          "metadata": {
            "tags": []
          },
          "execution_count": 7
        }
      ]
    },
    {
      "cell_type": "code",
      "metadata": {
        "id": "WGvuiBar21c4",
        "colab_type": "code",
        "colab": {
          "base_uri": "https://localhost:8080/",
          "height": 255
        },
        "outputId": "6676beeb-740f-40e8-bd91-d66e33c3d782"
      },
      "source": [
        "gdp_capita.info()"
      ],
      "execution_count": null,
      "outputs": [
        {
          "output_type": "stream",
          "text": [
            "<class 'pandas.core.frame.DataFrame'>\n",
            "RangeIndex: 191 entries, 0 to 190\n",
            "Data columns (total 7 columns):\n",
            " #   Column                         Non-Null Count  Dtype  \n",
            "---  ------                         --------------  -----  \n",
            " 0   Country                        190 non-null    object \n",
            " 1   Subject Descriptor             189 non-null    object \n",
            " 2   Units                          189 non-null    object \n",
            " 3   Scale                          189 non-null    object \n",
            " 4   Country/Series-specific Notes  188 non-null    object \n",
            " 5   2015                           187 non-null    float64\n",
            " 6   Estimates Start After          188 non-null    float64\n",
            "dtypes: float64(2), object(5)\n",
            "memory usage: 10.6+ KB\n"
          ],
          "name": "stdout"
        }
      ]
    },
    {
      "cell_type": "code",
      "metadata": {
        "id": "S5IoBBi012iJ",
        "colab_type": "code",
        "colab": {
          "base_uri": "https://localhost:8080/",
          "height": 204
        },
        "outputId": "7b078d46-f02a-4696-e986-89c305d6d5bd"
      },
      "source": [
        "gdp_capita = gdp_capita[[\"Country\", \"2015\"]]\n",
        "gdp_capita.rename(columns={\"2015\":\"GDP per capita\"}, inplace=True)\n",
        "gdp_capita.head()"
      ],
      "execution_count": null,
      "outputs": [
        {
          "output_type": "execute_result",
          "data": {
            "text/html": [
              "<div>\n",
              "<style scoped>\n",
              "    .dataframe tbody tr th:only-of-type {\n",
              "        vertical-align: middle;\n",
              "    }\n",
              "\n",
              "    .dataframe tbody tr th {\n",
              "        vertical-align: top;\n",
              "    }\n",
              "\n",
              "    .dataframe thead th {\n",
              "        text-align: right;\n",
              "    }\n",
              "</style>\n",
              "<table border=\"1\" class=\"dataframe\">\n",
              "  <thead>\n",
              "    <tr style=\"text-align: right;\">\n",
              "      <th></th>\n",
              "      <th>Country</th>\n",
              "      <th>GDP per capita</th>\n",
              "    </tr>\n",
              "  </thead>\n",
              "  <tbody>\n",
              "    <tr>\n",
              "      <th>0</th>\n",
              "      <td>Afghanistan</td>\n",
              "      <td>599.994</td>\n",
              "    </tr>\n",
              "    <tr>\n",
              "      <th>1</th>\n",
              "      <td>Albania</td>\n",
              "      <td>3995.380</td>\n",
              "    </tr>\n",
              "    <tr>\n",
              "      <th>2</th>\n",
              "      <td>Algeria</td>\n",
              "      <td>4318.140</td>\n",
              "    </tr>\n",
              "    <tr>\n",
              "      <th>3</th>\n",
              "      <td>Angola</td>\n",
              "      <td>4100.320</td>\n",
              "    </tr>\n",
              "    <tr>\n",
              "      <th>4</th>\n",
              "      <td>Antigua and Barbuda</td>\n",
              "      <td>14414.300</td>\n",
              "    </tr>\n",
              "  </tbody>\n",
              "</table>\n",
              "</div>"
            ],
            "text/plain": [
              "               Country  GDP per capita\n",
              "0          Afghanistan         599.994\n",
              "1              Albania        3995.380\n",
              "2              Algeria        4318.140\n",
              "3               Angola        4100.320\n",
              "4  Antigua and Barbuda       14414.300"
            ]
          },
          "metadata": {
            "tags": []
          },
          "execution_count": 103
        }
      ]
    },
    {
      "cell_type": "code",
      "metadata": {
        "id": "BMAm-loouYvg",
        "colab_type": "code",
        "colab": {}
      },
      "source": [
        "hp = lsi.join(gdp_capita.set_index('Country'), on='Country')"
      ],
      "execution_count": null,
      "outputs": []
    },
    {
      "cell_type": "code",
      "metadata": {
        "id": "emY2twyru2HA",
        "colab_type": "code",
        "colab": {
          "base_uri": "https://localhost:8080/",
          "height": 377
        },
        "outputId": "2cd0a466-55f6-4917-efca-aef96010fedf"
      },
      "source": [
        "hp.tail()"
      ],
      "execution_count": null,
      "outputs": [
        {
          "output_type": "execute_result",
          "data": {
            "text/html": [
              "<div>\n",
              "<style scoped>\n",
              "    .dataframe tbody tr th:only-of-type {\n",
              "        vertical-align: middle;\n",
              "    }\n",
              "\n",
              "    .dataframe tbody tr th {\n",
              "        vertical-align: top;\n",
              "    }\n",
              "\n",
              "    .dataframe thead th {\n",
              "        text-align: right;\n",
              "    }\n",
              "</style>\n",
              "<table border=\"1\" class=\"dataframe\">\n",
              "  <thead>\n",
              "    <tr style=\"text-align: right;\">\n",
              "      <th></th>\n",
              "      <th>Country</th>\n",
              "      <th>Dwellings without basic facilities</th>\n",
              "      <th>Housing expenditure</th>\n",
              "      <th>Rooms per person</th>\n",
              "      <th>Household net adjusted disposable income</th>\n",
              "      <th>Household net wealth</th>\n",
              "      <th>Labour market insecurity</th>\n",
              "      <th>Employment rate</th>\n",
              "      <th>Long-term unemployment rate</th>\n",
              "      <th>Personal earnings</th>\n",
              "      <th>Quality of support network</th>\n",
              "      <th>Educational attainment</th>\n",
              "      <th>Student skills</th>\n",
              "      <th>Years in education</th>\n",
              "      <th>Air pollution</th>\n",
              "      <th>Water quality</th>\n",
              "      <th>Stakeholder engagement for developing regulations</th>\n",
              "      <th>Voter turnout</th>\n",
              "      <th>Life expectancy</th>\n",
              "      <th>Self-reported health</th>\n",
              "      <th>Life satisfaction</th>\n",
              "      <th>Feeling safe walking alone at night</th>\n",
              "      <th>Homicide rate</th>\n",
              "      <th>Employees working very long hours</th>\n",
              "      <th>Time devoted to leisure and personal care</th>\n",
              "      <th>GDP per capita</th>\n",
              "    </tr>\n",
              "  </thead>\n",
              "  <tbody>\n",
              "    <tr>\n",
              "      <th>35</th>\n",
              "      <td>United Kingdom</td>\n",
              "      <td>0.3</td>\n",
              "      <td>26</td>\n",
              "      <td>1.9</td>\n",
              "      <td>28715</td>\n",
              "      <td>548392</td>\n",
              "      <td>4.5</td>\n",
              "      <td>75</td>\n",
              "      <td>1.13</td>\n",
              "      <td>43732</td>\n",
              "      <td>94</td>\n",
              "      <td>81</td>\n",
              "      <td>500</td>\n",
              "      <td>17.5</td>\n",
              "      <td>11</td>\n",
              "      <td>84</td>\n",
              "      <td>3.1</td>\n",
              "      <td>69</td>\n",
              "      <td>81.2</td>\n",
              "      <td>69</td>\n",
              "      <td>6.8</td>\n",
              "      <td>77.7</td>\n",
              "      <td>0.2</td>\n",
              "      <td>12.15</td>\n",
              "      <td>14.92</td>\n",
              "      <td>43770.69</td>\n",
              "    </tr>\n",
              "    <tr>\n",
              "      <th>36</th>\n",
              "      <td>United States</td>\n",
              "      <td>0.1</td>\n",
              "      <td>19</td>\n",
              "      <td>2.4</td>\n",
              "      <td>45284</td>\n",
              "      <td>632100</td>\n",
              "      <td>7.7</td>\n",
              "      <td>70</td>\n",
              "      <td>0.66</td>\n",
              "      <td>60558</td>\n",
              "      <td>91</td>\n",
              "      <td>91</td>\n",
              "      <td>488</td>\n",
              "      <td>17.2</td>\n",
              "      <td>10</td>\n",
              "      <td>83</td>\n",
              "      <td>3.1</td>\n",
              "      <td>65</td>\n",
              "      <td>78.6</td>\n",
              "      <td>88</td>\n",
              "      <td>6.9</td>\n",
              "      <td>73.9</td>\n",
              "      <td>5.5</td>\n",
              "      <td>11.09</td>\n",
              "      <td>14.44</td>\n",
              "      <td>55805.20</td>\n",
              "    </tr>\n",
              "    <tr>\n",
              "      <th>37</th>\n",
              "      <td>Brazil</td>\n",
              "      <td>6.7</td>\n",
              "      <td>..</td>\n",
              "      <td>..</td>\n",
              "      <td>..</td>\n",
              "      <td>..</td>\n",
              "      <td>..</td>\n",
              "      <td>61</td>\n",
              "      <td>..</td>\n",
              "      <td>..</td>\n",
              "      <td>90</td>\n",
              "      <td>49</td>\n",
              "      <td>395</td>\n",
              "      <td>16.2</td>\n",
              "      <td>10</td>\n",
              "      <td>73</td>\n",
              "      <td>2.2</td>\n",
              "      <td>79</td>\n",
              "      <td>74.8</td>\n",
              "      <td>..</td>\n",
              "      <td>6.4</td>\n",
              "      <td>35.6</td>\n",
              "      <td>26.7</td>\n",
              "      <td>7.13</td>\n",
              "      <td>..</td>\n",
              "      <td>8670.00</td>\n",
              "    </tr>\n",
              "    <tr>\n",
              "      <th>38</th>\n",
              "      <td>Russia</td>\n",
              "      <td>14.8</td>\n",
              "      <td>18</td>\n",
              "      <td>0.9</td>\n",
              "      <td>..</td>\n",
              "      <td>..</td>\n",
              "      <td>..</td>\n",
              "      <td>70</td>\n",
              "      <td>1.59</td>\n",
              "      <td>..</td>\n",
              "      <td>89</td>\n",
              "      <td>94</td>\n",
              "      <td>492</td>\n",
              "      <td>16.2</td>\n",
              "      <td>15</td>\n",
              "      <td>55</td>\n",
              "      <td>..</td>\n",
              "      <td>68</td>\n",
              "      <td>71.8</td>\n",
              "      <td>43</td>\n",
              "      <td>5.8</td>\n",
              "      <td>52.8</td>\n",
              "      <td>9.6</td>\n",
              "      <td>0.14</td>\n",
              "      <td>..</td>\n",
              "      <td>9054.91</td>\n",
              "    </tr>\n",
              "    <tr>\n",
              "      <th>39</th>\n",
              "      <td>South Africa</td>\n",
              "      <td>37</td>\n",
              "      <td>18</td>\n",
              "      <td>..</td>\n",
              "      <td>..</td>\n",
              "      <td>..</td>\n",
              "      <td>..</td>\n",
              "      <td>43</td>\n",
              "      <td>16.46</td>\n",
              "      <td>..</td>\n",
              "      <td>88</td>\n",
              "      <td>73</td>\n",
              "      <td>..</td>\n",
              "      <td>..</td>\n",
              "      <td>22</td>\n",
              "      <td>67</td>\n",
              "      <td>..</td>\n",
              "      <td>73</td>\n",
              "      <td>57.5</td>\n",
              "      <td>..</td>\n",
              "      <td>4.7</td>\n",
              "      <td>36.1</td>\n",
              "      <td>13.7</td>\n",
              "      <td>18.12</td>\n",
              "      <td>14.92</td>\n",
              "      <td>5694.57</td>\n",
              "    </tr>\n",
              "  </tbody>\n",
              "</table>\n",
              "</div>"
            ],
            "text/plain": [
              "           Country  ... GDP per capita\n",
              "35  United Kingdom  ...       43770.69\n",
              "36   United States  ...       55805.20\n",
              "37          Brazil  ...        8670.00\n",
              "38          Russia  ...        9054.91\n",
              "39    South Africa  ...        5694.57\n",
              "\n",
              "[5 rows x 26 columns]"
            ]
          },
          "metadata": {
            "tags": []
          },
          "execution_count": 105
        }
      ]
    },
    {
      "cell_type": "code",
      "metadata": {
        "id": "k83RELVfu9c-",
        "colab_type": "code",
        "colab": {
          "base_uri": "https://localhost:8080/",
          "height": 578
        },
        "outputId": "0f84477b-6c5a-46d5-932d-913b8bda42f2"
      },
      "source": [
        "hp.info()"
      ],
      "execution_count": null,
      "outputs": [
        {
          "output_type": "stream",
          "text": [
            "<class 'pandas.core.frame.DataFrame'>\n",
            "RangeIndex: 40 entries, 0 to 39\n",
            "Data columns (total 26 columns):\n",
            " #   Column                                               Non-Null Count  Dtype  \n",
            "---  ------                                               --------------  -----  \n",
            " 0   Country                                              40 non-null     object \n",
            " 1     Dwellings without basic facilities                 40 non-null     object \n",
            " 2     Housing expenditure                                40 non-null     object \n",
            " 3     Rooms per person                                   40 non-null     object \n",
            " 4     Household net adjusted disposable income           40 non-null     object \n",
            " 5     Household net wealth                               40 non-null     object \n",
            " 6     Labour market insecurity                           40 non-null     object \n",
            " 7     Employment rate                                    40 non-null     int64  \n",
            " 8     Long-term unemployment rate                        40 non-null     object \n",
            " 9     Personal earnings                                  40 non-null     object \n",
            " 10    Quality of support network                         40 non-null     int64  \n",
            " 11    Educational attainment                             40 non-null     object \n",
            " 12    Student skills                                     40 non-null     object \n",
            " 13    Years in education                                 40 non-null     object \n",
            " 14    Air pollution                                      40 non-null     int64  \n",
            " 15    Water quality                                      40 non-null     int64  \n",
            " 16    Stakeholder engagement for developing regulations  40 non-null     object \n",
            " 17    Voter turnout                                      40 non-null     int64  \n",
            " 18    Life expectancy                                    40 non-null     float64\n",
            " 19    Self-reported health                               40 non-null     object \n",
            " 20    Life satisfaction                                  40 non-null     float64\n",
            " 21    Feeling safe walking alone at night                40 non-null     float64\n",
            " 22    Homicide rate                                      40 non-null     float64\n",
            " 23    Employees working very long hours                  40 non-null     object \n",
            " 24    Time devoted to leisure and personal care          40 non-null     object \n",
            " 25  GDP per capita                                       40 non-null     float64\n",
            "dtypes: float64(5), int64(5), object(16)\n",
            "memory usage: 8.2+ KB\n"
          ],
          "name": "stdout"
        }
      ]
    },
    {
      "cell_type": "code",
      "metadata": {
        "id": "gM74N-uxvAvO",
        "colab_type": "code",
        "colab": {}
      },
      "source": [
        "hp2 = hp[[\"Country\", \"GDP per capita\", \"  Life satisfaction\"]].sort_values(by=\"  Life satisfaction\",\n",
        "                                                                     ascending=False)"
      ],
      "execution_count": null,
      "outputs": []
    },
    {
      "cell_type": "code",
      "metadata": {
        "id": "FcMkTNcm4urm",
        "colab_type": "code",
        "colab": {
          "base_uri": "https://localhost:8080/",
          "height": 714
        },
        "outputId": "f51954e7-4e25-42cb-dcda-0d01b41b4a1c"
      },
      "source": [
        "print(hp2)"
      ],
      "execution_count": null,
      "outputs": [
        {
          "output_type": "stream",
          "text": [
            "            Country  GDP per capita    Life satisfaction\n",
            "9           Finland        41973.99                  7.6\n",
            "26           Norway        74822.11                  7.6\n",
            "7           Denmark        52114.17                  7.6\n",
            "14          Iceland        50854.58                  7.5\n",
            "33      Switzerland        80675.31                  7.5\n",
            "3            Canada        43331.96                  7.4\n",
            "24      Netherlands        43603.12                  7.4\n",
            "25      New Zealand        37044.89                  7.3\n",
            "32           Sweden        49866.27                  7.3\n",
            "0         Australia        50961.87                  7.3\n",
            "16           Israel        35343.34                  7.2\n",
            "1           Austria        43724.03                  7.1\n",
            "15          Ireland        51350.74                  7.0\n",
            "11          Germany        40996.51                  7.0\n",
            "22       Luxembourg       101994.09                  6.9\n",
            "36    United States        55805.20                  6.9\n",
            "2           Belgium        40106.63                  6.9\n",
            "35   United Kingdom        43770.69                  6.8\n",
            "6    Czech Republic        17256.92                  6.7\n",
            "4             Chile        13340.91                  6.5\n",
            "23           Mexico         9009.28                  6.5\n",
            "10           France        37675.01                  6.5\n",
            "37           Brazil         8670.00                  6.4\n",
            "31            Spain        25864.72                  6.3\n",
            "5          Colombia         6083.51                  6.3\n",
            "29  Slovak Republic        15991.74                  6.2\n",
            "27           Poland        12495.33                  6.1\n",
            "17            Italy        29866.58                  6.0\n",
            "30         Slovenia        20732.48                  5.9\n",
            "20           Latvia        13618.57                  5.9\n",
            "21        Lithuania        14210.28                  5.9\n",
            "19            Korea        27195.20                  5.9\n",
            "18            Japan        32485.55                  5.9\n",
            "38           Russia         9054.91                  5.8\n",
            "8           Estonia        17288.08                  5.7\n",
            "13          Hungary        12239.89                  5.6\n",
            "34           Turkey         9437.37                  5.5\n",
            "28         Portugal        19121.59                  5.4\n",
            "12           Greece        18064.29                  5.4\n",
            "39     South Africa         5694.57                  4.7\n"
          ],
          "name": "stdout"
        }
      ]
    },
    {
      "cell_type": "code",
      "metadata": {
        "id": "ugZ-4M-Bzwag",
        "colab_type": "code",
        "colab": {}
      },
      "source": [
        "import numpy as np\n",
        "import seaborn as sns\n",
        "import matplotlib.pyplot as plt"
      ],
      "execution_count": null,
      "outputs": []
    },
    {
      "cell_type": "code",
      "metadata": {
        "id": "5dgrXvhf3LdB",
        "colab_type": "code",
        "colab": {
          "base_uri": "https://localhost:8080/",
          "height": 296
        },
        "outputId": "8ceac396-c6ff-4c93-b9b2-d9fc71115ab6"
      },
      "source": [
        "sns.scatterplot(data=hp2, x=\"GDP per capita\", y=\"  Life satisfaction\")"
      ],
      "execution_count": null,
      "outputs": [
        {
          "output_type": "execute_result",
          "data": {
            "text/plain": [
              "<matplotlib.axes._subplots.AxesSubplot at 0x7f029646b978>"
            ]
          },
          "metadata": {
            "tags": []
          },
          "execution_count": 114
        },
        {
          "output_type": "display_data",
          "data": {
            "image/png": "[encoded data removed]",
            "text/plain": [
              "<Figure size 432x288 with 1 Axes>"
            ]
          },
          "metadata": {
            "tags": [],
            "needs_background": "light"
          }
        }
      ]
    },
    {
      "cell_type": "code",
      "metadata": {
        "id": "jFx6QC1b3qJT",
        "colab_type": "code",
        "colab": {
          "base_uri": "https://localhost:8080/",
          "height": 296
        },
        "outputId": "a9de2cf5-eda0-4bea-989a-ad5fd97ed15e"
      },
      "source": [
        "sns.regplot(data=hp2, x=\"GDP per capita\", y=\"  Life satisfaction\")"
      ],
      "execution_count": null,
      "outputs": [
        {
          "output_type": "execute_result",
          "data": {
            "text/plain": [
              "<matplotlib.axes._subplots.AxesSubplot at 0x7f02963d80f0>"
            ]
          },
          "metadata": {
            "tags": []
          },
          "execution_count": 116
        },
        {
          "output_type": "display_data",
          "data": {
            "image/png": "[encoded data removed]",
            "text/plain": [
              "<Figure size 432x288 with 1 Axes>"
            ]
          },
          "metadata": {
            "tags": [],
            "needs_background": "light"
          }
        }
      ]
    },
    {
      "cell_type": "code",
      "metadata": {
        "id": "N0KT74M48pOz",
        "colab_type": "code",
        "colab": {
          "base_uri": "https://localhost:8080/",
          "height": 386
        },
        "outputId": "766d8b75-c807-497a-efd9-85d41f3b9efe"
      },
      "source": [
        "sns.lmplot(data=hp2, x=\"GDP per capita\", y=\"  Life satisfaction\")"
      ],
      "execution_count": null,
      "outputs": [
        {
          "output_type": "execute_result",
          "data": {
            "text/plain": [
              "<seaborn.axisgrid.FacetGrid at 0x7f029656af60>"
            ]
          },
          "metadata": {
            "tags": []
          },
          "execution_count": 117
        },
        {
          "output_type": "display_data",
          "data": {
            "image/png": "[encoded data removed]",
            "text/plain": [
              "<Figure size 360x360 with 1 Axes>"
            ]
          },
          "metadata": {
            "tags": [],
            "needs_background": "light"
          }
        }
      ]
    },
    {
      "cell_type": "code",
      "metadata": {
        "id": "6UM70OXU9FKN",
        "colab_type": "code",
        "colab": {
          "base_uri": "https://localhost:8080/",
          "height": 469
        },
        "outputId": "1c0aa801-a04b-4f5c-aba4-2b21e7d1a18f"
      },
      "source": [
        "sns.jointplot(data=hp2, x=\"GDP per capita\", y=\"  Life satisfaction\", kind=\"reg\")"
      ],
      "execution_count": null,
      "outputs": [
        {
          "output_type": "execute_result",
          "data": {
            "text/plain": [
              "<seaborn.axisgrid.JointGrid at 0x7f0296336eb8>"
            ]
          },
          "metadata": {
            "tags": []
          },
          "execution_count": 119
        },
        {
          "output_type": "display_data",
          "data": {
            "image/png": "[encoded data removed]",
            "text/plain": [
              "<Figure size 432x432 with 3 Axes>"
            ]
          },
          "metadata": {
            "tags": [],
            "needs_background": "light"
          }
        }
      ]
    },
    {
      "cell_type": "markdown",
      "metadata": {
        "id": "2uQvLl75VIsV",
        "colab_type": "text"
      },
      "source": [
        "# Another Example with Random dataset\n"
      ]
    },
    {
      "cell_type": "code",
      "metadata": {
        "id": "btxPJGkeVQPs",
        "colab_type": "code",
        "colab": {}
      },
      "source": [
        "import numpy as np\n",
        "import matplotlib.pyplot as plt\n",
        "import pandas as pd\n",
        "%matplotlib inline"
      ],
      "execution_count": 1,
      "outputs": []
    },
    {
      "cell_type": "code",
      "metadata": {
        "id": "taIxqoqpigkv",
        "colab_type": "code",
        "colab": {}
      },
      "source": [
        "def generate_examples(num=1000):\n",
        "  W = [1.0, -3.0]\n",
        "  b = np.random.randn()\n",
        "\n",
        "  W = np.reshape(W, (2, 1))\n",
        "  X = np.random.randn(num, 2)\n",
        "  y = b + np.dot(X, W)  # (1000, 2).*(2,1)=(1000,1)\n",
        "  y = np.reshape(y, (num, 1))\n",
        "\n",
        "  return X, y"
      ],
      "execution_count": 11,
      "outputs": []
    },
    {
      "cell_type": "code",
      "metadata": {
        "id": "kT12WqArVWWy",
        "colab_type": "code",
        "colab": {}
      },
      "source": [
        "X, y = generate_examples()"
      ],
      "execution_count": 3,
      "outputs": []
    },
    {
      "cell_type": "code",
      "metadata": {
        "id": "4vVDYorK9QDS",
        "colab_type": "code",
        "colab": {
          "base_uri": "https://localhost:8080/",
          "height": 35
        },
        "outputId": "e381acb8-78b4-4919-cd29-283b07466c09"
      },
      "source": [
        "print(X.shape, y.shape)"
      ],
      "execution_count": 4,
      "outputs": [
        {
          "output_type": "stream",
          "text": [
            "(1000, 2) (1000, 1)\n"
          ],
          "name": "stdout"
        }
      ]
    },
    {
      "cell_type": "code",
      "metadata": {
        "id": "y1WNjudXju4E",
        "colab_type": "code",
        "colab": {
          "base_uri": "https://localhost:8080/",
          "height": 35
        },
        "outputId": "265f9660-91f1-4be8-9f34-d482582a3a01"
      },
      "source": [
        "print(X[0], y[0])"
      ],
      "execution_count": 5,
      "outputs": [
        {
          "output_type": "stream",
          "text": [
            "[-0.26409022  0.5698369 ] [-0.97360093]\n"
          ],
          "name": "stdout"
        }
      ]
    },
    {
      "cell_type": "markdown",
      "metadata": {
        "id": "PBaHyBHmkACC",
        "colab_type": "text"
      },
      "source": [
        "## Initialize Parameters\n",
        "\n",
        "The loss over m examples\n",
        "\n",
        "$J = \\frac{1}{2m} \\sum(y - \\hat{y})^{2}$\n",
        "\n",
        "The objective of the gradient descent algorithm is to minimize this loss value.\n",
        "\n",
        "Gradient Descent Objective is to min(J)"
      ]
    },
    {
      "cell_type": "code",
      "metadata": {
        "id": "qZiLkYthju7J",
        "colab_type": "code",
        "colab": {}
      },
      "source": [
        "class Model:\n",
        "  def __init__(self, num_features):\n",
        "    self.num_features = num_features\n",
        "    self.W = np.random.randn(num_features, 1)\n",
        "    self.b = np.random.randn()"
      ],
      "execution_count": 6,
      "outputs": []
    },
    {
      "cell_type": "code",
      "metadata": {
        "id": "Ypj5O1a6ju9h",
        "colab_type": "code",
        "colab": {
          "base_uri": "https://localhost:8080/",
          "height": 87
        },
        "outputId": "6a9fda3b-30c1-4d72-f030-4af7bad8df73"
      },
      "source": [
        "model = Model(3)\n",
        "print(model.W)\n",
        "print(model.b)"
      ],
      "execution_count": 9,
      "outputs": [
        {
          "output_type": "stream",
          "text": [
            "[[ 0.89299202]\n",
            " [ 1.30016056]\n",
            " [-0.09142546]]\n",
            "0.31753738486715355\n"
          ],
          "name": "stdout"
        }
      ]
    },
    {
      "cell_type": "markdown",
      "metadata": {
        "id": "nVotfpjc4-50",
        "colab_type": "text"
      },
      "source": [
        "## Simple Algorith for gradient descent\n",
        "\n",
        "The gradient descent algorithm can be simplified in 4 steps:\n",
        "\n",
        "\n",
        "1.   Get predictions y_hat for X with current values of W and b\n",
        "2.   Compute the loss between y and y_hat\n",
        "3.   Find gradients of the loss with respect to parameters W and b\n",
        "4.   Update the values of W and b by subtracting the gradient values obtained in the previous step\n"
      ]
    },
    {
      "cell_type": "markdown",
      "metadata": {
        "id": "HeOBiFrZxl38",
        "colab_type": "text"
      },
      "source": [
        "## Forward Pass\n",
        "\n",
        "The gradients of loss with respect to w:\n",
        "\n",
        "$$\\frac{dJ}{dw} = \\frac{\\delta J}{\\delta w} = \\lim_{e \\to 0}\\frac{J(w + \\epsilon) - J(w)}{\\epsilon} $$"
      ]
    },
    {
      "cell_type": "code",
      "metadata": {
        "id": "f-0K4FF-ju_c",
        "colab_type": "code",
        "colab": {}
      },
      "source": [
        "class Model(Model):\n",
        "  def forward_pass(self, X):\n",
        "    y_hat = self.b + np.dot(X, self.W)\n",
        "    return y_hat"
      ],
      "execution_count": 12,
      "outputs": []
    },
    {
      "cell_type": "code",
      "metadata": {
        "id": "jY0SeCeD0ATz",
        "colab_type": "code",
        "colab": {
          "base_uri": "https://localhost:8080/",
          "height": 35
        },
        "outputId": "db2f043b-ac3b-4eb6-d125-80a07a416830"
      },
      "source": [
        "y_hat = Model(2).forward_pass(X)\n",
        "print(y_hat.shape, y_hat[0])"
      ],
      "execution_count": 14,
      "outputs": [
        {
          "output_type": "stream",
          "text": [
            "(1000, 1) [-1.24998517]\n"
          ],
          "name": "stdout"
        }
      ]
    },
    {
      "cell_type": "markdown",
      "metadata": {
        "id": "bxYSVjjC08Le",
        "colab_type": "text"
      },
      "source": [
        "## Compute Loss\n"
      ]
    },
    {
      "cell_type": "code",
      "metadata": {
        "id": "zQADVRB003st",
        "colab_type": "code",
        "colab": {}
      },
      "source": [
        "class Model(Model):\n",
        "  def compute_loss(self, y_hat, y_true):\n",
        "    return np.sum(np.square(y_hat - y_true))/(2 * y_hat.shape[0])\n",
        "    "
      ],
      "execution_count": 15,
      "outputs": []
    },
    {
      "cell_type": "code",
      "metadata": {
        "id": "6AdqjXA81Z3B",
        "colab_type": "code",
        "colab": {}
      },
      "source": [
        "model = Model(2)\n",
        "y_hat = model.forward_pass(X)\n",
        "loss = model.compute_loss(y_hat, y)"
      ],
      "execution_count": 17,
      "outputs": []
    },
    {
      "cell_type": "code",
      "metadata": {
        "id": "WMctqZ9F1jhf",
        "colab_type": "code",
        "colab": {
          "base_uri": "https://localhost:8080/",
          "height": 35
        },
        "outputId": "6a514838-a450-46d0-eba3-e034641a7cb5"
      },
      "source": [
        "loss"
      ],
      "execution_count": 18,
      "outputs": [
        {
          "output_type": "execute_result",
          "data": {
            "text/plain": [
              "8.617943820008081"
            ]
          },
          "metadata": {
            "tags": []
          },
          "execution_count": 18
        }
      ]
    },
    {
      "cell_type": "markdown",
      "metadata": {
        "id": "EvZaViYM1uO4",
        "colab_type": "text"
      },
      "source": [
        "## Backward Pass\n",
        "\n",
        "Find gradient\n",
        "The gradient of loss with respect to bias can be calculated with:\n",
        "\n",
        "$ \\frac{dJ}{dW_{j}} = \\frac{1}{m} \\sum^{m}_{i=1}(\\hat{y}^{(i)} - y^{(i)})x^{(i)}_{j} $\n",
        "\n",
        "$ \\frac{dJ}{db} = \\frac{1}{m} \\sum^{m}_{i=1}(\\hat{y}^{(i)} - y^{(i)}) $"
      ]
    },
    {
      "cell_type": "code",
      "metadata": {
        "id": "RHbLZwlS1p4l",
        "colab_type": "code",
        "colab": {}
      },
      "source": [
        "class Model(Model):\n",
        "  def backward_pass(self, X, y_true, y_hat):\n",
        "    m = y_hat.shape[0]\n",
        "    dW = (1/m)*np.sum(np.dot(np.transpose(y_hat - y_true), X), axis=0)\n",
        "    db = (1/m)*np.sum(y_hat - y_true)\n",
        "    return dW, db"
      ],
      "execution_count": 19,
      "outputs": []
    },
    {
      "cell_type": "code",
      "metadata": {
        "id": "ROUxf8--3fi0",
        "colab_type": "code",
        "colab": {}
      },
      "source": [
        "model = Model(2)\n",
        "X, y = generate_examples()\n",
        "y_hat = model.forward_pass(X)\n",
        "\n",
        "dW, db = model.backward_pass(X, y, y_hat)"
      ],
      "execution_count": 20,
      "outputs": []
    },
    {
      "cell_type": "code",
      "metadata": {
        "id": "AMe8JAyd38PS",
        "colab_type": "code",
        "colab": {
          "base_uri": "https://localhost:8080/",
          "height": 35
        },
        "outputId": "cad57ee2-6198-4dc3-b437-743d5edd1173"
      },
      "source": [
        "print(dW, db)"
      ],
      "execution_count": 21,
      "outputs": [
        {
          "output_type": "stream",
          "text": [
            "[-1.90715541  3.62825174] -0.10472857056990856\n"
          ],
          "name": "stdout"
        }
      ]
    },
    {
      "cell_type": "markdown",
      "metadata": {
        "id": "Vgo03ZcD4CkB",
        "colab_type": "text"
      },
      "source": [
        "## Update Parameters"
      ]
    },
    {
      "cell_type": "code",
      "metadata": {
        "id": "-1MdcKR73-Ay",
        "colab_type": "code",
        "colab": {}
      },
      "source": [
        "class Model(Model):\n",
        "  def update_params(self, dW, db, lr):\n",
        "    self.W = self.W - lr * np.reshape(dW, (self.num_features, 1))\n",
        "    self.b = self.b - lr * db"
      ],
      "execution_count": 24,
      "outputs": []
    },
    {
      "cell_type": "code",
      "metadata": {
        "id": "arUW9FZt4aIX",
        "colab_type": "code",
        "colab": {}
      },
      "source": [
        ""
      ],
      "execution_count": null,
      "outputs": []
    },
    {
      "cell_type": "markdown",
      "metadata": {
        "id": "vH9SerhN4sjb",
        "colab_type": "text"
      },
      "source": [
        "## Training Loop"
      ]
    },
    {
      "cell_type": "code",
      "metadata": {
        "id": "WisTGqiG4zcI",
        "colab_type": "code",
        "colab": {}
      },
      "source": [
        "class Model(Model):\n",
        "  def train(self, x_train, y_train, iterations, lr):\n",
        "    losses = []\n",
        "    for i in range(0, iterations):\n",
        "      y_hat = self.forward_pass(x_train)\n",
        "      loss = self.compute_loss(y_hat, y_train)\n",
        "      dW, db = self.backward_pass(x_train, y_train, y_hat)\n",
        "      self.update_params(dW, db, lr)\n",
        "      losses.append(loss)\n",
        "      if i%int(iterations/10) == 0:\n",
        "        print('Iter: {}, Loss: {:.4f}'.format(i, loss))\n",
        "    return losses"
      ],
      "execution_count": 29,
      "outputs": []
    },
    {
      "cell_type": "code",
      "metadata": {
        "id": "G7SqziqU6NaM",
        "colab_type": "code",
        "colab": {}
      },
      "source": [
        "model = Model(2)"
      ],
      "execution_count": 30,
      "outputs": []
    },
    {
      "cell_type": "code",
      "metadata": {
        "id": "auS04t8p6PH4",
        "colab_type": "code",
        "colab": {}
      },
      "source": [
        "x_train, y_train = generate_examples()"
      ],
      "execution_count": 31,
      "outputs": []
    },
    {
      "cell_type": "code",
      "metadata": {
        "id": "w8w_DQi76Rkf",
        "colab_type": "code",
        "colab": {
          "base_uri": "https://localhost:8080/",
          "height": 191
        },
        "outputId": "32798a24-bfdb-49ec-a562-d131664b5b80"
      },
      "source": [
        "losses = model.train(x_train, y_train, 1000, 3e-3)"
      ],
      "execution_count": 32,
      "outputs": [
        {
          "output_type": "stream",
          "text": [
            "Iter: 0, Loss: 6.4100\n",
            "Iter: 100, Loss: 3.6050\n",
            "Iter: 200, Loss: 2.0281\n",
            "Iter: 300, Loss: 1.1413\n",
            "Iter: 400, Loss: 0.6425\n",
            "Iter: 500, Loss: 0.3618\n",
            "Iter: 600, Loss: 0.2038\n",
            "Iter: 700, Loss: 0.1148\n",
            "Iter: 800, Loss: 0.0647\n",
            "Iter: 900, Loss: 0.0365\n"
          ],
          "name": "stdout"
        }
      ]
    },
    {
      "cell_type": "code",
      "metadata": {
        "id": "kKouG3tq6W_q",
        "colab_type": "code",
        "colab": {
          "base_uri": "https://localhost:8080/",
          "height": 265
        },
        "outputId": "48bf5f16-9646-4959-f75e-18064fc81841"
      },
      "source": [
        "plt.plot(losses);"
      ],
      "execution_count": 33,
      "outputs": [
        {
          "output_type": "display_data",
          "data": {
            "image/png": "[encoded data removed]",
            "text/plain": [
              "<Figure size 432x288 with 1 Axes>"
            ]
          },
          "metadata": {
            "tags": [],
            "needs_background": "light"
          }
        }
      ]
    },
    {
      "cell_type": "markdown",
      "metadata": {
        "id": "lfK0uL136mYe",
        "colab_type": "text"
      },
      "source": [
        "## Predictions"
      ]
    },
    {
      "cell_type": "code",
      "metadata": {
        "id": "4doWo6U36jc0",
        "colab_type": "code",
        "colab": {
          "base_uri": "https://localhost:8080/",
          "height": 35
        },
        "outputId": "7fba1e35-9025-4515-d7d2-1887f5d94515"
      },
      "source": [
        "model_untrained = Model(2)\n",
        "\n",
        "x_test, y_test = generate_examples(500)\n",
        "print(x_test.shape, y_test.shape)"
      ],
      "execution_count": 43,
      "outputs": [
        {
          "output_type": "stream",
          "text": [
            "(500, 2) (500, 1)\n"
          ],
          "name": "stdout"
        }
      ]
    },
    {
      "cell_type": "code",
      "metadata": {
        "id": "NKhOX23e66nb",
        "colab_type": "code",
        "colab": {}
      },
      "source": [
        "preds_untrained = model_untrained.forward_pass(x_test)\n",
        "preds_trained = model.forward_pass(x_test)"
      ],
      "execution_count": 44,
      "outputs": []
    },
    {
      "cell_type": "code",
      "metadata": {
        "id": "up3CyDfp7DGX",
        "colab_type": "code",
        "colab": {
          "base_uri": "https://localhost:8080/",
          "height": 388
        },
        "outputId": "81459b96-de48-4c2c-84d9-02349ccd125c"
      },
      "source": [
        "plt.figure(figsize=(6,6))\n",
        "plt.plot(preds_untrained, y_test, 'rx', label='Untrained')\n",
        "plt.plot(preds_trained, y_test, 'b.', label='Trained')\n",
        "plt.legend()\n",
        "plt.xlabel('Predictions')\n",
        "plt.ylabel('Ground Truth')\n",
        "plt.show()"
      ],
      "execution_count": 45,
      "outputs": [
        {
          "output_type": "display_data",
          "data": {
            "image/png": "[encoded data removed]",
            "text/plain": [
              "<Figure size 432x432 with 1 Axes>"
            ]
          },
          "metadata": {
            "tags": [],
            "needs_background": "light"
          }
        }
      ]
    },
    {
      "cell_type": "code",
      "metadata": {
        "id": "eTBebFr87bI8",
        "colab_type": "code",
        "colab": {}
      },
      "source": [
        ""
      ],
      "execution_count": null,
      "outputs": []
    },
    {
      "cell_type": "markdown",
      "metadata": {
        "id": "9bGEfmZB7xUi",
        "colab_type": "text"
      },
      "source": [
        "## Wrap up all"
      ]
    },
    {
      "cell_type": "code",
      "metadata": {
        "id": "MgS3I0_xVBRQ",
        "colab_type": "code",
        "colab": {}
      },
      "source": [
        "import numpy as np\n",
        "\n",
        "class LinearModel:\n",
        "    def __init__(self, num_features):\n",
        "        self.num_features = num_features\n",
        "        self.W = np.random.randn(num_features, 1)\n",
        "        self.b = np.random.randn()\n",
        "        \n",
        "    def forward_pass(self, X):\n",
        "        y = self.b + np.dot(X, self.W)\n",
        "        return y\n",
        "    \n",
        "    def compute_loss(self, y, y_true):\n",
        "        loss = np.sum(np.square(y - y_true))\n",
        "        return loss/(2*y.shape[0])\n",
        "    \n",
        "    def backward_pass(self, X, y_true, y_hat):\n",
        "        m = y_hat.shape[0]\n",
        "        db = np.sum(y_hat - y_true)/m\n",
        "        dW = np.sum(np.dot(np.transpose(y_hat - y_true), X), axis=0)/m\n",
        "        return dW, db\n",
        "    \n",
        "    def update_params(self, dW, db, lr):\n",
        "        self.W = self.W - lr * np.reshape(dW, (self.num_features, 1))\n",
        "        self.b = self.b - lr * db\n",
        "        \n",
        "    def train(self, x_train, y_train, iterations, lr):\n",
        "        losses = []\n",
        "        for i in range(iterations):\n",
        "            y_hat = self.forward_pass(x_train)\n",
        "            dW, db = self.backward_pass(x_train, y_train, y_hat)\n",
        "            self.update_params(dW, db, lr)\n",
        "            loss = self.compute_loss(y_hat, y_train)\n",
        "            losses.append(loss)\n",
        "            if i % int(iterations/10) == 0:\n",
        "                print('Iter: {}, Current loss: {:.4f}'.format(i, loss))\n",
        "        return losses\n"
      ],
      "execution_count": 46,
      "outputs": []
    },
    {
      "cell_type": "markdown",
      "metadata": {
        "id": "tgv_dTjA74T2",
        "colab_type": "text"
      },
      "source": [
        ""
      ]
    },
    {
      "cell_type": "markdown",
      "metadata": {
        "id": "ZMvnPAGh73ws",
        "colab_type": "text"
      },
      "source": [
        ""
      ]
    },
    {
      "cell_type": "code",
      "metadata": {
        "id": "7MwplkYw72Tm",
        "colab_type": "code",
        "colab": {}
      },
      "source": [
        ""
      ],
      "execution_count": null,
      "outputs": []
    }
  ]
}